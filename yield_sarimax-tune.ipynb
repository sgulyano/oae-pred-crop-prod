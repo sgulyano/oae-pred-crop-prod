{
 "cells": [
  {
   "cell_type": "markdown",
   "metadata": {},
   "source": [
    "# หาพารามิเตอร์ของ Prophet เพื่อใช้ทำนายปริมาณผลผลิตสินค้าเกษตร\n",
    "\n",
    "https://facebook.github.io/prophet/docs/quick_start.html"
   ]
  },
  {
   "cell_type": "code",
   "execution_count": 1,
   "metadata": {},
   "outputs": [
    {
     "name": "stderr",
     "output_type": "stream",
     "text": [
      "/home/yoyo/anaconda3/envs/oae/lib/python3.8/site-packages/tqdm/std.py:706: FutureWarning: The Panel class is removed from pandas. Accessing it from the top-level namespace will also be removed in the next version\n",
      "  from pandas import Panel\n"
     ]
    },
    {
     "name": "stdout",
     "output_type": "stream",
     "text": [
      "INFO: Pandarallel will run on 4 workers.\n",
      "INFO: Pandarallel will use standard multiprocessing data transfer (pipe) to transfer data between the main process and workers.\n"
     ]
    },
    {
     "data": {
      "text/html": [
       "        <script type=\"text/javascript\">\n",
       "        window.PlotlyConfig = {MathJaxConfig: 'local'};\n",
       "        if (window.MathJax) {MathJax.Hub.Config({SVG: {font: \"STIX-Web\"}});}\n",
       "        if (typeof require !== 'undefined') {\n",
       "        require.undef(\"plotly\");\n",
       "        requirejs.config({\n",
       "            paths: {\n",
       "                'plotly': ['https://cdn.plot.ly/plotly-latest.min']\n",
       "            }\n",
       "        });\n",
       "        require(['plotly'], function(Plotly) {\n",
       "            window._Plotly = Plotly;\n",
       "        });\n",
       "        }\n",
       "        </script>\n",
       "        "
      ]
     },
     "metadata": {},
     "output_type": "display_data"
    }
   ],
   "source": [
    "import numpy as np\n",
    "import pandas as pd\n",
    "\n",
    "import os\n",
    "import itertools\n",
    "from tqdm import tqdm\n",
    "tqdm.pandas()\n",
    "\n",
    "from pandarallel import pandarallel\n",
    "pandarallel.initialize(progress_bar=True, nb_workers=4, use_memory_fs=False)\n",
    "\n",
    "import plotly.offline as py\n",
    "import plotly.graph_objs as go\n",
    "import plotly.tools as tls\n",
    "\n",
    "from statsmodels.tsa.stattools import acf, pacf\n",
    "from statsmodels.tsa.statespace.sarimax import SARIMAX\n",
    "import statsmodels.api as sm\n",
    "\n",
    "from utils.preprocess import read_yield, read_annually_data, read_month_data, read_month_data_area, add_regressor\n",
    "\n",
    "py.init_notebook_mode(connected=True)\n",
    "\n",
    "import datetime\n",
    "from dateutil.relativedelta import relativedelta\n",
    "\n",
    "from config import params \n",
    "\n",
    "eps = 1e-16\n",
    "\n",
    "import warnings\n",
    "warnings.filterwarnings(\"ignore\")"
   ]
  },
  {
   "cell_type": "markdown",
   "metadata": {},
   "source": [
    "## User Parameters"
   ]
  },
  {
   "cell_type": "code",
   "execution_count": 2,
   "metadata": {},
   "outputs": [
    {
     "name": "stdout",
     "output_type": "stream",
     "text": [
      "['rice_in-season', 'rubber', 'rice_off-season', 'palm', 'coffee', 'corn', 'cassava', 'longan', 'durian', 'pineapple', 'rambutan', 'mangosteen', 'cane', 'coconut']\n"
     ]
    }
   ],
   "source": [
    "print(list(params.keys()))"
   ]
  },
  {
   "cell_type": "code",
   "execution_count": 3,
   "metadata": {},
   "outputs": [],
   "source": [
    "ptype = 'rubber'\n",
    "param = params[ptype]\n",
    "yield_file = param['yield_file']\n",
    "cost_file = param['cost_file']\n",
    "price_file = param['price_file']\n",
    "is_harvest_season = param['harvest']\n",
    "col_price = param['col_price']"
   ]
  },
  {
   "cell_type": "code",
   "execution_count": 4,
   "metadata": {},
   "outputs": [],
   "source": [
    "param_en = {\n",
    "    'rubber' : datetime.datetime(2014, 12, 1),\n",
    "#     'palm' : datetime.datetime(2020, 12, 1),\n",
    "    'durian' : datetime.datetime(2017, 12, 1),\n",
    "    'rambutan' : datetime.datetime(2017, 12, 1),\n",
    "#     'mangosteen' : datetime.datetime(2018, 12, 1)\n",
    "}"
   ]
  },
  {
   "cell_type": "code",
   "execution_count": 5,
   "metadata": {},
   "outputs": [],
   "source": [
    "param_st = {\n",
    "    'rubber' : datetime.datetime(2009, 1, 1),\n",
    "    'cane' : datetime.datetime(2010, 1, 1),\n",
    "    'coconut' : datetime.datetime(2015, 1, 1)\n",
    "}"
   ]
  },
  {
   "cell_type": "code",
   "execution_count": 6,
   "metadata": {},
   "outputs": [],
   "source": [
    "st_date = param_st.get(ptype, datetime.datetime(2012, 1, 1))\n",
    "en_date = param_en.get(ptype, None)"
   ]
  },
  {
   "cell_type": "markdown",
   "metadata": {},
   "source": [
    "### Find good test data"
   ]
  },
  {
   "cell_type": "code",
   "execution_count": 7,
   "metadata": {},
   "outputs": [],
   "source": [
    "df, _ = read_yield(yield_file, st=st_date, en=en_date)"
   ]
  },
  {
   "cell_type": "code",
   "execution_count": 8,
   "metadata": {},
   "outputs": [],
   "source": [
    "st = df['date'].max() + relativedelta(months=-12)"
   ]
  },
  {
   "cell_type": "code",
   "execution_count": 9,
   "metadata": {},
   "outputs": [
    {
     "data": {
      "text/plain": [
       "(Timestamp('2014-01-01 00:00:00'), Timestamp('2014-12-01 00:00:00'))"
      ]
     },
     "execution_count": 9,
     "metadata": {},
     "output_type": "execute_result"
    }
   ],
   "source": [
    "df[df['date']>st]['date'].min(), df[df['date']>st]['date'].max()"
   ]
  },
  {
   "cell_type": "code",
   "execution_count": 10,
   "metadata": {},
   "outputs": [],
   "source": [
    "df_group = df[df['date']>st].groupby(['province_en']).sum().sort_values(by='value', ascending=False)[['value']]"
   ]
  },
  {
   "cell_type": "code",
   "execution_count": 11,
   "metadata": {},
   "outputs": [
    {
     "data": {
      "text/plain": [
       "13"
      ]
     },
     "execution_count": 11,
     "metadata": {},
     "output_type": "execute_result"
    }
   ],
   "source": [
    "N = np.where((df_group.cumsum() / df_group.sum()) >= .8)[0][0]\n",
    "N"
   ]
  },
  {
   "cell_type": "code",
   "execution_count": 12,
   "metadata": {},
   "outputs": [
    {
     "data": {
      "text/plain": [
       "'Percentage of training data: 0.800'"
      ]
     },
     "execution_count": 12,
     "metadata": {},
     "output_type": "execute_result"
    }
   ],
   "source": [
    "f\"Percentage of training data: {df_group[:N+1]['value'].sum() / df_group['value'].sum():.3f}\""
   ]
  },
  {
   "cell_type": "code",
   "execution_count": 13,
   "metadata": {},
   "outputs": [
    {
     "data": {
      "text/html": [
       "<div>\n",
       "<style scoped>\n",
       "    .dataframe tbody tr th:only-of-type {\n",
       "        vertical-align: middle;\n",
       "    }\n",
       "\n",
       "    .dataframe tbody tr th {\n",
       "        vertical-align: top;\n",
       "    }\n",
       "\n",
       "    .dataframe thead th {\n",
       "        text-align: right;\n",
       "    }\n",
       "</style>\n",
       "<table border=\"1\" class=\"dataframe\">\n",
       "  <thead>\n",
       "    <tr style=\"text-align: right;\">\n",
       "      <th></th>\n",
       "      <th>value</th>\n",
       "    </tr>\n",
       "    <tr>\n",
       "      <th>province_en</th>\n",
       "      <th></th>\n",
       "    </tr>\n",
       "  </thead>\n",
       "  <tbody>\n",
       "    <tr>\n",
       "      <th>Surat Thani</th>\n",
       "      <td>636908.0</td>\n",
       "    </tr>\n",
       "    <tr>\n",
       "      <th>Songkhla</th>\n",
       "      <td>455286.0</td>\n",
       "    </tr>\n",
       "    <tr>\n",
       "      <th>Nakhon Si Thammarat</th>\n",
       "      <td>449557.1</td>\n",
       "    </tr>\n",
       "    <tr>\n",
       "      <th>Trang</th>\n",
       "      <td>344965.0</td>\n",
       "    </tr>\n",
       "    <tr>\n",
       "      <th>Yala</th>\n",
       "      <td>295684.7</td>\n",
       "    </tr>\n",
       "    <tr>\n",
       "      <th>Narathiwat</th>\n",
       "      <td>227836.0</td>\n",
       "    </tr>\n",
       "    <tr>\n",
       "      <th>Krabi</th>\n",
       "      <td>196769.0</td>\n",
       "    </tr>\n",
       "    <tr>\n",
       "      <th>Phatthalung</th>\n",
       "      <td>183004.0</td>\n",
       "    </tr>\n",
       "    <tr>\n",
       "      <th>Phangnga</th>\n",
       "      <td>158702.0</td>\n",
       "    </tr>\n",
       "    <tr>\n",
       "      <th>Rayong</th>\n",
       "      <td>138931.0</td>\n",
       "    </tr>\n",
       "    <tr>\n",
       "      <th>Chanthaburi</th>\n",
       "      <td>125462.1</td>\n",
       "    </tr>\n",
       "    <tr>\n",
       "      <th>Chumphon</th>\n",
       "      <td>124140.1</td>\n",
       "    </tr>\n",
       "    <tr>\n",
       "      <th>Bueng Kan</th>\n",
       "      <td>104162.0</td>\n",
       "    </tr>\n",
       "    <tr>\n",
       "      <th>Satun</th>\n",
       "      <td>91493.0</td>\n",
       "    </tr>\n",
       "  </tbody>\n",
       "</table>\n",
       "</div>"
      ],
      "text/plain": [
       "                        value\n",
       "province_en                  \n",
       "Surat Thani          636908.0\n",
       "Songkhla             455286.0\n",
       "Nakhon Si Thammarat  449557.1\n",
       "Trang                344965.0\n",
       "Yala                 295684.7\n",
       "Narathiwat           227836.0\n",
       "Krabi                196769.0\n",
       "Phatthalung          183004.0\n",
       "Phangnga             158702.0\n",
       "Rayong               138931.0\n",
       "Chanthaburi          125462.1\n",
       "Chumphon             124140.1\n",
       "Bueng Kan            104162.0\n",
       "Satun                 91493.0"
      ]
     },
     "execution_count": 13,
     "metadata": {},
     "output_type": "execute_result"
    }
   ],
   "source": [
    "df_group[:N+1]"
   ]
  },
  {
   "cell_type": "code",
   "execution_count": 14,
   "metadata": {},
   "outputs": [
    {
     "data": {
      "application/vnd.plotly.v1+json": {
       "config": {
        "linkText": "Export to plot.ly",
        "plotlyServerURL": "https://plot.ly",
        "showLink": false
       },
       "data": [
        {
         "name": "y",
         "type": "scatter",
         "x": [
          "2009-01-01T00:00:00",
          "2009-02-01T00:00:00",
          "2009-03-01T00:00:00",
          "2009-04-01T00:00:00",
          "2009-05-01T00:00:00",
          "2009-06-01T00:00:00",
          "2009-07-01T00:00:00",
          "2009-08-01T00:00:00",
          "2009-09-01T00:00:00",
          "2009-10-01T00:00:00",
          "2009-11-01T00:00:00",
          "2009-12-01T00:00:00",
          "2010-01-01T00:00:00",
          "2010-02-01T00:00:00",
          "2010-03-01T00:00:00",
          "2010-04-01T00:00:00",
          "2010-05-01T00:00:00",
          "2010-06-01T00:00:00",
          "2010-07-01T00:00:00",
          "2010-08-01T00:00:00",
          "2010-09-01T00:00:00",
          "2010-10-01T00:00:00",
          "2010-11-01T00:00:00",
          "2010-12-01T00:00:00",
          "2011-01-01T00:00:00",
          "2011-02-01T00:00:00",
          "2011-03-01T00:00:00",
          "2011-04-01T00:00:00",
          "2011-05-01T00:00:00",
          "2011-06-01T00:00:00",
          "2011-07-01T00:00:00",
          "2011-08-01T00:00:00",
          "2011-09-01T00:00:00",
          "2011-10-01T00:00:00",
          "2011-11-01T00:00:00",
          "2011-12-01T00:00:00",
          "2012-01-01T00:00:00",
          "2012-02-01T00:00:00",
          "2012-03-01T00:00:00",
          "2012-04-01T00:00:00",
          "2012-05-01T00:00:00",
          "2012-06-01T00:00:00",
          "2012-07-01T00:00:00",
          "2012-08-01T00:00:00",
          "2012-09-01T00:00:00",
          "2012-10-01T00:00:00",
          "2012-11-01T00:00:00",
          "2012-12-01T00:00:00",
          "2013-01-01T00:00:00",
          "2013-02-01T00:00:00",
          "2013-03-01T00:00:00",
          "2013-04-01T00:00:00",
          "2013-05-01T00:00:00",
          "2013-06-01T00:00:00",
          "2013-07-01T00:00:00",
          "2013-08-01T00:00:00",
          "2013-09-01T00:00:00",
          "2013-10-01T00:00:00",
          "2013-11-01T00:00:00",
          "2013-12-01T00:00:00",
          "2014-01-01T00:00:00",
          "2014-02-01T00:00:00",
          "2014-03-01T00:00:00",
          "2014-04-01T00:00:00",
          "2014-05-01T00:00:00",
          "2014-06-01T00:00:00",
          "2014-07-01T00:00:00",
          "2014-08-01T00:00:00",
          "2014-09-01T00:00:00",
          "2014-10-01T00:00:00",
          "2014-11-01T00:00:00",
          "2014-12-01T00:00:00"
         ],
         "y": [
          7523.9,
          6655.7,
          1273.3,
          2893.8,
          3935.6,
          5208.8,
          6424.2,
          6019.1,
          4398.6,
          3356.8,
          3877.7,
          6308.5,
          7584,
          6274,
          2834,
          1485,
          2253,
          8081,
          8152,
          6068,
          6164,
          6455,
          5357,
          3841,
          8817,
          7118,
          997,
          4903,
          6823,
          7658,
          7200,
          7480,
          6410,
          4593,
          3640,
          8204,
          9282,
          6316.3,
          1671.2,
          3399.8,
          5865.8,
          7537,
          7889.3,
          8176,
          7315.8,
          8028.6,
          7569.8,
          8872.4,
          10569.5,
          8141.1,
          5066.4,
          3581.4,
          5756.4,
          7320,
          8577.9,
          9102,
          7311.3,
          6385.4,
          6743.5,
          8796.2,
          12846,
          8015,
          3971,
          3257,
          5727,
          7246,
          8655,
          8838,
          8125,
          6597,
          7383,
          10833
         ]
        }
       ],
       "layout": {
        "autosize": true,
        "template": {
         "data": {
          "bar": [
           {
            "error_x": {
             "color": "#2a3f5f"
            },
            "error_y": {
             "color": "#2a3f5f"
            },
            "marker": {
             "line": {
              "color": "#E5ECF6",
              "width": 0.5
             }
            },
            "type": "bar"
           }
          ],
          "barpolar": [
           {
            "marker": {
             "line": {
              "color": "#E5ECF6",
              "width": 0.5
             }
            },
            "type": "barpolar"
           }
          ],
          "carpet": [
           {
            "aaxis": {
             "endlinecolor": "#2a3f5f",
             "gridcolor": "white",
             "linecolor": "white",
             "minorgridcolor": "white",
             "startlinecolor": "#2a3f5f"
            },
            "baxis": {
             "endlinecolor": "#2a3f5f",
             "gridcolor": "white",
             "linecolor": "white",
             "minorgridcolor": "white",
             "startlinecolor": "#2a3f5f"
            },
            "type": "carpet"
           }
          ],
          "choropleth": [
           {
            "colorbar": {
             "outlinewidth": 0,
             "ticks": ""
            },
            "type": "choropleth"
           }
          ],
          "contour": [
           {
            "colorbar": {
             "outlinewidth": 0,
             "ticks": ""
            },
            "colorscale": [
             [
              0,
              "#0d0887"
             ],
             [
              0.1111111111111111,
              "#46039f"
             ],
             [
              0.2222222222222222,
              "#7201a8"
             ],
             [
              0.3333333333333333,
              "#9c179e"
             ],
             [
              0.4444444444444444,
              "#bd3786"
             ],
             [
              0.5555555555555556,
              "#d8576b"
             ],
             [
              0.6666666666666666,
              "#ed7953"
             ],
             [
              0.7777777777777778,
              "#fb9f3a"
             ],
             [
              0.8888888888888888,
              "#fdca26"
             ],
             [
              1,
              "#f0f921"
             ]
            ],
            "type": "contour"
           }
          ],
          "contourcarpet": [
           {
            "colorbar": {
             "outlinewidth": 0,
             "ticks": ""
            },
            "type": "contourcarpet"
           }
          ],
          "heatmap": [
           {
            "colorbar": {
             "outlinewidth": 0,
             "ticks": ""
            },
            "colorscale": [
             [
              0,
              "#0d0887"
             ],
             [
              0.1111111111111111,
              "#46039f"
             ],
             [
              0.2222222222222222,
              "#7201a8"
             ],
             [
              0.3333333333333333,
              "#9c179e"
             ],
             [
              0.4444444444444444,
              "#bd3786"
             ],
             [
              0.5555555555555556,
              "#d8576b"
             ],
             [
              0.6666666666666666,
              "#ed7953"
             ],
             [
              0.7777777777777778,
              "#fb9f3a"
             ],
             [
              0.8888888888888888,
              "#fdca26"
             ],
             [
              1,
              "#f0f921"
             ]
            ],
            "type": "heatmap"
           }
          ],
          "heatmapgl": [
           {
            "colorbar": {
             "outlinewidth": 0,
             "ticks": ""
            },
            "colorscale": [
             [
              0,
              "#0d0887"
             ],
             [
              0.1111111111111111,
              "#46039f"
             ],
             [
              0.2222222222222222,
              "#7201a8"
             ],
             [
              0.3333333333333333,
              "#9c179e"
             ],
             [
              0.4444444444444444,
              "#bd3786"
             ],
             [
              0.5555555555555556,
              "#d8576b"
             ],
             [
              0.6666666666666666,
              "#ed7953"
             ],
             [
              0.7777777777777778,
              "#fb9f3a"
             ],
             [
              0.8888888888888888,
              "#fdca26"
             ],
             [
              1,
              "#f0f921"
             ]
            ],
            "type": "heatmapgl"
           }
          ],
          "histogram": [
           {
            "marker": {
             "colorbar": {
              "outlinewidth": 0,
              "ticks": ""
             }
            },
            "type": "histogram"
           }
          ],
          "histogram2d": [
           {
            "colorbar": {
             "outlinewidth": 0,
             "ticks": ""
            },
            "colorscale": [
             [
              0,
              "#0d0887"
             ],
             [
              0.1111111111111111,
              "#46039f"
             ],
             [
              0.2222222222222222,
              "#7201a8"
             ],
             [
              0.3333333333333333,
              "#9c179e"
             ],
             [
              0.4444444444444444,
              "#bd3786"
             ],
             [
              0.5555555555555556,
              "#d8576b"
             ],
             [
              0.6666666666666666,
              "#ed7953"
             ],
             [
              0.7777777777777778,
              "#fb9f3a"
             ],
             [
              0.8888888888888888,
              "#fdca26"
             ],
             [
              1,
              "#f0f921"
             ]
            ],
            "type": "histogram2d"
           }
          ],
          "histogram2dcontour": [
           {
            "colorbar": {
             "outlinewidth": 0,
             "ticks": ""
            },
            "colorscale": [
             [
              0,
              "#0d0887"
             ],
             [
              0.1111111111111111,
              "#46039f"
             ],
             [
              0.2222222222222222,
              "#7201a8"
             ],
             [
              0.3333333333333333,
              "#9c179e"
             ],
             [
              0.4444444444444444,
              "#bd3786"
             ],
             [
              0.5555555555555556,
              "#d8576b"
             ],
             [
              0.6666666666666666,
              "#ed7953"
             ],
             [
              0.7777777777777778,
              "#fb9f3a"
             ],
             [
              0.8888888888888888,
              "#fdca26"
             ],
             [
              1,
              "#f0f921"
             ]
            ],
            "type": "histogram2dcontour"
           }
          ],
          "mesh3d": [
           {
            "colorbar": {
             "outlinewidth": 0,
             "ticks": ""
            },
            "type": "mesh3d"
           }
          ],
          "parcoords": [
           {
            "line": {
             "colorbar": {
              "outlinewidth": 0,
              "ticks": ""
             }
            },
            "type": "parcoords"
           }
          ],
          "pie": [
           {
            "automargin": true,
            "type": "pie"
           }
          ],
          "scatter": [
           {
            "marker": {
             "colorbar": {
              "outlinewidth": 0,
              "ticks": ""
             }
            },
            "type": "scatter"
           }
          ],
          "scatter3d": [
           {
            "line": {
             "colorbar": {
              "outlinewidth": 0,
              "ticks": ""
             }
            },
            "marker": {
             "colorbar": {
              "outlinewidth": 0,
              "ticks": ""
             }
            },
            "type": "scatter3d"
           }
          ],
          "scattercarpet": [
           {
            "marker": {
             "colorbar": {
              "outlinewidth": 0,
              "ticks": ""
             }
            },
            "type": "scattercarpet"
           }
          ],
          "scattergeo": [
           {
            "marker": {
             "colorbar": {
              "outlinewidth": 0,
              "ticks": ""
             }
            },
            "type": "scattergeo"
           }
          ],
          "scattergl": [
           {
            "marker": {
             "colorbar": {
              "outlinewidth": 0,
              "ticks": ""
             }
            },
            "type": "scattergl"
           }
          ],
          "scattermapbox": [
           {
            "marker": {
             "colorbar": {
              "outlinewidth": 0,
              "ticks": ""
             }
            },
            "type": "scattermapbox"
           }
          ],
          "scatterpolar": [
           {
            "marker": {
             "colorbar": {
              "outlinewidth": 0,
              "ticks": ""
             }
            },
            "type": "scatterpolar"
           }
          ],
          "scatterpolargl": [
           {
            "marker": {
             "colorbar": {
              "outlinewidth": 0,
              "ticks": ""
             }
            },
            "type": "scatterpolargl"
           }
          ],
          "scatterternary": [
           {
            "marker": {
             "colorbar": {
              "outlinewidth": 0,
              "ticks": ""
             }
            },
            "type": "scatterternary"
           }
          ],
          "surface": [
           {
            "colorbar": {
             "outlinewidth": 0,
             "ticks": ""
            },
            "colorscale": [
             [
              0,
              "#0d0887"
             ],
             [
              0.1111111111111111,
              "#46039f"
             ],
             [
              0.2222222222222222,
              "#7201a8"
             ],
             [
              0.3333333333333333,
              "#9c179e"
             ],
             [
              0.4444444444444444,
              "#bd3786"
             ],
             [
              0.5555555555555556,
              "#d8576b"
             ],
             [
              0.6666666666666666,
              "#ed7953"
             ],
             [
              0.7777777777777778,
              "#fb9f3a"
             ],
             [
              0.8888888888888888,
              "#fdca26"
             ],
             [
              1,
              "#f0f921"
             ]
            ],
            "type": "surface"
           }
          ],
          "table": [
           {
            "cells": {
             "fill": {
              "color": "#EBF0F8"
             },
             "line": {
              "color": "white"
             }
            },
            "header": {
             "fill": {
              "color": "#C8D4E3"
             },
             "line": {
              "color": "white"
             }
            },
            "type": "table"
           }
          ]
         },
         "layout": {
          "annotationdefaults": {
           "arrowcolor": "#2a3f5f",
           "arrowhead": 0,
           "arrowwidth": 1
          },
          "coloraxis": {
           "colorbar": {
            "outlinewidth": 0,
            "ticks": ""
           }
          },
          "colorscale": {
           "diverging": [
            [
             0,
             "#8e0152"
            ],
            [
             0.1,
             "#c51b7d"
            ],
            [
             0.2,
             "#de77ae"
            ],
            [
             0.3,
             "#f1b6da"
            ],
            [
             0.4,
             "#fde0ef"
            ],
            [
             0.5,
             "#f7f7f7"
            ],
            [
             0.6,
             "#e6f5d0"
            ],
            [
             0.7,
             "#b8e186"
            ],
            [
             0.8,
             "#7fbc41"
            ],
            [
             0.9,
             "#4d9221"
            ],
            [
             1,
             "#276419"
            ]
           ],
           "sequential": [
            [
             0,
             "#0d0887"
            ],
            [
             0.1111111111111111,
             "#46039f"
            ],
            [
             0.2222222222222222,
             "#7201a8"
            ],
            [
             0.3333333333333333,
             "#9c179e"
            ],
            [
             0.4444444444444444,
             "#bd3786"
            ],
            [
             0.5555555555555556,
             "#d8576b"
            ],
            [
             0.6666666666666666,
             "#ed7953"
            ],
            [
             0.7777777777777778,
             "#fb9f3a"
            ],
            [
             0.8888888888888888,
             "#fdca26"
            ],
            [
             1,
             "#f0f921"
            ]
           ],
           "sequentialminus": [
            [
             0,
             "#0d0887"
            ],
            [
             0.1111111111111111,
             "#46039f"
            ],
            [
             0.2222222222222222,
             "#7201a8"
            ],
            [
             0.3333333333333333,
             "#9c179e"
            ],
            [
             0.4444444444444444,
             "#bd3786"
            ],
            [
             0.5555555555555556,
             "#d8576b"
            ],
            [
             0.6666666666666666,
             "#ed7953"
            ],
            [
             0.7777777777777778,
             "#fb9f3a"
            ],
            [
             0.8888888888888888,
             "#fdca26"
            ],
            [
             1,
             "#f0f921"
            ]
           ]
          },
          "colorway": [
           "#636efa",
           "#EF553B",
           "#00cc96",
           "#ab63fa",
           "#FFA15A",
           "#19d3f3",
           "#FF6692",
           "#B6E880",
           "#FF97FF",
           "#FECB52"
          ],
          "font": {
           "color": "#2a3f5f"
          },
          "geo": {
           "bgcolor": "white",
           "lakecolor": "white",
           "landcolor": "#E5ECF6",
           "showlakes": true,
           "showland": true,
           "subunitcolor": "white"
          },
          "hoverlabel": {
           "align": "left"
          },
          "hovermode": "closest",
          "mapbox": {
           "style": "light"
          },
          "paper_bgcolor": "white",
          "plot_bgcolor": "#E5ECF6",
          "polar": {
           "angularaxis": {
            "gridcolor": "white",
            "linecolor": "white",
            "ticks": ""
           },
           "bgcolor": "#E5ECF6",
           "radialaxis": {
            "gridcolor": "white",
            "linecolor": "white",
            "ticks": ""
           }
          },
          "scene": {
           "xaxis": {
            "backgroundcolor": "#E5ECF6",
            "gridcolor": "white",
            "gridwidth": 2,
            "linecolor": "white",
            "showbackground": true,
            "ticks": "",
            "zerolinecolor": "white"
           },
           "yaxis": {
            "backgroundcolor": "#E5ECF6",
            "gridcolor": "white",
            "gridwidth": 2,
            "linecolor": "white",
            "showbackground": true,
            "ticks": "",
            "zerolinecolor": "white"
           },
           "zaxis": {
            "backgroundcolor": "#E5ECF6",
            "gridcolor": "white",
            "gridwidth": 2,
            "linecolor": "white",
            "showbackground": true,
            "ticks": "",
            "zerolinecolor": "white"
           }
          },
          "shapedefaults": {
           "line": {
            "color": "#2a3f5f"
           }
          },
          "ternary": {
           "aaxis": {
            "gridcolor": "white",
            "linecolor": "white",
            "ticks": ""
           },
           "baxis": {
            "gridcolor": "white",
            "linecolor": "white",
            "ticks": ""
           },
           "bgcolor": "#E5ECF6",
           "caxis": {
            "gridcolor": "white",
            "linecolor": "white",
            "ticks": ""
           }
          },
          "title": {
           "x": 0.05
          },
          "xaxis": {
           "automargin": true,
           "gridcolor": "white",
           "linecolor": "white",
           "ticks": "",
           "title": {
            "standoff": 15
           },
           "zerolinecolor": "white",
           "zerolinewidth": 2
          },
          "yaxis": {
           "automargin": true,
           "gridcolor": "white",
           "linecolor": "white",
           "ticks": "",
           "title": {
            "standoff": 15
           },
           "zerolinecolor": "white",
           "zerolinewidth": 2
          }
         }
        },
        "title": {
         "text": "Satun rubber Yield"
        },
        "xaxis": {
         "autorange": true,
         "range": [
          "2009-01-01",
          "2014-12-01"
         ],
         "type": "date"
        },
        "yaxis": {
         "autorange": true,
         "range": [
          338.7222222222222,
          13504.277777777777
         ],
         "title": {
          "text": "Yield in Tonne(s)"
         },
         "type": "linear"
        }
       }
      },
      "image/png": "[encoded data removed]",
      "text/html": [
       "<div>                            <div id=\"275406bd-5597-44c3-a2a7-956827a8ba9f\" class=\"plotly-graph-div\" style=\"height:525px; width:100%;\"></div>            <script type=\"text/javascript\">                require([\"plotly\"], function(Plotly) {                    window.PLOTLYENV=window.PLOTLYENV || {};                                    if (document.getElementById(\"275406bd-5597-44c3-a2a7-956827a8ba9f\")) {                    Plotly.newPlot(                        \"275406bd-5597-44c3-a2a7-956827a8ba9f\",                        [{\"name\": \"y\", \"type\": \"scatter\", \"x\": [\"2009-01-01T00:00:00\", \"2009-02-01T00:00:00\", \"2009-03-01T00:00:00\", \"2009-04-01T00:00:00\", \"2009-05-01T00:00:00\", \"2009-06-01T00:00:00\", \"2009-07-01T00:00:00\", \"2009-08-01T00:00:00\", \"2009-09-01T00:00:00\", \"2009-10-01T00:00:00\", \"2009-11-01T00:00:00\", \"2009-12-01T00:00:00\", \"2010-01-01T00:00:00\", \"2010-02-01T00:00:00\", \"2010-03-01T00:00:00\", \"2010-04-01T00:00:00\", \"2010-05-01T00:00:00\", \"2010-06-01T00:00:00\", \"2010-07-01T00:00:00\", \"2010-08-01T00:00:00\", \"2010-09-01T00:00:00\", \"2010-10-01T00:00:00\", \"2010-11-01T00:00:00\", \"2010-12-01T00:00:00\", \"2011-01-01T00:00:00\", \"2011-02-01T00:00:00\", \"2011-03-01T00:00:00\", \"2011-04-01T00:00:00\", \"2011-05-01T00:00:00\", \"2011-06-01T00:00:00\", \"2011-07-01T00:00:00\", \"2011-08-01T00:00:00\", \"2011-09-01T00:00:00\", \"2011-10-01T00:00:00\", \"2011-11-01T00:00:00\", \"2011-12-01T00:00:00\", \"2012-01-01T00:00:00\", \"2012-02-01T00:00:00\", \"2012-03-01T00:00:00\", \"2012-04-01T00:00:00\", \"2012-05-01T00:00:00\", \"2012-06-01T00:00:00\", \"2012-07-01T00:00:00\", \"2012-08-01T00:00:00\", \"2012-09-01T00:00:00\", \"2012-10-01T00:00:00\", \"2012-11-01T00:00:00\", \"2012-12-01T00:00:00\", \"2013-01-01T00:00:00\", \"2013-02-01T00:00:00\", \"2013-03-01T00:00:00\", \"2013-04-01T00:00:00\", \"2013-05-01T00:00:00\", \"2013-06-01T00:00:00\", \"2013-07-01T00:00:00\", \"2013-08-01T00:00:00\", \"2013-09-01T00:00:00\", \"2013-10-01T00:00:00\", \"2013-11-01T00:00:00\", \"2013-12-01T00:00:00\", \"2014-01-01T00:00:00\", \"2014-02-01T00:00:00\", \"2014-03-01T00:00:00\", \"2014-04-01T00:00:00\", \"2014-05-01T00:00:00\", \"2014-06-01T00:00:00\", \"2014-07-01T00:00:00\", \"2014-08-01T00:00:00\", \"2014-09-01T00:00:00\", \"2014-10-01T00:00:00\", \"2014-11-01T00:00:00\", \"2014-12-01T00:00:00\"], \"y\": [7523.9, 6655.7, 1273.3, 2893.8, 3935.6, 5208.8, 6424.2, 6019.1, 4398.6, 3356.8, 3877.7, 6308.5, 7584.0, 6274.0, 2834.0, 1485.0, 2253.0, 8081.0, 8152.0, 6068.0, 6164.0, 6455.0, 5357.0, 3841.0, 8817.0, 7118.0, 997.0, 4903.0, 6823.0, 7658.0, 7200.0, 7480.0, 6410.0, 4593.0, 3640.0, 8204.0, 9282.0, 6316.3, 1671.2, 3399.8, 5865.8, 7537.0, 7889.3, 8176.0, 7315.8, 8028.6, 7569.8, 8872.4, 10569.5, 8141.1, 5066.4, 3581.4, 5756.4, 7320.0, 8577.9, 9102.0, 7311.3, 6385.4, 6743.5, 8796.2, 12846.0, 8015.0, 3971.0, 3257.0, 5727.0, 7246.0, 8655.0, 8838.0, 8125.0, 6597.0, 7383.0, 10833.0]}],                        {\"template\": {\"data\": {\"bar\": [{\"error_x\": {\"color\": \"#2a3f5f\"}, \"error_y\": {\"color\": \"#2a3f5f\"}, \"marker\": {\"line\": {\"color\": \"#E5ECF6\", \"width\": 0.5}}, \"type\": \"bar\"}], \"barpolar\": [{\"marker\": {\"line\": {\"color\": \"#E5ECF6\", \"width\": 0.5}}, \"type\": \"barpolar\"}], \"carpet\": [{\"aaxis\": {\"endlinecolor\": \"#2a3f5f\", \"gridcolor\": \"white\", \"linecolor\": \"white\", \"minorgridcolor\": \"white\", \"startlinecolor\": \"#2a3f5f\"}, \"baxis\": {\"endlinecolor\": \"#2a3f5f\", \"gridcolor\": \"white\", \"linecolor\": \"white\", \"minorgridcolor\": \"white\", \"startlinecolor\": \"#2a3f5f\"}, \"type\": \"carpet\"}], \"choropleth\": [{\"colorbar\": {\"outlinewidth\": 0, \"ticks\": \"\"}, \"type\": \"choropleth\"}], \"contour\": [{\"colorbar\": {\"outlinewidth\": 0, \"ticks\": \"\"}, \"colorscale\": [[0.0, \"#0d0887\"], [0.1111111111111111, \"#46039f\"], [0.2222222222222222, \"#7201a8\"], [0.3333333333333333, \"#9c179e\"], [0.4444444444444444, \"#bd3786\"], [0.5555555555555556, \"#d8576b\"], [0.6666666666666666, \"#ed7953\"], [0.7777777777777778, \"#fb9f3a\"], [0.8888888888888888, \"#fdca26\"], [1.0, \"#f0f921\"]], \"type\": \"contour\"}], \"contourcarpet\": [{\"colorbar\": {\"outlinewidth\": 0, \"ticks\": \"\"}, \"type\": \"contourcarpet\"}], \"heatmap\": [{\"colorbar\": {\"outlinewidth\": 0, \"ticks\": \"\"}, \"colorscale\": [[0.0, \"#0d0887\"], [0.1111111111111111, \"#46039f\"], [0.2222222222222222, \"#7201a8\"], [0.3333333333333333, \"#9c179e\"], [0.4444444444444444, \"#bd3786\"], [0.5555555555555556, \"#d8576b\"], [0.6666666666666666, \"#ed7953\"], [0.7777777777777778, \"#fb9f3a\"], [0.8888888888888888, \"#fdca26\"], [1.0, \"#f0f921\"]], \"type\": \"heatmap\"}], \"heatmapgl\": [{\"colorbar\": {\"outlinewidth\": 0, \"ticks\": \"\"}, \"colorscale\": [[0.0, \"#0d0887\"], [0.1111111111111111, \"#46039f\"], [0.2222222222222222, \"#7201a8\"], [0.3333333333333333, \"#9c179e\"], [0.4444444444444444, \"#bd3786\"], [0.5555555555555556, \"#d8576b\"], [0.6666666666666666, \"#ed7953\"], [0.7777777777777778, \"#fb9f3a\"], [0.8888888888888888, \"#fdca26\"], [1.0, \"#f0f921\"]], \"type\": \"heatmapgl\"}], \"histogram\": [{\"marker\": {\"colorbar\": {\"outlinewidth\": 0, \"ticks\": \"\"}}, \"type\": \"histogram\"}], \"histogram2d\": [{\"colorbar\": {\"outlinewidth\": 0, \"ticks\": \"\"}, \"colorscale\": [[0.0, \"#0d0887\"], [0.1111111111111111, \"#46039f\"], [0.2222222222222222, \"#7201a8\"], [0.3333333333333333, \"#9c179e\"], [0.4444444444444444, \"#bd3786\"], [0.5555555555555556, \"#d8576b\"], [0.6666666666666666, \"#ed7953\"], [0.7777777777777778, \"#fb9f3a\"], [0.8888888888888888, \"#fdca26\"], [1.0, \"#f0f921\"]], \"type\": \"histogram2d\"}], \"histogram2dcontour\": [{\"colorbar\": {\"outlinewidth\": 0, \"ticks\": \"\"}, \"colorscale\": [[0.0, \"#0d0887\"], [0.1111111111111111, \"#46039f\"], [0.2222222222222222, \"#7201a8\"], [0.3333333333333333, \"#9c179e\"], [0.4444444444444444, \"#bd3786\"], [0.5555555555555556, \"#d8576b\"], [0.6666666666666666, \"#ed7953\"], [0.7777777777777778, \"#fb9f3a\"], [0.8888888888888888, \"#fdca26\"], [1.0, \"#f0f921\"]], \"type\": \"histogram2dcontour\"}], \"mesh3d\": [{\"colorbar\": {\"outlinewidth\": 0, \"ticks\": \"\"}, \"type\": \"mesh3d\"}], \"parcoords\": [{\"line\": {\"colorbar\": {\"outlinewidth\": 0, \"ticks\": \"\"}}, \"type\": \"parcoords\"}], \"pie\": [{\"automargin\": true, \"type\": \"pie\"}], \"scatter\": [{\"marker\": {\"colorbar\": {\"outlinewidth\": 0, \"ticks\": \"\"}}, \"type\": \"scatter\"}], \"scatter3d\": [{\"line\": {\"colorbar\": {\"outlinewidth\": 0, \"ticks\": \"\"}}, \"marker\": {\"colorbar\": {\"outlinewidth\": 0, \"ticks\": \"\"}}, \"type\": \"scatter3d\"}], \"scattercarpet\": [{\"marker\": {\"colorbar\": {\"outlinewidth\": 0, \"ticks\": \"\"}}, \"type\": \"scattercarpet\"}], \"scattergeo\": [{\"marker\": {\"colorbar\": {\"outlinewidth\": 0, \"ticks\": \"\"}}, \"type\": \"scattergeo\"}], \"scattergl\": [{\"marker\": {\"colorbar\": {\"outlinewidth\": 0, \"ticks\": \"\"}}, \"type\": \"scattergl\"}], \"scattermapbox\": [{\"marker\": {\"colorbar\": {\"outlinewidth\": 0, \"ticks\": \"\"}}, \"type\": \"scattermapbox\"}], \"scatterpolar\": [{\"marker\": {\"colorbar\": {\"outlinewidth\": 0, \"ticks\": \"\"}}, \"type\": \"scatterpolar\"}], \"scatterpolargl\": [{\"marker\": {\"colorbar\": {\"outlinewidth\": 0, \"ticks\": \"\"}}, \"type\": \"scatterpolargl\"}], \"scatterternary\": [{\"marker\": {\"colorbar\": {\"outlinewidth\": 0, \"ticks\": \"\"}}, \"type\": \"scatterternary\"}], \"surface\": [{\"colorbar\": {\"outlinewidth\": 0, \"ticks\": \"\"}, \"colorscale\": [[0.0, \"#0d0887\"], [0.1111111111111111, \"#46039f\"], [0.2222222222222222, \"#7201a8\"], [0.3333333333333333, \"#9c179e\"], [0.4444444444444444, \"#bd3786\"], [0.5555555555555556, \"#d8576b\"], [0.6666666666666666, \"#ed7953\"], [0.7777777777777778, \"#fb9f3a\"], [0.8888888888888888, \"#fdca26\"], [1.0, \"#f0f921\"]], \"type\": \"surface\"}], \"table\": [{\"cells\": {\"fill\": {\"color\": \"#EBF0F8\"}, \"line\": {\"color\": \"white\"}}, \"header\": {\"fill\": {\"color\": \"#C8D4E3\"}, \"line\": {\"color\": \"white\"}}, \"type\": \"table\"}]}, \"layout\": {\"annotationdefaults\": {\"arrowcolor\": \"#2a3f5f\", \"arrowhead\": 0, \"arrowwidth\": 1}, \"coloraxis\": {\"colorbar\": {\"outlinewidth\": 0, \"ticks\": \"\"}}, \"colorscale\": {\"diverging\": [[0, \"#8e0152\"], [0.1, \"#c51b7d\"], [0.2, \"#de77ae\"], [0.3, \"#f1b6da\"], [0.4, \"#fde0ef\"], [0.5, \"#f7f7f7\"], [0.6, \"#e6f5d0\"], [0.7, \"#b8e186\"], [0.8, \"#7fbc41\"], [0.9, \"#4d9221\"], [1, \"#276419\"]], \"sequential\": [[0.0, \"#0d0887\"], [0.1111111111111111, \"#46039f\"], [0.2222222222222222, \"#7201a8\"], [0.3333333333333333, \"#9c179e\"], [0.4444444444444444, \"#bd3786\"], [0.5555555555555556, \"#d8576b\"], [0.6666666666666666, \"#ed7953\"], [0.7777777777777778, \"#fb9f3a\"], [0.8888888888888888, \"#fdca26\"], [1.0, \"#f0f921\"]], \"sequentialminus\": [[0.0, \"#0d0887\"], [0.1111111111111111, \"#46039f\"], [0.2222222222222222, \"#7201a8\"], [0.3333333333333333, \"#9c179e\"], [0.4444444444444444, \"#bd3786\"], [0.5555555555555556, \"#d8576b\"], [0.6666666666666666, \"#ed7953\"], [0.7777777777777778, \"#fb9f3a\"], [0.8888888888888888, \"#fdca26\"], [1.0, \"#f0f921\"]]}, \"colorway\": [\"#636efa\", \"#EF553B\", \"#00cc96\", \"#ab63fa\", \"#FFA15A\", \"#19d3f3\", \"#FF6692\", \"#B6E880\", \"#FF97FF\", \"#FECB52\"], \"font\": {\"color\": \"#2a3f5f\"}, \"geo\": {\"bgcolor\": \"white\", \"lakecolor\": \"white\", \"landcolor\": \"#E5ECF6\", \"showlakes\": true, \"showland\": true, \"subunitcolor\": \"white\"}, \"hoverlabel\": {\"align\": \"left\"}, \"hovermode\": \"closest\", \"mapbox\": {\"style\": \"light\"}, \"paper_bgcolor\": \"white\", \"plot_bgcolor\": \"#E5ECF6\", \"polar\": {\"angularaxis\": {\"gridcolor\": \"white\", \"linecolor\": \"white\", \"ticks\": \"\"}, \"bgcolor\": \"#E5ECF6\", \"radialaxis\": {\"gridcolor\": \"white\", \"linecolor\": \"white\", \"ticks\": \"\"}}, \"scene\": {\"xaxis\": {\"backgroundcolor\": \"#E5ECF6\", \"gridcolor\": \"white\", \"gridwidth\": 2, \"linecolor\": \"white\", \"showbackground\": true, \"ticks\": \"\", \"zerolinecolor\": \"white\"}, \"yaxis\": {\"backgroundcolor\": \"#E5ECF6\", \"gridcolor\": \"white\", \"gridwidth\": 2, \"linecolor\": \"white\", \"showbackground\": true, \"ticks\": \"\", \"zerolinecolor\": \"white\"}, \"zaxis\": {\"backgroundcolor\": \"#E5ECF6\", \"gridcolor\": \"white\", \"gridwidth\": 2, \"linecolor\": \"white\", \"showbackground\": true, \"ticks\": \"\", \"zerolinecolor\": \"white\"}}, \"shapedefaults\": {\"line\": {\"color\": \"#2a3f5f\"}}, \"ternary\": {\"aaxis\": {\"gridcolor\": \"white\", \"linecolor\": \"white\", \"ticks\": \"\"}, \"baxis\": {\"gridcolor\": \"white\", \"linecolor\": \"white\", \"ticks\": \"\"}, \"bgcolor\": \"#E5ECF6\", \"caxis\": {\"gridcolor\": \"white\", \"linecolor\": \"white\", \"ticks\": \"\"}}, \"title\": {\"x\": 0.05}, \"xaxis\": {\"automargin\": true, \"gridcolor\": \"white\", \"linecolor\": \"white\", \"ticks\": \"\", \"title\": {\"standoff\": 15}, \"zerolinecolor\": \"white\", \"zerolinewidth\": 2}, \"yaxis\": {\"automargin\": true, \"gridcolor\": \"white\", \"linecolor\": \"white\", \"ticks\": \"\", \"title\": {\"standoff\": 15}, \"zerolinecolor\": \"white\", \"zerolinewidth\": 2}}}, \"title\": {\"text\": \"Satun rubber Yield\"}, \"yaxis\": {\"title\": {\"text\": \"Yield in Tonne(s)\"}}},                        {\"responsive\": true}                    ).then(function(){\n",
       "                            \n",
       "var gd = document.getElementById('275406bd-5597-44c3-a2a7-956827a8ba9f');\n",
       "var x = new MutationObserver(function (mutations, observer) {{\n",
       "        var display = window.getComputedStyle(gd).display;\n",
       "        if (!display || display === 'none') {{\n",
       "            console.log([gd, 'removed!']);\n",
       "            Plotly.purge(gd);\n",
       "            observer.disconnect();\n",
       "        }}\n",
       "}});\n",
       "\n",
       "// Listen for the removal of the full notebook cells\n",
       "var notebookContainer = gd.closest('#notebook-container');\n",
       "if (notebookContainer) {{\n",
       "    x.observe(notebookContainer, {childList: true});\n",
       "}}\n",
       "\n",
       "// Listen for the clearing of the current output cell\n",
       "var outputEl = gd.closest('.output');\n",
       "if (outputEl) {{\n",
       "    x.observe(outputEl, {childList: true});\n",
       "}}\n",
       "\n",
       "                        })                };                });            </script>        </div>"
      ]
     },
     "metadata": {},
     "output_type": "display_data"
    }
   ],
   "source": [
    "# area = df_group.iloc[N-1].name\n",
    "area = df_group.iloc[N].name\n",
    "_, _, df_area = read_yield(yield_file, area, st=st_date, en=en_date)\n",
    "\n",
    "py.iplot({'data':go.Scatter(x=df_area['ds'], y=df_area['y'], name='y'),\n",
    "         'layout':dict(title = area + \" \" + ptype + ' Yield',\n",
    "                       yaxis = dict(title = 'Yield in Tonne(s)'))\n",
    "         })"
   ]
  },
  {
   "cell_type": "markdown",
   "metadata": {},
   "source": [
    "Read all data"
   ]
  },
  {
   "cell_type": "code",
   "execution_count": 15,
   "metadata": {},
   "outputs": [],
   "source": [
    "df_cost = []\n",
    "for cost_f in cost_file:\n",
    "    df_cost.append(read_annually_data(cost_f))\n",
    "\n",
    "precipitation_file = 'Clean13products/ปริมาณน้ำฝน - เขื่อน/ปริมาณฝนตก(RT2244)_clean.xlsx'\n",
    "df_precip = pd.read_excel(precipitation_file)\n",
    "df_precip['date'] = df_precip['date'].apply(lambda x: datetime.datetime(x.year-543, x.month, x.day))\n",
    "df_precipitation = read_month_data_area(df_precip, area)\n",
    "\n",
    "df_price = []\n",
    "for price_f in price_file:\n",
    "    df_price.append(read_month_data(price_f))\n",
    "\n",
    "col_regressor = [f'cost{i+1}' for i in range(len(df_cost))] + ['precipitation'] + col_price\n",
    "@add_regressor([*df_cost, df_precipitation, *df_price], col_regressor)\n",
    "def add_features(df):\n",
    "    return df"
   ]
  },
  {
   "cell_type": "code",
   "execution_count": null,
   "metadata": {},
   "outputs": [
    {
     "data": {
      "image/png": "[encoded data removed]",
      "text/plain": [
       "<Figure size 432x288 with 1 Axes>"
      ]
     },
     "metadata": {
      "needs_background": "light"
     },
     "output_type": "display_data"
    },
    {
     "data": {
      "image/png": "[encoded data removed]",
      "text/plain": [
       "<Figure size 432x288 with 1 Axes>"
      ]
     },
     "metadata": {
      "needs_background": "light"
     },
     "output_type": "display_data"
    },
    {
     "data": {
      "image/png": "[encoded data removed]",
      "text/plain": [
       "<Figure size 432x288 with 1 Axes>"
      ]
     },
     "metadata": {
      "needs_background": "light"
     },
     "output_type": "display_data"
    },
    {
     "data": {
      "image/png": "[encoded data removed]",
      "text/plain": [
       "<Figure size 432x288 with 1 Axes>"
      ]
     },
     "metadata": {
      "needs_background": "light"
     },
     "output_type": "display_data"
    }
   ],
   "source": [
    "for name, df_i in zip(col_regressor, [*df_cost, df_precipitation, *df_price]):\n",
    "    try:\n",
    "        df_i.plot(title=name)\n",
    "    except:\n",
    "        pass"
   ]
  },
  {
   "cell_type": "markdown",
   "metadata": {},
   "source": [
    "### Grid Search Parameters"
   ]
  },
  {
   "cell_type": "code",
   "execution_count": null,
   "metadata": {},
   "outputs": [],
   "source": [
    "param_grid = {\n",
    "    'p': [0, 1, 2],\n",
    "    'd': [0, 1],\n",
    "    'q': [0, 1 ,2],\n",
    "    'ps': [0, 1],\n",
    "    'ds': [0, 1],\n",
    "    'qs': [0, 1],\n",
    "}"
   ]
  },
  {
   "cell_type": "markdown",
   "metadata": {},
   "source": [
    "Generate all combinations of parameters"
   ]
  },
  {
   "cell_type": "code",
   "execution_count": null,
   "metadata": {},
   "outputs": [],
   "source": [
    "df_params = pd.DataFrame([dict(zip(param_grid.keys(), v)) for v in itertools.product(*param_grid.values())])\n",
    "df_params"
   ]
  },
  {
   "cell_type": "markdown",
   "metadata": {},
   "source": [
    "# Tuning using Grid Search"
   ]
  },
  {
   "cell_type": "code",
   "execution_count": null,
   "metadata": {},
   "outputs": [],
   "source": [
    "def all_provinces_predict(arg, areas):\n",
    "#     print(arg)\n",
    "    res = pd.DataFrame(columns = ['RMSE', 'MAE', 'AnnualErr', 'AVG', 'SUM', 'PredSUM', 'MonthErr'],\n",
    "                       index = areas) \n",
    "    for province in areas:\n",
    "        _, _, df_province = read_yield(yield_file, province, st=st_date, en=en_date)\n",
    "        rmse, mae, aerr, gt_avg, gt_sum, pred_sum, _, _ = one_province_predict(df_province, arg)\n",
    "        res.loc[province] = [rmse, mae, aerr, gt_avg, gt_sum, pred_sum, 100*mae/gt_avg]\n",
    "    return res"
   ]
  },
  {
   "cell_type": "code",
   "execution_count": null,
   "metadata": {},
   "outputs": [],
   "source": [
    "def one_province_predict(df_yield, arg):\n",
    "    df_train, df_test = df_yield[:-12], df_yield[-12:]\n",
    "    df_train = df_train.set_index('ds')\n",
    "    df_train = df_train.resample('MS').asfreq()\n",
    "    df_test = df_test.set_index('ds')\n",
    "    df_test = df_test.resample('MS').asfreq() # frequency\n",
    "    \n",
    "    df_train = add_features(df_train).fillna(0)\n",
    "    \n",
    "    endog_col = df_train.columns[0]\n",
    "#     exog_col = df_train.columns[1:]\n",
    "#     print(endog_col)\n",
    "#     print(exog_col, col_regressor)\n",
    "#     print('endog columns:', endog_col, '\\nexog columns:', exog_col)\n",
    "    \n",
    "    endog = df_train.loc[:, endog_col]\n",
    "    exog = df_train.loc[:, col_regressor]\n",
    "    \n",
    "    df_train = df_train.sort_index() # sort\n",
    "#     print(df_train)\n",
    "    \n",
    "    my_order = (arg['p'],arg['d'],arg['q'])\n",
    "    my_seasonal_order = (arg['ps'], arg['ds'], arg['qs'], 12)\n",
    "    # define model\n",
    "    model = SARIMAX(endog=endog, exog=exog, order=my_order, seasonal_order=my_seasonal_order)\n",
    "\n",
    "    try:\n",
    "        model_fit = model.fit()\n",
    "    except Exception as inst:\n",
    "        print(type(inst))    # the exception instance\n",
    "        print(inst)\n",
    "        return None, None, None, None, None, None, None, None\n",
    "#     print(model_fit.summary())\n",
    "    \n",
    "    df_test = df_test.sort_index()\n",
    "    df_test = add_features(df_test).fillna(0)\n",
    "\n",
    "    # exog_forecast = sm.add_constant(df_test.loc[:, ['cost', 'precipitation', 'rainday', 'price', 'on_season']])\n",
    "    exog_forecast = df_test.loc[:, col_regressor]\n",
    "    \n",
    "#     print(exog_forecast)\n",
    "    \n",
    "    #get the predictions and residuals\n",
    "    predictions = model_fit.forecast(len(exog_forecast), exog=exog_forecast)\n",
    "    # predictions = pd.Series(predictions, index=df_test.index)\n",
    "    predictions.index = exog_forecast.index\n",
    "    predictions.clip(lower=0, inplace=True)\n",
    "    \n",
    "    assert(np.all(predictions.index.to_numpy() == df_test.index.to_numpy()))\n",
    "    residuals = df_test['y'] - predictions\n",
    "    \n",
    "    mae = np.mean(np.abs(residuals))\n",
    "    rmse = np.sqrt(np.mean(residuals**2))\n",
    "    pred_sum = np.sum(predictions)\n",
    "    gt_sum = np.sum(df_test['y'])\n",
    "    gt_mean = df_test['y'].mean()\n",
    "    total_error = abs(1 - (pred_sum / (gt_sum+eps))) * 100\n",
    "    \n",
    "    return rmse, mae, total_error, gt_mean, gt_sum, pred_sum, model_fit, predictions"
   ]
  },
  {
   "cell_type": "code",
   "execution_count": null,
   "metadata": {},
   "outputs": [],
   "source": [
    "province = df_group.index[N]\n",
    "_, _, df_province = read_yield(yield_file, province, st=st_date, en=en_date)\n",
    "rmse, mae, aerr, gt_avg, gt_sum, pred_sum, model, predictions = one_province_predict(df_province, {'p':1, 'd':0, 'q':1, 'ps':0, 'ds':1, 'qs':0})\n",
    "\n",
    "print(province)\n",
    "print('RMSE: %.2f' % rmse )\n",
    "print('MAE: %.2f' % mae )\n",
    "print(f\"Total Error: {aerr:.3f} %\")\n",
    "print(f\"Monthly Error: {100*mae/gt_avg:.3f} %\")\n",
    "print(f'AVG: {gt_avg:.3f}')\n",
    "print(f'SUM: {gt_sum:.3f}')\n",
    "print(f'PredSUM: {pred_sum:.3f}')\n",
    "\n",
    "print(model.summary())\n",
    "\n",
    "py.iplot([\n",
    "    go.Scatter(x=df_province['ds'], y=df_province['y'], name='train', line=dict(width=3)),\n",
    "    go.Scatter(x=predictions.index, y=predictions, name='yhat', line=dict(width=3)),\n",
    "])"
   ]
  },
  {
   "cell_type": "code",
   "execution_count": null,
   "metadata": {},
   "outputs": [],
   "source": [
    "# df_params.iloc[0]\n",
    "# all_provinces_predict(df_params.iloc[0], df_group.index[:N+1])"
   ]
  },
  {
   "cell_type": "code",
   "execution_count": null,
   "metadata": {},
   "outputs": [],
   "source": [
    "res = df_params.progress_apply(lambda x: all_provinces_predict(x, df_group.index[:N+1]), axis=1)\n",
    "# %time res = df_params.parallel_apply(lambda x: all_provinces_predict(x, df_group.index[:N+1]), axis=1)"
   ]
  },
  {
   "cell_type": "markdown",
   "metadata": {},
   "source": [
    "Get overall results"
   ]
  },
  {
   "cell_type": "code",
   "execution_count": null,
   "metadata": {},
   "outputs": [],
   "source": [
    "overview = df_params.merge(pd.concat([t.mean() for t in res], axis=1).T, \n",
    "                           left_index=True, \n",
    "                           right_index=True, \n",
    "                           validate=\"one_to_one\")"
   ]
  },
  {
   "cell_type": "code",
   "execution_count": null,
   "metadata": {},
   "outputs": [],
   "source": [
    "overview_std = df_params.merge(pd.concat([t.std() for t in res], axis=1).T, \n",
    "                           left_index=True, \n",
    "                           right_index=True, \n",
    "                           validate=\"one_to_one\")"
   ]
  },
  {
   "cell_type": "code",
   "execution_count": null,
   "metadata": {},
   "outputs": [],
   "source": [
    "minidx = overview['MAE'].idxmin()"
   ]
  },
  {
   "cell_type": "markdown",
   "metadata": {},
   "source": [
    "Save result to Excel file"
   ]
  },
  {
   "cell_type": "code",
   "execution_count": null,
   "metadata": {},
   "outputs": [],
   "source": [
    "os.makedirs('./outputs/sarimax/', exist_ok = True)\n",
    "\n",
    "with pd.ExcelWriter('./outputs/sarimax/' + ptype + '_output.xlsx') as writer:\n",
    "    overview.iloc[minidx].to_excel(writer, sheet_name='best_param')\n",
    "    overview.to_excel(writer, sheet_name='mean')\n",
    "    overview_std.to_excel(writer, sheet_name='std')\n",
    "    for i,t in enumerate(res):\n",
    "        t.to_excel(writer, sheet_name=f'{i}')  "
   ]
  },
  {
   "cell_type": "code",
   "execution_count": null,
   "metadata": {},
   "outputs": [],
   "source": [
    "overview"
   ]
  },
  {
   "cell_type": "code",
   "execution_count": null,
   "metadata": {},
   "outputs": [],
   "source": [
    "overview.iloc[minidx]"
   ]
  },
  {
   "cell_type": "code",
   "execution_count": null,
   "metadata": {},
   "outputs": [],
   "source": [
    "r = all_provinces_predict(df_params.iloc[0], df_group.index[:N])"
   ]
  },
  {
   "cell_type": "code",
   "execution_count": null,
   "metadata": {},
   "outputs": [],
   "source": []
  }
 ],
 "metadata": {
  "kernelspec": {
   "display_name": "OAE",
   "language": "python",
   "name": "oae"
  },
  "language_info": {
   "codemirror_mode": {
    "name": "ipython",
    "version": 3
   },
   "file_extension": ".py",
   "mimetype": "text/x-python",
   "name": "python",
   "nbconvert_exporter": "python",
   "pygments_lexer": "ipython3",
   "version": "3.8.5"
  }
 },
 "nbformat": 4,
 "nbformat_minor": 4
}
