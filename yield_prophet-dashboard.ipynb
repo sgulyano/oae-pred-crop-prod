{
 "cells": [
  {
   "cell_type": "markdown",
   "metadata": {},
   "source": [
    "# ทำนายผลผลิตการเกษตร โดยใช้ผลผลิตปีก่อน ๆ ด้วย Prophet\n",
    "\n",
    "https://facebook.github.io/prophet/docs/quick_start.html\n",
    "\n",
    "ขั้นตอนติดตั้ง ให้สร้าง environment ที่ชื่อ oae โดยใช้ environment.yml\n",
    "และคัดลอกข้อมูล OAE-process มาไว้ใน folder นี้"
   ]
  },
  {
   "cell_type": "code",
   "execution_count": 1,
   "metadata": {},
   "outputs": [
    {
     "data": {
      "text/html": [
       "        <script type=\"text/javascript\">\n",
       "        window.PlotlyConfig = {MathJaxConfig: 'local'};\n",
       "        if (window.MathJax) {MathJax.Hub.Config({SVG: {font: \"STIX-Web\"}});}\n",
       "        if (typeof require !== 'undefined') {\n",
       "        require.undef(\"plotly\");\n",
       "        requirejs.config({\n",
       "            paths: {\n",
       "                'plotly': ['https://cdn.plot.ly/plotly-latest.min']\n",
       "            }\n",
       "        });\n",
       "        require(['plotly'], function(Plotly) {\n",
       "            window._Plotly = Plotly;\n",
       "        });\n",
       "        }\n",
       "        </script>\n",
       "        "
      ]
     },
     "metadata": {},
     "output_type": "display_data"
    }
   ],
   "source": [
    "import numpy as np\n",
    "import pandas as pd\n",
    "from fbprophet import Prophet\n",
    "\n",
    "import plotly.offline as py\n",
    "import plotly.graph_objs as go\n",
    "import plotly.tools as tls\n",
    "\n",
    "from fbprophet.plot import plot_plotly, plot_components_plotly\n",
    "\n",
    "\n",
    "from utils.preproc import read_yield, get_yeild_area, read_annually_data, read_month_data, read_month_data_area, add_regressor\n",
    "from utils.preproc import rice_inseason_harvest_season, rice_offseason_harvest_season, corn_harvest_season, cassava_harvest_season, rubber_harvest_season\n",
    "\n",
    "py.init_notebook_mode(connected=True)\n",
    "\n",
    "from __future__ import print_function\n",
    "from ipywidgets import interact, interactive, fixed, interact_manual\n",
    "import ipywidgets as widgets"
   ]
  },
  {
   "cell_type": "markdown",
   "metadata": {},
   "source": [
    "Model parameters"
   ]
  },
  {
   "cell_type": "code",
   "execution_count": 2,
   "metadata": {},
   "outputs": [],
   "source": [
    "# rice in-season\n",
    "params = {\n",
    "    'rice_in-season': {\n",
    "        'yield_file' : 'OAE-process/OAE-ผลผลิตข้าวนาปี.xlsx',\n",
    "        'cost_file' : 'OAE-process/OAE-ต้นทุนรวมต่อไร่ข้าวนาปี.xlsx',\n",
    "        'price_file' : 'OAE-process/OAE-ราคาข้าวเปลือกเจ้า.xlsx',\n",
    "        'harvest' : rice_inseason_harvest_season,\n",
    "        'seasonality_prior_scale': 0.1,\n",
    "        'fourier_order': 7,\n",
    "        'prior_scale': 0.1\n",
    "    },\n",
    "    \n",
    "    'rice_off-season': {\n",
    "        'yield_file' : 'OAE-process/OAE-ผลผลิตข้าวนาปรัง.xlsx',\n",
    "        'cost_file' : 'OAE-process/OAE-ต้นทุนรวมต่อไร่ข้าวนาปรัง.xlsx',\n",
    "        'price_file' : 'OAE-process/OAE-ราคาข้าวเปลือกเจ้า.xlsx',\n",
    "        'harvest' : rice_offseason_harvest_season,\n",
    "        'seasonality_prior_scale': 0.1,\n",
    "        'fourier_order': 5,\n",
    "        'prior_scale': 0.1\n",
    "    },\n",
    "    \n",
    "    'corn': {\n",
    "        'yield_file' : 'OAE-process/OAE-ผลผลิตข้าวโพดทั้งหมด.xlsx',\n",
    "        'cost_file' : 'OAE-process/OAE-ต้นทุนรวมต่อไร่ข้าวโพดเลี้ยงสัตว์.xlsx',\n",
    "        'price_file' : 'OAE-process/OAE-ราคาข้าวโพดเลี้ยงสัตว์.xlsx',\n",
    "        'harvest' : corn_harvest_season,\n",
    "        'seasonality_prior_scale': 0.1,\n",
    "        'fourier_order': 3,\n",
    "        'prior_scale': 0.1\n",
    "    },\n",
    "    \n",
    "    'palm': {\n",
    "        'yield_file' : 'OAE-process/OAE-ผลผลิตปาล์มน้ำมัน.xlsx',\n",
    "        'cost_file' : 'OAE-process/OAE-ต้นทุนรวมต่อไร่ปาล์มน้ำมัน.xlsx',\n",
    "        'price_file' : 'OAE-process/OAE-ราคาปาล์มน้ำมัน.xlsx',\n",
    "        'harvest' : None,\n",
    "        'seasonality_prior_scale': 10,\n",
    "        'prior_scale': 0.1\n",
    "    },\n",
    "    \n",
    "    'cassava': {\n",
    "        'yield_file' : 'OAE-process/OAE-ผลผลิตมันสำปะหลัง.xlsx',\n",
    "        'cost_file' : 'OAE-process/OAE-ต้นทุนรวมต่อไร่มันสำปะหลัง.xlsx',\n",
    "        'price_file' : 'OAE-process/OAE-ราคามันสำปะหลังสดคละ.xlsx',\n",
    "        'harvest' : cassava_harvest_season,\n",
    "        'seasonality_prior_scale': 0.1,\n",
    "        'fourier_order': 3,\n",
    "        'prior_scale': 0.1\n",
    "    },\n",
    "    \n",
    "    'rubber': {\n",
    "        'yield_file' : 'OAE-process/OAE-ผลผลิตยางพารา.xlsx',\n",
    "        'cost_file' : 'OAE-process/OAE-ต้นทุนรวมต่อไร่ยางพารา.xlsx',\n",
    "        'price_file' : ['OAE-process/OAE-ราคาน้ำยางสดคละ.xlsx', 'OAE-process/OAE-ราคายางก้อน.xlsx', 'OAE-process/OAE-ราคายางแผ่นดิบชั้น3.xlsx'],\n",
    "        'harvest' : rubber_harvest_season,\n",
    "        'seasonality_prior_scale': 1,\n",
    "        'fourier_order': 3,\n",
    "        'prior_scale': 5\n",
    "    }\n",
    "}"
   ]
  },
  {
   "cell_type": "markdown",
   "metadata": {},
   "source": [
    "## User Param: Select Product Type"
   ]
  },
  {
   "cell_type": "markdown",
   "metadata": {},
   "source": [
    "วิธีใช้ ขั้นที่ 1: เลือกชนิดของผลผลิตทางการเกษตรที่ต้องการ ในตัวแปร `ptype` เช่น ข้าวนาปี (rice_in-season), ข้าวนาปรัง (rice_off-season), ข้าวโพด (corn), ปาล์มน้ำมัน (palm), มันสำปะหลัง (cassava)"
   ]
  },
  {
   "cell_type": "code",
   "execution_count": 3,
   "metadata": {},
   "outputs": [],
   "source": [
    "ptype = 'rice_off-season'#'rice_off-season'"
   ]
  },
  {
   "cell_type": "code",
   "execution_count": 4,
   "metadata": {},
   "outputs": [],
   "source": [
    "param = params[ptype]\n",
    "yield_file = param['yield_file']\n",
    "cost_file = param['cost_file']\n",
    "price_file = param['price_file']\n",
    "is_harvest_season = param['harvest']"
   ]
  },
  {
   "cell_type": "code",
   "execution_count": 5,
   "metadata": {},
   "outputs": [],
   "source": [
    "df, df_group = read_yield(yield_file)\n",
    "\n",
    "df_cost = read_annually_data(cost_file)\n",
    "\n",
    "precipitation_file = 'OAE-process/OAE-ปริมาณน้ำฝน-ฝนตก.xlsx'\n",
    "df_precip = pd.read_excel(precipitation_file)\n",
    "\n",
    "# df_price = read_month_data(price_file)"
   ]
  },
  {
   "cell_type": "markdown",
   "metadata": {},
   "source": [
    "# Dashboard"
   ]
  },
  {
   "cell_type": "markdown",
   "metadata": {},
   "source": [
    "ขั้นตอนที่ 2 รัน Dashboard"
   ]
  },
  {
   "cell_type": "code",
   "execution_count": 6,
   "metadata": {},
   "outputs": [
    {
     "data": {
      "application/vnd.jupyter.widget-view+json": {
       "model_id": "ed74e2d5c6cb48b2a47f6a6187d63709",
       "version_major": 2,
       "version_minor": 0
      },
      "text/plain": [
       "interactive(children=(Dropdown(description='Province', options=('Suphan Buri', 'Phra Nakhon Si Ayutthaya', 'Ph…"
      ]
     },
     "metadata": {},
     "output_type": "display_data"
    }
   ],
   "source": [
    "@widgets.interact_manual(Province=df_group.index)\n",
    "def predict(Province=df_group.index[0]):\n",
    "    df_yield = get_yeild_area(df, Province)\n",
    "    print(f'Total Yield from {df.date.min().strftime(\"%b %Y\")} to {df.date.max().strftime(\"%b %Y\")} = {df_group.loc[Province,\"value\"]}')\n",
    "    \n",
    "    df_precipitation = read_month_data_area(df_precip, Province)\n",
    "    \n",
    "    \n",
    "    if ptype == 'rubber':\n",
    "        df_price1 = read_month_data(price_file[0])\n",
    "        df_price2 = read_month_data(price_file[1])\n",
    "        df_price3 = read_month_data(price_file[2])\n",
    "\n",
    "        col_regressor = ['cost', 'precipitation', 'price_latex', 'price_cup', 'price_sheet']\n",
    "        @add_regressor([df_cost, df_precipitation, df_price1, df_price2, df_price3], col_regressor)\n",
    "        def add_features(df):\n",
    "            return df\n",
    "    else:\n",
    "        df_price = read_month_data(price_file)\n",
    "\n",
    "        col_regressor = ['cost', 'precipitation', 'price']\n",
    "        @add_regressor([df_cost, df_precipitation, df_price], col_regressor)\n",
    "        def add_features(df):\n",
    "            return df\n",
    "    \n",
    "    df_train, df_test = df_yield[12:], df_yield[:12]\n",
    "    df_train = add_features(df_train).dropna()\n",
    "    if is_harvest_season:\n",
    "        df_train = df_train.apply(is_harvest_season, axis=1)\n",
    "    \n",
    "    df_yield['year'] = pd.DatetimeIndex(df_yield['ds']).year\n",
    "    print(df_yield.groupby('year').sum().head())\n",
    "    \n",
    "    model = Prophet(weekly_seasonality=False, daily_seasonality=False)\n",
    "    model.seasonality_prior_scale = param['seasonality_prior_scale']\n",
    "    \n",
    "    if is_harvest_season:\n",
    "        model.add_seasonality(name = 'monthly_harvest_season', \n",
    "                              period = 30.5, \n",
    "                              fourier_order = param['fourier_order'], \n",
    "                              condition_name = 'harvest_season')\n",
    "    \n",
    "    for col in col_regressor:\n",
    "        model.add_regressor(col, \n",
    "                            prior_scale = param['prior_scale'], \n",
    "                            mode = 'multiplicative')\n",
    "\n",
    "    model.fit(df_train)\n",
    "\n",
    "    future = model.make_future_dataframe(periods=24, freq=\"MS\")\n",
    "    future = add_features(future)\n",
    "    \n",
    "    if is_harvest_season:\n",
    "        future = future.apply(is_harvest_season, axis=1)\n",
    "\n",
    "    forecast = model.predict(future)\n",
    "    forecast.yhat.clip(lower=0, inplace=True)\n",
    "    forecast = forecast.sort_values(by='ds', ascending=False).reset_index().drop(columns=['index'])\n",
    "    \n",
    "    # Sanity check that we are evaluating the forecase at the same date\n",
    "    assert(np.all(forecast[12:24]['ds'].to_numpy() == df_test['ds'].to_numpy()))\n",
    "    # Calculate root mean squared error.\n",
    "    print(f'\\nPredict Yield from {df_test[\"ds\"].min().strftime(\"%b %Y\")} to {df_test[\"ds\"].max().strftime(\"%b %Y\")}')\n",
    "    print('RMSE: %.2f' % np.sqrt(np.mean((forecast[12:24]['yhat'].to_numpy() - df_test['y'].to_numpy())**2)) )\n",
    "    print('MAE: %.2f' % np.mean(np.abs(forecast[12:24]['yhat'].to_numpy() - df_test['y'].to_numpy())) )\n",
    "    \n",
    "    total_error = abs(1 - (np.sum(forecast[12:24]['yhat'].to_numpy()) / np.sum(df_test['y'].to_numpy()))) * 100\n",
    "    print(f\"Total Error: {total_error:.3f} %\")\n",
    "    print(f\"Forecast: {np.sum(forecast[12:24]['yhat'].to_numpy()):.2f}\")\n",
    "    print('Ground Truth:', np.sum(df_test['y'].to_numpy()))\n",
    "    \n",
    "    py.iplot([\n",
    "        go.Scatter(x=df_train['ds'], y=df_train['y'], name='train', line=dict(width=3)),\n",
    "        go.Scatter(x=forecast['ds'], y=forecast['yhat'], name='yhat', line=dict(width=3)),\n",
    "#         go.Scatter(x=forecast['ds'], y=forecast['yhat_upper'], fill='tonexty', mode='none', name='upper'),\n",
    "#         go.Scatter(x=forecast['ds'], y=forecast['yhat_lower'], fill='tonexty', mode='none', name='lower'),\n",
    "        go.Scatter(x=forecast['ds'], y=forecast['trend'], name='Trend'),\n",
    "        go.Scatter(x=df_test['ds'], y=df_test['y'], name='test', marker=dict(color='blue', size=12), line=dict(width=3)),\n",
    "    ])\n",
    "    \n",
    "    py.iplot(plot_plotly(model, forecast))\n",
    "\n",
    "    py.iplot(plot_components_plotly(model, forecast))"
   ]
  },
  {
   "cell_type": "code",
   "execution_count": null,
   "metadata": {},
   "outputs": [],
   "source": []
  }
 ],
 "metadata": {
  "kernelspec": {
   "display_name": "OAE",
   "language": "python",
   "name": "oae"
  },
  "language_info": {
   "codemirror_mode": {
    "name": "ipython",
    "version": 3
   },
   "file_extension": ".py",
   "mimetype": "text/x-python",
   "name": "python",
   "nbconvert_exporter": "python",
   "pygments_lexer": "ipython3",
   "version": "3.8.5"
  }
 },
 "nbformat": 4,
 "nbformat_minor": 4
}
