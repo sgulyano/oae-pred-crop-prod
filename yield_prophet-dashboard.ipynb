{
 "cells": [
  {
   "cell_type": "markdown",
   "metadata": {},
   "source": [
    "# ทำนายผลผลิตการเกษตร โดยใช้ผลผลิตปีก่อน ๆ ด้วย Prophet\n",
    "\n",
    "https://facebook.github.io/prophet/docs/quick_start.html\n",
    "\n",
    "ขั้นตอนติดตั้ง ให้สร้าง environment ที่ชื่อ oae โดยใช้ environment.yml\n",
    "และคัดลอกข้อมูล OAE-process มาไว้ใน folder นี้"
   ]
  },
  {
   "cell_type": "code",
   "execution_count": 10,
   "metadata": {},
   "outputs": [
    {
     "data": {
      "text/html": [
       "        <script type=\"text/javascript\">\n",
       "        window.PlotlyConfig = {MathJaxConfig: 'local'};\n",
       "        if (window.MathJax) {MathJax.Hub.Config({SVG: {font: \"STIX-Web\"}});}\n",
       "        if (typeof require !== 'undefined') {\n",
       "        require.undef(\"plotly\");\n",
       "        requirejs.config({\n",
       "            paths: {\n",
       "                'plotly': ['https://cdn.plot.ly/plotly-latest.min']\n",
       "            }\n",
       "        });\n",
       "        require(['plotly'], function(Plotly) {\n",
       "            window._Plotly = Plotly;\n",
       "        });\n",
       "        }\n",
       "        </script>\n",
       "        "
      ]
     },
     "metadata": {},
     "output_type": "display_data"
    }
   ],
   "source": [
    "import numpy as np\n",
    "import pandas as pd\n",
    "from fbprophet import Prophet\n",
    "\n",
    "import plotly.offline as py\n",
    "import plotly.graph_objs as go\n",
    "import plotly.tools as tls\n",
    "\n",
    "from fbprophet.plot import plot_plotly, plot_components_plotly\n",
    "\n",
    "from utils.preprocess import read_yield, get_yeild_area, read_annually_data, read_month_data, read_month_data_area, add_regressor\n",
    "\n",
    "py.init_notebook_mode(connected=True)\n",
    "\n",
    "from __future__ import print_function\n",
    "from ipywidgets import interact, interactive, fixed, interact_manual\n",
    "import ipywidgets as widgets\n",
    "\n",
    "\n",
    "import datetime\n",
    "\n",
    "from config import params\n",
    "\n",
    "eps = 1e-16"
   ]
  },
  {
   "cell_type": "markdown",
   "metadata": {},
   "source": [
    "Model parameters"
   ]
  },
  {
   "cell_type": "code",
   "execution_count": 11,
   "metadata": {},
   "outputs": [
    {
     "name": "stdout",
     "output_type": "stream",
     "text": [
      "['rice_in-season', 'rubber', 'rice_off-season', 'palm', 'coffee', 'corn', 'cassava', 'longan', 'durian', 'pineapple', 'rambutan', 'mangosteen', 'coconut']\n"
     ]
    }
   ],
   "source": [
    "print(list(params.keys()))"
   ]
  },
  {
   "cell_type": "markdown",
   "metadata": {},
   "source": [
    "## User Param: Select Product Type"
   ]
  },
  {
   "cell_type": "markdown",
   "metadata": {},
   "source": [
    "วิธีใช้ ขั้นที่ 1: เลือกชนิดของผลผลิตทางการเกษตรที่ต้องการ ในตัวแปร `ptype` เช่น ข้าวนาปี (rice_in-season), ข้าวนาปรัง (rice_off-season), ข้าวโพด (corn), ปาล์มน้ำมัน (palm), มันสำปะหลัง (cassava)"
   ]
  },
  {
   "cell_type": "code",
   "execution_count": 12,
   "metadata": {},
   "outputs": [],
   "source": [
    "ptype = 'rice_off-season'#'rice_off-season'"
   ]
  },
  {
   "cell_type": "code",
   "execution_count": 13,
   "metadata": {},
   "outputs": [],
   "source": [
    "param = params[ptype]\n",
    "yield_file = param['yield_file']\n",
    "cost_file = param['cost_file']\n",
    "price_file = param['price_file']\n",
    "col_price = param['col_price']\n",
    "is_harvest_season = param['harvest']"
   ]
  },
  {
   "cell_type": "code",
   "execution_count": 14,
   "metadata": {},
   "outputs": [],
   "source": [
    "df, df_group = read_yield(yield_file)\n",
    "\n",
    "df_cost = []\n",
    "for cost_f in cost_file:\n",
    "    df_cost.append(read_annually_data(cost_f))\n",
    "\n",
    "precipitation_file = 'Clean13products/ปริมาณน้ำฝน - เขื่อน/ปริมาณฝนตก(RT2244)_clean.xlsx'\n",
    "df_precip = pd.read_excel(precipitation_file)\n",
    "df_precip['date'] = df_precip['date'].apply(lambda x: datetime.datetime(x.year-543, x.month, x.day))\n",
    "\n",
    "df_price = []\n",
    "for price_f in price_file:\n",
    "    df_price.append(read_month_data(price_f))"
   ]
  },
  {
   "cell_type": "markdown",
   "metadata": {},
   "source": [
    "# Dashboard"
   ]
  },
  {
   "cell_type": "markdown",
   "metadata": {},
   "source": [
    "ขั้นตอนที่ 2 รัน Dashboard"
   ]
  },
  {
   "cell_type": "code",
   "execution_count": 15,
   "metadata": {},
   "outputs": [
    {
     "data": {
      "application/vnd.jupyter.widget-view+json": {
       "model_id": "6dcd5fa165e24caa9fa9ecc9f4b8291a",
       "version_major": 2,
       "version_minor": 0
      },
      "text/plain": [
       "interactive(children=(Dropdown(description='Province', options=('Suphan Buri', 'Phitsanulok', 'Nakhon Sawan', …"
      ]
     },
     "metadata": {},
     "output_type": "display_data"
    }
   ],
   "source": [
    "@widgets.interact_manual(Province=df_group.index)\n",
    "def predict(Province=df_group.index[0]):\n",
    "    df_yield = get_yeild_area(df, Province)\n",
    "    print(f'Total Yield from {df.date.min().strftime(\"%b %Y\")} to {df.date.max().strftime(\"%b %Y\")} = {df_group.loc[Province,\"value\"]}')\n",
    "    \n",
    "    df_precipitation = read_month_data_area(df_precip, Province)\n",
    "    \n",
    "    col_regressor = [f'cost{i+1}' for i in range(len(df_cost))] + ['precipitation'] + col_price\n",
    "    @add_regressor([*df_cost, df_precipitation, *df_price], col_regressor)\n",
    "    def add_features(df):\n",
    "        return df\n",
    "    \n",
    "    df_train, df_test = df_yield[:-12], df_yield[-12:]\n",
    "    df_train = add_features(df_train).fillna(0)\n",
    "    if is_harvest_season:\n",
    "        df_train = df_train.apply(is_harvest_season, axis=1)\n",
    "    \n",
    "    df_yield['year'] = pd.DatetimeIndex(df_yield['ds']).year\n",
    "    print(df_yield.groupby('year').sum())\n",
    "    \n",
    "    model = Prophet(weekly_seasonality=False, daily_seasonality=False)\n",
    "    model.seasonality_prior_scale = param['seasonality_prior_scale']\n",
    "    \n",
    "    if is_harvest_season:\n",
    "        model.add_seasonality(name = 'monthly_harvest_season', \n",
    "                              period = 30.5, \n",
    "                              fourier_order = param['fourier_order'], \n",
    "                              condition_name = 'harvest_season')\n",
    "    \n",
    "    for col in col_regressor:\n",
    "        model.add_regressor(col, \n",
    "                            prior_scale = param['prior_scale'], \n",
    "                            mode = 'multiplicative')\n",
    "\n",
    "    model.fit(df_train)\n",
    "\n",
    "    future = model.make_future_dataframe(periods=24, freq=\"MS\")\n",
    "    future = add_features(future).fillna(0)\n",
    "    \n",
    "    if is_harvest_season:\n",
    "        future = future.apply(is_harvest_season, axis=1)\n",
    "\n",
    "    forecast = model.predict(future)\n",
    "    forecast.yhat.clip(lower=0, inplace=True)\n",
    "#     forecast = forecast.sort_values(by='ds', ascending=False).reset_index().drop(columns=['index'])\n",
    "    \n",
    "    # Sanity check that we are evaluating the forecase at the same date\n",
    "    assert(np.all(forecast[-24:-12]['ds'].to_numpy() == df_test['ds'].to_numpy()))\n",
    "    residuals = forecast[-24:-12]['yhat'].to_numpy() - df_test['y'].to_numpy()\n",
    "\n",
    "    mae = np.mean(np.abs(residuals))\n",
    "    rmse = np.sqrt(np.mean(residuals**2))\n",
    "    total_error = abs(1 - (np.sum(forecast[-24:-12]['yhat'].to_numpy()) / (np.sum(df_test['y'].to_numpy())+eps))) * 100\n",
    "\n",
    "    # Calculate root mean squared error.\n",
    "    print(f'\\nPredict Yield from {df_test[\"ds\"].min().strftime(\"%b %Y\")} to {df_test[\"ds\"].max().strftime(\"%b %Y\")}')\n",
    "    print('RMSE: %.2f' % rmse )\n",
    "    print('MAE: %.2f' % mae )\n",
    "\n",
    "    print(f\"Total Error: {total_error:.3f} %\")\n",
    "    print(f\"Forecast: {np.sum(forecast[-24:-12]['yhat'].to_numpy()):.2f}\")\n",
    "    print('Ground Truth:', np.sum(df_test['y'].to_numpy()))\n",
    "    \n",
    "    py.iplot([\n",
    "        go.Scatter(x=df_train['ds'], y=df_train['y'], name='train', line=dict(width=3)),\n",
    "        go.Scatter(x=forecast['ds'], y=forecast['yhat'], name='yhat', line=dict(width=3, dash = 'dot')),\n",
    "#         go.Scatter(x=forecast['ds'], y=forecast['yhat_upper'], fill='tonexty', mode='none', name='upper'),\n",
    "#         go.Scatter(x=forecast['ds'], y=forecast['yhat_lower'], fill='tonexty', mode='none', name='lower'),\n",
    "        go.Scatter(x=forecast['ds'], y=forecast['trend'], name='Trend'),\n",
    "        go.Scatter(x=df_test['ds'], y=df_test['y'], name='test', marker=dict(color='blue', size=12), line=dict(width=3)),\n",
    "    ])\n",
    "    \n",
    "    py.iplot(plot_plotly(model, forecast))\n",
    "\n",
    "    py.iplot(plot_components_plotly(model, forecast))"
   ]
  },
  {
   "cell_type": "code",
   "execution_count": null,
   "metadata": {},
   "outputs": [],
   "source": []
  }
 ],
 "metadata": {
  "kernelspec": {
   "display_name": "OAE",
   "language": "python",
   "name": "oae"
  },
  "language_info": {
   "codemirror_mode": {
    "name": "ipython",
    "version": 3
   },
   "file_extension": ".py",
   "mimetype": "text/x-python",
   "name": "python",
   "nbconvert_exporter": "python",
   "pygments_lexer": "ipython3",
   "version": "3.8.5"
  }
 },
 "nbformat": 4,
 "nbformat_minor": 4
}
