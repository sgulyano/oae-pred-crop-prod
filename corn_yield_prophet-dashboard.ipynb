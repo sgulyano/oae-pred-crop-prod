{
 "cells": [
  {
   "cell_type": "markdown",
   "metadata": {},
   "source": [
    "# ทำนายผลผลิตข้าวโพด โดยใช้ผลผลิตปีก่อน ๆ ด้วย Prophet\n",
    "\n",
    "https://facebook.github.io/prophet/docs/quick_start.html"
   ]
  },
  {
   "cell_type": "code",
   "execution_count": 1,
   "metadata": {},
   "outputs": [
    {
     "data": {
      "text/html": [
       "        <script type=\"text/javascript\">\n",
       "        window.PlotlyConfig = {MathJaxConfig: 'local'};\n",
       "        if (window.MathJax) {MathJax.Hub.Config({SVG: {font: \"STIX-Web\"}});}\n",
       "        if (typeof require !== 'undefined') {\n",
       "        require.undef(\"plotly\");\n",
       "        requirejs.config({\n",
       "            paths: {\n",
       "                'plotly': ['https://cdn.plot.ly/plotly-latest.min']\n",
       "            }\n",
       "        });\n",
       "        require(['plotly'], function(Plotly) {\n",
       "            window._Plotly = Plotly;\n",
       "        });\n",
       "        }\n",
       "        </script>\n",
       "        "
      ]
     },
     "metadata": {},
     "output_type": "display_data"
    }
   ],
   "source": [
    "import numpy as np\n",
    "import pandas as pd\n",
    "from fbprophet import Prophet\n",
    "\n",
    "import plotly.offline as py\n",
    "import plotly.graph_objs as go\n",
    "import plotly.tools as tls\n",
    "\n",
    "from fbprophet.plot import plot_plotly, plot_components_plotly\n",
    "\n",
    "py.init_notebook_mode(connected=True)"
   ]
  },
  {
   "cell_type": "markdown",
   "metadata": {},
   "source": [
    "Get data"
   ]
  },
  {
   "cell_type": "code",
   "execution_count": 2,
   "metadata": {},
   "outputs": [],
   "source": [
    "yield_file = 'OAE-process/OAE-ผลผลิตข้าวโพดทั้งหมด.xlsx'\n",
    "df = pd.read_excel(yield_file)\n",
    "\n",
    "areas = df.groupby(['area']).sum().sort_values(by='value', ascending=False)"
   ]
  },
  {
   "cell_type": "code",
   "execution_count": 3,
   "metadata": {},
   "outputs": [],
   "source": [
    "def data_in_area(df, area):\n",
    "    df = df.sort_values(by='date', ascending=False)\n",
    "    df_area = df[df.area == area].reset_index()\n",
    "    df_area = df_area[['date', 'value']]\n",
    "    df_area.columns = ['ds', 'y']\n",
    "    return df_area"
   ]
  },
  {
   "cell_type": "code",
   "execution_count": 4,
   "metadata": {},
   "outputs": [],
   "source": [
    "def resample_year2month(df):\n",
    "    df = df.set_index('date')\n",
    "    df.index.name = 'ds'\n",
    "    return df.resample('MS').asfreq().fillna(method='ffill')"
   ]
  },
  {
   "cell_type": "code",
   "execution_count": 5,
   "metadata": {},
   "outputs": [],
   "source": [
    "cost_file = 'OAE-process/OAE-ต้นทุนรวมต่อไร่ข้าวโพดเลี้ยงสัตว์.xlsx'\n",
    "df_cost = pd.read_excel(cost_file)\n",
    "df_cost_spl = resample_year2month(df_cost)\n",
    "\n",
    "precipitation_file = 'OAE-process/OAE-ปริมาณน้ำฝน-ฝนตก.xlsx'\n",
    "df_precipitation = pd.read_excel(precipitation_file)\n",
    "df_precipitation_nan = data_in_area(df_precipitation,'Nan').set_index('ds')\n",
    "\n",
    "rainday_file = 'OAE-process/OAE-ปริมาณน้ำฝน-จำนวนวันฝนตก.xlsx'\n",
    "df_rainday = pd.read_excel(rainday_file)\n",
    "df_rainday_nan = data_in_area(df_rainday,'Nan').set_index('ds')\n",
    "\n",
    "price_file = 'OAE-process/OAE-ราคาข้าวโพดเลี้ยงสัตว์.xlsx'\n",
    "df_price = pd.read_excel(price_file)\n",
    "df_price_spl = df_price.set_index('date')"
   ]
  },
  {
   "cell_type": "markdown",
   "metadata": {},
   "source": [
    "Util functions"
   ]
  },
  {
   "cell_type": "code",
   "execution_count": 6,
   "metadata": {},
   "outputs": [],
   "source": [
    "def add_features(df):\n",
    "    df = df.join(df_cost_spl['value'], on='ds').rename(columns={'value':'cost'})\n",
    "    df = df.join(df_precipitation_nan['y'].rename('precipitation'), on='ds')\n",
    "    df = df.join(df_rainday_nan['y'].rename('rainday'), on='ds')\n",
    "    df = df.join(df_price_spl['value'], on='ds').rename(columns={'value':'price'})\n",
    "    return df.sort_values(by='ds', ascending=False).fillna(method='bfill')\n",
    "\n",
    "def is_harvest_season(ds):\n",
    "    date = pd.to_datetime(ds)\n",
    "    return (date.month >= 10 and date.month <= 12)"
   ]
  },
  {
   "cell_type": "markdown",
   "metadata": {},
   "source": [
    "# Dashboard"
   ]
  },
  {
   "cell_type": "code",
   "execution_count": 7,
   "metadata": {
    "jupyter": {
     "source_hidden": true
    }
   },
   "outputs": [],
   "source": [
    "import ipywidgets as widgets\n",
    "from ipywidgets import HBox, VBox\n",
    "import numpy as np\n",
    "import matplotlib.pyplot as plt\n",
    "from IPython.display import display\n",
    "%matplotlib inline"
   ]
  },
  {
   "cell_type": "code",
   "execution_count": 25,
   "metadata": {},
   "outputs": [
    {
     "data": {
      "application/vnd.jupyter.widget-view+json": {
       "model_id": "f42ff982a35240279947022593308a26",
       "version_major": 2,
       "version_minor": 0
      },
      "text/plain": [
       "interactive(children=(Dropdown(description='Province', options=('Phetchabun', 'Nakhon Ratchasima', 'Nan', 'Tak…"
      ]
     },
     "metadata": {},
     "output_type": "display_data"
    }
   ],
   "source": [
    "@widgets.interact_manual(Province=areas.index[:30])\n",
    "def predict(Province=areas.index[0]):\n",
    "    df_yield = data_in_area(df, Province)\n",
    "    print(f'Total Yield from {df.date.min().strftime(\"%b %Y\")} to {df.date.max().strftime(\"%b %Y\")} = {areas.loc[Province,\"value\"]}')\n",
    "    \n",
    "    df_train, df_test = df_yield[12:], df_yield[:12]\n",
    "    df_train = add_features(df_train)\n",
    "    df_test = add_features(df_test)\n",
    "    df_train['on_season'] = df_train['ds'].apply(is_harvest_season)\n",
    "    \n",
    "    df_yield['year'] = pd.DatetimeIndex(df_yield['ds']).year\n",
    "    print(df_yield.groupby('year').sum().head())\n",
    "    \n",
    "    model = Prophet(changepoint_prior_scale=0.01, seasonality_prior_scale=0.1, holidays_prior_scale=10)\n",
    "    model.add_seasonality(name='monthly_on_season', period=30.5, fourier_order=3, condition_name='on_season')\n",
    "    for col in ['cost', 'precipitation', 'rainday', 'price']:\n",
    "        model.add_regressor(col, prior_scale=0.1, mode='multiplicative')\n",
    "\n",
    "    model.fit(df_train)\n",
    "\n",
    "    future = model.make_future_dataframe(periods=24, freq=\"MS\")\n",
    "    future = add_features(future)\n",
    "    future['on_season'] = future['ds'].apply(is_harvest_season)\n",
    "\n",
    "    forecast = model.predict(future)\n",
    "    forecast.yhat.clip(lower=0, inplace=True)\n",
    "    forecast = forecast.sort_values(by='ds', ascending=False).reset_index().drop(columns=['index'])\n",
    "    \n",
    "    # Sanity check that we are evaluating the forecase at the same date\n",
    "    assert(np.all(forecast[12:24]['ds'].to_numpy() == df_test['ds'].to_numpy()))\n",
    "    # Calculate root mean squared error.\n",
    "    print('RMSE: %f' % np.sqrt(np.mean((forecast[12:24]['yhat'].to_numpy() - df_test['y'].to_numpy())**2)) )\n",
    "    print('MAE: %f' % np.mean(np.abs(forecast[12:24]['yhat'].to_numpy() - df_test['y'].to_numpy())) )\n",
    "    \n",
    "    total_error = abs(1 - (np.sum(forecast[12:24]['yhat'].to_numpy()) / np.sum(df_test['y'].to_numpy()))) * 100\n",
    "    print('Total Error: %.3f' % total_error)\n",
    "    print('Forecast:', np.sum(forecast[12:24]['yhat'].to_numpy()))\n",
    "    print('Ground Truth:', np.sum(df_test['y'].to_numpy()))\n",
    "    \n",
    "    py.iplot([\n",
    "        go.Scatter(x=df_train['ds'], y=df_train['y'], name='train', line=dict(width=3)),\n",
    "        go.Scatter(x=forecast['ds'], y=forecast['yhat'], name='yhat', line=dict(width=3)),\n",
    "#         go.Scatter(x=forecast['ds'], y=forecast['yhat_upper'], fill='tonexty', mode='none', name='upper'),\n",
    "#         go.Scatter(x=forecast['ds'], y=forecast['yhat_lower'], fill='tonexty', mode='none', name='lower'),\n",
    "        go.Scatter(x=forecast['ds'], y=forecast['trend'], name='Trend'),\n",
    "        go.Scatter(x=df_test['ds'], y=df_test['y'], name='test', marker=dict(color='blue', size=12), line=dict(width=3)),\n",
    "    ])\n",
    "    \n",
    "    py.iplot(plot_plotly(model, forecast))\n",
    "\n",
    "    py.iplot(plot_components_plotly(model, forecast))\n",
    "    \n",
    "#     import plotly.io as pio\n",
    "#     fig = go.Figure([\n",
    "#         go.Scatter(x=df_train['ds'], y=df_train['y'], name='train', line=dict(width=3)),\n",
    "#         go.Scatter(x=forecast['ds'], y=forecast['yhat'], name='yhat', line=dict(width=3)),\n",
    "# #         go.Scatter(x=forecast['ds'], y=forecast['yhat_upper'], fill='tonexty', mode='none', name='upper'),\n",
    "# #         go.Scatter(x=forecast['ds'], y=forecast['yhat_lower'], fill='tonexty', mode='none', name='lower'),\n",
    "#         go.Scatter(x=forecast['ds'], y=forecast['trend'], name='Trend'),\n",
    "#         go.Scatter(x=df_test['ds'], y=df_test['y'], name='test', marker=dict(color='blue', size=12), line=dict(width=3)),\n",
    "#     ])\n",
    "#     fig.update_layout(title_text='Corn Production at ' + Province)\n",
    "#     pio.write_html(fig, file=f'corn_prod_{Province}.html', auto_open=True)\n",
    "    "
   ]
  },
  {
   "cell_type": "code",
   "execution_count": null,
   "metadata": {},
   "outputs": [],
   "source": []
  }
 ],
 "metadata": {
  "kernelspec": {
   "display_name": "OAE",
   "language": "python",
   "name": "oae"
  },
  "language_info": {
   "codemirror_mode": {
    "name": "ipython",
    "version": 3
   },
   "file_extension": ".py",
   "mimetype": "text/x-python",
   "name": "python",
   "nbconvert_exporter": "python",
   "pygments_lexer": "ipython3",
   "version": "3.8.5"
  }
 },
 "nbformat": 4,
 "nbformat_minor": 4
}
