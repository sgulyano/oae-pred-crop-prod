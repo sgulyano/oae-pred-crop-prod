{
 "cells": [
  {
   "cell_type": "markdown",
   "metadata": {},
   "source": [
    "# ทำนายผลผลิตการเกษตร โดยใช้ผลผลิตปีก่อน ๆ ด้วย Prophet\n",
    "\n",
    "https://facebook.github.io/prophet/docs/quick_start.html\n",
    "\n",
    "ขั้นตอนติดตั้ง ให้สร้าง environment ที่ชื่อ oae โดยใช้ environment.yml\n",
    "และคัดลอกข้อมูล OAE-process มาไว้ใน folder นี้"
   ]
  },
  {
   "cell_type": "code",
   "execution_count": 1,
   "metadata": {},
   "outputs": [
    {
     "data": {
      "text/html": [
       "        <script type=\"text/javascript\">\n",
       "        window.PlotlyConfig = {MathJaxConfig: 'local'};\n",
       "        if (window.MathJax) {MathJax.Hub.Config({SVG: {font: \"STIX-Web\"}});}\n",
       "        if (typeof require !== 'undefined') {\n",
       "        require.undef(\"plotly\");\n",
       "        requirejs.config({\n",
       "            paths: {\n",
       "                'plotly': ['https://cdn.plot.ly/plotly-latest.min']\n",
       "            }\n",
       "        });\n",
       "        require(['plotly'], function(Plotly) {\n",
       "            window._Plotly = Plotly;\n",
       "        });\n",
       "        }\n",
       "        </script>\n",
       "        "
      ]
     },
     "metadata": {},
     "output_type": "display_data"
    }
   ],
   "source": [
    "import numpy as np\n",
    "import pandas as pd\n",
    "\n",
    "import plotly.offline as py\n",
    "import plotly.graph_objs as go\n",
    "import plotly.tools as tls\n",
    "\n",
    "from statsmodels.tsa.stattools import acf, pacf\n",
    "from statsmodels.tsa.statespace.sarimax import SARIMAX\n",
    "import statsmodels.api as sm\n",
    "\n",
    "\n",
    "from utils.preproc import read_yield, get_yeild_area, read_annually_data, read_month_data, read_month_data_area, add_regressor\n",
    "from utils.preproc import rice_inseason_harvest_season, rice_offseason_harvest_season, corn_harvest_season, cassava_harvest_season, rubber_harvest_season\n",
    "\n",
    "py.init_notebook_mode(connected=True)\n",
    "\n",
    "from __future__ import print_function\n",
    "from ipywidgets import interact, interactive, fixed, interact_manual\n",
    "import ipywidgets as widgets\n",
    "\n",
    "import warnings\n",
    "warnings.filterwarnings(\"ignore\")"
   ]
  },
  {
   "cell_type": "markdown",
   "metadata": {},
   "source": [
    "Model parameters"
   ]
  },
  {
   "cell_type": "code",
   "execution_count": 2,
   "metadata": {},
   "outputs": [],
   "source": [
    "# rice in-season\n",
    "params = {\n",
    "    'rice_off-season': {\n",
    "        'yield_file' : 'OAE-process/OAE-ผลผลิตข้าวนาปรัง.xlsx',\n",
    "        'cost_file' : 'OAE-process/OAE-ต้นทุนรวมต่อไร่ข้าวนาปรัง.xlsx',\n",
    "        'price_file' : 'OAE-process/OAE-ราคาข้าวเปลือกเจ้า.xlsx',\n",
    "        'p': 1,\n",
    "        'd': 0,\n",
    "        'q': 0,\n",
    "        'P': 0,\n",
    "        'D': 1,\n",
    "        'Q': 1,\n",
    "    },\n",
    "    \n",
    "    'corn': {\n",
    "        'yield_file' : 'OAE-process/OAE-ผลผลิตข้าวโพดทั้งหมด.xlsx',\n",
    "        'cost_file' : 'OAE-process/OAE-ต้นทุนรวมต่อไร่ข้าวโพดเลี้ยงสัตว์.xlsx',\n",
    "        'price_file' : 'OAE-process/OAE-ราคาข้าวโพดเลี้ยงสัตว์.xlsx',\n",
    "        'p': 2,\n",
    "        'd': 0,\n",
    "        'q': 0,\n",
    "        'P': 0,\n",
    "        'D': 1,\n",
    "        'Q': 1,\n",
    "    },\n",
    "}"
   ]
  },
  {
   "cell_type": "markdown",
   "metadata": {},
   "source": [
    "## User Param: Select Product Type"
   ]
  },
  {
   "cell_type": "markdown",
   "metadata": {},
   "source": [
    "วิธีใช้ ขั้นที่ 1: เลือกชนิดของผลผลิตทางการเกษตรที่ต้องการ ในตัวแปร `ptype` เช่น ข้าวนาปี (rice_in-season), ข้าวนาปรัง (rice_off-season), ข้าวโพด (corn), ปาล์มน้ำมัน (palm), มันสำปะหลัง (cassava)"
   ]
  },
  {
   "cell_type": "code",
   "execution_count": 3,
   "metadata": {},
   "outputs": [],
   "source": [
    "ptype = 'rice_off-season'"
   ]
  },
  {
   "cell_type": "code",
   "execution_count": 4,
   "metadata": {},
   "outputs": [],
   "source": [
    "param = params[ptype]\n",
    "yield_file = param['yield_file']\n",
    "cost_file = param['cost_file']\n",
    "price_file = param['price_file']"
   ]
  },
  {
   "cell_type": "code",
   "execution_count": 5,
   "metadata": {},
   "outputs": [],
   "source": [
    "df, df_group = read_yield(yield_file)\n",
    "\n",
    "df_cost = read_annually_data(cost_file)\n",
    "\n",
    "precipitation_file = 'OAE-process/OAE-ปริมาณน้ำฝน-ฝนตก.xlsx'\n",
    "df_precip = pd.read_excel(precipitation_file)\n",
    "\n",
    "df_price = read_month_data(price_file)"
   ]
  },
  {
   "cell_type": "code",
   "execution_count": 6,
   "metadata": {},
   "outputs": [],
   "source": [
    "df_yield = get_yeild_area(df, 'Phetchabun')\n",
    "df_yield = df_yield.set_index('ds')\n",
    "df_yield = df_yield.resample('MS').asfreq()"
   ]
  },
  {
   "cell_type": "markdown",
   "metadata": {},
   "source": [
    "# Dashboard"
   ]
  },
  {
   "cell_type": "markdown",
   "metadata": {},
   "source": [
    "ขั้นตอนที่ 2 รัน Dashboard"
   ]
  },
  {
   "cell_type": "code",
   "execution_count": 7,
   "metadata": {},
   "outputs": [
    {
     "data": {
      "application/vnd.jupyter.widget-view+json": {
       "model_id": "6b6cf3d853044c998cf4838145bdc792",
       "version_major": 2,
       "version_minor": 0
      },
      "text/plain": [
       "interactive(children=(Dropdown(description='Province', options=('Suphan Buri', 'Phra Nakhon Si Ayutthaya', 'Ph…"
      ]
     },
     "metadata": {},
     "output_type": "display_data"
    }
   ],
   "source": [
    "@widgets.interact_manual(Province=df_group.index)\n",
    "def predict(Province=df_group.index[0]):\n",
    "    df_yield = get_yeild_area(df, Province)\n",
    "    print(f'Total Yield from {df.date.min().strftime(\"%b %Y\")} to {df.date.max().strftime(\"%b %Y\")} = {df_group.loc[Province,\"value\"]}')\n",
    "    \n",
    "    df_yield['year'] = pd.DatetimeIndex(df_yield['ds']).year\n",
    "    print(df_yield.groupby('year').sum().head())\n",
    "    \n",
    "    df_precipitation = read_month_data_area(df_precip, Province)\n",
    "    \n",
    "    col_regressor = ['cost', 'precipitation', 'price']\n",
    "    @add_regressor([df_cost, df_precipitation, df_price], col_regressor)\n",
    "    def add_features(df):\n",
    "        return df\n",
    "    \n",
    "    df_train, df_test = df_yield[12:], df_yield[:12]\n",
    "    \n",
    "    df_train = df_train.set_index('ds')\n",
    "    df_train = df_train.resample('MS').asfreq()\n",
    "    df_test = df_test.set_index('ds')\n",
    "    df_test = df_test.resample('MS').asfreq()\n",
    "    \n",
    "    df_train = add_features(df_train).dropna()\n",
    "    df_test = add_features(df_test).dropna()\n",
    "    \n",
    "    endog = df_train.loc[:, 'y']\n",
    "    exog = df_train.loc[:, col_regressor]\n",
    "    \n",
    "    df_train = df_train.sort_index()\n",
    "#     print(df_train)\n",
    "    \n",
    "    my_order = (param['p'],param['d'],param['q'])\n",
    "    my_seasonal_order = (param['P'], param['D'], param['Q'], 12)\n",
    "    \n",
    "    # define model\n",
    "    model = SARIMAX(endog=endog, exog=exog, order=my_order, seasonal_order=my_seasonal_order)\n",
    "\n",
    "    model_fit = model.fit()\n",
    "    print(model_fit.summary())\n",
    "    \n",
    "    df_test = df_test.sort_index()\n",
    "    exog_forecast = df_test.loc[:, col_regressor]\n",
    "    \n",
    "#     print(exog_forecast)\n",
    "    \n",
    "    #get the predictions and residuals\n",
    "    predictions = model_fit.forecast(len(exog_forecast), exog=exog_forecast)\n",
    "    predictions.index = exog_forecast.index\n",
    "    predictions.clip(lower=0, inplace=True)\n",
    "    \n",
    "    # Sanity check that we are evaluating the forecase at the same date\n",
    "    assert(np.all(predictions.index.to_numpy() == df_test.index.to_numpy()))\n",
    "    residuals = df_test['y'] - predictions\n",
    "    mae = np.mean(np.abs(residuals))\n",
    "    rmse = np.sqrt(np.mean(residuals**2))\n",
    "    total_error = abs(1 - (np.sum(predictions) / np.sum(df_test['y']))) * 100\n",
    "    \n",
    "    # Calculate root mean squared error.\n",
    "    print(f'\\nPredict Yield from {df_test.index.min().strftime(\"%b %Y\")} to {df_test.index.max().strftime(\"%b %Y\")}')\n",
    "    print('RMSE: %.2f' % rmse )\n",
    "    print('MAE: %.2f' % mae )\n",
    "    \n",
    "    print(f\"Total Error: {total_error:.3f} %\")\n",
    "    print(f\"Forecast: {np.sum(predictions):.2f}\")\n",
    "    print('Ground Truth:', np.sum(df_test['y']))\n",
    "    \n",
    "    py.iplot([\n",
    "        go.Scatter(x=df_train.index, y=df_train['y'], name='train', line=dict(width=3)),\n",
    "        go.Scatter(x=predictions.index, y=predictions, name='yhat', line=dict(width=3)),\n",
    "        go.Scatter(x=df_test.index, y=df_test['y'], name='test', marker=dict(color='blue', size=12), line=dict(width=3)),\n",
    "    ])"
   ]
  },
  {
   "cell_type": "code",
   "execution_count": null,
   "metadata": {},
   "outputs": [],
   "source": []
  }
 ],
 "metadata": {
  "kernelspec": {
   "display_name": "OAE",
   "language": "python",
   "name": "oae"
  },
  "language_info": {
   "codemirror_mode": {
    "name": "ipython",
    "version": 3
   },
   "file_extension": ".py",
   "mimetype": "text/x-python",
   "name": "python",
   "nbconvert_exporter": "python",
   "pygments_lexer": "ipython3",
   "version": "3.8.5"
  }
 },
 "nbformat": 4,
 "nbformat_minor": 4
}
