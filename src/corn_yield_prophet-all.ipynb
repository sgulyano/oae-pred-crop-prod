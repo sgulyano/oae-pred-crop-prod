{
 "cells": [
  {
   "cell_type": "markdown",
   "metadata": {},
   "source": [
    "# ทำนายผลผลิตข้าวโพด โดยใช้ผลผลิตปีก่อน ๆ ด้วย Prophet\n",
    "\n",
    "https://facebook.github.io/prophet/docs/quick_start.html"
   ]
  },
  {
   "cell_type": "code",
   "execution_count": 1,
   "metadata": {},
   "outputs": [
    {
     "data": {
      "text/html": [
       "        <script type=\"text/javascript\">\n",
       "        window.PlotlyConfig = {MathJaxConfig: 'local'};\n",
       "        if (window.MathJax) {MathJax.Hub.Config({SVG: {font: \"STIX-Web\"}});}\n",
       "        if (typeof require !== 'undefined') {\n",
       "        require.undef(\"plotly\");\n",
       "        requirejs.config({\n",
       "            paths: {\n",
       "                'plotly': ['https://cdn.plot.ly/plotly-latest.min']\n",
       "            }\n",
       "        });\n",
       "        require(['plotly'], function(Plotly) {\n",
       "            window._Plotly = Plotly;\n",
       "        });\n",
       "        }\n",
       "        </script>\n",
       "        "
      ]
     },
     "metadata": {},
     "output_type": "display_data"
    }
   ],
   "source": [
    "import numpy as np\n",
    "import pandas as pd\n",
    "from fbprophet import Prophet\n",
    "\n",
    "import plotly.offline as py\n",
    "import plotly.graph_objs as go\n",
    "\n",
    "from fbprophet.plot import plot_plotly, plot_components_plotly\n",
    "\n",
    "py.init_notebook_mode(connected=True)"
   ]
  },
  {
   "cell_type": "markdown",
   "metadata": {},
   "source": [
    "----\n",
    "## Get Yield Data"
   ]
  },
  {
   "cell_type": "code",
   "execution_count": 2,
   "metadata": {},
   "outputs": [
    {
     "data": {
      "text/html": [
       "<div>\n",
       "<style scoped>\n",
       "    .dataframe tbody tr th:only-of-type {\n",
       "        vertical-align: middle;\n",
       "    }\n",
       "\n",
       "    .dataframe tbody tr th {\n",
       "        vertical-align: top;\n",
       "    }\n",
       "\n",
       "    .dataframe thead th {\n",
       "        text-align: right;\n",
       "    }\n",
       "</style>\n",
       "<table border=\"1\" class=\"dataframe\">\n",
       "  <thead>\n",
       "    <tr style=\"text-align: right;\">\n",
       "      <th></th>\n",
       "      <th>date</th>\n",
       "      <th>product</th>\n",
       "      <th>key</th>\n",
       "      <th>area</th>\n",
       "      <th>lng</th>\n",
       "      <th>lat</th>\n",
       "      <th>value</th>\n",
       "      <th>unit</th>\n",
       "      <th>type</th>\n",
       "      <th>freq</th>\n",
       "      <th>level</th>\n",
       "    </tr>\n",
       "  </thead>\n",
       "  <tbody>\n",
       "    <tr>\n",
       "      <th>0</th>\n",
       "      <td>2019-01-01</td>\n",
       "      <td>ข้าวโพด</td>\n",
       "      <td>ผลผลิตข้าวโพดทั้งหมด</td>\n",
       "      <td>Chiang Rai</td>\n",
       "      <td>19.899547</td>\n",
       "      <td>99.909809</td>\n",
       "      <td>3520</td>\n",
       "      <td>ตัน</td>\n",
       "      <td>volume</td>\n",
       "      <td>month</td>\n",
       "      <td>local</td>\n",
       "    </tr>\n",
       "    <tr>\n",
       "      <th>1</th>\n",
       "      <td>2019-01-01</td>\n",
       "      <td>ข้าวโพด</td>\n",
       "      <td>ผลผลิตข้าวโพดทั้งหมด</td>\n",
       "      <td>Phayao</td>\n",
       "      <td>19.215928</td>\n",
       "      <td>100.205901</td>\n",
       "      <td>1179</td>\n",
       "      <td>ตัน</td>\n",
       "      <td>volume</td>\n",
       "      <td>month</td>\n",
       "      <td>local</td>\n",
       "    </tr>\n",
       "    <tr>\n",
       "      <th>2</th>\n",
       "      <td>2019-01-01</td>\n",
       "      <td>ข้าวโพด</td>\n",
       "      <td>ผลผลิตข้าวโพดทั้งหมด</td>\n",
       "      <td>Lampang</td>\n",
       "      <td>18.297781</td>\n",
       "      <td>99.496366</td>\n",
       "      <td>6957</td>\n",
       "      <td>ตัน</td>\n",
       "      <td>volume</td>\n",
       "      <td>month</td>\n",
       "      <td>local</td>\n",
       "    </tr>\n",
       "    <tr>\n",
       "      <th>3</th>\n",
       "      <td>2019-01-01</td>\n",
       "      <td>ข้าวโพด</td>\n",
       "      <td>ผลผลิตข้าวโพดทั้งหมด</td>\n",
       "      <td>Lamphun</td>\n",
       "      <td>18.596625</td>\n",
       "      <td>99.011293</td>\n",
       "      <td>667</td>\n",
       "      <td>ตัน</td>\n",
       "      <td>volume</td>\n",
       "      <td>month</td>\n",
       "      <td>local</td>\n",
       "    </tr>\n",
       "    <tr>\n",
       "      <th>4</th>\n",
       "      <td>2019-01-01</td>\n",
       "      <td>ข้าวโพด</td>\n",
       "      <td>ผลผลิตข้าวโพดทั้งหมด</td>\n",
       "      <td>Chiang Mai</td>\n",
       "      <td>18.860754</td>\n",
       "      <td>98.966858</td>\n",
       "      <td>3718</td>\n",
       "      <td>ตัน</td>\n",
       "      <td>volume</td>\n",
       "      <td>month</td>\n",
       "      <td>local</td>\n",
       "    </tr>\n",
       "  </tbody>\n",
       "</table>\n",
       "</div>"
      ],
      "text/plain": [
       "        date  product                   key        area        lng  \\\n",
       "0 2019-01-01  ข้าวโพด  ผลผลิตข้าวโพดทั้งหมด  Chiang Rai  19.899547   \n",
       "1 2019-01-01  ข้าวโพด  ผลผลิตข้าวโพดทั้งหมด      Phayao  19.215928   \n",
       "2 2019-01-01  ข้าวโพด  ผลผลิตข้าวโพดทั้งหมด     Lampang  18.297781   \n",
       "3 2019-01-01  ข้าวโพด  ผลผลิตข้าวโพดทั้งหมด     Lamphun  18.596625   \n",
       "4 2019-01-01  ข้าวโพด  ผลผลิตข้าวโพดทั้งหมด  Chiang Mai  18.860754   \n",
       "\n",
       "          lat  value unit    type   freq  level  \n",
       "0   99.909809   3520  ตัน  volume  month  local  \n",
       "1  100.205901   1179  ตัน  volume  month  local  \n",
       "2   99.496366   6957  ตัน  volume  month  local  \n",
       "3   99.011293    667  ตัน  volume  month  local  \n",
       "4   98.966858   3718  ตัน  volume  month  local  "
      ]
     },
     "execution_count": 2,
     "metadata": {},
     "output_type": "execute_result"
    }
   ],
   "source": [
    "yield_file = 'OAE-process/OAE-ผลผลิตข้าวโพดทั้งหมด.xlsx'\n",
    "df = pd.read_excel(yield_file)\n",
    "df.head()"
   ]
  },
  {
   "cell_type": "markdown",
   "metadata": {},
   "source": [
    "Show areas with the maximum yield in the last 5 years."
   ]
  },
  {
   "cell_type": "code",
   "execution_count": 3,
   "metadata": {},
   "outputs": [
    {
     "data": {
      "text/html": [
       "<div>\n",
       "<style scoped>\n",
       "    .dataframe tbody tr th:only-of-type {\n",
       "        vertical-align: middle;\n",
       "    }\n",
       "\n",
       "    .dataframe tbody tr th {\n",
       "        vertical-align: top;\n",
       "    }\n",
       "\n",
       "    .dataframe thead th {\n",
       "        text-align: right;\n",
       "    }\n",
       "</style>\n",
       "<table border=\"1\" class=\"dataframe\">\n",
       "  <thead>\n",
       "    <tr style=\"text-align: right;\">\n",
       "      <th></th>\n",
       "      <th>lng</th>\n",
       "      <th>lat</th>\n",
       "      <th>value</th>\n",
       "    </tr>\n",
       "    <tr>\n",
       "      <th>area</th>\n",
       "      <th></th>\n",
       "      <th></th>\n",
       "      <th></th>\n",
       "    </tr>\n",
       "  </thead>\n",
       "  <tbody>\n",
       "    <tr>\n",
       "      <th>Phetchabun</th>\n",
       "      <td>864.630711</td>\n",
       "      <td>5358.773025</td>\n",
       "      <td>2510190</td>\n",
       "    </tr>\n",
       "    <tr>\n",
       "      <th>Nakhon Ratchasima</th>\n",
       "      <td>795.257633</td>\n",
       "      <td>5407.582633</td>\n",
       "      <td>1976058</td>\n",
       "    </tr>\n",
       "    <tr>\n",
       "      <th>Nan</th>\n",
       "      <td>996.372493</td>\n",
       "      <td>5341.332103</td>\n",
       "      <td>1874754</td>\n",
       "    </tr>\n",
       "    <tr>\n",
       "      <th>Tak</th>\n",
       "      <td>895.148217</td>\n",
       "      <td>5251.911033</td>\n",
       "      <td>1556337</td>\n",
       "    </tr>\n",
       "    <tr>\n",
       "      <th>Loei</th>\n",
       "      <td>927.586973</td>\n",
       "      <td>5390.832778</td>\n",
       "      <td>1416855</td>\n",
       "    </tr>\n",
       "  </tbody>\n",
       "</table>\n",
       "</div>"
      ],
      "text/plain": [
       "                          lng          lat    value\n",
       "area                                               \n",
       "Phetchabun         864.630711  5358.773025  2510190\n",
       "Nakhon Ratchasima  795.257633  5407.582633  1976058\n",
       "Nan                996.372493  5341.332103  1874754\n",
       "Tak                895.148217  5251.911033  1556337\n",
       "Loei               927.586973  5390.832778  1416855"
      ]
     },
     "execution_count": 3,
     "metadata": {},
     "output_type": "execute_result"
    }
   ],
   "source": [
    "df.groupby(['area']).sum().sort_values(by='value', ascending=False).head()"
   ]
  },
  {
   "cell_type": "markdown",
   "metadata": {},
   "source": [
    "Get yield of one area."
   ]
  },
  {
   "cell_type": "code",
   "execution_count": 4,
   "metadata": {},
   "outputs": [],
   "source": [
    "def data_in_area(df, area):\n",
    "    df = df.sort_values(by='date', ascending=False)\n",
    "    df_area = df[df.area == area].reset_index()\n",
    "    df_area = df_area[['date', 'value']]\n",
    "    df_area.columns = ['ds', 'y']\n",
    "    return df_area"
   ]
  },
  {
   "cell_type": "code",
   "execution_count": 5,
   "metadata": {},
   "outputs": [
    {
     "data": {
      "text/html": [
       "<div>\n",
       "<style scoped>\n",
       "    .dataframe tbody tr th:only-of-type {\n",
       "        vertical-align: middle;\n",
       "    }\n",
       "\n",
       "    .dataframe tbody tr th {\n",
       "        vertical-align: top;\n",
       "    }\n",
       "\n",
       "    .dataframe thead th {\n",
       "        text-align: right;\n",
       "    }\n",
       "</style>\n",
       "<table border=\"1\" class=\"dataframe\">\n",
       "  <thead>\n",
       "    <tr style=\"text-align: right;\">\n",
       "      <th></th>\n",
       "      <th>ds</th>\n",
       "      <th>y</th>\n",
       "    </tr>\n",
       "  </thead>\n",
       "  <tbody>\n",
       "    <tr>\n",
       "      <th>0</th>\n",
       "      <td>2019-05-01</td>\n",
       "      <td>6305</td>\n",
       "    </tr>\n",
       "    <tr>\n",
       "      <th>1</th>\n",
       "      <td>2019-04-01</td>\n",
       "      <td>12230</td>\n",
       "    </tr>\n",
       "    <tr>\n",
       "      <th>2</th>\n",
       "      <td>2019-03-01</td>\n",
       "      <td>4105</td>\n",
       "    </tr>\n",
       "    <tr>\n",
       "      <th>3</th>\n",
       "      <td>2019-02-01</td>\n",
       "      <td>8387</td>\n",
       "    </tr>\n",
       "    <tr>\n",
       "      <th>4</th>\n",
       "      <td>2019-01-01</td>\n",
       "      <td>30758</td>\n",
       "    </tr>\n",
       "  </tbody>\n",
       "</table>\n",
       "</div>"
      ],
      "text/plain": [
       "          ds      y\n",
       "0 2019-05-01   6305\n",
       "1 2019-04-01  12230\n",
       "2 2019-03-01   4105\n",
       "3 2019-02-01   8387\n",
       "4 2019-01-01  30758"
      ]
     },
     "execution_count": 5,
     "metadata": {},
     "output_type": "execute_result"
    }
   ],
   "source": [
    "df_nan = data_in_area(df, 'Nan')\n",
    "df_nan.head()"
   ]
  },
  {
   "cell_type": "code",
   "execution_count": 6,
   "metadata": {},
   "outputs": [
    {
     "data": {
      "application/vnd.plotly.v1+json": {
       "config": {
        "linkText": "Export to plot.ly",
        "plotlyServerURL": "https://plot.ly",
        "showLink": false
       },
       "data": [
        {
         "name": "y",
         "type": "scatter",
         "x": [
          "2019-05-01T00:00:00",
          "2019-04-01T00:00:00",
          "2019-03-01T00:00:00",
          "2019-02-01T00:00:00",
          "2019-01-01T00:00:00",
          "2018-12-01T00:00:00",
          "2018-11-01T00:00:00",
          "2018-10-01T00:00:00",
          "2018-09-01T00:00:00",
          "2018-08-01T00:00:00",
          "2018-07-01T00:00:00",
          "2018-06-01T00:00:00",
          "2018-05-01T00:00:00",
          "2018-04-01T00:00:00",
          "2018-03-01T00:00:00",
          "2018-02-01T00:00:00",
          "2018-01-01T00:00:00",
          "2017-12-01T00:00:00",
          "2017-11-01T00:00:00",
          "2017-10-01T00:00:00",
          "2017-09-01T00:00:00",
          "2017-08-01T00:00:00",
          "2017-07-01T00:00:00",
          "2017-06-01T00:00:00",
          "2017-05-01T00:00:00",
          "2017-04-01T00:00:00",
          "2017-03-01T00:00:00",
          "2017-02-01T00:00:00",
          "2017-01-01T00:00:00",
          "2016-12-01T00:00:00",
          "2016-11-01T00:00:00",
          "2016-10-01T00:00:00",
          "2016-09-01T00:00:00",
          "2016-08-01T00:00:00",
          "2016-07-01T00:00:00",
          "2016-06-01T00:00:00",
          "2016-05-01T00:00:00",
          "2016-04-01T00:00:00",
          "2016-03-01T00:00:00",
          "2016-02-01T00:00:00",
          "2016-01-01T00:00:00",
          "2015-12-01T00:00:00",
          "2015-11-01T00:00:00",
          "2015-10-01T00:00:00",
          "2015-09-01T00:00:00",
          "2015-08-01T00:00:00",
          "2015-07-01T00:00:00",
          "2015-06-01T00:00:00",
          "2015-05-01T00:00:00",
          "2015-04-01T00:00:00",
          "2015-03-01T00:00:00",
          "2015-02-01T00:00:00",
          "2015-01-01T00:00:00"
         ],
         "y": [
          6305,
          12230,
          4105,
          8387,
          30758,
          132212,
          177040,
          43070,
          22393,
          6864,
          6735,
          11754,
          8546,
          13077,
          1584,
          13844,
          26475,
          92563,
          176920,
          95821,
          8496,
          2916,
          4415,
          717,
          4925,
          9258,
          2627,
          174,
          7524,
          126010,
          188102,
          95616,
          13740,
          3826,
          0,
          0,
          8112,
          6015,
          768,
          256,
          2485,
          60930,
          320066,
          70594,
          5798,
          138,
          184,
          0,
          1585,
          19287,
          7079,
          1195,
          11233
         ]
        }
       ],
       "layout": {
        "autosize": true,
        "template": {
         "data": {
          "bar": [
           {
            "error_x": {
             "color": "#2a3f5f"
            },
            "error_y": {
             "color": "#2a3f5f"
            },
            "marker": {
             "line": {
              "color": "#E5ECF6",
              "width": 0.5
             }
            },
            "type": "bar"
           }
          ],
          "barpolar": [
           {
            "marker": {
             "line": {
              "color": "#E5ECF6",
              "width": 0.5
             }
            },
            "type": "barpolar"
           }
          ],
          "carpet": [
           {
            "aaxis": {
             "endlinecolor": "#2a3f5f",
             "gridcolor": "white",
             "linecolor": "white",
             "minorgridcolor": "white",
             "startlinecolor": "#2a3f5f"
            },
            "baxis": {
             "endlinecolor": "#2a3f5f",
             "gridcolor": "white",
             "linecolor": "white",
             "minorgridcolor": "white",
             "startlinecolor": "#2a3f5f"
            },
            "type": "carpet"
           }
          ],
          "choropleth": [
           {
            "colorbar": {
             "outlinewidth": 0,
             "ticks": ""
            },
            "type": "choropleth"
           }
          ],
          "contour": [
           {
            "colorbar": {
             "outlinewidth": 0,
             "ticks": ""
            },
            "colorscale": [
             [
              0,
              "#0d0887"
             ],
             [
              0.1111111111111111,
              "#46039f"
             ],
             [
              0.2222222222222222,
              "#7201a8"
             ],
             [
              0.3333333333333333,
              "#9c179e"
             ],
             [
              0.4444444444444444,
              "#bd3786"
             ],
             [
              0.5555555555555556,
              "#d8576b"
             ],
             [
              0.6666666666666666,
              "#ed7953"
             ],
             [
              0.7777777777777778,
              "#fb9f3a"
             ],
             [
              0.8888888888888888,
              "#fdca26"
             ],
             [
              1,
              "#f0f921"
             ]
            ],
            "type": "contour"
           }
          ],
          "contourcarpet": [
           {
            "colorbar": {
             "outlinewidth": 0,
             "ticks": ""
            },
            "type": "contourcarpet"
           }
          ],
          "heatmap": [
           {
            "colorbar": {
             "outlinewidth": 0,
             "ticks": ""
            },
            "colorscale": [
             [
              0,
              "#0d0887"
             ],
             [
              0.1111111111111111,
              "#46039f"
             ],
             [
              0.2222222222222222,
              "#7201a8"
             ],
             [
              0.3333333333333333,
              "#9c179e"
             ],
             [
              0.4444444444444444,
              "#bd3786"
             ],
             [
              0.5555555555555556,
              "#d8576b"
             ],
             [
              0.6666666666666666,
              "#ed7953"
             ],
             [
              0.7777777777777778,
              "#fb9f3a"
             ],
             [
              0.8888888888888888,
              "#fdca26"
             ],
             [
              1,
              "#f0f921"
             ]
            ],
            "type": "heatmap"
           }
          ],
          "heatmapgl": [
           {
            "colorbar": {
             "outlinewidth": 0,
             "ticks": ""
            },
            "colorscale": [
             [
              0,
              "#0d0887"
             ],
             [
              0.1111111111111111,
              "#46039f"
             ],
             [
              0.2222222222222222,
              "#7201a8"
             ],
             [
              0.3333333333333333,
              "#9c179e"
             ],
             [
              0.4444444444444444,
              "#bd3786"
             ],
             [
              0.5555555555555556,
              "#d8576b"
             ],
             [
              0.6666666666666666,
              "#ed7953"
             ],
             [
              0.7777777777777778,
              "#fb9f3a"
             ],
             [
              0.8888888888888888,
              "#fdca26"
             ],
             [
              1,
              "#f0f921"
             ]
            ],
            "type": "heatmapgl"
           }
          ],
          "histogram": [
           {
            "marker": {
             "colorbar": {
              "outlinewidth": 0,
              "ticks": ""
             }
            },
            "type": "histogram"
           }
          ],
          "histogram2d": [
           {
            "colorbar": {
             "outlinewidth": 0,
             "ticks": ""
            },
            "colorscale": [
             [
              0,
              "#0d0887"
             ],
             [
              0.1111111111111111,
              "#46039f"
             ],
             [
              0.2222222222222222,
              "#7201a8"
             ],
             [
              0.3333333333333333,
              "#9c179e"
             ],
             [
              0.4444444444444444,
              "#bd3786"
             ],
             [
              0.5555555555555556,
              "#d8576b"
             ],
             [
              0.6666666666666666,
              "#ed7953"
             ],
             [
              0.7777777777777778,
              "#fb9f3a"
             ],
             [
              0.8888888888888888,
              "#fdca26"
             ],
             [
              1,
              "#f0f921"
             ]
            ],
            "type": "histogram2d"
           }
          ],
          "histogram2dcontour": [
           {
            "colorbar": {
             "outlinewidth": 0,
             "ticks": ""
            },
            "colorscale": [
             [
              0,
              "#0d0887"
             ],
             [
              0.1111111111111111,
              "#46039f"
             ],
             [
              0.2222222222222222,
              "#7201a8"
             ],
             [
              0.3333333333333333,
              "#9c179e"
             ],
             [
              0.4444444444444444,
              "#bd3786"
             ],
             [
              0.5555555555555556,
              "#d8576b"
             ],
             [
              0.6666666666666666,
              "#ed7953"
             ],
             [
              0.7777777777777778,
              "#fb9f3a"
             ],
             [
              0.8888888888888888,
              "#fdca26"
             ],
             [
              1,
              "#f0f921"
             ]
            ],
            "type": "histogram2dcontour"
           }
          ],
          "mesh3d": [
           {
            "colorbar": {
             "outlinewidth": 0,
             "ticks": ""
            },
            "type": "mesh3d"
           }
          ],
          "parcoords": [
           {
            "line": {
             "colorbar": {
              "outlinewidth": 0,
              "ticks": ""
             }
            },
            "type": "parcoords"
           }
          ],
          "pie": [
           {
            "automargin": true,
            "type": "pie"
           }
          ],
          "scatter": [
           {
            "marker": {
             "colorbar": {
              "outlinewidth": 0,
              "ticks": ""
             }
            },
            "type": "scatter"
           }
          ],
          "scatter3d": [
           {
            "line": {
             "colorbar": {
              "outlinewidth": 0,
              "ticks": ""
             }
            },
            "marker": {
             "colorbar": {
              "outlinewidth": 0,
              "ticks": ""
             }
            },
            "type": "scatter3d"
           }
          ],
          "scattercarpet": [
           {
            "marker": {
             "colorbar": {
              "outlinewidth": 0,
              "ticks": ""
             }
            },
            "type": "scattercarpet"
           }
          ],
          "scattergeo": [
           {
            "marker": {
             "colorbar": {
              "outlinewidth": 0,
              "ticks": ""
             }
            },
            "type": "scattergeo"
           }
          ],
          "scattergl": [
           {
            "marker": {
             "colorbar": {
              "outlinewidth": 0,
              "ticks": ""
             }
            },
            "type": "scattergl"
           }
          ],
          "scattermapbox": [
           {
            "marker": {
             "colorbar": {
              "outlinewidth": 0,
              "ticks": ""
             }
            },
            "type": "scattermapbox"
           }
          ],
          "scatterpolar": [
           {
            "marker": {
             "colorbar": {
              "outlinewidth": 0,
              "ticks": ""
             }
            },
            "type": "scatterpolar"
           }
          ],
          "scatterpolargl": [
           {
            "marker": {
             "colorbar": {
              "outlinewidth": 0,
              "ticks": ""
             }
            },
            "type": "scatterpolargl"
           }
          ],
          "scatterternary": [
           {
            "marker": {
             "colorbar": {
              "outlinewidth": 0,
              "ticks": ""
             }
            },
            "type": "scatterternary"
           }
          ],
          "surface": [
           {
            "colorbar": {
             "outlinewidth": 0,
             "ticks": ""
            },
            "colorscale": [
             [
              0,
              "#0d0887"
             ],
             [
              0.1111111111111111,
              "#46039f"
             ],
             [
              0.2222222222222222,
              "#7201a8"
             ],
             [
              0.3333333333333333,
              "#9c179e"
             ],
             [
              0.4444444444444444,
              "#bd3786"
             ],
             [
              0.5555555555555556,
              "#d8576b"
             ],
             [
              0.6666666666666666,
              "#ed7953"
             ],
             [
              0.7777777777777778,
              "#fb9f3a"
             ],
             [
              0.8888888888888888,
              "#fdca26"
             ],
             [
              1,
              "#f0f921"
             ]
            ],
            "type": "surface"
           }
          ],
          "table": [
           {
            "cells": {
             "fill": {
              "color": "#EBF0F8"
             },
             "line": {
              "color": "white"
             }
            },
            "header": {
             "fill": {
              "color": "#C8D4E3"
             },
             "line": {
              "color": "white"
             }
            },
            "type": "table"
           }
          ]
         },
         "layout": {
          "annotationdefaults": {
           "arrowcolor": "#2a3f5f",
           "arrowhead": 0,
           "arrowwidth": 1
          },
          "coloraxis": {
           "colorbar": {
            "outlinewidth": 0,
            "ticks": ""
           }
          },
          "colorscale": {
           "diverging": [
            [
             0,
             "#8e0152"
            ],
            [
             0.1,
             "#c51b7d"
            ],
            [
             0.2,
             "#de77ae"
            ],
            [
             0.3,
             "#f1b6da"
            ],
            [
             0.4,
             "#fde0ef"
            ],
            [
             0.5,
             "#f7f7f7"
            ],
            [
             0.6,
             "#e6f5d0"
            ],
            [
             0.7,
             "#b8e186"
            ],
            [
             0.8,
             "#7fbc41"
            ],
            [
             0.9,
             "#4d9221"
            ],
            [
             1,
             "#276419"
            ]
           ],
           "sequential": [
            [
             0,
             "#0d0887"
            ],
            [
             0.1111111111111111,
             "#46039f"
            ],
            [
             0.2222222222222222,
             "#7201a8"
            ],
            [
             0.3333333333333333,
             "#9c179e"
            ],
            [
             0.4444444444444444,
             "#bd3786"
            ],
            [
             0.5555555555555556,
             "#d8576b"
            ],
            [
             0.6666666666666666,
             "#ed7953"
            ],
            [
             0.7777777777777778,
             "#fb9f3a"
            ],
            [
             0.8888888888888888,
             "#fdca26"
            ],
            [
             1,
             "#f0f921"
            ]
           ],
           "sequentialminus": [
            [
             0,
             "#0d0887"
            ],
            [
             0.1111111111111111,
             "#46039f"
            ],
            [
             0.2222222222222222,
             "#7201a8"
            ],
            [
             0.3333333333333333,
             "#9c179e"
            ],
            [
             0.4444444444444444,
             "#bd3786"
            ],
            [
             0.5555555555555556,
             "#d8576b"
            ],
            [
             0.6666666666666666,
             "#ed7953"
            ],
            [
             0.7777777777777778,
             "#fb9f3a"
            ],
            [
             0.8888888888888888,
             "#fdca26"
            ],
            [
             1,
             "#f0f921"
            ]
           ]
          },
          "colorway": [
           "#636efa",
           "#EF553B",
           "#00cc96",
           "#ab63fa",
           "#FFA15A",
           "#19d3f3",
           "#FF6692",
           "#B6E880",
           "#FF97FF",
           "#FECB52"
          ],
          "font": {
           "color": "#2a3f5f"
          },
          "geo": {
           "bgcolor": "white",
           "lakecolor": "white",
           "landcolor": "#E5ECF6",
           "showlakes": true,
           "showland": true,
           "subunitcolor": "white"
          },
          "hoverlabel": {
           "align": "left"
          },
          "hovermode": "closest",
          "mapbox": {
           "style": "light"
          },
          "paper_bgcolor": "white",
          "plot_bgcolor": "#E5ECF6",
          "polar": {
           "angularaxis": {
            "gridcolor": "white",
            "linecolor": "white",
            "ticks": ""
           },
           "bgcolor": "#E5ECF6",
           "radialaxis": {
            "gridcolor": "white",
            "linecolor": "white",
            "ticks": ""
           }
          },
          "scene": {
           "xaxis": {
            "backgroundcolor": "#E5ECF6",
            "gridcolor": "white",
            "gridwidth": 2,
            "linecolor": "white",
            "showbackground": true,
            "ticks": "",
            "zerolinecolor": "white"
           },
           "yaxis": {
            "backgroundcolor": "#E5ECF6",
            "gridcolor": "white",
            "gridwidth": 2,
            "linecolor": "white",
            "showbackground": true,
            "ticks": "",
            "zerolinecolor": "white"
           },
           "zaxis": {
            "backgroundcolor": "#E5ECF6",
            "gridcolor": "white",
            "gridwidth": 2,
            "linecolor": "white",
            "showbackground": true,
            "ticks": "",
            "zerolinecolor": "white"
           }
          },
          "shapedefaults": {
           "line": {
            "color": "#2a3f5f"
           }
          },
          "ternary": {
           "aaxis": {
            "gridcolor": "white",
            "linecolor": "white",
            "ticks": ""
           },
           "baxis": {
            "gridcolor": "white",
            "linecolor": "white",
            "ticks": ""
           },
           "bgcolor": "#E5ECF6",
           "caxis": {
            "gridcolor": "white",
            "linecolor": "white",
            "ticks": ""
           }
          },
          "title": {
           "x": 0.05
          },
          "xaxis": {
           "automargin": true,
           "gridcolor": "white",
           "linecolor": "white",
           "ticks": "",
           "title": {
            "standoff": 15
           },
           "zerolinecolor": "white",
           "zerolinewidth": 2
          },
          "yaxis": {
           "automargin": true,
           "gridcolor": "white",
           "linecolor": "white",
           "ticks": "",
           "title": {
            "standoff": 15
           },
           "zerolinecolor": "white",
           "zerolinewidth": 2
          }
         }
        },
        "title": {
         "text": "Nan Corn Yield"
        },
        "xaxis": {
         "autorange": true,
         "range": [
          "2015-01-01",
          "2019-05-01"
         ],
         "type": "date"
        },
        "yaxis": {
         "autorange": true,
         "range": [
          -17781.444444444445,
          337847.44444444444
         ],
         "title": {
          "text": "Yield in Tonne(s)"
         },
         "type": "linear"
        }
       }
      },
      "image/png": "[encoded data removed]",
      "text/html": [
       "<div>                            <div id=\"19db3d5b-4e9c-45c2-8583-42fdf2cab5f5\" class=\"plotly-graph-div\" style=\"height:525px; width:100%;\"></div>            <script type=\"text/javascript\">                require([\"plotly\"], function(Plotly) {                    window.PLOTLYENV=window.PLOTLYENV || {};                                    if (document.getElementById(\"19db3d5b-4e9c-45c2-8583-42fdf2cab5f5\")) {                    Plotly.newPlot(                        \"19db3d5b-4e9c-45c2-8583-42fdf2cab5f5\",                        [{\"name\": \"y\", \"type\": \"scatter\", \"x\": [\"2019-05-01T00:00:00\", \"2019-04-01T00:00:00\", \"2019-03-01T00:00:00\", \"2019-02-01T00:00:00\", \"2019-01-01T00:00:00\", \"2018-12-01T00:00:00\", \"2018-11-01T00:00:00\", \"2018-10-01T00:00:00\", \"2018-09-01T00:00:00\", \"2018-08-01T00:00:00\", \"2018-07-01T00:00:00\", \"2018-06-01T00:00:00\", \"2018-05-01T00:00:00\", \"2018-04-01T00:00:00\", \"2018-03-01T00:00:00\", \"2018-02-01T00:00:00\", \"2018-01-01T00:00:00\", \"2017-12-01T00:00:00\", \"2017-11-01T00:00:00\", \"2017-10-01T00:00:00\", \"2017-09-01T00:00:00\", \"2017-08-01T00:00:00\", \"2017-07-01T00:00:00\", \"2017-06-01T00:00:00\", \"2017-05-01T00:00:00\", \"2017-04-01T00:00:00\", \"2017-03-01T00:00:00\", \"2017-02-01T00:00:00\", \"2017-01-01T00:00:00\", \"2016-12-01T00:00:00\", \"2016-11-01T00:00:00\", \"2016-10-01T00:00:00\", \"2016-09-01T00:00:00\", \"2016-08-01T00:00:00\", \"2016-07-01T00:00:00\", \"2016-06-01T00:00:00\", \"2016-05-01T00:00:00\", \"2016-04-01T00:00:00\", \"2016-03-01T00:00:00\", \"2016-02-01T00:00:00\", \"2016-01-01T00:00:00\", \"2015-12-01T00:00:00\", \"2015-11-01T00:00:00\", \"2015-10-01T00:00:00\", \"2015-09-01T00:00:00\", \"2015-08-01T00:00:00\", \"2015-07-01T00:00:00\", \"2015-06-01T00:00:00\", \"2015-05-01T00:00:00\", \"2015-04-01T00:00:00\", \"2015-03-01T00:00:00\", \"2015-02-01T00:00:00\", \"2015-01-01T00:00:00\"], \"y\": [6305, 12230, 4105, 8387, 30758, 132212, 177040, 43070, 22393, 6864, 6735, 11754, 8546, 13077, 1584, 13844, 26475, 92563, 176920, 95821, 8496, 2916, 4415, 717, 4925, 9258, 2627, 174, 7524, 126010, 188102, 95616, 13740, 3826, 0, 0, 8112, 6015, 768, 256, 2485, 60930, 320066, 70594, 5798, 138, 184, 0, 1585, 19287, 7079, 1195, 11233]}],                        {\"template\": {\"data\": {\"bar\": [{\"error_x\": {\"color\": \"#2a3f5f\"}, \"error_y\": {\"color\": \"#2a3f5f\"}, \"marker\": {\"line\": {\"color\": \"#E5ECF6\", \"width\": 0.5}}, \"type\": \"bar\"}], \"barpolar\": [{\"marker\": {\"line\": {\"color\": \"#E5ECF6\", \"width\": 0.5}}, \"type\": \"barpolar\"}], \"carpet\": [{\"aaxis\": {\"endlinecolor\": \"#2a3f5f\", \"gridcolor\": \"white\", \"linecolor\": \"white\", \"minorgridcolor\": \"white\", \"startlinecolor\": \"#2a3f5f\"}, \"baxis\": {\"endlinecolor\": \"#2a3f5f\", \"gridcolor\": \"white\", \"linecolor\": \"white\", \"minorgridcolor\": \"white\", \"startlinecolor\": \"#2a3f5f\"}, \"type\": \"carpet\"}], \"choropleth\": [{\"colorbar\": {\"outlinewidth\": 0, \"ticks\": \"\"}, \"type\": \"choropleth\"}], \"contour\": [{\"colorbar\": {\"outlinewidth\": 0, \"ticks\": \"\"}, \"colorscale\": [[0.0, \"#0d0887\"], [0.1111111111111111, \"#46039f\"], [0.2222222222222222, \"#7201a8\"], [0.3333333333333333, \"#9c179e\"], [0.4444444444444444, \"#bd3786\"], [0.5555555555555556, \"#d8576b\"], [0.6666666666666666, \"#ed7953\"], [0.7777777777777778, \"#fb9f3a\"], [0.8888888888888888, \"#fdca26\"], [1.0, \"#f0f921\"]], \"type\": \"contour\"}], \"contourcarpet\": [{\"colorbar\": {\"outlinewidth\": 0, \"ticks\": \"\"}, \"type\": \"contourcarpet\"}], \"heatmap\": [{\"colorbar\": {\"outlinewidth\": 0, \"ticks\": \"\"}, \"colorscale\": [[0.0, \"#0d0887\"], [0.1111111111111111, \"#46039f\"], [0.2222222222222222, \"#7201a8\"], [0.3333333333333333, \"#9c179e\"], [0.4444444444444444, \"#bd3786\"], [0.5555555555555556, \"#d8576b\"], [0.6666666666666666, \"#ed7953\"], [0.7777777777777778, \"#fb9f3a\"], [0.8888888888888888, \"#fdca26\"], [1.0, \"#f0f921\"]], \"type\": \"heatmap\"}], \"heatmapgl\": [{\"colorbar\": {\"outlinewidth\": 0, \"ticks\": \"\"}, \"colorscale\": [[0.0, \"#0d0887\"], [0.1111111111111111, \"#46039f\"], [0.2222222222222222, \"#7201a8\"], [0.3333333333333333, \"#9c179e\"], [0.4444444444444444, \"#bd3786\"], [0.5555555555555556, \"#d8576b\"], [0.6666666666666666, \"#ed7953\"], [0.7777777777777778, \"#fb9f3a\"], [0.8888888888888888, \"#fdca26\"], [1.0, \"#f0f921\"]], \"type\": \"heatmapgl\"}], \"histogram\": [{\"marker\": {\"colorbar\": {\"outlinewidth\": 0, \"ticks\": \"\"}}, \"type\": \"histogram\"}], \"histogram2d\": [{\"colorbar\": {\"outlinewidth\": 0, \"ticks\": \"\"}, \"colorscale\": [[0.0, \"#0d0887\"], [0.1111111111111111, \"#46039f\"], [0.2222222222222222, \"#7201a8\"], [0.3333333333333333, \"#9c179e\"], [0.4444444444444444, \"#bd3786\"], [0.5555555555555556, \"#d8576b\"], [0.6666666666666666, \"#ed7953\"], [0.7777777777777778, \"#fb9f3a\"], [0.8888888888888888, \"#fdca26\"], [1.0, \"#f0f921\"]], \"type\": \"histogram2d\"}], \"histogram2dcontour\": [{\"colorbar\": {\"outlinewidth\": 0, \"ticks\": \"\"}, \"colorscale\": [[0.0, \"#0d0887\"], [0.1111111111111111, \"#46039f\"], [0.2222222222222222, \"#7201a8\"], [0.3333333333333333, \"#9c179e\"], [0.4444444444444444, \"#bd3786\"], [0.5555555555555556, \"#d8576b\"], [0.6666666666666666, \"#ed7953\"], [0.7777777777777778, \"#fb9f3a\"], [0.8888888888888888, \"#fdca26\"], [1.0, \"#f0f921\"]], \"type\": \"histogram2dcontour\"}], \"mesh3d\": [{\"colorbar\": {\"outlinewidth\": 0, \"ticks\": \"\"}, \"type\": \"mesh3d\"}], \"parcoords\": [{\"line\": {\"colorbar\": {\"outlinewidth\": 0, \"ticks\": \"\"}}, \"type\": \"parcoords\"}], \"pie\": [{\"automargin\": true, \"type\": \"pie\"}], \"scatter\": [{\"marker\": {\"colorbar\": {\"outlinewidth\": 0, \"ticks\": \"\"}}, \"type\": \"scatter\"}], \"scatter3d\": [{\"line\": {\"colorbar\": {\"outlinewidth\": 0, \"ticks\": \"\"}}, \"marker\": {\"colorbar\": {\"outlinewidth\": 0, \"ticks\": \"\"}}, \"type\": \"scatter3d\"}], \"scattercarpet\": [{\"marker\": {\"colorbar\": {\"outlinewidth\": 0, \"ticks\": \"\"}}, \"type\": \"scattercarpet\"}], \"scattergeo\": [{\"marker\": {\"colorbar\": {\"outlinewidth\": 0, \"ticks\": \"\"}}, \"type\": \"scattergeo\"}], \"scattergl\": [{\"marker\": {\"colorbar\": {\"outlinewidth\": 0, \"ticks\": \"\"}}, \"type\": \"scattergl\"}], \"scattermapbox\": [{\"marker\": {\"colorbar\": {\"outlinewidth\": 0, \"ticks\": \"\"}}, \"type\": \"scattermapbox\"}], \"scatterpolar\": [{\"marker\": {\"colorbar\": {\"outlinewidth\": 0, \"ticks\": \"\"}}, \"type\": \"scatterpolar\"}], \"scatterpolargl\": [{\"marker\": {\"colorbar\": {\"outlinewidth\": 0, \"ticks\": \"\"}}, \"type\": \"scatterpolargl\"}], \"scatterternary\": [{\"marker\": {\"colorbar\": {\"outlinewidth\": 0, \"ticks\": \"\"}}, \"type\": \"scatterternary\"}], \"surface\": [{\"colorbar\": {\"outlinewidth\": 0, \"ticks\": \"\"}, \"colorscale\": [[0.0, \"#0d0887\"], [0.1111111111111111, \"#46039f\"], [0.2222222222222222, \"#7201a8\"], [0.3333333333333333, \"#9c179e\"], [0.4444444444444444, \"#bd3786\"], [0.5555555555555556, \"#d8576b\"], [0.6666666666666666, \"#ed7953\"], [0.7777777777777778, \"#fb9f3a\"], [0.8888888888888888, \"#fdca26\"], [1.0, \"#f0f921\"]], \"type\": \"surface\"}], \"table\": [{\"cells\": {\"fill\": {\"color\": \"#EBF0F8\"}, \"line\": {\"color\": \"white\"}}, \"header\": {\"fill\": {\"color\": \"#C8D4E3\"}, \"line\": {\"color\": \"white\"}}, \"type\": \"table\"}]}, \"layout\": {\"annotationdefaults\": {\"arrowcolor\": \"#2a3f5f\", \"arrowhead\": 0, \"arrowwidth\": 1}, \"coloraxis\": {\"colorbar\": {\"outlinewidth\": 0, \"ticks\": \"\"}}, \"colorscale\": {\"diverging\": [[0, \"#8e0152\"], [0.1, \"#c51b7d\"], [0.2, \"#de77ae\"], [0.3, \"#f1b6da\"], [0.4, \"#fde0ef\"], [0.5, \"#f7f7f7\"], [0.6, \"#e6f5d0\"], [0.7, \"#b8e186\"], [0.8, \"#7fbc41\"], [0.9, \"#4d9221\"], [1, \"#276419\"]], \"sequential\": [[0.0, \"#0d0887\"], [0.1111111111111111, \"#46039f\"], [0.2222222222222222, \"#7201a8\"], [0.3333333333333333, \"#9c179e\"], [0.4444444444444444, \"#bd3786\"], [0.5555555555555556, \"#d8576b\"], [0.6666666666666666, \"#ed7953\"], [0.7777777777777778, \"#fb9f3a\"], [0.8888888888888888, \"#fdca26\"], [1.0, \"#f0f921\"]], \"sequentialminus\": [[0.0, \"#0d0887\"], [0.1111111111111111, \"#46039f\"], [0.2222222222222222, \"#7201a8\"], [0.3333333333333333, \"#9c179e\"], [0.4444444444444444, \"#bd3786\"], [0.5555555555555556, \"#d8576b\"], [0.6666666666666666, \"#ed7953\"], [0.7777777777777778, \"#fb9f3a\"], [0.8888888888888888, \"#fdca26\"], [1.0, \"#f0f921\"]]}, \"colorway\": [\"#636efa\", \"#EF553B\", \"#00cc96\", \"#ab63fa\", \"#FFA15A\", \"#19d3f3\", \"#FF6692\", \"#B6E880\", \"#FF97FF\", \"#FECB52\"], \"font\": {\"color\": \"#2a3f5f\"}, \"geo\": {\"bgcolor\": \"white\", \"lakecolor\": \"white\", \"landcolor\": \"#E5ECF6\", \"showlakes\": true, \"showland\": true, \"subunitcolor\": \"white\"}, \"hoverlabel\": {\"align\": \"left\"}, \"hovermode\": \"closest\", \"mapbox\": {\"style\": \"light\"}, \"paper_bgcolor\": \"white\", \"plot_bgcolor\": \"#E5ECF6\", \"polar\": {\"angularaxis\": {\"gridcolor\": \"white\", \"linecolor\": \"white\", \"ticks\": \"\"}, \"bgcolor\": \"#E5ECF6\", \"radialaxis\": {\"gridcolor\": \"white\", \"linecolor\": \"white\", \"ticks\": \"\"}}, \"scene\": {\"xaxis\": {\"backgroundcolor\": \"#E5ECF6\", \"gridcolor\": \"white\", \"gridwidth\": 2, \"linecolor\": \"white\", \"showbackground\": true, \"ticks\": \"\", \"zerolinecolor\": \"white\"}, \"yaxis\": {\"backgroundcolor\": \"#E5ECF6\", \"gridcolor\": \"white\", \"gridwidth\": 2, \"linecolor\": \"white\", \"showbackground\": true, \"ticks\": \"\", \"zerolinecolor\": \"white\"}, \"zaxis\": {\"backgroundcolor\": \"#E5ECF6\", \"gridcolor\": \"white\", \"gridwidth\": 2, \"linecolor\": \"white\", \"showbackground\": true, \"ticks\": \"\", \"zerolinecolor\": \"white\"}}, \"shapedefaults\": {\"line\": {\"color\": \"#2a3f5f\"}}, \"ternary\": {\"aaxis\": {\"gridcolor\": \"white\", \"linecolor\": \"white\", \"ticks\": \"\"}, \"baxis\": {\"gridcolor\": \"white\", \"linecolor\": \"white\", \"ticks\": \"\"}, \"bgcolor\": \"#E5ECF6\", \"caxis\": {\"gridcolor\": \"white\", \"linecolor\": \"white\", \"ticks\": \"\"}}, \"title\": {\"x\": 0.05}, \"xaxis\": {\"automargin\": true, \"gridcolor\": \"white\", \"linecolor\": \"white\", \"ticks\": \"\", \"title\": {\"standoff\": 15}, \"zerolinecolor\": \"white\", \"zerolinewidth\": 2}, \"yaxis\": {\"automargin\": true, \"gridcolor\": \"white\", \"linecolor\": \"white\", \"ticks\": \"\", \"title\": {\"standoff\": 15}, \"zerolinecolor\": \"white\", \"zerolinewidth\": 2}}}, \"title\": {\"text\": \"Nan Corn Yield\"}, \"yaxis\": {\"title\": {\"text\": \"Yield in Tonne(s)\"}}},                        {\"responsive\": true}                    ).then(function(){\n",
       "                            \n",
       "var gd = document.getElementById('19db3d5b-4e9c-45c2-8583-42fdf2cab5f5');\n",
       "var x = new MutationObserver(function (mutations, observer) {{\n",
       "        var display = window.getComputedStyle(gd).display;\n",
       "        if (!display || display === 'none') {{\n",
       "            console.log([gd, 'removed!']);\n",
       "            Plotly.purge(gd);\n",
       "            observer.disconnect();\n",
       "        }}\n",
       "}});\n",
       "\n",
       "// Listen for the removal of the full notebook cells\n",
       "var notebookContainer = gd.closest('#notebook-container');\n",
       "if (notebookContainer) {{\n",
       "    x.observe(notebookContainer, {childList: true});\n",
       "}}\n",
       "\n",
       "// Listen for the clearing of the current output cell\n",
       "var outputEl = gd.closest('.output');\n",
       "if (outputEl) {{\n",
       "    x.observe(outputEl, {childList: true});\n",
       "}}\n",
       "\n",
       "                        })                };                });            </script>        </div>"
      ]
     },
     "metadata": {},
     "output_type": "display_data"
    }
   ],
   "source": [
    "py.iplot({'data':go.Scatter(x=df_nan['ds'], y=df_nan['y'], name='y'),\n",
    "         'layout':dict(title = 'Nan Corn Yield',\n",
    "                       yaxis = dict(title = 'Yield in Tonne(s)'))\n",
    "         })"
   ]
  },
  {
   "cell_type": "markdown",
   "metadata": {},
   "source": [
    "### Read additional data"
   ]
  },
  {
   "cell_type": "code",
   "execution_count": 7,
   "metadata": {},
   "outputs": [
    {
     "data": {
      "text/html": [
       "<div>\n",
       "<style scoped>\n",
       "    .dataframe tbody tr th:only-of-type {\n",
       "        vertical-align: middle;\n",
       "    }\n",
       "\n",
       "    .dataframe tbody tr th {\n",
       "        vertical-align: top;\n",
       "    }\n",
       "\n",
       "    .dataframe thead th {\n",
       "        text-align: right;\n",
       "    }\n",
       "</style>\n",
       "<table border=\"1\" class=\"dataframe\">\n",
       "  <thead>\n",
       "    <tr style=\"text-align: right;\">\n",
       "      <th></th>\n",
       "      <th>date</th>\n",
       "      <th>product</th>\n",
       "      <th>key</th>\n",
       "      <th>area</th>\n",
       "      <th>lng</th>\n",
       "      <th>lat</th>\n",
       "      <th>value</th>\n",
       "      <th>unit</th>\n",
       "      <th>type</th>\n",
       "      <th>freq</th>\n",
       "      <th>level</th>\n",
       "    </tr>\n",
       "  </thead>\n",
       "  <tbody>\n",
       "    <tr>\n",
       "      <th>0</th>\n",
       "      <td>2020-01-01</td>\n",
       "      <td>ข้าวโพด</td>\n",
       "      <td>ต้นทุนรวมต่อไร่ข้าวโพดเลี้ยงสัตว์</td>\n",
       "      <td>Thailand</td>\n",
       "      <td>13.758408</td>\n",
       "      <td>100.501938</td>\n",
       "      <td>4406.69</td>\n",
       "      <td>บาท/ไร่</td>\n",
       "      <td>value</td>\n",
       "      <td>year</td>\n",
       "      <td>local</td>\n",
       "    </tr>\n",
       "    <tr>\n",
       "      <th>1</th>\n",
       "      <td>2019-01-01</td>\n",
       "      <td>ข้าวโพด</td>\n",
       "      <td>ต้นทุนรวมต่อไร่ข้าวโพดเลี้ยงสัตว์</td>\n",
       "      <td>Thailand</td>\n",
       "      <td>13.758408</td>\n",
       "      <td>100.501938</td>\n",
       "      <td>4363.35</td>\n",
       "      <td>บาท/ไร่</td>\n",
       "      <td>value</td>\n",
       "      <td>year</td>\n",
       "      <td>local</td>\n",
       "    </tr>\n",
       "    <tr>\n",
       "      <th>2</th>\n",
       "      <td>2018-01-01</td>\n",
       "      <td>ข้าวโพด</td>\n",
       "      <td>ต้นทุนรวมต่อไร่ข้าวโพดเลี้ยงสัตว์</td>\n",
       "      <td>Thailand</td>\n",
       "      <td>13.758408</td>\n",
       "      <td>100.501938</td>\n",
       "      <td>4421.48</td>\n",
       "      <td>บาท/ไร่</td>\n",
       "      <td>value</td>\n",
       "      <td>year</td>\n",
       "      <td>local</td>\n",
       "    </tr>\n",
       "    <tr>\n",
       "      <th>3</th>\n",
       "      <td>2017-01-01</td>\n",
       "      <td>ข้าวโพด</td>\n",
       "      <td>ต้นทุนรวมต่อไร่ข้าวโพดเลี้ยงสัตว์</td>\n",
       "      <td>Thailand</td>\n",
       "      <td>13.758408</td>\n",
       "      <td>100.501938</td>\n",
       "      <td>4486.91</td>\n",
       "      <td>บาท/ไร่</td>\n",
       "      <td>value</td>\n",
       "      <td>year</td>\n",
       "      <td>local</td>\n",
       "    </tr>\n",
       "    <tr>\n",
       "      <th>4</th>\n",
       "      <td>2016-01-01</td>\n",
       "      <td>ข้าวโพด</td>\n",
       "      <td>ต้นทุนรวมต่อไร่ข้าวโพดเลี้ยงสัตว์</td>\n",
       "      <td>Thailand</td>\n",
       "      <td>13.758408</td>\n",
       "      <td>100.501938</td>\n",
       "      <td>4458.90</td>\n",
       "      <td>บาท/ไร่</td>\n",
       "      <td>value</td>\n",
       "      <td>year</td>\n",
       "      <td>local</td>\n",
       "    </tr>\n",
       "    <tr>\n",
       "      <th>5</th>\n",
       "      <td>2015-01-01</td>\n",
       "      <td>ข้าวโพด</td>\n",
       "      <td>ต้นทุนรวมต่อไร่ข้าวโพดเลี้ยงสัตว์</td>\n",
       "      <td>Thailand</td>\n",
       "      <td>13.758408</td>\n",
       "      <td>100.501938</td>\n",
       "      <td>4526.63</td>\n",
       "      <td>บาท/ไร่</td>\n",
       "      <td>value</td>\n",
       "      <td>year</td>\n",
       "      <td>local</td>\n",
       "    </tr>\n",
       "  </tbody>\n",
       "</table>\n",
       "</div>"
      ],
      "text/plain": [
       "        date  product                                key      area        lng  \\\n",
       "0 2020-01-01  ข้าวโพด  ต้นทุนรวมต่อไร่ข้าวโพดเลี้ยงสัตว์  Thailand  13.758408   \n",
       "1 2019-01-01  ข้าวโพด  ต้นทุนรวมต่อไร่ข้าวโพดเลี้ยงสัตว์  Thailand  13.758408   \n",
       "2 2018-01-01  ข้าวโพด  ต้นทุนรวมต่อไร่ข้าวโพดเลี้ยงสัตว์  Thailand  13.758408   \n",
       "3 2017-01-01  ข้าวโพด  ต้นทุนรวมต่อไร่ข้าวโพดเลี้ยงสัตว์  Thailand  13.758408   \n",
       "4 2016-01-01  ข้าวโพด  ต้นทุนรวมต่อไร่ข้าวโพดเลี้ยงสัตว์  Thailand  13.758408   \n",
       "5 2015-01-01  ข้าวโพด  ต้นทุนรวมต่อไร่ข้าวโพดเลี้ยงสัตว์  Thailand  13.758408   \n",
       "\n",
       "          lat    value     unit   type  freq  level  \n",
       "0  100.501938  4406.69  บาท/ไร่  value  year  local  \n",
       "1  100.501938  4363.35  บาท/ไร่  value  year  local  \n",
       "2  100.501938  4421.48  บาท/ไร่  value  year  local  \n",
       "3  100.501938  4486.91  บาท/ไร่  value  year  local  \n",
       "4  100.501938  4458.90  บาท/ไร่  value  year  local  \n",
       "5  100.501938  4526.63  บาท/ไร่  value  year  local  "
      ]
     },
     "execution_count": 7,
     "metadata": {},
     "output_type": "execute_result"
    }
   ],
   "source": [
    "cost_file = 'OAE-process/OAE-ต้นทุนรวมต่อไร่ข้าวโพดเลี้ยงสัตว์.xlsx'\n",
    "df_cost = pd.read_excel(cost_file)\n",
    "df_cost"
   ]
  },
  {
   "cell_type": "code",
   "execution_count": 8,
   "metadata": {},
   "outputs": [
    {
     "data": {
      "text/html": [
       "<div>\n",
       "<style scoped>\n",
       "    .dataframe tbody tr th:only-of-type {\n",
       "        vertical-align: middle;\n",
       "    }\n",
       "\n",
       "    .dataframe tbody tr th {\n",
       "        vertical-align: top;\n",
       "    }\n",
       "\n",
       "    .dataframe thead th {\n",
       "        text-align: right;\n",
       "    }\n",
       "</style>\n",
       "<table border=\"1\" class=\"dataframe\">\n",
       "  <thead>\n",
       "    <tr style=\"text-align: right;\">\n",
       "      <th></th>\n",
       "      <th>product</th>\n",
       "      <th>key</th>\n",
       "      <th>area</th>\n",
       "      <th>lng</th>\n",
       "      <th>lat</th>\n",
       "      <th>value</th>\n",
       "      <th>unit</th>\n",
       "      <th>type</th>\n",
       "      <th>freq</th>\n",
       "      <th>level</th>\n",
       "    </tr>\n",
       "    <tr>\n",
       "      <th>ds</th>\n",
       "      <th></th>\n",
       "      <th></th>\n",
       "      <th></th>\n",
       "      <th></th>\n",
       "      <th></th>\n",
       "      <th></th>\n",
       "      <th></th>\n",
       "      <th></th>\n",
       "      <th></th>\n",
       "      <th></th>\n",
       "    </tr>\n",
       "  </thead>\n",
       "  <tbody>\n",
       "    <tr>\n",
       "      <th>2020-01-01</th>\n",
       "      <td>ข้าวโพด</td>\n",
       "      <td>ต้นทุนรวมต่อไร่ข้าวโพดเลี้ยงสัตว์</td>\n",
       "      <td>Thailand</td>\n",
       "      <td>13.758408</td>\n",
       "      <td>100.501938</td>\n",
       "      <td>4406.69</td>\n",
       "      <td>บาท/ไร่</td>\n",
       "      <td>value</td>\n",
       "      <td>year</td>\n",
       "      <td>local</td>\n",
       "    </tr>\n",
       "    <tr>\n",
       "      <th>2019-12-01</th>\n",
       "      <td>ข้าวโพด</td>\n",
       "      <td>ต้นทุนรวมต่อไร่ข้าวโพดเลี้ยงสัตว์</td>\n",
       "      <td>Thailand</td>\n",
       "      <td>13.758408</td>\n",
       "      <td>100.501938</td>\n",
       "      <td>4363.35</td>\n",
       "      <td>บาท/ไร่</td>\n",
       "      <td>value</td>\n",
       "      <td>year</td>\n",
       "      <td>local</td>\n",
       "    </tr>\n",
       "    <tr>\n",
       "      <th>2019-11-01</th>\n",
       "      <td>ข้าวโพด</td>\n",
       "      <td>ต้นทุนรวมต่อไร่ข้าวโพดเลี้ยงสัตว์</td>\n",
       "      <td>Thailand</td>\n",
       "      <td>13.758408</td>\n",
       "      <td>100.501938</td>\n",
       "      <td>4363.35</td>\n",
       "      <td>บาท/ไร่</td>\n",
       "      <td>value</td>\n",
       "      <td>year</td>\n",
       "      <td>local</td>\n",
       "    </tr>\n",
       "    <tr>\n",
       "      <th>2019-10-01</th>\n",
       "      <td>ข้าวโพด</td>\n",
       "      <td>ต้นทุนรวมต่อไร่ข้าวโพดเลี้ยงสัตว์</td>\n",
       "      <td>Thailand</td>\n",
       "      <td>13.758408</td>\n",
       "      <td>100.501938</td>\n",
       "      <td>4363.35</td>\n",
       "      <td>บาท/ไร่</td>\n",
       "      <td>value</td>\n",
       "      <td>year</td>\n",
       "      <td>local</td>\n",
       "    </tr>\n",
       "    <tr>\n",
       "      <th>2019-09-01</th>\n",
       "      <td>ข้าวโพด</td>\n",
       "      <td>ต้นทุนรวมต่อไร่ข้าวโพดเลี้ยงสัตว์</td>\n",
       "      <td>Thailand</td>\n",
       "      <td>13.758408</td>\n",
       "      <td>100.501938</td>\n",
       "      <td>4363.35</td>\n",
       "      <td>บาท/ไร่</td>\n",
       "      <td>value</td>\n",
       "      <td>year</td>\n",
       "      <td>local</td>\n",
       "    </tr>\n",
       "    <tr>\n",
       "      <th>...</th>\n",
       "      <td>...</td>\n",
       "      <td>...</td>\n",
       "      <td>...</td>\n",
       "      <td>...</td>\n",
       "      <td>...</td>\n",
       "      <td>...</td>\n",
       "      <td>...</td>\n",
       "      <td>...</td>\n",
       "      <td>...</td>\n",
       "      <td>...</td>\n",
       "    </tr>\n",
       "    <tr>\n",
       "      <th>2015-05-01</th>\n",
       "      <td>ข้าวโพด</td>\n",
       "      <td>ต้นทุนรวมต่อไร่ข้าวโพดเลี้ยงสัตว์</td>\n",
       "      <td>Thailand</td>\n",
       "      <td>13.758408</td>\n",
       "      <td>100.501938</td>\n",
       "      <td>4526.63</td>\n",
       "      <td>บาท/ไร่</td>\n",
       "      <td>value</td>\n",
       "      <td>year</td>\n",
       "      <td>local</td>\n",
       "    </tr>\n",
       "    <tr>\n",
       "      <th>2015-04-01</th>\n",
       "      <td>ข้าวโพด</td>\n",
       "      <td>ต้นทุนรวมต่อไร่ข้าวโพดเลี้ยงสัตว์</td>\n",
       "      <td>Thailand</td>\n",
       "      <td>13.758408</td>\n",
       "      <td>100.501938</td>\n",
       "      <td>4526.63</td>\n",
       "      <td>บาท/ไร่</td>\n",
       "      <td>value</td>\n",
       "      <td>year</td>\n",
       "      <td>local</td>\n",
       "    </tr>\n",
       "    <tr>\n",
       "      <th>2015-03-01</th>\n",
       "      <td>ข้าวโพด</td>\n",
       "      <td>ต้นทุนรวมต่อไร่ข้าวโพดเลี้ยงสัตว์</td>\n",
       "      <td>Thailand</td>\n",
       "      <td>13.758408</td>\n",
       "      <td>100.501938</td>\n",
       "      <td>4526.63</td>\n",
       "      <td>บาท/ไร่</td>\n",
       "      <td>value</td>\n",
       "      <td>year</td>\n",
       "      <td>local</td>\n",
       "    </tr>\n",
       "    <tr>\n",
       "      <th>2015-02-01</th>\n",
       "      <td>ข้าวโพด</td>\n",
       "      <td>ต้นทุนรวมต่อไร่ข้าวโพดเลี้ยงสัตว์</td>\n",
       "      <td>Thailand</td>\n",
       "      <td>13.758408</td>\n",
       "      <td>100.501938</td>\n",
       "      <td>4526.63</td>\n",
       "      <td>บาท/ไร่</td>\n",
       "      <td>value</td>\n",
       "      <td>year</td>\n",
       "      <td>local</td>\n",
       "    </tr>\n",
       "    <tr>\n",
       "      <th>2015-01-01</th>\n",
       "      <td>ข้าวโพด</td>\n",
       "      <td>ต้นทุนรวมต่อไร่ข้าวโพดเลี้ยงสัตว์</td>\n",
       "      <td>Thailand</td>\n",
       "      <td>13.758408</td>\n",
       "      <td>100.501938</td>\n",
       "      <td>4526.63</td>\n",
       "      <td>บาท/ไร่</td>\n",
       "      <td>value</td>\n",
       "      <td>year</td>\n",
       "      <td>local</td>\n",
       "    </tr>\n",
       "  </tbody>\n",
       "</table>\n",
       "<p>61 rows × 10 columns</p>\n",
       "</div>"
      ],
      "text/plain": [
       "            product                                key      area        lng  \\\n",
       "ds                                                                            \n",
       "2020-01-01  ข้าวโพด  ต้นทุนรวมต่อไร่ข้าวโพดเลี้ยงสัตว์  Thailand  13.758408   \n",
       "2019-12-01  ข้าวโพด  ต้นทุนรวมต่อไร่ข้าวโพดเลี้ยงสัตว์  Thailand  13.758408   \n",
       "2019-11-01  ข้าวโพด  ต้นทุนรวมต่อไร่ข้าวโพดเลี้ยงสัตว์  Thailand  13.758408   \n",
       "2019-10-01  ข้าวโพด  ต้นทุนรวมต่อไร่ข้าวโพดเลี้ยงสัตว์  Thailand  13.758408   \n",
       "2019-09-01  ข้าวโพด  ต้นทุนรวมต่อไร่ข้าวโพดเลี้ยงสัตว์  Thailand  13.758408   \n",
       "...             ...                                ...       ...        ...   \n",
       "2015-05-01  ข้าวโพด  ต้นทุนรวมต่อไร่ข้าวโพดเลี้ยงสัตว์  Thailand  13.758408   \n",
       "2015-04-01  ข้าวโพด  ต้นทุนรวมต่อไร่ข้าวโพดเลี้ยงสัตว์  Thailand  13.758408   \n",
       "2015-03-01  ข้าวโพด  ต้นทุนรวมต่อไร่ข้าวโพดเลี้ยงสัตว์  Thailand  13.758408   \n",
       "2015-02-01  ข้าวโพด  ต้นทุนรวมต่อไร่ข้าวโพดเลี้ยงสัตว์  Thailand  13.758408   \n",
       "2015-01-01  ข้าวโพด  ต้นทุนรวมต่อไร่ข้าวโพดเลี้ยงสัตว์  Thailand  13.758408   \n",
       "\n",
       "                   lat    value     unit   type  freq  level  \n",
       "ds                                                            \n",
       "2020-01-01  100.501938  4406.69  บาท/ไร่  value  year  local  \n",
       "2019-12-01  100.501938  4363.35  บาท/ไร่  value  year  local  \n",
       "2019-11-01  100.501938  4363.35  บาท/ไร่  value  year  local  \n",
       "2019-10-01  100.501938  4363.35  บาท/ไร่  value  year  local  \n",
       "2019-09-01  100.501938  4363.35  บาท/ไร่  value  year  local  \n",
       "...                ...      ...      ...    ...   ...    ...  \n",
       "2015-05-01  100.501938  4526.63  บาท/ไร่  value  year  local  \n",
       "2015-04-01  100.501938  4526.63  บาท/ไร่  value  year  local  \n",
       "2015-03-01  100.501938  4526.63  บาท/ไร่  value  year  local  \n",
       "2015-02-01  100.501938  4526.63  บาท/ไร่  value  year  local  \n",
       "2015-01-01  100.501938  4526.63  บาท/ไร่  value  year  local  \n",
       "\n",
       "[61 rows x 10 columns]"
      ]
     },
     "execution_count": 8,
     "metadata": {},
     "output_type": "execute_result"
    }
   ],
   "source": [
    "def resample_year2month(df):\n",
    "    df = df.set_index('date')\n",
    "    df.index.name = 'ds'\n",
    "    return df.resample('MS').asfreq().fillna(method='ffill')\n",
    "    \n",
    "df_cost_spl = resample_year2month(df_cost)\n",
    "df_cost_spl.sort_index(ascending=False)"
   ]
  },
  {
   "cell_type": "code",
   "execution_count": 9,
   "metadata": {},
   "outputs": [
    {
     "data": {
      "text/html": [
       "<div>\n",
       "<style scoped>\n",
       "    .dataframe tbody tr th:only-of-type {\n",
       "        vertical-align: middle;\n",
       "    }\n",
       "\n",
       "    .dataframe tbody tr th {\n",
       "        vertical-align: top;\n",
       "    }\n",
       "\n",
       "    .dataframe thead th {\n",
       "        text-align: right;\n",
       "    }\n",
       "</style>\n",
       "<table border=\"1\" class=\"dataframe\">\n",
       "  <thead>\n",
       "    <tr style=\"text-align: right;\">\n",
       "      <th></th>\n",
       "      <th>y</th>\n",
       "    </tr>\n",
       "    <tr>\n",
       "      <th>ds</th>\n",
       "      <th></th>\n",
       "    </tr>\n",
       "  </thead>\n",
       "  <tbody>\n",
       "    <tr>\n",
       "      <th>2020-12-01</th>\n",
       "      <td>22.09</td>\n",
       "    </tr>\n",
       "    <tr>\n",
       "      <th>2020-11-01</th>\n",
       "      <td>23.18</td>\n",
       "    </tr>\n",
       "    <tr>\n",
       "      <th>2020-10-01</th>\n",
       "      <td>56.70</td>\n",
       "    </tr>\n",
       "    <tr>\n",
       "      <th>2020-09-01</th>\n",
       "      <td>194.06</td>\n",
       "    </tr>\n",
       "    <tr>\n",
       "      <th>2020-08-01</th>\n",
       "      <td>323.94</td>\n",
       "    </tr>\n",
       "    <tr>\n",
       "      <th>...</th>\n",
       "      <td>...</td>\n",
       "    </tr>\n",
       "    <tr>\n",
       "      <th>2015-05-01</th>\n",
       "      <td>68.55</td>\n",
       "    </tr>\n",
       "    <tr>\n",
       "      <th>2015-04-01</th>\n",
       "      <td>136.02</td>\n",
       "    </tr>\n",
       "    <tr>\n",
       "      <th>2015-03-01</th>\n",
       "      <td>37.35</td>\n",
       "    </tr>\n",
       "    <tr>\n",
       "      <th>2015-02-01</th>\n",
       "      <td>3.88</td>\n",
       "    </tr>\n",
       "    <tr>\n",
       "      <th>2015-01-01</th>\n",
       "      <td>58.82</td>\n",
       "    </tr>\n",
       "  </tbody>\n",
       "</table>\n",
       "<p>72 rows × 1 columns</p>\n",
       "</div>"
      ],
      "text/plain": [
       "                 y\n",
       "ds                \n",
       "2020-12-01   22.09\n",
       "2020-11-01   23.18\n",
       "2020-10-01   56.70\n",
       "2020-09-01  194.06\n",
       "2020-08-01  323.94\n",
       "...            ...\n",
       "2015-05-01   68.55\n",
       "2015-04-01  136.02\n",
       "2015-03-01   37.35\n",
       "2015-02-01    3.88\n",
       "2015-01-01   58.82\n",
       "\n",
       "[72 rows x 1 columns]"
      ]
     },
     "execution_count": 9,
     "metadata": {},
     "output_type": "execute_result"
    }
   ],
   "source": [
    "precipitation_file = 'OAE-process/OAE-ปริมาณน้ำฝน-ฝนตก.xlsx'\n",
    "df_precipitation = pd.read_excel(precipitation_file)\n",
    "df_precipitation_nan = data_in_area(df_precipitation,'Nan').set_index('ds')\n",
    "df_precipitation_nan.sort_index(ascending=False)"
   ]
  },
  {
   "cell_type": "code",
   "execution_count": 10,
   "metadata": {},
   "outputs": [
    {
     "data": {
      "text/html": [
       "<div>\n",
       "<style scoped>\n",
       "    .dataframe tbody tr th:only-of-type {\n",
       "        vertical-align: middle;\n",
       "    }\n",
       "\n",
       "    .dataframe tbody tr th {\n",
       "        vertical-align: top;\n",
       "    }\n",
       "\n",
       "    .dataframe thead th {\n",
       "        text-align: right;\n",
       "    }\n",
       "</style>\n",
       "<table border=\"1\" class=\"dataframe\">\n",
       "  <thead>\n",
       "    <tr style=\"text-align: right;\">\n",
       "      <th></th>\n",
       "      <th>y</th>\n",
       "    </tr>\n",
       "    <tr>\n",
       "      <th>ds</th>\n",
       "      <th></th>\n",
       "    </tr>\n",
       "  </thead>\n",
       "  <tbody>\n",
       "    <tr>\n",
       "      <th>2020-12-01</th>\n",
       "      <td>4.8</td>\n",
       "    </tr>\n",
       "    <tr>\n",
       "      <th>2020-11-01</th>\n",
       "      <td>7.4</td>\n",
       "    </tr>\n",
       "    <tr>\n",
       "      <th>2020-10-01</th>\n",
       "      <td>16.5</td>\n",
       "    </tr>\n",
       "    <tr>\n",
       "      <th>2020-09-01</th>\n",
       "      <td>24.5</td>\n",
       "    </tr>\n",
       "    <tr>\n",
       "      <th>2020-08-01</th>\n",
       "      <td>29.6</td>\n",
       "    </tr>\n",
       "    <tr>\n",
       "      <th>...</th>\n",
       "      <td>...</td>\n",
       "    </tr>\n",
       "    <tr>\n",
       "      <th>2015-05-01</th>\n",
       "      <td>21.0</td>\n",
       "    </tr>\n",
       "    <tr>\n",
       "      <th>2015-04-01</th>\n",
       "      <td>14.0</td>\n",
       "    </tr>\n",
       "    <tr>\n",
       "      <th>2015-03-01</th>\n",
       "      <td>8.0</td>\n",
       "    </tr>\n",
       "    <tr>\n",
       "      <th>2015-02-01</th>\n",
       "      <td>3.0</td>\n",
       "    </tr>\n",
       "    <tr>\n",
       "      <th>2015-01-01</th>\n",
       "      <td>4.0</td>\n",
       "    </tr>\n",
       "  </tbody>\n",
       "</table>\n",
       "<p>72 rows × 1 columns</p>\n",
       "</div>"
      ],
      "text/plain": [
       "               y\n",
       "ds              \n",
       "2020-12-01   4.8\n",
       "2020-11-01   7.4\n",
       "2020-10-01  16.5\n",
       "2020-09-01  24.5\n",
       "2020-08-01  29.6\n",
       "...          ...\n",
       "2015-05-01  21.0\n",
       "2015-04-01  14.0\n",
       "2015-03-01   8.0\n",
       "2015-02-01   3.0\n",
       "2015-01-01   4.0\n",
       "\n",
       "[72 rows x 1 columns]"
      ]
     },
     "execution_count": 10,
     "metadata": {},
     "output_type": "execute_result"
    }
   ],
   "source": [
    "rainday_file = 'OAE-process/OAE-ปริมาณน้ำฝน-จำนวนวันฝนตก.xlsx'\n",
    "df_rainday = pd.read_excel(rainday_file)\n",
    "df_rainday_nan = data_in_area(df_rainday,'Nan').set_index('ds')\n",
    "df_rainday_nan.sort_index(ascending=False)"
   ]
  },
  {
   "cell_type": "code",
   "execution_count": 11,
   "metadata": {},
   "outputs": [
    {
     "data": {
      "text/html": [
       "<div>\n",
       "<style scoped>\n",
       "    .dataframe tbody tr th:only-of-type {\n",
       "        vertical-align: middle;\n",
       "    }\n",
       "\n",
       "    .dataframe tbody tr th {\n",
       "        vertical-align: top;\n",
       "    }\n",
       "\n",
       "    .dataframe thead th {\n",
       "        text-align: right;\n",
       "    }\n",
       "</style>\n",
       "<table border=\"1\" class=\"dataframe\">\n",
       "  <thead>\n",
       "    <tr style=\"text-align: right;\">\n",
       "      <th></th>\n",
       "      <th>ds</th>\n",
       "      <th>y</th>\n",
       "    </tr>\n",
       "  </thead>\n",
       "  <tbody>\n",
       "    <tr>\n",
       "      <th>0</th>\n",
       "      <td>2018-01-01</td>\n",
       "      <td>678974</td>\n",
       "    </tr>\n",
       "    <tr>\n",
       "      <th>1</th>\n",
       "      <td>2017-01-01</td>\n",
       "      <td>662502</td>\n",
       "    </tr>\n",
       "    <tr>\n",
       "      <th>2</th>\n",
       "      <td>2016-01-01</td>\n",
       "      <td>731978</td>\n",
       "    </tr>\n",
       "    <tr>\n",
       "      <th>3</th>\n",
       "      <td>2015-01-01</td>\n",
       "      <td>808102</td>\n",
       "    </tr>\n",
       "  </tbody>\n",
       "</table>\n",
       "</div>"
      ],
      "text/plain": [
       "          ds       y\n",
       "0 2018-01-01  678974\n",
       "1 2017-01-01  662502\n",
       "2 2016-01-01  731978\n",
       "3 2015-01-01  808102"
      ]
     },
     "execution_count": 11,
     "metadata": {},
     "output_type": "execute_result"
    }
   ],
   "source": [
    "havest_file = 'OAE-process/OAE-พื้นที่เก็บเกี่ยวข้าวโพดทั้งหมด.xlsx'\n",
    "df_havest = pd.read_excel(havest_file)\n",
    "data_in_area(df_havest,'Nan')"
   ]
  },
  {
   "cell_type": "code",
   "execution_count": 12,
   "metadata": {},
   "outputs": [
    {
     "data": {
      "text/html": [
       "<div>\n",
       "<style scoped>\n",
       "    .dataframe tbody tr th:only-of-type {\n",
       "        vertical-align: middle;\n",
       "    }\n",
       "\n",
       "    .dataframe tbody tr th {\n",
       "        vertical-align: top;\n",
       "    }\n",
       "\n",
       "    .dataframe thead th {\n",
       "        text-align: right;\n",
       "    }\n",
       "</style>\n",
       "<table border=\"1\" class=\"dataframe\">\n",
       "  <thead>\n",
       "    <tr style=\"text-align: right;\">\n",
       "      <th></th>\n",
       "      <th>ds</th>\n",
       "      <th>y</th>\n",
       "    </tr>\n",
       "  </thead>\n",
       "  <tbody>\n",
       "    <tr>\n",
       "      <th>0</th>\n",
       "      <td>2018-01-01</td>\n",
       "      <td>678974</td>\n",
       "    </tr>\n",
       "    <tr>\n",
       "      <th>1</th>\n",
       "      <td>2017-01-01</td>\n",
       "      <td>662502</td>\n",
       "    </tr>\n",
       "    <tr>\n",
       "      <th>2</th>\n",
       "      <td>2016-01-01</td>\n",
       "      <td>731978</td>\n",
       "    </tr>\n",
       "    <tr>\n",
       "      <th>3</th>\n",
       "      <td>2015-01-01</td>\n",
       "      <td>808102</td>\n",
       "    </tr>\n",
       "  </tbody>\n",
       "</table>\n",
       "</div>"
      ],
      "text/plain": [
       "          ds       y\n",
       "0 2018-01-01  678974\n",
       "1 2017-01-01  662502\n",
       "2 2016-01-01  731978\n",
       "3 2015-01-01  808102"
      ]
     },
     "execution_count": 12,
     "metadata": {},
     "output_type": "execute_result"
    }
   ],
   "source": [
    "farm_file = 'OAE-process/OAE-พื้นที่เพาะปลูกข้าวโพดทั้งหมด.xlsx'\n",
    "df_farm = pd.read_excel(farm_file)\n",
    "data_in_area(df_havest,'Nan')"
   ]
  },
  {
   "cell_type": "code",
   "execution_count": 13,
   "metadata": {},
   "outputs": [
    {
     "data": {
      "text/html": [
       "<div>\n",
       "<style scoped>\n",
       "    .dataframe tbody tr th:only-of-type {\n",
       "        vertical-align: middle;\n",
       "    }\n",
       "\n",
       "    .dataframe tbody tr th {\n",
       "        vertical-align: top;\n",
       "    }\n",
       "\n",
       "    .dataframe thead th {\n",
       "        text-align: right;\n",
       "    }\n",
       "</style>\n",
       "<table border=\"1\" class=\"dataframe\">\n",
       "  <thead>\n",
       "    <tr style=\"text-align: right;\">\n",
       "      <th></th>\n",
       "      <th>product</th>\n",
       "      <th>key</th>\n",
       "      <th>area</th>\n",
       "      <th>lng</th>\n",
       "      <th>lat</th>\n",
       "      <th>value</th>\n",
       "      <th>unit</th>\n",
       "      <th>type</th>\n",
       "      <th>freq</th>\n",
       "      <th>level</th>\n",
       "    </tr>\n",
       "    <tr>\n",
       "      <th>date</th>\n",
       "      <th></th>\n",
       "      <th></th>\n",
       "      <th></th>\n",
       "      <th></th>\n",
       "      <th></th>\n",
       "      <th></th>\n",
       "      <th></th>\n",
       "      <th></th>\n",
       "      <th></th>\n",
       "      <th></th>\n",
       "    </tr>\n",
       "  </thead>\n",
       "  <tbody>\n",
       "    <tr>\n",
       "      <th>2020-07-01</th>\n",
       "      <td>ข้าวโพดเลี้ยงสัตว์</td>\n",
       "      <td>ราคาข้าวโพดเลี้ยงสัตว์</td>\n",
       "      <td>Thailand</td>\n",
       "      <td>13.758408</td>\n",
       "      <td>100.501938</td>\n",
       "      <td>8.10</td>\n",
       "      <td>บาท/กก.</td>\n",
       "      <td>value</td>\n",
       "      <td>month</td>\n",
       "      <td>local</td>\n",
       "    </tr>\n",
       "    <tr>\n",
       "      <th>2020-06-01</th>\n",
       "      <td>ข้าวโพดเลี้ยงสัตว์</td>\n",
       "      <td>ราคาข้าวโพดเลี้ยงสัตว์</td>\n",
       "      <td>Thailand</td>\n",
       "      <td>13.758408</td>\n",
       "      <td>100.501938</td>\n",
       "      <td>7.92</td>\n",
       "      <td>บาท/กก.</td>\n",
       "      <td>value</td>\n",
       "      <td>month</td>\n",
       "      <td>local</td>\n",
       "    </tr>\n",
       "    <tr>\n",
       "      <th>2020-05-01</th>\n",
       "      <td>ข้าวโพดเลี้ยงสัตว์</td>\n",
       "      <td>ราคาข้าวโพดเลี้ยงสัตว์</td>\n",
       "      <td>Thailand</td>\n",
       "      <td>13.758408</td>\n",
       "      <td>100.501938</td>\n",
       "      <td>7.72</td>\n",
       "      <td>บาท/กก.</td>\n",
       "      <td>value</td>\n",
       "      <td>month</td>\n",
       "      <td>local</td>\n",
       "    </tr>\n",
       "    <tr>\n",
       "      <th>2020-04-01</th>\n",
       "      <td>ข้าวโพดเลี้ยงสัตว์</td>\n",
       "      <td>ราคาข้าวโพดเลี้ยงสัตว์</td>\n",
       "      <td>Thailand</td>\n",
       "      <td>13.758408</td>\n",
       "      <td>100.501938</td>\n",
       "      <td>7.49</td>\n",
       "      <td>บาท/กก.</td>\n",
       "      <td>value</td>\n",
       "      <td>month</td>\n",
       "      <td>local</td>\n",
       "    </tr>\n",
       "    <tr>\n",
       "      <th>2020-03-01</th>\n",
       "      <td>ข้าวโพดเลี้ยงสัตว์</td>\n",
       "      <td>ราคาข้าวโพดเลี้ยงสัตว์</td>\n",
       "      <td>Thailand</td>\n",
       "      <td>13.758408</td>\n",
       "      <td>100.501938</td>\n",
       "      <td>7.42</td>\n",
       "      <td>บาท/กก.</td>\n",
       "      <td>value</td>\n",
       "      <td>month</td>\n",
       "      <td>local</td>\n",
       "    </tr>\n",
       "    <tr>\n",
       "      <th>...</th>\n",
       "      <td>...</td>\n",
       "      <td>...</td>\n",
       "      <td>...</td>\n",
       "      <td>...</td>\n",
       "      <td>...</td>\n",
       "      <td>...</td>\n",
       "      <td>...</td>\n",
       "      <td>...</td>\n",
       "      <td>...</td>\n",
       "      <td>...</td>\n",
       "    </tr>\n",
       "    <tr>\n",
       "      <th>2015-05-01</th>\n",
       "      <td>ข้าวโพดเลี้ยงสัตว์</td>\n",
       "      <td>ราคาข้าวโพดเลี้ยงสัตว์</td>\n",
       "      <td>Thailand</td>\n",
       "      <td>13.758408</td>\n",
       "      <td>100.501938</td>\n",
       "      <td>8.33</td>\n",
       "      <td>บาท/กก.</td>\n",
       "      <td>value</td>\n",
       "      <td>month</td>\n",
       "      <td>local</td>\n",
       "    </tr>\n",
       "    <tr>\n",
       "      <th>2015-04-01</th>\n",
       "      <td>ข้าวโพดเลี้ยงสัตว์</td>\n",
       "      <td>ราคาข้าวโพดเลี้ยงสัตว์</td>\n",
       "      <td>Thailand</td>\n",
       "      <td>13.758408</td>\n",
       "      <td>100.501938</td>\n",
       "      <td>8.11</td>\n",
       "      <td>บาท/กก.</td>\n",
       "      <td>value</td>\n",
       "      <td>month</td>\n",
       "      <td>local</td>\n",
       "    </tr>\n",
       "    <tr>\n",
       "      <th>2015-03-01</th>\n",
       "      <td>ข้าวโพดเลี้ยงสัตว์</td>\n",
       "      <td>ราคาข้าวโพดเลี้ยงสัตว์</td>\n",
       "      <td>Thailand</td>\n",
       "      <td>13.758408</td>\n",
       "      <td>100.501938</td>\n",
       "      <td>8.18</td>\n",
       "      <td>บาท/กก.</td>\n",
       "      <td>value</td>\n",
       "      <td>month</td>\n",
       "      <td>local</td>\n",
       "    </tr>\n",
       "    <tr>\n",
       "      <th>2015-02-01</th>\n",
       "      <td>ข้าวโพดเลี้ยงสัตว์</td>\n",
       "      <td>ราคาข้าวโพดเลี้ยงสัตว์</td>\n",
       "      <td>Thailand</td>\n",
       "      <td>13.758408</td>\n",
       "      <td>100.501938</td>\n",
       "      <td>8.75</td>\n",
       "      <td>บาท/กก.</td>\n",
       "      <td>value</td>\n",
       "      <td>month</td>\n",
       "      <td>local</td>\n",
       "    </tr>\n",
       "    <tr>\n",
       "      <th>2015-01-01</th>\n",
       "      <td>ข้าวโพดเลี้ยงสัตว์</td>\n",
       "      <td>ราคาข้าวโพดเลี้ยงสัตว์</td>\n",
       "      <td>Thailand</td>\n",
       "      <td>13.758408</td>\n",
       "      <td>100.501938</td>\n",
       "      <td>8.59</td>\n",
       "      <td>บาท/กก.</td>\n",
       "      <td>value</td>\n",
       "      <td>month</td>\n",
       "      <td>local</td>\n",
       "    </tr>\n",
       "  </tbody>\n",
       "</table>\n",
       "<p>67 rows × 10 columns</p>\n",
       "</div>"
      ],
      "text/plain": [
       "                       product                     key      area        lng  \\\n",
       "date                                                                          \n",
       "2020-07-01  ข้าวโพดเลี้ยงสัตว์  ราคาข้าวโพดเลี้ยงสัตว์  Thailand  13.758408   \n",
       "2020-06-01  ข้าวโพดเลี้ยงสัตว์  ราคาข้าวโพดเลี้ยงสัตว์  Thailand  13.758408   \n",
       "2020-05-01  ข้าวโพดเลี้ยงสัตว์  ราคาข้าวโพดเลี้ยงสัตว์  Thailand  13.758408   \n",
       "2020-04-01  ข้าวโพดเลี้ยงสัตว์  ราคาข้าวโพดเลี้ยงสัตว์  Thailand  13.758408   \n",
       "2020-03-01  ข้าวโพดเลี้ยงสัตว์  ราคาข้าวโพดเลี้ยงสัตว์  Thailand  13.758408   \n",
       "...                        ...                     ...       ...        ...   \n",
       "2015-05-01  ข้าวโพดเลี้ยงสัตว์  ราคาข้าวโพดเลี้ยงสัตว์  Thailand  13.758408   \n",
       "2015-04-01  ข้าวโพดเลี้ยงสัตว์  ราคาข้าวโพดเลี้ยงสัตว์  Thailand  13.758408   \n",
       "2015-03-01  ข้าวโพดเลี้ยงสัตว์  ราคาข้าวโพดเลี้ยงสัตว์  Thailand  13.758408   \n",
       "2015-02-01  ข้าวโพดเลี้ยงสัตว์  ราคาข้าวโพดเลี้ยงสัตว์  Thailand  13.758408   \n",
       "2015-01-01  ข้าวโพดเลี้ยงสัตว์  ราคาข้าวโพดเลี้ยงสัตว์  Thailand  13.758408   \n",
       "\n",
       "                   lat  value     unit   type   freq  level  \n",
       "date                                                         \n",
       "2020-07-01  100.501938   8.10  บาท/กก.  value  month  local  \n",
       "2020-06-01  100.501938   7.92  บาท/กก.  value  month  local  \n",
       "2020-05-01  100.501938   7.72  บาท/กก.  value  month  local  \n",
       "2020-04-01  100.501938   7.49  บาท/กก.  value  month  local  \n",
       "2020-03-01  100.501938   7.42  บาท/กก.  value  month  local  \n",
       "...                ...    ...      ...    ...    ...    ...  \n",
       "2015-05-01  100.501938   8.33  บาท/กก.  value  month  local  \n",
       "2015-04-01  100.501938   8.11  บาท/กก.  value  month  local  \n",
       "2015-03-01  100.501938   8.18  บาท/กก.  value  month  local  \n",
       "2015-02-01  100.501938   8.75  บาท/กก.  value  month  local  \n",
       "2015-01-01  100.501938   8.59  บาท/กก.  value  month  local  \n",
       "\n",
       "[67 rows x 10 columns]"
      ]
     },
     "execution_count": 13,
     "metadata": {},
     "output_type": "execute_result"
    }
   ],
   "source": [
    "price_file = 'OAE-process/OAE-ราคาข้าวโพดเลี้ยงสัตว์.xlsx'\n",
    "df_price = pd.read_excel(price_file)\n",
    "df_price_spl = df_price.set_index('date')\n",
    "df_price_spl.sort_index(ascending=False)"
   ]
  },
  {
   "cell_type": "markdown",
   "metadata": {},
   "source": [
    "----\n",
    "\n",
    "## Model 1: Prophet default parameters with harvesting season and additional features"
   ]
  },
  {
   "cell_type": "code",
   "execution_count": 14,
   "metadata": {},
   "outputs": [],
   "source": [
    "df_train, df_test = df_nan[12:], df_nan[:12]\n",
    "\n",
    "def add_features(df):\n",
    "    df = df.join(df_cost_spl['value'], on='ds').rename(columns={'value':'cost'})\n",
    "    df = df.join(df_precipitation_nan['y'].rename('precipitation'), on='ds')\n",
    "    df = df.join(df_rainday_nan['y'].rename('rainday'), on='ds')\n",
    "    df = df.join(df_price_spl['value'], on='ds').rename(columns={'value':'price'})\n",
    "    return df.sort_values(by='ds', ascending=False).fillna(method='bfill')\n",
    "    \n",
    "    \n",
    "# df_train = df_train.join(df_cost_spl['value'], on='ds').rename(columns={'value':'cost'})\n",
    "# df_train = df_train.join(df_precipitation_nan['y'], on='ds', rsuffix='_other').rename(columns={'y_other':'precipitation'})\n",
    "# df_train = df_train.join(df_rainday_nan['y'], on='ds', rsuffix='_other').rename(columns={'y_other':'rainday'})\n",
    "# df_train = df_train.join(df_price_spl['value'], on='ds').rename(columns={'value':'price'})\n",
    "df_train = add_features(df_train)\n",
    "df_test = add_features(df_test)"
   ]
  },
  {
   "cell_type": "code",
   "execution_count": 15,
   "metadata": {},
   "outputs": [],
   "source": [
    "# Python\n",
    "def is_harvest_season(ds):\n",
    "    date = pd.to_datetime(ds)\n",
    "    return (date.month >= 10 and date.month <= 12)\n",
    "\n",
    "df_train['on_season'] = df_train['ds'].apply(is_harvest_season)"
   ]
  },
  {
   "cell_type": "code",
   "execution_count": 16,
   "metadata": {},
   "outputs": [
    {
     "data": {
      "text/html": [
       "<div>\n",
       "<style scoped>\n",
       "    .dataframe tbody tr th:only-of-type {\n",
       "        vertical-align: middle;\n",
       "    }\n",
       "\n",
       "    .dataframe tbody tr th {\n",
       "        vertical-align: top;\n",
       "    }\n",
       "\n",
       "    .dataframe thead th {\n",
       "        text-align: right;\n",
       "    }\n",
       "</style>\n",
       "<table border=\"1\" class=\"dataframe\">\n",
       "  <thead>\n",
       "    <tr style=\"text-align: right;\">\n",
       "      <th></th>\n",
       "      <th>ds</th>\n",
       "      <th>y</th>\n",
       "      <th>cost</th>\n",
       "      <th>precipitation</th>\n",
       "      <th>rainday</th>\n",
       "      <th>price</th>\n",
       "      <th>on_season</th>\n",
       "    </tr>\n",
       "  </thead>\n",
       "  <tbody>\n",
       "    <tr>\n",
       "      <th>12</th>\n",
       "      <td>2018-05-01</td>\n",
       "      <td>8546</td>\n",
       "      <td>4421.48</td>\n",
       "      <td>161.53</td>\n",
       "      <td>26.0</td>\n",
       "      <td>8.48</td>\n",
       "      <td>False</td>\n",
       "    </tr>\n",
       "    <tr>\n",
       "      <th>13</th>\n",
       "      <td>2018-04-01</td>\n",
       "      <td>13077</td>\n",
       "      <td>4421.48</td>\n",
       "      <td>138.19</td>\n",
       "      <td>16.0</td>\n",
       "      <td>8.48</td>\n",
       "      <td>False</td>\n",
       "    </tr>\n",
       "    <tr>\n",
       "      <th>14</th>\n",
       "      <td>2018-03-01</td>\n",
       "      <td>1584</td>\n",
       "      <td>4421.48</td>\n",
       "      <td>27.34</td>\n",
       "      <td>10.0</td>\n",
       "      <td>8.30</td>\n",
       "      <td>False</td>\n",
       "    </tr>\n",
       "    <tr>\n",
       "      <th>15</th>\n",
       "      <td>2018-02-01</td>\n",
       "      <td>13844</td>\n",
       "      <td>4421.48</td>\n",
       "      <td>15.98</td>\n",
       "      <td>3.0</td>\n",
       "      <td>8.24</td>\n",
       "      <td>False</td>\n",
       "    </tr>\n",
       "    <tr>\n",
       "      <th>16</th>\n",
       "      <td>2018-01-01</td>\n",
       "      <td>26475</td>\n",
       "      <td>4421.48</td>\n",
       "      <td>13.57</td>\n",
       "      <td>8.0</td>\n",
       "      <td>8.06</td>\n",
       "      <td>False</td>\n",
       "    </tr>\n",
       "  </tbody>\n",
       "</table>\n",
       "</div>"
      ],
      "text/plain": [
       "           ds      y     cost  precipitation  rainday  price  on_season\n",
       "12 2018-05-01   8546  4421.48         161.53     26.0   8.48      False\n",
       "13 2018-04-01  13077  4421.48         138.19     16.0   8.48      False\n",
       "14 2018-03-01   1584  4421.48          27.34     10.0   8.30      False\n",
       "15 2018-02-01  13844  4421.48          15.98      3.0   8.24      False\n",
       "16 2018-01-01  26475  4421.48          13.57      8.0   8.06      False"
      ]
     },
     "execution_count": 16,
     "metadata": {},
     "output_type": "execute_result"
    }
   ],
   "source": [
    "df_train.head()"
   ]
  },
  {
   "cell_type": "code",
   "execution_count": 17,
   "metadata": {},
   "outputs": [
    {
     "name": "stderr",
     "output_type": "stream",
     "text": [
      "INFO:fbprophet:Disabling weekly seasonality. Run prophet with weekly_seasonality=True to override this.\n",
      "INFO:fbprophet:Disabling daily seasonality. Run prophet with daily_seasonality=True to override this.\n"
     ]
    }
   ],
   "source": [
    "model = Prophet(seasonality_prior_scale=0.1, holidays_prior_scale=10)\n",
    "model.add_seasonality(name='monthly_on_season', period=30.5, fourier_order=5, condition_name='on_season')\n",
    "for col in ['cost', 'precipitation', 'rainday', 'price']:\n",
    "    model.add_regressor(col, prior_scale=1, mode='multiplicative')\n",
    "\n",
    "model.fit(df_train)\n",
    "\n",
    "future = model.make_future_dataframe(periods=24, freq=\"MS\")\n",
    "future = add_features(future)\n",
    "future['on_season'] = future['ds'].apply(is_harvest_season)\n",
    "\n",
    "forecast = model.predict(future)\n",
    "forecast.yhat.clip(lower=0, inplace=True)\n",
    "forecast = forecast.sort_values(by='ds', ascending=False).reset_index().drop(columns=['index'])"
   ]
  },
  {
   "cell_type": "code",
   "execution_count": 18,
   "metadata": {},
   "outputs": [
    {
     "name": "stdout",
     "output_type": "stream",
     "text": [
      "RMSE: 19857.395670\n"
     ]
    }
   ],
   "source": [
    "# Sanity check that we are evaluating the forecase at the same date\n",
    "assert(np.all(forecast[12:24]['ds'].to_numpy() == df_test['ds'].to_numpy()))\n",
    "# Calculate root mean squared error.\n",
    "n = len(df_nan['y'])\n",
    "print('RMSE: %f' % np.sqrt(np.mean((forecast[12:24]['yhat'].to_numpy() - df_test['y'].to_numpy())**2)) )"
   ]
  },
  {
   "cell_type": "code",
   "execution_count": 19,
   "metadata": {},
   "outputs": [
    {
     "data": {
      "text/html": [
       "<div>\n",
       "<style scoped>\n",
       "    .dataframe tbody tr th:only-of-type {\n",
       "        vertical-align: middle;\n",
       "    }\n",
       "\n",
       "    .dataframe tbody tr th {\n",
       "        vertical-align: top;\n",
       "    }\n",
       "\n",
       "    .dataframe thead th {\n",
       "        text-align: right;\n",
       "    }\n",
       "</style>\n",
       "<table border=\"1\" class=\"dataframe\">\n",
       "  <thead>\n",
       "    <tr style=\"text-align: right;\">\n",
       "      <th></th>\n",
       "      <th>ds</th>\n",
       "      <th>trend</th>\n",
       "      <th>yhat_lower</th>\n",
       "      <th>yhat_upper</th>\n",
       "      <th>trend_lower</th>\n",
       "      <th>trend_upper</th>\n",
       "      <th>additive_terms</th>\n",
       "      <th>additive_terms_lower</th>\n",
       "      <th>additive_terms_upper</th>\n",
       "      <th>cost</th>\n",
       "      <th>...</th>\n",
       "      <th>price</th>\n",
       "      <th>price_lower</th>\n",
       "      <th>price_upper</th>\n",
       "      <th>rainday</th>\n",
       "      <th>rainday_lower</th>\n",
       "      <th>rainday_upper</th>\n",
       "      <th>yearly</th>\n",
       "      <th>yearly_lower</th>\n",
       "      <th>yearly_upper</th>\n",
       "      <th>yhat</th>\n",
       "    </tr>\n",
       "  </thead>\n",
       "  <tbody>\n",
       "    <tr>\n",
       "      <th>0</th>\n",
       "      <td>2020-05-01</td>\n",
       "      <td>50737.440681</td>\n",
       "      <td>-5533.769681</td>\n",
       "      <td>34301.783412</td>\n",
       "      <td>50737.433953</td>\n",
       "      <td>50737.448731</td>\n",
       "      <td>-23956.641192</td>\n",
       "      <td>-23956.641192</td>\n",
       "      <td>-23956.641192</td>\n",
       "      <td>-0.216223</td>\n",
       "      <td>...</td>\n",
       "      <td>0.035954</td>\n",
       "      <td>0.035954</td>\n",
       "      <td>0.035954</td>\n",
       "      <td>-0.128777</td>\n",
       "      <td>-0.128777</td>\n",
       "      <td>-0.128777</td>\n",
       "      <td>-23956.641192</td>\n",
       "      <td>-23956.641192</td>\n",
       "      <td>-23956.641192</td>\n",
       "      <td>14629.474616</td>\n",
       "    </tr>\n",
       "    <tr>\n",
       "      <th>1</th>\n",
       "      <td>2020-04-01</td>\n",
       "      <td>50362.968314</td>\n",
       "      <td>-4296.763977</td>\n",
       "      <td>36468.252522</td>\n",
       "      <td>50362.962036</td>\n",
       "      <td>50362.975883</td>\n",
       "      <td>-24508.077151</td>\n",
       "      <td>-24508.077151</td>\n",
       "      <td>-24508.077151</td>\n",
       "      <td>-0.216223</td>\n",
       "      <td>...</td>\n",
       "      <td>0.015785</td>\n",
       "      <td>0.015785</td>\n",
       "      <td>0.015785</td>\n",
       "      <td>0.022711</td>\n",
       "      <td>0.022711</td>\n",
       "      <td>0.022711</td>\n",
       "      <td>-24508.077151</td>\n",
       "      <td>-24508.077151</td>\n",
       "      <td>-24508.077151</td>\n",
       "      <td>16023.223402</td>\n",
       "    </tr>\n",
       "    <tr>\n",
       "      <th>2</th>\n",
       "      <td>2020-03-01</td>\n",
       "      <td>49976.013534</td>\n",
       "      <td>-9599.789841</td>\n",
       "      <td>31396.955183</td>\n",
       "      <td>49976.007605</td>\n",
       "      <td>49976.020555</td>\n",
       "      <td>-33682.098208</td>\n",
       "      <td>-33682.098208</td>\n",
       "      <td>-33682.098208</td>\n",
       "      <td>-0.216223</td>\n",
       "      <td>...</td>\n",
       "      <td>0.009646</td>\n",
       "      <td>0.009646</td>\n",
       "      <td>0.009646</td>\n",
       "      <td>0.194398</td>\n",
       "      <td>0.194398</td>\n",
       "      <td>0.194398</td>\n",
       "      <td>-33682.098208</td>\n",
       "      <td>-33682.098208</td>\n",
       "      <td>-33682.098208</td>\n",
       "      <td>10039.671236</td>\n",
       "    </tr>\n",
       "    <tr>\n",
       "      <th>3</th>\n",
       "      <td>2020-02-01</td>\n",
       "      <td>49614.023579</td>\n",
       "      <td>-6550.447813</td>\n",
       "      <td>33016.494742</td>\n",
       "      <td>49614.018118</td>\n",
       "      <td>49614.030148</td>\n",
       "      <td>-33282.265524</td>\n",
       "      <td>-33282.265524</td>\n",
       "      <td>-33282.265524</td>\n",
       "      <td>-0.216223</td>\n",
       "      <td>...</td>\n",
       "      <td>0.013154</td>\n",
       "      <td>0.013154</td>\n",
       "      <td>0.013154</td>\n",
       "      <td>0.261052</td>\n",
       "      <td>0.261052</td>\n",
       "      <td>0.261052</td>\n",
       "      <td>-33282.265524</td>\n",
       "      <td>-33282.265524</td>\n",
       "      <td>-33282.265524</td>\n",
       "      <td>12177.107384</td>\n",
       "    </tr>\n",
       "    <tr>\n",
       "      <th>4</th>\n",
       "      <td>2020-01-01</td>\n",
       "      <td>49227.068800</td>\n",
       "      <td>-788.142397</td>\n",
       "      <td>42801.736555</td>\n",
       "      <td>49227.063732</td>\n",
       "      <td>49227.075058</td>\n",
       "      <td>-24696.048558</td>\n",
       "      <td>-24696.048558</td>\n",
       "      <td>-24696.048558</td>\n",
       "      <td>-0.216223</td>\n",
       "      <td>...</td>\n",
       "      <td>0.043847</td>\n",
       "      <td>0.043847</td>\n",
       "      <td>0.043847</td>\n",
       "      <td>0.198437</td>\n",
       "      <td>0.198437</td>\n",
       "      <td>0.198437</td>\n",
       "      <td>-24696.048558</td>\n",
       "      <td>-24696.048558</td>\n",
       "      <td>-24696.048558</td>\n",
       "      <td>20589.783395</td>\n",
       "    </tr>\n",
       "  </tbody>\n",
       "</table>\n",
       "<p>5 rows × 34 columns</p>\n",
       "</div>"
      ],
      "text/plain": [
       "          ds         trend   yhat_lower    yhat_upper   trend_lower  \\\n",
       "0 2020-05-01  50737.440681 -5533.769681  34301.783412  50737.433953   \n",
       "1 2020-04-01  50362.968314 -4296.763977  36468.252522  50362.962036   \n",
       "2 2020-03-01  49976.013534 -9599.789841  31396.955183  49976.007605   \n",
       "3 2020-02-01  49614.023579 -6550.447813  33016.494742  49614.018118   \n",
       "4 2020-01-01  49227.068800  -788.142397  42801.736555  49227.063732   \n",
       "\n",
       "    trend_upper  additive_terms  additive_terms_lower  additive_terms_upper  \\\n",
       "0  50737.448731   -23956.641192         -23956.641192         -23956.641192   \n",
       "1  50362.975883   -24508.077151         -24508.077151         -24508.077151   \n",
       "2  49976.020555   -33682.098208         -33682.098208         -33682.098208   \n",
       "3  49614.030148   -33282.265524         -33282.265524         -33282.265524   \n",
       "4  49227.075058   -24696.048558         -24696.048558         -24696.048558   \n",
       "\n",
       "       cost  ...     price  price_lower  price_upper   rainday  rainday_lower  \\\n",
       "0 -0.216223  ...  0.035954     0.035954     0.035954 -0.128777      -0.128777   \n",
       "1 -0.216223  ...  0.015785     0.015785     0.015785  0.022711       0.022711   \n",
       "2 -0.216223  ...  0.009646     0.009646     0.009646  0.194398       0.194398   \n",
       "3 -0.216223  ...  0.013154     0.013154     0.013154  0.261052       0.261052   \n",
       "4 -0.216223  ...  0.043847     0.043847     0.043847  0.198437       0.198437   \n",
       "\n",
       "   rainday_upper        yearly  yearly_lower  yearly_upper          yhat  \n",
       "0      -0.128777 -23956.641192 -23956.641192 -23956.641192  14629.474616  \n",
       "1       0.022711 -24508.077151 -24508.077151 -24508.077151  16023.223402  \n",
       "2       0.194398 -33682.098208 -33682.098208 -33682.098208  10039.671236  \n",
       "3       0.261052 -33282.265524 -33282.265524 -33282.265524  12177.107384  \n",
       "4       0.198437 -24696.048558 -24696.048558 -24696.048558  20589.783395  \n",
       "\n",
       "[5 rows x 34 columns]"
      ]
     },
     "execution_count": 19,
     "metadata": {},
     "output_type": "execute_result"
    }
   ],
   "source": [
    "forecast.head()"
   ]
  },
  {
   "cell_type": "code",
   "execution_count": 20,
   "metadata": {},
   "outputs": [
    {
     "data": {
      "application/vnd.plotly.v1+json": {
       "config": {
        "linkText": "Export to plot.ly",
        "plotlyServerURL": "https://plot.ly",
        "showLink": false
       },
       "data": [
        {
         "name": "train",
         "type": "scatter",
         "x": [
          "2018-05-01T00:00:00",
          "2018-04-01T00:00:00",
          "2018-03-01T00:00:00",
          "2018-02-01T00:00:00",
          "2018-01-01T00:00:00",
          "2017-12-01T00:00:00",
          "2017-11-01T00:00:00",
          "2017-10-01T00:00:00",
          "2017-09-01T00:00:00",
          "2017-08-01T00:00:00",
          "2017-07-01T00:00:00",
          "2017-06-01T00:00:00",
          "2017-05-01T00:00:00",
          "2017-04-01T00:00:00",
          "2017-03-01T00:00:00",
          "2017-02-01T00:00:00",
          "2017-01-01T00:00:00",
          "2016-12-01T00:00:00",
          "2016-11-01T00:00:00",
          "2016-10-01T00:00:00",
          "2016-09-01T00:00:00",
          "2016-08-01T00:00:00",
          "2016-07-01T00:00:00",
          "2016-06-01T00:00:00",
          "2016-05-01T00:00:00",
          "2016-04-01T00:00:00",
          "2016-03-01T00:00:00",
          "2016-02-01T00:00:00",
          "2016-01-01T00:00:00",
          "2015-12-01T00:00:00",
          "2015-11-01T00:00:00",
          "2015-10-01T00:00:00",
          "2015-09-01T00:00:00",
          "2015-08-01T00:00:00",
          "2015-07-01T00:00:00",
          "2015-06-01T00:00:00",
          "2015-05-01T00:00:00",
          "2015-04-01T00:00:00",
          "2015-03-01T00:00:00",
          "2015-02-01T00:00:00",
          "2015-01-01T00:00:00"
         ],
         "y": [
          8546,
          13077,
          1584,
          13844,
          26475,
          92563,
          176920,
          95821,
          8496,
          2916,
          4415,
          717,
          4925,
          9258,
          2627,
          174,
          7524,
          126010,
          188102,
          95616,
          13740,
          3826,
          0,
          0,
          8112,
          6015,
          768,
          256,
          2485,
          60930,
          320066,
          70594,
          5798,
          138,
          184,
          0,
          1585,
          19287,
          7079,
          1195,
          11233
         ]
        },
        {
         "name": "yhat",
         "type": "scatter",
         "x": [
          "2020-05-01T00:00:00",
          "2020-04-01T00:00:00",
          "2020-03-01T00:00:00",
          "2020-02-01T00:00:00",
          "2020-01-01T00:00:00",
          "2019-12-01T00:00:00",
          "2019-11-01T00:00:00",
          "2019-10-01T00:00:00",
          "2019-09-01T00:00:00",
          "2019-08-01T00:00:00",
          "2019-07-01T00:00:00",
          "2019-06-01T00:00:00",
          "2019-05-01T00:00:00",
          "2019-04-01T00:00:00",
          "2019-03-01T00:00:00",
          "2019-02-01T00:00:00",
          "2019-01-01T00:00:00",
          "2018-12-01T00:00:00",
          "2018-11-01T00:00:00",
          "2018-10-01T00:00:00",
          "2018-09-01T00:00:00",
          "2018-08-01T00:00:00",
          "2018-07-01T00:00:00",
          "2018-06-01T00:00:00",
          "2018-05-01T00:00:00",
          "2018-04-01T00:00:00",
          "2018-03-01T00:00:00",
          "2018-02-01T00:00:00",
          "2018-01-01T00:00:00",
          "2017-12-01T00:00:00",
          "2017-11-01T00:00:00",
          "2017-10-01T00:00:00",
          "2017-09-01T00:00:00",
          "2017-08-01T00:00:00",
          "2017-07-01T00:00:00",
          "2017-06-01T00:00:00",
          "2017-05-01T00:00:00",
          "2017-04-01T00:00:00",
          "2017-03-01T00:00:00",
          "2017-02-01T00:00:00",
          "2017-01-01T00:00:00",
          "2016-12-01T00:00:00",
          "2016-11-01T00:00:00",
          "2016-10-01T00:00:00",
          "2016-09-01T00:00:00",
          "2016-08-01T00:00:00",
          "2016-07-01T00:00:00",
          "2016-06-01T00:00:00",
          "2016-05-01T00:00:00",
          "2016-04-01T00:00:00",
          "2016-03-01T00:00:00",
          "2016-02-01T00:00:00",
          "2016-01-01T00:00:00",
          "2015-12-01T00:00:00",
          "2015-11-01T00:00:00",
          "2015-10-01T00:00:00",
          "2015-09-01T00:00:00",
          "2015-08-01T00:00:00",
          "2015-07-01T00:00:00",
          "2015-06-01T00:00:00",
          "2015-05-01T00:00:00",
          "2015-04-01T00:00:00",
          "2015-03-01T00:00:00",
          "2015-02-01T00:00:00",
          "2015-01-01T00:00:00"
         ],
         "y": [
          14629.474616089818,
          16023.223402406984,
          10039.671235608417,
          12177.107384444083,
          20589.783395032562,
          112498.63763097615,
          233630.39074942406,
          112987.85831102493,
          11767.322525721607,
          16149.896919365896,
          0,
          0,
          11238.2233544406,
          13013.392462207583,
          7561.234641130504,
          4856.451133904098,
          18284.9499276484,
          96984.2809861215,
          211168.6063987445,
          86775.41524915691,
          10274.656222721933,
          0,
          6559.863563298706,
          7638.233078243611,
          8578.913440241347,
          17431.073878627423,
          5834.749332403018,
          7793.861372745647,
          13947.829493358466,
          84849.07596060852,
          203777.99703957554,
          75995.99291402762,
          9332.08398848525,
          2385.2665303454887,
          3018.695202043473,
          0,
          5029.724455703363,
          9155.165221846662,
          3136.2673398191764,
          4569.5261603763065,
          11010.16143371019,
          101121.35388649296,
          227758.46575443924,
          87958.9252969064,
          7290.5474211832625,
          4424.122264443697,
          4485.338964939456,
          1485.5214329825249,
          6875.431554307557,
          9118.247037520006,
          830.6332732320807,
          724.3307422176076,
          9011.628460465014,
          93000.141443539,
          249387.8960359113,
          95263.53683404713,
          11475.297172604704,
          1042.6620841526783,
          0,
          1206.7429496985606,
          4555.081748378994,
          13582.729894474909,
          3549.0156379059445,
          2884.8103353217375,
          13417.928087786648
         ]
        },
        {
         "fill": "tonexty",
         "mode": "none",
         "name": "upper",
         "type": "scatter",
         "x": [
          "2020-05-01T00:00:00",
          "2020-04-01T00:00:00",
          "2020-03-01T00:00:00",
          "2020-02-01T00:00:00",
          "2020-01-01T00:00:00",
          "2019-12-01T00:00:00",
          "2019-11-01T00:00:00",
          "2019-10-01T00:00:00",
          "2019-09-01T00:00:00",
          "2019-08-01T00:00:00",
          "2019-07-01T00:00:00",
          "2019-06-01T00:00:00",
          "2019-05-01T00:00:00",
          "2019-04-01T00:00:00",
          "2019-03-01T00:00:00",
          "2019-02-01T00:00:00",
          "2019-01-01T00:00:00",
          "2018-12-01T00:00:00",
          "2018-11-01T00:00:00",
          "2018-10-01T00:00:00",
          "2018-09-01T00:00:00",
          "2018-08-01T00:00:00",
          "2018-07-01T00:00:00",
          "2018-06-01T00:00:00",
          "2018-05-01T00:00:00",
          "2018-04-01T00:00:00",
          "2018-03-01T00:00:00",
          "2018-02-01T00:00:00",
          "2018-01-01T00:00:00",
          "2017-12-01T00:00:00",
          "2017-11-01T00:00:00",
          "2017-10-01T00:00:00",
          "2017-09-01T00:00:00",
          "2017-08-01T00:00:00",
          "2017-07-01T00:00:00",
          "2017-06-01T00:00:00",
          "2017-05-01T00:00:00",
          "2017-04-01T00:00:00",
          "2017-03-01T00:00:00",
          "2017-02-01T00:00:00",
          "2017-01-01T00:00:00",
          "2016-12-01T00:00:00",
          "2016-11-01T00:00:00",
          "2016-10-01T00:00:00",
          "2016-09-01T00:00:00",
          "2016-08-01T00:00:00",
          "2016-07-01T00:00:00",
          "2016-06-01T00:00:00",
          "2016-05-01T00:00:00",
          "2016-04-01T00:00:00",
          "2016-03-01T00:00:00",
          "2016-02-01T00:00:00",
          "2016-01-01T00:00:00",
          "2015-12-01T00:00:00",
          "2015-11-01T00:00:00",
          "2015-10-01T00:00:00",
          "2015-09-01T00:00:00",
          "2015-08-01T00:00:00",
          "2015-07-01T00:00:00",
          "2015-06-01T00:00:00",
          "2015-05-01T00:00:00",
          "2015-04-01T00:00:00",
          "2015-03-01T00:00:00",
          "2015-02-01T00:00:00",
          "2015-01-01T00:00:00"
         ],
         "y": [
          34301.783412420045,
          36468.252521960036,
          31396.955182584483,
          33016.494742015144,
          42801.736554642885,
          131941.6464581372,
          253627.12494404684,
          133563.80220304118,
          30912.916549152564,
          38227.81375777924,
          18547.24823081448,
          17330.101162598705,
          32087.92256042629,
          33587.90008332756,
          28414.218853849598,
          24738.7356429164,
          38500.39968971986,
          117295.91880509163,
          231952.29355092614,
          108022.48927036923,
          32137.47456068082,
          20131.738882230067,
          28505.180605752,
          27952.243284853877,
          30393.22550868629,
          37910.126136461055,
          24882.643844724113,
          27509.54612007789,
          33891.25954545899,
          104548.34915224026,
          224874.23239428952,
          97461.84361160893,
          31013.65657419364,
          21684.642020803032,
          24414.416676389326,
          19414.684837717672,
          26069.17561264828,
          30240.77940534665,
          23999.795257050693,
          24931.28784763554,
          32244.90323845081,
          123266.55476504224,
          247895.67780358685,
          108226.19003850207,
          27581.93838541457,
          23945.206077148643,
          24758.55778612501,
          21895.25762732953,
          26252.041483987985,
          30668.08908729787,
          22587.53844179488,
          22108.723754273098,
          28332.259983588843,
          114036.21678484467,
          269078.6940859738,
          115460.4514692372,
          31099.14074302484,
          20529.06745598644,
          19058.449070990642,
          22208.574959285572,
          26357.66784202423,
          34200.17521207665,
          24492.133721451668,
          22833.674758958045,
          32735.26773932957
         ]
        },
        {
         "fill": "tonexty",
         "mode": "none",
         "name": "lower",
         "type": "scatter",
         "x": [
          "2020-05-01T00:00:00",
          "2020-04-01T00:00:00",
          "2020-03-01T00:00:00",
          "2020-02-01T00:00:00",
          "2020-01-01T00:00:00",
          "2019-12-01T00:00:00",
          "2019-11-01T00:00:00",
          "2019-10-01T00:00:00",
          "2019-09-01T00:00:00",
          "2019-08-01T00:00:00",
          "2019-07-01T00:00:00",
          "2019-06-01T00:00:00",
          "2019-05-01T00:00:00",
          "2019-04-01T00:00:00",
          "2019-03-01T00:00:00",
          "2019-02-01T00:00:00",
          "2019-01-01T00:00:00",
          "2018-12-01T00:00:00",
          "2018-11-01T00:00:00",
          "2018-10-01T00:00:00",
          "2018-09-01T00:00:00",
          "2018-08-01T00:00:00",
          "2018-07-01T00:00:00",
          "2018-06-01T00:00:00",
          "2018-05-01T00:00:00",
          "2018-04-01T00:00:00",
          "2018-03-01T00:00:00",
          "2018-02-01T00:00:00",
          "2018-01-01T00:00:00",
          "2017-12-01T00:00:00",
          "2017-11-01T00:00:00",
          "2017-10-01T00:00:00",
          "2017-09-01T00:00:00",
          "2017-08-01T00:00:00",
          "2017-07-01T00:00:00",
          "2017-06-01T00:00:00",
          "2017-05-01T00:00:00",
          "2017-04-01T00:00:00",
          "2017-03-01T00:00:00",
          "2017-02-01T00:00:00",
          "2017-01-01T00:00:00",
          "2016-12-01T00:00:00",
          "2016-11-01T00:00:00",
          "2016-10-01T00:00:00",
          "2016-09-01T00:00:00",
          "2016-08-01T00:00:00",
          "2016-07-01T00:00:00",
          "2016-06-01T00:00:00",
          "2016-05-01T00:00:00",
          "2016-04-01T00:00:00",
          "2016-03-01T00:00:00",
          "2016-02-01T00:00:00",
          "2016-01-01T00:00:00",
          "2015-12-01T00:00:00",
          "2015-11-01T00:00:00",
          "2015-10-01T00:00:00",
          "2015-09-01T00:00:00",
          "2015-08-01T00:00:00",
          "2015-07-01T00:00:00",
          "2015-06-01T00:00:00",
          "2015-05-01T00:00:00",
          "2015-04-01T00:00:00",
          "2015-03-01T00:00:00",
          "2015-02-01T00:00:00",
          "2015-01-01T00:00:00"
         ],
         "y": [
          -5533.7696808186865,
          -4296.763977089271,
          -9599.789840891934,
          -6550.447812868359,
          -788.1423974735728,
          91630.77073558791,
          213775.8014976752,
          93041.28181451482,
          -8074.635895139274,
          -4614.561665334039,
          -21615.050271998247,
          -21294.360426394,
          -8506.206337934495,
          -7541.551161194366,
          -14572.16659973883,
          -14185.196561261757,
          -1362.34318429394,
          75388.47156485311,
          191206.3229949674,
          65646.07177568646,
          -10253.730353485766,
          -20048.768877979433,
          -13644.04435466056,
          -13496.102811484407,
          -11548.78485583875,
          -3486.055779049865,
          -14052.465692062056,
          -13633.435798692859,
          -6325.630296099278,
          63002.957347205025,
          182057.8530128843,
          54426.554662332135,
          -11391.209573437049,
          -18070.6460105301,
          -17314.532261864857,
          -18938.08279063871,
          -14671.033067098486,
          -10332.412508916394,
          -17935.83488436931,
          -15560.880197581377,
          -10976.598149580446,
          81471.49475939551,
          206633.80317304534,
          66681.20116879302,
          -14029.334973849891,
          -15956.224630518129,
          -13837.308579384377,
          -18245.696529164605,
          -12873.483528129967,
          -11401.700176299122,
          -20033.88409128768,
          -19494.382091983854,
          -11444.265714704485,
          74165.84615450638,
          227552.9707468778,
          75184.48019795101,
          -9054.274383157599,
          -19204.017985182843,
          -21567.546158181605,
          -19689.444938052166,
          -15251.38819001018,
          -6317.934316158457,
          -16475.448145630686,
          -18021.775798557497,
          -7384.695932795645
         ]
        },
        {
         "name": "Trend",
         "type": "scatter",
         "x": [
          "2020-05-01T00:00:00",
          "2020-04-01T00:00:00",
          "2020-03-01T00:00:00",
          "2020-02-01T00:00:00",
          "2020-01-01T00:00:00",
          "2019-12-01T00:00:00",
          "2019-11-01T00:00:00",
          "2019-10-01T00:00:00",
          "2019-09-01T00:00:00",
          "2019-08-01T00:00:00",
          "2019-07-01T00:00:00",
          "2019-06-01T00:00:00",
          "2019-05-01T00:00:00",
          "2019-04-01T00:00:00",
          "2019-03-01T00:00:00",
          "2019-02-01T00:00:00",
          "2019-01-01T00:00:00",
          "2018-12-01T00:00:00",
          "2018-11-01T00:00:00",
          "2018-10-01T00:00:00",
          "2018-09-01T00:00:00",
          "2018-08-01T00:00:00",
          "2018-07-01T00:00:00",
          "2018-06-01T00:00:00",
          "2018-05-01T00:00:00",
          "2018-04-01T00:00:00",
          "2018-03-01T00:00:00",
          "2018-02-01T00:00:00",
          "2018-01-01T00:00:00",
          "2017-12-01T00:00:00",
          "2017-11-01T00:00:00",
          "2017-10-01T00:00:00",
          "2017-09-01T00:00:00",
          "2017-08-01T00:00:00",
          "2017-07-01T00:00:00",
          "2017-06-01T00:00:00",
          "2017-05-01T00:00:00",
          "2017-04-01T00:00:00",
          "2017-03-01T00:00:00",
          "2017-02-01T00:00:00",
          "2017-01-01T00:00:00",
          "2016-12-01T00:00:00",
          "2016-11-01T00:00:00",
          "2016-10-01T00:00:00",
          "2016-09-01T00:00:00",
          "2016-08-01T00:00:00",
          "2016-07-01T00:00:00",
          "2016-06-01T00:00:00",
          "2016-05-01T00:00:00",
          "2016-04-01T00:00:00",
          "2016-03-01T00:00:00",
          "2016-02-01T00:00:00",
          "2016-01-01T00:00:00",
          "2015-12-01T00:00:00",
          "2015-11-01T00:00:00",
          "2015-10-01T00:00:00",
          "2015-09-01T00:00:00",
          "2015-08-01T00:00:00",
          "2015-07-01T00:00:00",
          "2015-06-01T00:00:00",
          "2015-05-01T00:00:00",
          "2015-04-01T00:00:00",
          "2015-03-01T00:00:00",
          "2015-02-01T00:00:00",
          "2015-01-01T00:00:00"
         ],
         "y": [
          50737.44068120743,
          50362.96831385589,
          49976.01353425931,
          49614.02357915283,
          49227.06879955624,
          48840.114019959656,
          48465.64165260812,
          48078.68687301154,
          47704.214505660006,
          47317.25972606342,
          46930.30494646684,
          46555.832579115304,
          46168.87779951872,
          45794.405432167194,
          45407.4506525706,
          45057.94310970917,
          44670.98833011258,
          44284.033550516,
          43909.561183164464,
          43522.60640356789,
          43148.13403621635,
          42761.179256619755,
          42374.22447702318,
          41999.75210967164,
          41612.79733007506,
          41238.32496272353,
          40851.370183126935,
          40501.86264026551,
          40114.90786066892,
          39727.95308107234,
          39353.480713720804,
          38966.52593412422,
          38592.05356677269,
          38205.0987871761,
          37818.14400840203,
          37443.67164180165,
          37056.71686300148,
          36682.244496420666,
          36295.289718143846,
          35945.78217629774,
          35558.827397744775,
          35171.87261996454,
          34797.40025437077,
          34410.445477014415,
          34035.97311172385,
          33649.018334582004,
          33262.06355721596,
          32887.59119202301,
          32500.63641404288,
          32126.16404897726,
          31739.209272129447,
          31377.219320053,
          30990.264543695415,
          30603.309767104518,
          30228.837402045054,
          29841.88262477298,
          29467.41026000977,
          29080.45548308778,
          28693.500705737442,
          28319.028340742778,
          27932.073564307215,
          27557.601200555462,
          27170.646424678653,
          26821.138885665365,
          26434.184110988495
         ]
        },
        {
         "name": "test",
         "type": "scatter",
         "x": [
          "2019-05-01T00:00:00",
          "2019-04-01T00:00:00",
          "2019-03-01T00:00:00",
          "2019-02-01T00:00:00",
          "2019-01-01T00:00:00",
          "2018-12-01T00:00:00",
          "2018-11-01T00:00:00",
          "2018-10-01T00:00:00",
          "2018-09-01T00:00:00",
          "2018-08-01T00:00:00",
          "2018-07-01T00:00:00",
          "2018-06-01T00:00:00"
         ],
         "y": [
          6305,
          12230,
          4105,
          8387,
          30758,
          132212,
          177040,
          43070,
          22393,
          6864,
          6735,
          11754
         ]
        }
       ],
       "layout": {
        "autosize": true,
        "template": {
         "data": {
          "bar": [
           {
            "error_x": {
             "color": "#2a3f5f"
            },
            "error_y": {
             "color": "#2a3f5f"
            },
            "marker": {
             "line": {
              "color": "#E5ECF6",
              "width": 0.5
             }
            },
            "type": "bar"
           }
          ],
          "barpolar": [
           {
            "marker": {
             "line": {
              "color": "#E5ECF6",
              "width": 0.5
             }
            },
            "type": "barpolar"
           }
          ],
          "carpet": [
           {
            "aaxis": {
             "endlinecolor": "#2a3f5f",
             "gridcolor": "white",
             "linecolor": "white",
             "minorgridcolor": "white",
             "startlinecolor": "#2a3f5f"
            },
            "baxis": {
             "endlinecolor": "#2a3f5f",
             "gridcolor": "white",
             "linecolor": "white",
             "minorgridcolor": "white",
             "startlinecolor": "#2a3f5f"
            },
            "type": "carpet"
           }
          ],
          "choropleth": [
           {
            "colorbar": {
             "outlinewidth": 0,
             "ticks": ""
            },
            "type": "choropleth"
           }
          ],
          "contour": [
           {
            "colorbar": {
             "outlinewidth": 0,
             "ticks": ""
            },
            "colorscale": [
             [
              0,
              "#0d0887"
             ],
             [
              0.1111111111111111,
              "#46039f"
             ],
             [
              0.2222222222222222,
              "#7201a8"
             ],
             [
              0.3333333333333333,
              "#9c179e"
             ],
             [
              0.4444444444444444,
              "#bd3786"
             ],
             [
              0.5555555555555556,
              "#d8576b"
             ],
             [
              0.6666666666666666,
              "#ed7953"
             ],
             [
              0.7777777777777778,
              "#fb9f3a"
             ],
             [
              0.8888888888888888,
              "#fdca26"
             ],
             [
              1,
              "#f0f921"
             ]
            ],
            "type": "contour"
           }
          ],
          "contourcarpet": [
           {
            "colorbar": {
             "outlinewidth": 0,
             "ticks": ""
            },
            "type": "contourcarpet"
           }
          ],
          "heatmap": [
           {
            "colorbar": {
             "outlinewidth": 0,
             "ticks": ""
            },
            "colorscale": [
             [
              0,
              "#0d0887"
             ],
             [
              0.1111111111111111,
              "#46039f"
             ],
             [
              0.2222222222222222,
              "#7201a8"
             ],
             [
              0.3333333333333333,
              "#9c179e"
             ],
             [
              0.4444444444444444,
              "#bd3786"
             ],
             [
              0.5555555555555556,
              "#d8576b"
             ],
             [
              0.6666666666666666,
              "#ed7953"
             ],
             [
              0.7777777777777778,
              "#fb9f3a"
             ],
             [
              0.8888888888888888,
              "#fdca26"
             ],
             [
              1,
              "#f0f921"
             ]
            ],
            "type": "heatmap"
           }
          ],
          "heatmapgl": [
           {
            "colorbar": {
             "outlinewidth": 0,
             "ticks": ""
            },
            "colorscale": [
             [
              0,
              "#0d0887"
             ],
             [
              0.1111111111111111,
              "#46039f"
             ],
             [
              0.2222222222222222,
              "#7201a8"
             ],
             [
              0.3333333333333333,
              "#9c179e"
             ],
             [
              0.4444444444444444,
              "#bd3786"
             ],
             [
              0.5555555555555556,
              "#d8576b"
             ],
             [
              0.6666666666666666,
              "#ed7953"
             ],
             [
              0.7777777777777778,
              "#fb9f3a"
             ],
             [
              0.8888888888888888,
              "#fdca26"
             ],
             [
              1,
              "#f0f921"
             ]
            ],
            "type": "heatmapgl"
           }
          ],
          "histogram": [
           {
            "marker": {
             "colorbar": {
              "outlinewidth": 0,
              "ticks": ""
             }
            },
            "type": "histogram"
           }
          ],
          "histogram2d": [
           {
            "colorbar": {
             "outlinewidth": 0,
             "ticks": ""
            },
            "colorscale": [
             [
              0,
              "#0d0887"
             ],
             [
              0.1111111111111111,
              "#46039f"
             ],
             [
              0.2222222222222222,
              "#7201a8"
             ],
             [
              0.3333333333333333,
              "#9c179e"
             ],
             [
              0.4444444444444444,
              "#bd3786"
             ],
             [
              0.5555555555555556,
              "#d8576b"
             ],
             [
              0.6666666666666666,
              "#ed7953"
             ],
             [
              0.7777777777777778,
              "#fb9f3a"
             ],
             [
              0.8888888888888888,
              "#fdca26"
             ],
             [
              1,
              "#f0f921"
             ]
            ],
            "type": "histogram2d"
           }
          ],
          "histogram2dcontour": [
           {
            "colorbar": {
             "outlinewidth": 0,
             "ticks": ""
            },
            "colorscale": [
             [
              0,
              "#0d0887"
             ],
             [
              0.1111111111111111,
              "#46039f"
             ],
             [
              0.2222222222222222,
              "#7201a8"
             ],
             [
              0.3333333333333333,
              "#9c179e"
             ],
             [
              0.4444444444444444,
              "#bd3786"
             ],
             [
              0.5555555555555556,
              "#d8576b"
             ],
             [
              0.6666666666666666,
              "#ed7953"
             ],
             [
              0.7777777777777778,
              "#fb9f3a"
             ],
             [
              0.8888888888888888,
              "#fdca26"
             ],
             [
              1,
              "#f0f921"
             ]
            ],
            "type": "histogram2dcontour"
           }
          ],
          "mesh3d": [
           {
            "colorbar": {
             "outlinewidth": 0,
             "ticks": ""
            },
            "type": "mesh3d"
           }
          ],
          "parcoords": [
           {
            "line": {
             "colorbar": {
              "outlinewidth": 0,
              "ticks": ""
             }
            },
            "type": "parcoords"
           }
          ],
          "pie": [
           {
            "automargin": true,
            "type": "pie"
           }
          ],
          "scatter": [
           {
            "marker": {
             "colorbar": {
              "outlinewidth": 0,
              "ticks": ""
             }
            },
            "type": "scatter"
           }
          ],
          "scatter3d": [
           {
            "line": {
             "colorbar": {
              "outlinewidth": 0,
              "ticks": ""
             }
            },
            "marker": {
             "colorbar": {
              "outlinewidth": 0,
              "ticks": ""
             }
            },
            "type": "scatter3d"
           }
          ],
          "scattercarpet": [
           {
            "marker": {
             "colorbar": {
              "outlinewidth": 0,
              "ticks": ""
             }
            },
            "type": "scattercarpet"
           }
          ],
          "scattergeo": [
           {
            "marker": {
             "colorbar": {
              "outlinewidth": 0,
              "ticks": ""
             }
            },
            "type": "scattergeo"
           }
          ],
          "scattergl": [
           {
            "marker": {
             "colorbar": {
              "outlinewidth": 0,
              "ticks": ""
             }
            },
            "type": "scattergl"
           }
          ],
          "scattermapbox": [
           {
            "marker": {
             "colorbar": {
              "outlinewidth": 0,
              "ticks": ""
             }
            },
            "type": "scattermapbox"
           }
          ],
          "scatterpolar": [
           {
            "marker": {
             "colorbar": {
              "outlinewidth": 0,
              "ticks": ""
             }
            },
            "type": "scatterpolar"
           }
          ],
          "scatterpolargl": [
           {
            "marker": {
             "colorbar": {
              "outlinewidth": 0,
              "ticks": ""
             }
            },
            "type": "scatterpolargl"
           }
          ],
          "scatterternary": [
           {
            "marker": {
             "colorbar": {
              "outlinewidth": 0,
              "ticks": ""
             }
            },
            "type": "scatterternary"
           }
          ],
          "surface": [
           {
            "colorbar": {
             "outlinewidth": 0,
             "ticks": ""
            },
            "colorscale": [
             [
              0,
              "#0d0887"
             ],
             [
              0.1111111111111111,
              "#46039f"
             ],
             [
              0.2222222222222222,
              "#7201a8"
             ],
             [
              0.3333333333333333,
              "#9c179e"
             ],
             [
              0.4444444444444444,
              "#bd3786"
             ],
             [
              0.5555555555555556,
              "#d8576b"
             ],
             [
              0.6666666666666666,
              "#ed7953"
             ],
             [
              0.7777777777777778,
              "#fb9f3a"
             ],
             [
              0.8888888888888888,
              "#fdca26"
             ],
             [
              1,
              "#f0f921"
             ]
            ],
            "type": "surface"
           }
          ],
          "table": [
           {
            "cells": {
             "fill": {
              "color": "#EBF0F8"
             },
             "line": {
              "color": "white"
             }
            },
            "header": {
             "fill": {
              "color": "#C8D4E3"
             },
             "line": {
              "color": "white"
             }
            },
            "type": "table"
           }
          ]
         },
         "layout": {
          "annotationdefaults": {
           "arrowcolor": "#2a3f5f",
           "arrowhead": 0,
           "arrowwidth": 1
          },
          "coloraxis": {
           "colorbar": {
            "outlinewidth": 0,
            "ticks": ""
           }
          },
          "colorscale": {
           "diverging": [
            [
             0,
             "#8e0152"
            ],
            [
             0.1,
             "#c51b7d"
            ],
            [
             0.2,
             "#de77ae"
            ],
            [
             0.3,
             "#f1b6da"
            ],
            [
             0.4,
             "#fde0ef"
            ],
            [
             0.5,
             "#f7f7f7"
            ],
            [
             0.6,
             "#e6f5d0"
            ],
            [
             0.7,
             "#b8e186"
            ],
            [
             0.8,
             "#7fbc41"
            ],
            [
             0.9,
             "#4d9221"
            ],
            [
             1,
             "#276419"
            ]
           ],
           "sequential": [
            [
             0,
             "#0d0887"
            ],
            [
             0.1111111111111111,
             "#46039f"
            ],
            [
             0.2222222222222222,
             "#7201a8"
            ],
            [
             0.3333333333333333,
             "#9c179e"
            ],
            [
             0.4444444444444444,
             "#bd3786"
            ],
            [
             0.5555555555555556,
             "#d8576b"
            ],
            [
             0.6666666666666666,
             "#ed7953"
            ],
            [
             0.7777777777777778,
             "#fb9f3a"
            ],
            [
             0.8888888888888888,
             "#fdca26"
            ],
            [
             1,
             "#f0f921"
            ]
           ],
           "sequentialminus": [
            [
             0,
             "#0d0887"
            ],
            [
             0.1111111111111111,
             "#46039f"
            ],
            [
             0.2222222222222222,
             "#7201a8"
            ],
            [
             0.3333333333333333,
             "#9c179e"
            ],
            [
             0.4444444444444444,
             "#bd3786"
            ],
            [
             0.5555555555555556,
             "#d8576b"
            ],
            [
             0.6666666666666666,
             "#ed7953"
            ],
            [
             0.7777777777777778,
             "#fb9f3a"
            ],
            [
             0.8888888888888888,
             "#fdca26"
            ],
            [
             1,
             "#f0f921"
            ]
           ]
          },
          "colorway": [
           "#636efa",
           "#EF553B",
           "#00cc96",
           "#ab63fa",
           "#FFA15A",
           "#19d3f3",
           "#FF6692",
           "#B6E880",
           "#FF97FF",
           "#FECB52"
          ],
          "font": {
           "color": "#2a3f5f"
          },
          "geo": {
           "bgcolor": "white",
           "lakecolor": "white",
           "landcolor": "#E5ECF6",
           "showlakes": true,
           "showland": true,
           "subunitcolor": "white"
          },
          "hoverlabel": {
           "align": "left"
          },
          "hovermode": "closest",
          "mapbox": {
           "style": "light"
          },
          "paper_bgcolor": "white",
          "plot_bgcolor": "#E5ECF6",
          "polar": {
           "angularaxis": {
            "gridcolor": "white",
            "linecolor": "white",
            "ticks": ""
           },
           "bgcolor": "#E5ECF6",
           "radialaxis": {
            "gridcolor": "white",
            "linecolor": "white",
            "ticks": ""
           }
          },
          "scene": {
           "xaxis": {
            "backgroundcolor": "#E5ECF6",
            "gridcolor": "white",
            "gridwidth": 2,
            "linecolor": "white",
            "showbackground": true,
            "ticks": "",
            "zerolinecolor": "white"
           },
           "yaxis": {
            "backgroundcolor": "#E5ECF6",
            "gridcolor": "white",
            "gridwidth": 2,
            "linecolor": "white",
            "showbackground": true,
            "ticks": "",
            "zerolinecolor": "white"
           },
           "zaxis": {
            "backgroundcolor": "#E5ECF6",
            "gridcolor": "white",
            "gridwidth": 2,
            "linecolor": "white",
            "showbackground": true,
            "ticks": "",
            "zerolinecolor": "white"
           }
          },
          "shapedefaults": {
           "line": {
            "color": "#2a3f5f"
           }
          },
          "ternary": {
           "aaxis": {
            "gridcolor": "white",
            "linecolor": "white",
            "ticks": ""
           },
           "baxis": {
            "gridcolor": "white",
            "linecolor": "white",
            "ticks": ""
           },
           "bgcolor": "#E5ECF6",
           "caxis": {
            "gridcolor": "white",
            "linecolor": "white",
            "ticks": ""
           }
          },
          "title": {
           "x": 0.05
          },
          "xaxis": {
           "automargin": true,
           "gridcolor": "white",
           "linecolor": "white",
           "ticks": "",
           "title": {
            "standoff": 15
           },
           "zerolinecolor": "white",
           "zerolinewidth": 2
          },
          "yaxis": {
           "automargin": true,
           "gridcolor": "white",
           "linecolor": "white",
           "ticks": "",
           "title": {
            "standoff": 15
           },
           "zerolinecolor": "white",
           "zerolinewidth": 2
          }
         }
        },
        "xaxis": {
         "autorange": true,
         "range": [
          "2015-01-01",
          "2020-05-01"
         ],
         "type": "date"
        },
        "yaxis": {
         "autorange": true,
         "range": [
          -40597.330842664815,
          339048.2805706666
         ],
         "type": "linear"
        }
       }
      },
      "image/png": "[encoded data removed]",
      "text/html": [
       "<div>                            <div id=\"2e26dd14-7a19-4eda-bd12-9894a595234d\" class=\"plotly-graph-div\" style=\"height:525px; width:100%;\"></div>            <script type=\"text/javascript\">                require([\"plotly\"], function(Plotly) {                    window.PLOTLYENV=window.PLOTLYENV || {};                                    if (document.getElementById(\"2e26dd14-7a19-4eda-bd12-9894a595234d\")) {                    Plotly.newPlot(                        \"2e26dd14-7a19-4eda-bd12-9894a595234d\",                        [{\"name\": \"train\", \"type\": \"scatter\", \"x\": [\"2018-05-01T00:00:00\", \"2018-04-01T00:00:00\", \"2018-03-01T00:00:00\", \"2018-02-01T00:00:00\", \"2018-01-01T00:00:00\", \"2017-12-01T00:00:00\", \"2017-11-01T00:00:00\", \"2017-10-01T00:00:00\", \"2017-09-01T00:00:00\", \"2017-08-01T00:00:00\", \"2017-07-01T00:00:00\", \"2017-06-01T00:00:00\", \"2017-05-01T00:00:00\", \"2017-04-01T00:00:00\", \"2017-03-01T00:00:00\", \"2017-02-01T00:00:00\", \"2017-01-01T00:00:00\", \"2016-12-01T00:00:00\", \"2016-11-01T00:00:00\", \"2016-10-01T00:00:00\", \"2016-09-01T00:00:00\", \"2016-08-01T00:00:00\", \"2016-07-01T00:00:00\", \"2016-06-01T00:00:00\", \"2016-05-01T00:00:00\", \"2016-04-01T00:00:00\", \"2016-03-01T00:00:00\", \"2016-02-01T00:00:00\", \"2016-01-01T00:00:00\", \"2015-12-01T00:00:00\", \"2015-11-01T00:00:00\", \"2015-10-01T00:00:00\", \"2015-09-01T00:00:00\", \"2015-08-01T00:00:00\", \"2015-07-01T00:00:00\", \"2015-06-01T00:00:00\", \"2015-05-01T00:00:00\", \"2015-04-01T00:00:00\", \"2015-03-01T00:00:00\", \"2015-02-01T00:00:00\", \"2015-01-01T00:00:00\"], \"y\": [8546, 13077, 1584, 13844, 26475, 92563, 176920, 95821, 8496, 2916, 4415, 717, 4925, 9258, 2627, 174, 7524, 126010, 188102, 95616, 13740, 3826, 0, 0, 8112, 6015, 768, 256, 2485, 60930, 320066, 70594, 5798, 138, 184, 0, 1585, 19287, 7079, 1195, 11233]}, {\"name\": \"yhat\", \"type\": \"scatter\", \"x\": [\"2020-05-01T00:00:00\", \"2020-04-01T00:00:00\", \"2020-03-01T00:00:00\", \"2020-02-01T00:00:00\", \"2020-01-01T00:00:00\", \"2019-12-01T00:00:00\", \"2019-11-01T00:00:00\", \"2019-10-01T00:00:00\", \"2019-09-01T00:00:00\", \"2019-08-01T00:00:00\", \"2019-07-01T00:00:00\", \"2019-06-01T00:00:00\", \"2019-05-01T00:00:00\", \"2019-04-01T00:00:00\", \"2019-03-01T00:00:00\", \"2019-02-01T00:00:00\", \"2019-01-01T00:00:00\", \"2018-12-01T00:00:00\", \"2018-11-01T00:00:00\", \"2018-10-01T00:00:00\", \"2018-09-01T00:00:00\", \"2018-08-01T00:00:00\", \"2018-07-01T00:00:00\", \"2018-06-01T00:00:00\", \"2018-05-01T00:00:00\", \"2018-04-01T00:00:00\", \"2018-03-01T00:00:00\", \"2018-02-01T00:00:00\", \"2018-01-01T00:00:00\", \"2017-12-01T00:00:00\", \"2017-11-01T00:00:00\", \"2017-10-01T00:00:00\", \"2017-09-01T00:00:00\", \"2017-08-01T00:00:00\", \"2017-07-01T00:00:00\", \"2017-06-01T00:00:00\", \"2017-05-01T00:00:00\", \"2017-04-01T00:00:00\", \"2017-03-01T00:00:00\", \"2017-02-01T00:00:00\", \"2017-01-01T00:00:00\", \"2016-12-01T00:00:00\", \"2016-11-01T00:00:00\", \"2016-10-01T00:00:00\", \"2016-09-01T00:00:00\", \"2016-08-01T00:00:00\", \"2016-07-01T00:00:00\", \"2016-06-01T00:00:00\", \"2016-05-01T00:00:00\", \"2016-04-01T00:00:00\", \"2016-03-01T00:00:00\", \"2016-02-01T00:00:00\", \"2016-01-01T00:00:00\", \"2015-12-01T00:00:00\", \"2015-11-01T00:00:00\", \"2015-10-01T00:00:00\", \"2015-09-01T00:00:00\", \"2015-08-01T00:00:00\", \"2015-07-01T00:00:00\", \"2015-06-01T00:00:00\", \"2015-05-01T00:00:00\", \"2015-04-01T00:00:00\", \"2015-03-01T00:00:00\", \"2015-02-01T00:00:00\", \"2015-01-01T00:00:00\"], \"y\": [14629.474616089818, 16023.223402406984, 10039.671235608417, 12177.107384444083, 20589.783395032562, 112498.63763097615, 233630.39074942406, 112987.85831102493, 11767.322525721607, 16149.896919365896, 0.0, 0.0, 11238.2233544406, 13013.392462207583, 7561.234641130504, 4856.451133904098, 18284.9499276484, 96984.2809861215, 211168.6063987445, 86775.41524915691, 10274.656222721933, 0.0, 6559.863563298706, 7638.233078243611, 8578.913440241347, 17431.073878627423, 5834.749332403018, 7793.861372745647, 13947.829493358466, 84849.07596060852, 203777.99703957554, 75995.99291402762, 9332.08398848525, 2385.2665303454887, 3018.695202043473, 0.0, 5029.724455703363, 9155.165221846662, 3136.2673398191764, 4569.5261603763065, 11010.16143371019, 101121.35388649296, 227758.46575443924, 87958.9252969064, 7290.5474211832625, 4424.122264443697, 4485.338964939456, 1485.5214329825249, 6875.431554307557, 9118.247037520006, 830.6332732320807, 724.3307422176076, 9011.628460465014, 93000.141443539, 249387.8960359113, 95263.53683404713, 11475.297172604704, 1042.6620841526783, 0.0, 1206.7429496985606, 4555.081748378994, 13582.729894474909, 3549.0156379059445, 2884.8103353217375, 13417.928087786648]}, {\"fill\": \"tonexty\", \"mode\": \"none\", \"name\": \"upper\", \"type\": \"scatter\", \"x\": [\"2020-05-01T00:00:00\", \"2020-04-01T00:00:00\", \"2020-03-01T00:00:00\", \"2020-02-01T00:00:00\", \"2020-01-01T00:00:00\", \"2019-12-01T00:00:00\", \"2019-11-01T00:00:00\", \"2019-10-01T00:00:00\", \"2019-09-01T00:00:00\", \"2019-08-01T00:00:00\", \"2019-07-01T00:00:00\", \"2019-06-01T00:00:00\", \"2019-05-01T00:00:00\", \"2019-04-01T00:00:00\", \"2019-03-01T00:00:00\", \"2019-02-01T00:00:00\", \"2019-01-01T00:00:00\", \"2018-12-01T00:00:00\", \"2018-11-01T00:00:00\", \"2018-10-01T00:00:00\", \"2018-09-01T00:00:00\", \"2018-08-01T00:00:00\", \"2018-07-01T00:00:00\", \"2018-06-01T00:00:00\", \"2018-05-01T00:00:00\", \"2018-04-01T00:00:00\", \"2018-03-01T00:00:00\", \"2018-02-01T00:00:00\", \"2018-01-01T00:00:00\", \"2017-12-01T00:00:00\", \"2017-11-01T00:00:00\", \"2017-10-01T00:00:00\", \"2017-09-01T00:00:00\", \"2017-08-01T00:00:00\", \"2017-07-01T00:00:00\", \"2017-06-01T00:00:00\", \"2017-05-01T00:00:00\", \"2017-04-01T00:00:00\", \"2017-03-01T00:00:00\", \"2017-02-01T00:00:00\", \"2017-01-01T00:00:00\", \"2016-12-01T00:00:00\", \"2016-11-01T00:00:00\", \"2016-10-01T00:00:00\", \"2016-09-01T00:00:00\", \"2016-08-01T00:00:00\", \"2016-07-01T00:00:00\", \"2016-06-01T00:00:00\", \"2016-05-01T00:00:00\", \"2016-04-01T00:00:00\", \"2016-03-01T00:00:00\", \"2016-02-01T00:00:00\", \"2016-01-01T00:00:00\", \"2015-12-01T00:00:00\", \"2015-11-01T00:00:00\", \"2015-10-01T00:00:00\", \"2015-09-01T00:00:00\", \"2015-08-01T00:00:00\", \"2015-07-01T00:00:00\", \"2015-06-01T00:00:00\", \"2015-05-01T00:00:00\", \"2015-04-01T00:00:00\", \"2015-03-01T00:00:00\", \"2015-02-01T00:00:00\", \"2015-01-01T00:00:00\"], \"y\": [34301.783412420045, 36468.252521960036, 31396.955182584483, 33016.494742015144, 42801.736554642885, 131941.6464581372, 253627.12494404684, 133563.80220304118, 30912.916549152564, 38227.81375777924, 18547.24823081448, 17330.101162598705, 32087.92256042629, 33587.90008332756, 28414.218853849598, 24738.7356429164, 38500.39968971986, 117295.91880509163, 231952.29355092614, 108022.48927036923, 32137.47456068082, 20131.738882230067, 28505.180605752, 27952.243284853877, 30393.22550868629, 37910.126136461055, 24882.643844724113, 27509.54612007789, 33891.25954545899, 104548.34915224026, 224874.23239428952, 97461.84361160893, 31013.65657419364, 21684.642020803032, 24414.416676389326, 19414.684837717672, 26069.17561264828, 30240.77940534665, 23999.795257050693, 24931.28784763554, 32244.90323845081, 123266.55476504224, 247895.67780358685, 108226.19003850207, 27581.93838541457, 23945.206077148643, 24758.55778612501, 21895.25762732953, 26252.041483987985, 30668.08908729787, 22587.53844179488, 22108.723754273098, 28332.259983588843, 114036.21678484467, 269078.6940859738, 115460.4514692372, 31099.14074302484, 20529.06745598644, 19058.449070990642, 22208.574959285572, 26357.66784202423, 34200.17521207665, 24492.133721451668, 22833.674758958045, 32735.26773932957]}, {\"fill\": \"tonexty\", \"mode\": \"none\", \"name\": \"lower\", \"type\": \"scatter\", \"x\": [\"2020-05-01T00:00:00\", \"2020-04-01T00:00:00\", \"2020-03-01T00:00:00\", \"2020-02-01T00:00:00\", \"2020-01-01T00:00:00\", \"2019-12-01T00:00:00\", \"2019-11-01T00:00:00\", \"2019-10-01T00:00:00\", \"2019-09-01T00:00:00\", \"2019-08-01T00:00:00\", \"2019-07-01T00:00:00\", \"2019-06-01T00:00:00\", \"2019-05-01T00:00:00\", \"2019-04-01T00:00:00\", \"2019-03-01T00:00:00\", \"2019-02-01T00:00:00\", \"2019-01-01T00:00:00\", \"2018-12-01T00:00:00\", \"2018-11-01T00:00:00\", \"2018-10-01T00:00:00\", \"2018-09-01T00:00:00\", \"2018-08-01T00:00:00\", \"2018-07-01T00:00:00\", \"2018-06-01T00:00:00\", \"2018-05-01T00:00:00\", \"2018-04-01T00:00:00\", \"2018-03-01T00:00:00\", \"2018-02-01T00:00:00\", \"2018-01-01T00:00:00\", \"2017-12-01T00:00:00\", \"2017-11-01T00:00:00\", \"2017-10-01T00:00:00\", \"2017-09-01T00:00:00\", \"2017-08-01T00:00:00\", \"2017-07-01T00:00:00\", \"2017-06-01T00:00:00\", \"2017-05-01T00:00:00\", \"2017-04-01T00:00:00\", \"2017-03-01T00:00:00\", \"2017-02-01T00:00:00\", \"2017-01-01T00:00:00\", \"2016-12-01T00:00:00\", \"2016-11-01T00:00:00\", \"2016-10-01T00:00:00\", \"2016-09-01T00:00:00\", \"2016-08-01T00:00:00\", \"2016-07-01T00:00:00\", \"2016-06-01T00:00:00\", \"2016-05-01T00:00:00\", \"2016-04-01T00:00:00\", \"2016-03-01T00:00:00\", \"2016-02-01T00:00:00\", \"2016-01-01T00:00:00\", \"2015-12-01T00:00:00\", \"2015-11-01T00:00:00\", \"2015-10-01T00:00:00\", \"2015-09-01T00:00:00\", \"2015-08-01T00:00:00\", \"2015-07-01T00:00:00\", \"2015-06-01T00:00:00\", \"2015-05-01T00:00:00\", \"2015-04-01T00:00:00\", \"2015-03-01T00:00:00\", \"2015-02-01T00:00:00\", \"2015-01-01T00:00:00\"], \"y\": [-5533.7696808186865, -4296.763977089271, -9599.789840891934, -6550.447812868359, -788.1423974735728, 91630.77073558791, 213775.8014976752, 93041.28181451482, -8074.635895139274, -4614.561665334039, -21615.050271998247, -21294.360426394, -8506.206337934495, -7541.551161194366, -14572.16659973883, -14185.196561261757, -1362.34318429394, 75388.47156485311, 191206.3229949674, 65646.07177568646, -10253.730353485766, -20048.768877979433, -13644.04435466056, -13496.102811484407, -11548.78485583875, -3486.055779049865, -14052.465692062056, -13633.435798692859, -6325.630296099278, 63002.957347205025, 182057.8530128843, 54426.554662332135, -11391.209573437049, -18070.6460105301, -17314.532261864857, -18938.08279063871, -14671.033067098486, -10332.412508916394, -17935.83488436931, -15560.880197581377, -10976.598149580446, 81471.49475939551, 206633.80317304534, 66681.20116879302, -14029.334973849891, -15956.224630518129, -13837.308579384377, -18245.696529164605, -12873.483528129967, -11401.700176299122, -20033.88409128768, -19494.382091983854, -11444.265714704485, 74165.84615450638, 227552.9707468778, 75184.48019795101, -9054.274383157599, -19204.017985182843, -21567.546158181605, -19689.444938052166, -15251.38819001018, -6317.934316158457, -16475.448145630686, -18021.775798557497, -7384.695932795645]}, {\"name\": \"Trend\", \"type\": \"scatter\", \"x\": [\"2020-05-01T00:00:00\", \"2020-04-01T00:00:00\", \"2020-03-01T00:00:00\", \"2020-02-01T00:00:00\", \"2020-01-01T00:00:00\", \"2019-12-01T00:00:00\", \"2019-11-01T00:00:00\", \"2019-10-01T00:00:00\", \"2019-09-01T00:00:00\", \"2019-08-01T00:00:00\", \"2019-07-01T00:00:00\", \"2019-06-01T00:00:00\", \"2019-05-01T00:00:00\", \"2019-04-01T00:00:00\", \"2019-03-01T00:00:00\", \"2019-02-01T00:00:00\", \"2019-01-01T00:00:00\", \"2018-12-01T00:00:00\", \"2018-11-01T00:00:00\", \"2018-10-01T00:00:00\", \"2018-09-01T00:00:00\", \"2018-08-01T00:00:00\", \"2018-07-01T00:00:00\", \"2018-06-01T00:00:00\", \"2018-05-01T00:00:00\", \"2018-04-01T00:00:00\", \"2018-03-01T00:00:00\", \"2018-02-01T00:00:00\", \"2018-01-01T00:00:00\", \"2017-12-01T00:00:00\", \"2017-11-01T00:00:00\", \"2017-10-01T00:00:00\", \"2017-09-01T00:00:00\", \"2017-08-01T00:00:00\", \"2017-07-01T00:00:00\", \"2017-06-01T00:00:00\", \"2017-05-01T00:00:00\", \"2017-04-01T00:00:00\", \"2017-03-01T00:00:00\", \"2017-02-01T00:00:00\", \"2017-01-01T00:00:00\", \"2016-12-01T00:00:00\", \"2016-11-01T00:00:00\", \"2016-10-01T00:00:00\", \"2016-09-01T00:00:00\", \"2016-08-01T00:00:00\", \"2016-07-01T00:00:00\", \"2016-06-01T00:00:00\", \"2016-05-01T00:00:00\", \"2016-04-01T00:00:00\", \"2016-03-01T00:00:00\", \"2016-02-01T00:00:00\", \"2016-01-01T00:00:00\", \"2015-12-01T00:00:00\", \"2015-11-01T00:00:00\", \"2015-10-01T00:00:00\", \"2015-09-01T00:00:00\", \"2015-08-01T00:00:00\", \"2015-07-01T00:00:00\", \"2015-06-01T00:00:00\", \"2015-05-01T00:00:00\", \"2015-04-01T00:00:00\", \"2015-03-01T00:00:00\", \"2015-02-01T00:00:00\", \"2015-01-01T00:00:00\"], \"y\": [50737.44068120743, 50362.96831385589, 49976.01353425931, 49614.02357915283, 49227.06879955624, 48840.114019959656, 48465.64165260812, 48078.68687301154, 47704.214505660006, 47317.25972606342, 46930.30494646684, 46555.832579115304, 46168.87779951872, 45794.405432167194, 45407.4506525706, 45057.94310970917, 44670.98833011258, 44284.033550516, 43909.561183164464, 43522.60640356789, 43148.13403621635, 42761.179256619755, 42374.22447702318, 41999.75210967164, 41612.79733007506, 41238.32496272353, 40851.370183126935, 40501.86264026551, 40114.90786066892, 39727.95308107234, 39353.480713720804, 38966.52593412422, 38592.05356677269, 38205.0987871761, 37818.14400840203, 37443.67164180165, 37056.71686300148, 36682.244496420666, 36295.289718143846, 35945.78217629774, 35558.827397744775, 35171.87261996454, 34797.40025437077, 34410.445477014415, 34035.97311172385, 33649.018334582004, 33262.06355721596, 32887.59119202301, 32500.63641404288, 32126.16404897726, 31739.209272129447, 31377.219320053, 30990.264543695415, 30603.309767104518, 30228.837402045054, 29841.88262477298, 29467.41026000977, 29080.45548308778, 28693.500705737442, 28319.028340742778, 27932.073564307215, 27557.601200555462, 27170.646424678653, 26821.138885665365, 26434.184110988495]}, {\"name\": \"test\", \"type\": \"scatter\", \"x\": [\"2019-05-01T00:00:00\", \"2019-04-01T00:00:00\", \"2019-03-01T00:00:00\", \"2019-02-01T00:00:00\", \"2019-01-01T00:00:00\", \"2018-12-01T00:00:00\", \"2018-11-01T00:00:00\", \"2018-10-01T00:00:00\", \"2018-09-01T00:00:00\", \"2018-08-01T00:00:00\", \"2018-07-01T00:00:00\", \"2018-06-01T00:00:00\"], \"y\": [6305, 12230, 4105, 8387, 30758, 132212, 177040, 43070, 22393, 6864, 6735, 11754]}],                        {\"template\": {\"data\": {\"bar\": [{\"error_x\": {\"color\": \"#2a3f5f\"}, \"error_y\": {\"color\": \"#2a3f5f\"}, \"marker\": {\"line\": {\"color\": \"#E5ECF6\", \"width\": 0.5}}, \"type\": \"bar\"}], \"barpolar\": [{\"marker\": {\"line\": {\"color\": \"#E5ECF6\", \"width\": 0.5}}, \"type\": \"barpolar\"}], \"carpet\": [{\"aaxis\": {\"endlinecolor\": \"#2a3f5f\", \"gridcolor\": \"white\", \"linecolor\": \"white\", \"minorgridcolor\": \"white\", \"startlinecolor\": \"#2a3f5f\"}, \"baxis\": {\"endlinecolor\": \"#2a3f5f\", \"gridcolor\": \"white\", \"linecolor\": \"white\", \"minorgridcolor\": \"white\", \"startlinecolor\": \"#2a3f5f\"}, \"type\": \"carpet\"}], \"choropleth\": [{\"colorbar\": {\"outlinewidth\": 0, \"ticks\": \"\"}, \"type\": \"choropleth\"}], \"contour\": [{\"colorbar\": {\"outlinewidth\": 0, \"ticks\": \"\"}, \"colorscale\": [[0.0, \"#0d0887\"], [0.1111111111111111, \"#46039f\"], [0.2222222222222222, \"#7201a8\"], [0.3333333333333333, \"#9c179e\"], [0.4444444444444444, \"#bd3786\"], [0.5555555555555556, \"#d8576b\"], [0.6666666666666666, \"#ed7953\"], [0.7777777777777778, \"#fb9f3a\"], [0.8888888888888888, \"#fdca26\"], [1.0, \"#f0f921\"]], \"type\": \"contour\"}], \"contourcarpet\": [{\"colorbar\": {\"outlinewidth\": 0, \"ticks\": \"\"}, \"type\": \"contourcarpet\"}], \"heatmap\": [{\"colorbar\": {\"outlinewidth\": 0, \"ticks\": \"\"}, \"colorscale\": [[0.0, \"#0d0887\"], [0.1111111111111111, \"#46039f\"], [0.2222222222222222, \"#7201a8\"], [0.3333333333333333, \"#9c179e\"], [0.4444444444444444, \"#bd3786\"], [0.5555555555555556, \"#d8576b\"], [0.6666666666666666, \"#ed7953\"], [0.7777777777777778, \"#fb9f3a\"], [0.8888888888888888, \"#fdca26\"], [1.0, \"#f0f921\"]], \"type\": \"heatmap\"}], \"heatmapgl\": [{\"colorbar\": {\"outlinewidth\": 0, \"ticks\": \"\"}, \"colorscale\": [[0.0, \"#0d0887\"], [0.1111111111111111, \"#46039f\"], [0.2222222222222222, \"#7201a8\"], [0.3333333333333333, \"#9c179e\"], [0.4444444444444444, \"#bd3786\"], [0.5555555555555556, \"#d8576b\"], [0.6666666666666666, \"#ed7953\"], [0.7777777777777778, \"#fb9f3a\"], [0.8888888888888888, \"#fdca26\"], [1.0, \"#f0f921\"]], \"type\": \"heatmapgl\"}], \"histogram\": [{\"marker\": {\"colorbar\": {\"outlinewidth\": 0, \"ticks\": \"\"}}, \"type\": \"histogram\"}], \"histogram2d\": [{\"colorbar\": {\"outlinewidth\": 0, \"ticks\": \"\"}, \"colorscale\": [[0.0, \"#0d0887\"], [0.1111111111111111, \"#46039f\"], [0.2222222222222222, \"#7201a8\"], [0.3333333333333333, \"#9c179e\"], [0.4444444444444444, \"#bd3786\"], [0.5555555555555556, \"#d8576b\"], [0.6666666666666666, \"#ed7953\"], [0.7777777777777778, \"#fb9f3a\"], [0.8888888888888888, \"#fdca26\"], [1.0, \"#f0f921\"]], \"type\": \"histogram2d\"}], \"histogram2dcontour\": [{\"colorbar\": {\"outlinewidth\": 0, \"ticks\": \"\"}, \"colorscale\": [[0.0, \"#0d0887\"], [0.1111111111111111, \"#46039f\"], [0.2222222222222222, \"#7201a8\"], [0.3333333333333333, \"#9c179e\"], [0.4444444444444444, \"#bd3786\"], [0.5555555555555556, \"#d8576b\"], [0.6666666666666666, \"#ed7953\"], [0.7777777777777778, \"#fb9f3a\"], [0.8888888888888888, \"#fdca26\"], [1.0, \"#f0f921\"]], \"type\": \"histogram2dcontour\"}], \"mesh3d\": [{\"colorbar\": {\"outlinewidth\": 0, \"ticks\": \"\"}, \"type\": \"mesh3d\"}], \"parcoords\": [{\"line\": {\"colorbar\": {\"outlinewidth\": 0, \"ticks\": \"\"}}, \"type\": \"parcoords\"}], \"pie\": [{\"automargin\": true, \"type\": \"pie\"}], \"scatter\": [{\"marker\": {\"colorbar\": {\"outlinewidth\": 0, \"ticks\": \"\"}}, \"type\": \"scatter\"}], \"scatter3d\": [{\"line\": {\"colorbar\": {\"outlinewidth\": 0, \"ticks\": \"\"}}, \"marker\": {\"colorbar\": {\"outlinewidth\": 0, \"ticks\": \"\"}}, \"type\": \"scatter3d\"}], \"scattercarpet\": [{\"marker\": {\"colorbar\": {\"outlinewidth\": 0, \"ticks\": \"\"}}, \"type\": \"scattercarpet\"}], \"scattergeo\": [{\"marker\": {\"colorbar\": {\"outlinewidth\": 0, \"ticks\": \"\"}}, \"type\": \"scattergeo\"}], \"scattergl\": [{\"marker\": {\"colorbar\": {\"outlinewidth\": 0, \"ticks\": \"\"}}, \"type\": \"scattergl\"}], \"scattermapbox\": [{\"marker\": {\"colorbar\": {\"outlinewidth\": 0, \"ticks\": \"\"}}, \"type\": \"scattermapbox\"}], \"scatterpolar\": [{\"marker\": {\"colorbar\": {\"outlinewidth\": 0, \"ticks\": \"\"}}, \"type\": \"scatterpolar\"}], \"scatterpolargl\": [{\"marker\": {\"colorbar\": {\"outlinewidth\": 0, \"ticks\": \"\"}}, \"type\": \"scatterpolargl\"}], \"scatterternary\": [{\"marker\": {\"colorbar\": {\"outlinewidth\": 0, \"ticks\": \"\"}}, \"type\": \"scatterternary\"}], \"surface\": [{\"colorbar\": {\"outlinewidth\": 0, \"ticks\": \"\"}, \"colorscale\": [[0.0, \"#0d0887\"], [0.1111111111111111, \"#46039f\"], [0.2222222222222222, \"#7201a8\"], [0.3333333333333333, \"#9c179e\"], [0.4444444444444444, \"#bd3786\"], [0.5555555555555556, \"#d8576b\"], [0.6666666666666666, \"#ed7953\"], [0.7777777777777778, \"#fb9f3a\"], [0.8888888888888888, \"#fdca26\"], [1.0, \"#f0f921\"]], \"type\": \"surface\"}], \"table\": [{\"cells\": {\"fill\": {\"color\": \"#EBF0F8\"}, \"line\": {\"color\": \"white\"}}, \"header\": {\"fill\": {\"color\": \"#C8D4E3\"}, \"line\": {\"color\": \"white\"}}, \"type\": \"table\"}]}, \"layout\": {\"annotationdefaults\": {\"arrowcolor\": \"#2a3f5f\", \"arrowhead\": 0, \"arrowwidth\": 1}, \"coloraxis\": {\"colorbar\": {\"outlinewidth\": 0, \"ticks\": \"\"}}, \"colorscale\": {\"diverging\": [[0, \"#8e0152\"], [0.1, \"#c51b7d\"], [0.2, \"#de77ae\"], [0.3, \"#f1b6da\"], [0.4, \"#fde0ef\"], [0.5, \"#f7f7f7\"], [0.6, \"#e6f5d0\"], [0.7, \"#b8e186\"], [0.8, \"#7fbc41\"], [0.9, \"#4d9221\"], [1, \"#276419\"]], \"sequential\": [[0.0, \"#0d0887\"], [0.1111111111111111, \"#46039f\"], [0.2222222222222222, \"#7201a8\"], [0.3333333333333333, \"#9c179e\"], [0.4444444444444444, \"#bd3786\"], [0.5555555555555556, \"#d8576b\"], [0.6666666666666666, \"#ed7953\"], [0.7777777777777778, \"#fb9f3a\"], [0.8888888888888888, \"#fdca26\"], [1.0, \"#f0f921\"]], \"sequentialminus\": [[0.0, \"#0d0887\"], [0.1111111111111111, \"#46039f\"], [0.2222222222222222, \"#7201a8\"], [0.3333333333333333, \"#9c179e\"], [0.4444444444444444, \"#bd3786\"], [0.5555555555555556, \"#d8576b\"], [0.6666666666666666, \"#ed7953\"], [0.7777777777777778, \"#fb9f3a\"], [0.8888888888888888, \"#fdca26\"], [1.0, \"#f0f921\"]]}, \"colorway\": [\"#636efa\", \"#EF553B\", \"#00cc96\", \"#ab63fa\", \"#FFA15A\", \"#19d3f3\", \"#FF6692\", \"#B6E880\", \"#FF97FF\", \"#FECB52\"], \"font\": {\"color\": \"#2a3f5f\"}, \"geo\": {\"bgcolor\": \"white\", \"lakecolor\": \"white\", \"landcolor\": \"#E5ECF6\", \"showlakes\": true, \"showland\": true, \"subunitcolor\": \"white\"}, \"hoverlabel\": {\"align\": \"left\"}, \"hovermode\": \"closest\", \"mapbox\": {\"style\": \"light\"}, \"paper_bgcolor\": \"white\", \"plot_bgcolor\": \"#E5ECF6\", \"polar\": {\"angularaxis\": {\"gridcolor\": \"white\", \"linecolor\": \"white\", \"ticks\": \"\"}, \"bgcolor\": \"#E5ECF6\", \"radialaxis\": {\"gridcolor\": \"white\", \"linecolor\": \"white\", \"ticks\": \"\"}}, \"scene\": {\"xaxis\": {\"backgroundcolor\": \"#E5ECF6\", \"gridcolor\": \"white\", \"gridwidth\": 2, \"linecolor\": \"white\", \"showbackground\": true, \"ticks\": \"\", \"zerolinecolor\": \"white\"}, \"yaxis\": {\"backgroundcolor\": \"#E5ECF6\", \"gridcolor\": \"white\", \"gridwidth\": 2, \"linecolor\": \"white\", \"showbackground\": true, \"ticks\": \"\", \"zerolinecolor\": \"white\"}, \"zaxis\": {\"backgroundcolor\": \"#E5ECF6\", \"gridcolor\": \"white\", \"gridwidth\": 2, \"linecolor\": \"white\", \"showbackground\": true, \"ticks\": \"\", \"zerolinecolor\": \"white\"}}, \"shapedefaults\": {\"line\": {\"color\": \"#2a3f5f\"}}, \"ternary\": {\"aaxis\": {\"gridcolor\": \"white\", \"linecolor\": \"white\", \"ticks\": \"\"}, \"baxis\": {\"gridcolor\": \"white\", \"linecolor\": \"white\", \"ticks\": \"\"}, \"bgcolor\": \"#E5ECF6\", \"caxis\": {\"gridcolor\": \"white\", \"linecolor\": \"white\", \"ticks\": \"\"}}, \"title\": {\"x\": 0.05}, \"xaxis\": {\"automargin\": true, \"gridcolor\": \"white\", \"linecolor\": \"white\", \"ticks\": \"\", \"title\": {\"standoff\": 15}, \"zerolinecolor\": \"white\", \"zerolinewidth\": 2}, \"yaxis\": {\"automargin\": true, \"gridcolor\": \"white\", \"linecolor\": \"white\", \"ticks\": \"\", \"title\": {\"standoff\": 15}, \"zerolinecolor\": \"white\", \"zerolinewidth\": 2}}}},                        {\"responsive\": true}                    ).then(function(){\n",
       "                            \n",
       "var gd = document.getElementById('2e26dd14-7a19-4eda-bd12-9894a595234d');\n",
       "var x = new MutationObserver(function (mutations, observer) {{\n",
       "        var display = window.getComputedStyle(gd).display;\n",
       "        if (!display || display === 'none') {{\n",
       "            console.log([gd, 'removed!']);\n",
       "            Plotly.purge(gd);\n",
       "            observer.disconnect();\n",
       "        }}\n",
       "}});\n",
       "\n",
       "// Listen for the removal of the full notebook cells\n",
       "var notebookContainer = gd.closest('#notebook-container');\n",
       "if (notebookContainer) {{\n",
       "    x.observe(notebookContainer, {childList: true});\n",
       "}}\n",
       "\n",
       "// Listen for the clearing of the current output cell\n",
       "var outputEl = gd.closest('.output');\n",
       "if (outputEl) {{\n",
       "    x.observe(outputEl, {childList: true});\n",
       "}}\n",
       "\n",
       "                        })                };                });            </script>        </div>"
      ]
     },
     "metadata": {},
     "output_type": "display_data"
    }
   ],
   "source": [
    "py.iplot([\n",
    "    go.Scatter(x=df_train['ds'], y=df_train['y'], name='train'),\n",
    "    go.Scatter(x=forecast['ds'], y=forecast['yhat'], name='yhat'),\n",
    "    go.Scatter(x=forecast['ds'], y=forecast['yhat_upper'], fill='tonexty', mode='none', name='upper'),\n",
    "    go.Scatter(x=forecast['ds'], y=forecast['yhat_lower'], fill='tonexty', mode='none', name='lower'),\n",
    "    go.Scatter(x=forecast['ds'], y=forecast['trend'], name='Trend'),\n",
    "    go.Scatter(x=df_test['ds'], y=df_test['y'], name='test'),\n",
    "])"
   ]
  },
  {
   "cell_type": "code",
   "execution_count": 21,
   "metadata": {},
   "outputs": [
    {
     "data": {
      "application/vnd.plotly.v1+json": {
       "config": {
        "plotlyServerURL": "https://plot.ly"
       },
       "data": [
        {
         "marker": {
          "color": "black",
          "size": 4
         },
         "mode": "markers",
         "name": "Actual",
         "type": "scatter",
         "x": [
          "2015-01-01T00:00:00",
          "2015-02-01T00:00:00",
          "2015-03-01T00:00:00",
          "2015-04-01T00:00:00",
          "2015-05-01T00:00:00",
          "2015-06-01T00:00:00",
          "2015-07-01T00:00:00",
          "2015-08-01T00:00:00",
          "2015-09-01T00:00:00",
          "2015-10-01T00:00:00",
          "2015-11-01T00:00:00",
          "2015-12-01T00:00:00",
          "2016-01-01T00:00:00",
          "2016-02-01T00:00:00",
          "2016-03-01T00:00:00",
          "2016-04-01T00:00:00",
          "2016-05-01T00:00:00",
          "2016-06-01T00:00:00",
          "2016-07-01T00:00:00",
          "2016-08-01T00:00:00",
          "2016-09-01T00:00:00",
          "2016-10-01T00:00:00",
          "2016-11-01T00:00:00",
          "2016-12-01T00:00:00",
          "2017-01-01T00:00:00",
          "2017-02-01T00:00:00",
          "2017-03-01T00:00:00",
          "2017-04-01T00:00:00",
          "2017-05-01T00:00:00",
          "2017-06-01T00:00:00",
          "2017-07-01T00:00:00",
          "2017-08-01T00:00:00",
          "2017-09-01T00:00:00",
          "2017-10-01T00:00:00",
          "2017-11-01T00:00:00",
          "2017-12-01T00:00:00",
          "2018-01-01T00:00:00",
          "2018-02-01T00:00:00",
          "2018-03-01T00:00:00",
          "2018-04-01T00:00:00",
          "2018-05-01T00:00:00"
         ],
         "y": [
          11233,
          1195,
          7079,
          19287,
          1585,
          0,
          184,
          138,
          5798,
          70594,
          320066,
          60930,
          2485,
          256,
          768,
          6015,
          8112,
          0,
          0,
          3826,
          13740,
          95616,
          188102,
          126010,
          7524,
          174,
          2627,
          9258,
          4925,
          717,
          4415,
          2916,
          8496,
          95821,
          176920,
          92563,
          26475,
          13844,
          1584,
          13077,
          8546
         ]
        },
        {
         "hoverinfo": "skip",
         "line": {
          "width": 0
         },
         "mode": "lines",
         "type": "scatter",
         "x": [
          "2020-05-01T00:00:00",
          "2020-04-01T00:00:00",
          "2020-03-01T00:00:00",
          "2020-02-01T00:00:00",
          "2020-01-01T00:00:00",
          "2019-12-01T00:00:00",
          "2019-11-01T00:00:00",
          "2019-10-01T00:00:00",
          "2019-09-01T00:00:00",
          "2019-08-01T00:00:00",
          "2019-07-01T00:00:00",
          "2019-06-01T00:00:00",
          "2019-05-01T00:00:00",
          "2019-04-01T00:00:00",
          "2019-03-01T00:00:00",
          "2019-02-01T00:00:00",
          "2019-01-01T00:00:00",
          "2018-12-01T00:00:00",
          "2018-11-01T00:00:00",
          "2018-10-01T00:00:00",
          "2018-09-01T00:00:00",
          "2018-08-01T00:00:00",
          "2018-07-01T00:00:00",
          "2018-06-01T00:00:00",
          "2018-05-01T00:00:00",
          "2018-04-01T00:00:00",
          "2018-03-01T00:00:00",
          "2018-02-01T00:00:00",
          "2018-01-01T00:00:00",
          "2017-12-01T00:00:00",
          "2017-11-01T00:00:00",
          "2017-10-01T00:00:00",
          "2017-09-01T00:00:00",
          "2017-08-01T00:00:00",
          "2017-07-01T00:00:00",
          "2017-06-01T00:00:00",
          "2017-05-01T00:00:00",
          "2017-04-01T00:00:00",
          "2017-03-01T00:00:00",
          "2017-02-01T00:00:00",
          "2017-01-01T00:00:00",
          "2016-12-01T00:00:00",
          "2016-11-01T00:00:00",
          "2016-10-01T00:00:00",
          "2016-09-01T00:00:00",
          "2016-08-01T00:00:00",
          "2016-07-01T00:00:00",
          "2016-06-01T00:00:00",
          "2016-05-01T00:00:00",
          "2016-04-01T00:00:00",
          "2016-03-01T00:00:00",
          "2016-02-01T00:00:00",
          "2016-01-01T00:00:00",
          "2015-12-01T00:00:00",
          "2015-11-01T00:00:00",
          "2015-10-01T00:00:00",
          "2015-09-01T00:00:00",
          "2015-08-01T00:00:00",
          "2015-07-01T00:00:00",
          "2015-06-01T00:00:00",
          "2015-05-01T00:00:00",
          "2015-04-01T00:00:00",
          "2015-03-01T00:00:00",
          "2015-02-01T00:00:00",
          "2015-01-01T00:00:00"
         ],
         "y": [
          -5533.7696808186865,
          -4296.763977089271,
          -9599.789840891934,
          -6550.447812868359,
          -788.1423974735728,
          91630.77073558791,
          213775.8014976752,
          93041.28181451482,
          -8074.635895139274,
          -4614.561665334039,
          -21615.050271998247,
          -21294.360426394,
          -8506.206337934495,
          -7541.551161194366,
          -14572.16659973883,
          -14185.196561261757,
          -1362.34318429394,
          75388.47156485311,
          191206.3229949674,
          65646.07177568646,
          -10253.730353485766,
          -20048.768877979433,
          -13644.04435466056,
          -13496.102811484407,
          -11548.78485583875,
          -3486.055779049865,
          -14052.465692062056,
          -13633.435798692859,
          -6325.630296099278,
          63002.957347205025,
          182057.8530128843,
          54426.554662332135,
          -11391.209573437049,
          -18070.6460105301,
          -17314.532261864857,
          -18938.08279063871,
          -14671.033067098486,
          -10332.412508916394,
          -17935.83488436931,
          -15560.880197581377,
          -10976.598149580446,
          81471.49475939551,
          206633.80317304534,
          66681.20116879302,
          -14029.334973849891,
          -15956.224630518129,
          -13837.308579384377,
          -18245.696529164605,
          -12873.483528129967,
          -11401.700176299122,
          -20033.88409128768,
          -19494.382091983854,
          -11444.265714704485,
          74165.84615450638,
          227552.9707468778,
          75184.48019795101,
          -9054.274383157599,
          -19204.017985182843,
          -21567.546158181605,
          -19689.444938052166,
          -15251.38819001018,
          -6317.934316158457,
          -16475.448145630686,
          -18021.775798557497,
          -7384.695932795645
         ]
        },
        {
         "fill": "tonexty",
         "fillcolor": "rgba(0, 114, 178, 0.2)",
         "line": {
          "color": "#0072B2",
          "width": 2
         },
         "mode": "lines",
         "name": "Predicted",
         "type": "scatter",
         "x": [
          "2020-05-01T00:00:00",
          "2020-04-01T00:00:00",
          "2020-03-01T00:00:00",
          "2020-02-01T00:00:00",
          "2020-01-01T00:00:00",
          "2019-12-01T00:00:00",
          "2019-11-01T00:00:00",
          "2019-10-01T00:00:00",
          "2019-09-01T00:00:00",
          "2019-08-01T00:00:00",
          "2019-07-01T00:00:00",
          "2019-06-01T00:00:00",
          "2019-05-01T00:00:00",
          "2019-04-01T00:00:00",
          "2019-03-01T00:00:00",
          "2019-02-01T00:00:00",
          "2019-01-01T00:00:00",
          "2018-12-01T00:00:00",
          "2018-11-01T00:00:00",
          "2018-10-01T00:00:00",
          "2018-09-01T00:00:00",
          "2018-08-01T00:00:00",
          "2018-07-01T00:00:00",
          "2018-06-01T00:00:00",
          "2018-05-01T00:00:00",
          "2018-04-01T00:00:00",
          "2018-03-01T00:00:00",
          "2018-02-01T00:00:00",
          "2018-01-01T00:00:00",
          "2017-12-01T00:00:00",
          "2017-11-01T00:00:00",
          "2017-10-01T00:00:00",
          "2017-09-01T00:00:00",
          "2017-08-01T00:00:00",
          "2017-07-01T00:00:00",
          "2017-06-01T00:00:00",
          "2017-05-01T00:00:00",
          "2017-04-01T00:00:00",
          "2017-03-01T00:00:00",
          "2017-02-01T00:00:00",
          "2017-01-01T00:00:00",
          "2016-12-01T00:00:00",
          "2016-11-01T00:00:00",
          "2016-10-01T00:00:00",
          "2016-09-01T00:00:00",
          "2016-08-01T00:00:00",
          "2016-07-01T00:00:00",
          "2016-06-01T00:00:00",
          "2016-05-01T00:00:00",
          "2016-04-01T00:00:00",
          "2016-03-01T00:00:00",
          "2016-02-01T00:00:00",
          "2016-01-01T00:00:00",
          "2015-12-01T00:00:00",
          "2015-11-01T00:00:00",
          "2015-10-01T00:00:00",
          "2015-09-01T00:00:00",
          "2015-08-01T00:00:00",
          "2015-07-01T00:00:00",
          "2015-06-01T00:00:00",
          "2015-05-01T00:00:00",
          "2015-04-01T00:00:00",
          "2015-03-01T00:00:00",
          "2015-02-01T00:00:00",
          "2015-01-01T00:00:00"
         ],
         "y": [
          14629.474616089818,
          16023.223402406984,
          10039.671235608417,
          12177.107384444083,
          20589.783395032562,
          112498.63763097615,
          233630.39074942406,
          112987.85831102493,
          11767.322525721607,
          16149.896919365896,
          0,
          0,
          11238.2233544406,
          13013.392462207583,
          7561.234641130504,
          4856.451133904098,
          18284.9499276484,
          96984.2809861215,
          211168.6063987445,
          86775.41524915691,
          10274.656222721933,
          0,
          6559.863563298706,
          7638.233078243611,
          8578.913440241347,
          17431.073878627423,
          5834.749332403018,
          7793.861372745647,
          13947.829493358466,
          84849.07596060852,
          203777.99703957554,
          75995.99291402762,
          9332.08398848525,
          2385.2665303454887,
          3018.695202043473,
          0,
          5029.724455703363,
          9155.165221846662,
          3136.2673398191764,
          4569.5261603763065,
          11010.16143371019,
          101121.35388649296,
          227758.46575443924,
          87958.9252969064,
          7290.5474211832625,
          4424.122264443697,
          4485.338964939456,
          1485.5214329825249,
          6875.431554307557,
          9118.247037520006,
          830.6332732320807,
          724.3307422176076,
          9011.628460465014,
          93000.141443539,
          249387.8960359113,
          95263.53683404713,
          11475.297172604704,
          1042.6620841526783,
          0,
          1206.7429496985606,
          4555.081748378994,
          13582.729894474909,
          3549.0156379059445,
          2884.8103353217375,
          13417.928087786648
         ]
        },
        {
         "fill": "tonexty",
         "fillcolor": "rgba(0, 114, 178, 0.2)",
         "hoverinfo": "skip",
         "line": {
          "width": 0
         },
         "mode": "lines",
         "type": "scatter",
         "x": [
          "2020-05-01T00:00:00",
          "2020-04-01T00:00:00",
          "2020-03-01T00:00:00",
          "2020-02-01T00:00:00",
          "2020-01-01T00:00:00",
          "2019-12-01T00:00:00",
          "2019-11-01T00:00:00",
          "2019-10-01T00:00:00",
          "2019-09-01T00:00:00",
          "2019-08-01T00:00:00",
          "2019-07-01T00:00:00",
          "2019-06-01T00:00:00",
          "2019-05-01T00:00:00",
          "2019-04-01T00:00:00",
          "2019-03-01T00:00:00",
          "2019-02-01T00:00:00",
          "2019-01-01T00:00:00",
          "2018-12-01T00:00:00",
          "2018-11-01T00:00:00",
          "2018-10-01T00:00:00",
          "2018-09-01T00:00:00",
          "2018-08-01T00:00:00",
          "2018-07-01T00:00:00",
          "2018-06-01T00:00:00",
          "2018-05-01T00:00:00",
          "2018-04-01T00:00:00",
          "2018-03-01T00:00:00",
          "2018-02-01T00:00:00",
          "2018-01-01T00:00:00",
          "2017-12-01T00:00:00",
          "2017-11-01T00:00:00",
          "2017-10-01T00:00:00",
          "2017-09-01T00:00:00",
          "2017-08-01T00:00:00",
          "2017-07-01T00:00:00",
          "2017-06-01T00:00:00",
          "2017-05-01T00:00:00",
          "2017-04-01T00:00:00",
          "2017-03-01T00:00:00",
          "2017-02-01T00:00:00",
          "2017-01-01T00:00:00",
          "2016-12-01T00:00:00",
          "2016-11-01T00:00:00",
          "2016-10-01T00:00:00",
          "2016-09-01T00:00:00",
          "2016-08-01T00:00:00",
          "2016-07-01T00:00:00",
          "2016-06-01T00:00:00",
          "2016-05-01T00:00:00",
          "2016-04-01T00:00:00",
          "2016-03-01T00:00:00",
          "2016-02-01T00:00:00",
          "2016-01-01T00:00:00",
          "2015-12-01T00:00:00",
          "2015-11-01T00:00:00",
          "2015-10-01T00:00:00",
          "2015-09-01T00:00:00",
          "2015-08-01T00:00:00",
          "2015-07-01T00:00:00",
          "2015-06-01T00:00:00",
          "2015-05-01T00:00:00",
          "2015-04-01T00:00:00",
          "2015-03-01T00:00:00",
          "2015-02-01T00:00:00",
          "2015-01-01T00:00:00"
         ],
         "y": [
          34301.783412420045,
          36468.252521960036,
          31396.955182584483,
          33016.494742015144,
          42801.736554642885,
          131941.6464581372,
          253627.12494404684,
          133563.80220304118,
          30912.916549152564,
          38227.81375777924,
          18547.24823081448,
          17330.101162598705,
          32087.92256042629,
          33587.90008332756,
          28414.218853849598,
          24738.7356429164,
          38500.39968971986,
          117295.91880509163,
          231952.29355092614,
          108022.48927036923,
          32137.47456068082,
          20131.738882230067,
          28505.180605752,
          27952.243284853877,
          30393.22550868629,
          37910.126136461055,
          24882.643844724113,
          27509.54612007789,
          33891.25954545899,
          104548.34915224026,
          224874.23239428952,
          97461.84361160893,
          31013.65657419364,
          21684.642020803032,
          24414.416676389326,
          19414.684837717672,
          26069.17561264828,
          30240.77940534665,
          23999.795257050693,
          24931.28784763554,
          32244.90323845081,
          123266.55476504224,
          247895.67780358685,
          108226.19003850207,
          27581.93838541457,
          23945.206077148643,
          24758.55778612501,
          21895.25762732953,
          26252.041483987985,
          30668.08908729787,
          22587.53844179488,
          22108.723754273098,
          28332.259983588843,
          114036.21678484467,
          269078.6940859738,
          115460.4514692372,
          31099.14074302484,
          20529.06745598644,
          19058.449070990642,
          22208.574959285572,
          26357.66784202423,
          34200.17521207665,
          24492.133721451668,
          22833.674758958045,
          32735.26773932957
         ]
        }
       ],
       "layout": {
        "height": 600,
        "showlegend": false,
        "template": {
         "data": {
          "bar": [
           {
            "error_x": {
             "color": "#2a3f5f"
            },
            "error_y": {
             "color": "#2a3f5f"
            },
            "marker": {
             "line": {
              "color": "#E5ECF6",
              "width": 0.5
             }
            },
            "type": "bar"
           }
          ],
          "barpolar": [
           {
            "marker": {
             "line": {
              "color": "#E5ECF6",
              "width": 0.5
             }
            },
            "type": "barpolar"
           }
          ],
          "carpet": [
           {
            "aaxis": {
             "endlinecolor": "#2a3f5f",
             "gridcolor": "white",
             "linecolor": "white",
             "minorgridcolor": "white",
             "startlinecolor": "#2a3f5f"
            },
            "baxis": {
             "endlinecolor": "#2a3f5f",
             "gridcolor": "white",
             "linecolor": "white",
             "minorgridcolor": "white",
             "startlinecolor": "#2a3f5f"
            },
            "type": "carpet"
           }
          ],
          "choropleth": [
           {
            "colorbar": {
             "outlinewidth": 0,
             "ticks": ""
            },
            "type": "choropleth"
           }
          ],
          "contour": [
           {
            "colorbar": {
             "outlinewidth": 0,
             "ticks": ""
            },
            "colorscale": [
             [
              0,
              "#0d0887"
             ],
             [
              0.1111111111111111,
              "#46039f"
             ],
             [
              0.2222222222222222,
              "#7201a8"
             ],
             [
              0.3333333333333333,
              "#9c179e"
             ],
             [
              0.4444444444444444,
              "#bd3786"
             ],
             [
              0.5555555555555556,
              "#d8576b"
             ],
             [
              0.6666666666666666,
              "#ed7953"
             ],
             [
              0.7777777777777778,
              "#fb9f3a"
             ],
             [
              0.8888888888888888,
              "#fdca26"
             ],
             [
              1,
              "#f0f921"
             ]
            ],
            "type": "contour"
           }
          ],
          "contourcarpet": [
           {
            "colorbar": {
             "outlinewidth": 0,
             "ticks": ""
            },
            "type": "contourcarpet"
           }
          ],
          "heatmap": [
           {
            "colorbar": {
             "outlinewidth": 0,
             "ticks": ""
            },
            "colorscale": [
             [
              0,
              "#0d0887"
             ],
             [
              0.1111111111111111,
              "#46039f"
             ],
             [
              0.2222222222222222,
              "#7201a8"
             ],
             [
              0.3333333333333333,
              "#9c179e"
             ],
             [
              0.4444444444444444,
              "#bd3786"
             ],
             [
              0.5555555555555556,
              "#d8576b"
             ],
             [
              0.6666666666666666,
              "#ed7953"
             ],
             [
              0.7777777777777778,
              "#fb9f3a"
             ],
             [
              0.8888888888888888,
              "#fdca26"
             ],
             [
              1,
              "#f0f921"
             ]
            ],
            "type": "heatmap"
           }
          ],
          "heatmapgl": [
           {
            "colorbar": {
             "outlinewidth": 0,
             "ticks": ""
            },
            "colorscale": [
             [
              0,
              "#0d0887"
             ],
             [
              0.1111111111111111,
              "#46039f"
             ],
             [
              0.2222222222222222,
              "#7201a8"
             ],
             [
              0.3333333333333333,
              "#9c179e"
             ],
             [
              0.4444444444444444,
              "#bd3786"
             ],
             [
              0.5555555555555556,
              "#d8576b"
             ],
             [
              0.6666666666666666,
              "#ed7953"
             ],
             [
              0.7777777777777778,
              "#fb9f3a"
             ],
             [
              0.8888888888888888,
              "#fdca26"
             ],
             [
              1,
              "#f0f921"
             ]
            ],
            "type": "heatmapgl"
           }
          ],
          "histogram": [
           {
            "marker": {
             "colorbar": {
              "outlinewidth": 0,
              "ticks": ""
             }
            },
            "type": "histogram"
           }
          ],
          "histogram2d": [
           {
            "colorbar": {
             "outlinewidth": 0,
             "ticks": ""
            },
            "colorscale": [
             [
              0,
              "#0d0887"
             ],
             [
              0.1111111111111111,
              "#46039f"
             ],
             [
              0.2222222222222222,
              "#7201a8"
             ],
             [
              0.3333333333333333,
              "#9c179e"
             ],
             [
              0.4444444444444444,
              "#bd3786"
             ],
             [
              0.5555555555555556,
              "#d8576b"
             ],
             [
              0.6666666666666666,
              "#ed7953"
             ],
             [
              0.7777777777777778,
              "#fb9f3a"
             ],
             [
              0.8888888888888888,
              "#fdca26"
             ],
             [
              1,
              "#f0f921"
             ]
            ],
            "type": "histogram2d"
           }
          ],
          "histogram2dcontour": [
           {
            "colorbar": {
             "outlinewidth": 0,
             "ticks": ""
            },
            "colorscale": [
             [
              0,
              "#0d0887"
             ],
             [
              0.1111111111111111,
              "#46039f"
             ],
             [
              0.2222222222222222,
              "#7201a8"
             ],
             [
              0.3333333333333333,
              "#9c179e"
             ],
             [
              0.4444444444444444,
              "#bd3786"
             ],
             [
              0.5555555555555556,
              "#d8576b"
             ],
             [
              0.6666666666666666,
              "#ed7953"
             ],
             [
              0.7777777777777778,
              "#fb9f3a"
             ],
             [
              0.8888888888888888,
              "#fdca26"
             ],
             [
              1,
              "#f0f921"
             ]
            ],
            "type": "histogram2dcontour"
           }
          ],
          "mesh3d": [
           {
            "colorbar": {
             "outlinewidth": 0,
             "ticks": ""
            },
            "type": "mesh3d"
           }
          ],
          "parcoords": [
           {
            "line": {
             "colorbar": {
              "outlinewidth": 0,
              "ticks": ""
             }
            },
            "type": "parcoords"
           }
          ],
          "pie": [
           {
            "automargin": true,
            "type": "pie"
           }
          ],
          "scatter": [
           {
            "marker": {
             "colorbar": {
              "outlinewidth": 0,
              "ticks": ""
             }
            },
            "type": "scatter"
           }
          ],
          "scatter3d": [
           {
            "line": {
             "colorbar": {
              "outlinewidth": 0,
              "ticks": ""
             }
            },
            "marker": {
             "colorbar": {
              "outlinewidth": 0,
              "ticks": ""
             }
            },
            "type": "scatter3d"
           }
          ],
          "scattercarpet": [
           {
            "marker": {
             "colorbar": {
              "outlinewidth": 0,
              "ticks": ""
             }
            },
            "type": "scattercarpet"
           }
          ],
          "scattergeo": [
           {
            "marker": {
             "colorbar": {
              "outlinewidth": 0,
              "ticks": ""
             }
            },
            "type": "scattergeo"
           }
          ],
          "scattergl": [
           {
            "marker": {
             "colorbar": {
              "outlinewidth": 0,
              "ticks": ""
             }
            },
            "type": "scattergl"
           }
          ],
          "scattermapbox": [
           {
            "marker": {
             "colorbar": {
              "outlinewidth": 0,
              "ticks": ""
             }
            },
            "type": "scattermapbox"
           }
          ],
          "scatterpolar": [
           {
            "marker": {
             "colorbar": {
              "outlinewidth": 0,
              "ticks": ""
             }
            },
            "type": "scatterpolar"
           }
          ],
          "scatterpolargl": [
           {
            "marker": {
             "colorbar": {
              "outlinewidth": 0,
              "ticks": ""
             }
            },
            "type": "scatterpolargl"
           }
          ],
          "scatterternary": [
           {
            "marker": {
             "colorbar": {
              "outlinewidth": 0,
              "ticks": ""
             }
            },
            "type": "scatterternary"
           }
          ],
          "surface": [
           {
            "colorbar": {
             "outlinewidth": 0,
             "ticks": ""
            },
            "colorscale": [
             [
              0,
              "#0d0887"
             ],
             [
              0.1111111111111111,
              "#46039f"
             ],
             [
              0.2222222222222222,
              "#7201a8"
             ],
             [
              0.3333333333333333,
              "#9c179e"
             ],
             [
              0.4444444444444444,
              "#bd3786"
             ],
             [
              0.5555555555555556,
              "#d8576b"
             ],
             [
              0.6666666666666666,
              "#ed7953"
             ],
             [
              0.7777777777777778,
              "#fb9f3a"
             ],
             [
              0.8888888888888888,
              "#fdca26"
             ],
             [
              1,
              "#f0f921"
             ]
            ],
            "type": "surface"
           }
          ],
          "table": [
           {
            "cells": {
             "fill": {
              "color": "#EBF0F8"
             },
             "line": {
              "color": "white"
             }
            },
            "header": {
             "fill": {
              "color": "#C8D4E3"
             },
             "line": {
              "color": "white"
             }
            },
            "type": "table"
           }
          ]
         },
         "layout": {
          "annotationdefaults": {
           "arrowcolor": "#2a3f5f",
           "arrowhead": 0,
           "arrowwidth": 1
          },
          "coloraxis": {
           "colorbar": {
            "outlinewidth": 0,
            "ticks": ""
           }
          },
          "colorscale": {
           "diverging": [
            [
             0,
             "#8e0152"
            ],
            [
             0.1,
             "#c51b7d"
            ],
            [
             0.2,
             "#de77ae"
            ],
            [
             0.3,
             "#f1b6da"
            ],
            [
             0.4,
             "#fde0ef"
            ],
            [
             0.5,
             "#f7f7f7"
            ],
            [
             0.6,
             "#e6f5d0"
            ],
            [
             0.7,
             "#b8e186"
            ],
            [
             0.8,
             "#7fbc41"
            ],
            [
             0.9,
             "#4d9221"
            ],
            [
             1,
             "#276419"
            ]
           ],
           "sequential": [
            [
             0,
             "#0d0887"
            ],
            [
             0.1111111111111111,
             "#46039f"
            ],
            [
             0.2222222222222222,
             "#7201a8"
            ],
            [
             0.3333333333333333,
             "#9c179e"
            ],
            [
             0.4444444444444444,
             "#bd3786"
            ],
            [
             0.5555555555555556,
             "#d8576b"
            ],
            [
             0.6666666666666666,
             "#ed7953"
            ],
            [
             0.7777777777777778,
             "#fb9f3a"
            ],
            [
             0.8888888888888888,
             "#fdca26"
            ],
            [
             1,
             "#f0f921"
            ]
           ],
           "sequentialminus": [
            [
             0,
             "#0d0887"
            ],
            [
             0.1111111111111111,
             "#46039f"
            ],
            [
             0.2222222222222222,
             "#7201a8"
            ],
            [
             0.3333333333333333,
             "#9c179e"
            ],
            [
             0.4444444444444444,
             "#bd3786"
            ],
            [
             0.5555555555555556,
             "#d8576b"
            ],
            [
             0.6666666666666666,
             "#ed7953"
            ],
            [
             0.7777777777777778,
             "#fb9f3a"
            ],
            [
             0.8888888888888888,
             "#fdca26"
            ],
            [
             1,
             "#f0f921"
            ]
           ]
          },
          "colorway": [
           "#636efa",
           "#EF553B",
           "#00cc96",
           "#ab63fa",
           "#FFA15A",
           "#19d3f3",
           "#FF6692",
           "#B6E880",
           "#FF97FF",
           "#FECB52"
          ],
          "font": {
           "color": "#2a3f5f"
          },
          "geo": {
           "bgcolor": "white",
           "lakecolor": "white",
           "landcolor": "#E5ECF6",
           "showlakes": true,
           "showland": true,
           "subunitcolor": "white"
          },
          "hoverlabel": {
           "align": "left"
          },
          "hovermode": "closest",
          "mapbox": {
           "style": "light"
          },
          "paper_bgcolor": "white",
          "plot_bgcolor": "#E5ECF6",
          "polar": {
           "angularaxis": {
            "gridcolor": "white",
            "linecolor": "white",
            "ticks": ""
           },
           "bgcolor": "#E5ECF6",
           "radialaxis": {
            "gridcolor": "white",
            "linecolor": "white",
            "ticks": ""
           }
          },
          "scene": {
           "xaxis": {
            "backgroundcolor": "#E5ECF6",
            "gridcolor": "white",
            "gridwidth": 2,
            "linecolor": "white",
            "showbackground": true,
            "ticks": "",
            "zerolinecolor": "white"
           },
           "yaxis": {
            "backgroundcolor": "#E5ECF6",
            "gridcolor": "white",
            "gridwidth": 2,
            "linecolor": "white",
            "showbackground": true,
            "ticks": "",
            "zerolinecolor": "white"
           },
           "zaxis": {
            "backgroundcolor": "#E5ECF6",
            "gridcolor": "white",
            "gridwidth": 2,
            "linecolor": "white",
            "showbackground": true,
            "ticks": "",
            "zerolinecolor": "white"
           }
          },
          "shapedefaults": {
           "line": {
            "color": "#2a3f5f"
           }
          },
          "ternary": {
           "aaxis": {
            "gridcolor": "white",
            "linecolor": "white",
            "ticks": ""
           },
           "baxis": {
            "gridcolor": "white",
            "linecolor": "white",
            "ticks": ""
           },
           "bgcolor": "#E5ECF6",
           "caxis": {
            "gridcolor": "white",
            "linecolor": "white",
            "ticks": ""
           }
          },
          "title": {
           "x": 0.05
          },
          "xaxis": {
           "automargin": true,
           "gridcolor": "white",
           "linecolor": "white",
           "ticks": "",
           "title": {
            "standoff": 15
           },
           "zerolinecolor": "white",
           "zerolinewidth": 2
          },
          "yaxis": {
           "automargin": true,
           "gridcolor": "white",
           "linecolor": "white",
           "ticks": "",
           "title": {
            "standoff": 15
           },
           "zerolinecolor": "white",
           "zerolinewidth": 2
          }
         }
        },
        "width": 900,
        "xaxis": {
         "autorange": true,
         "range": [
          "2014-09-11 17:49:42.8571",
          "2020-05-01"
         ],
         "rangeselector": {
          "buttons": [
           {
            "count": 7,
            "label": "1w",
            "step": "day",
            "stepmode": "backward"
           },
           {
            "count": 1,
            "label": "1m",
            "step": "month",
            "stepmode": "backward"
           },
           {
            "count": 6,
            "label": "6m",
            "step": "month",
            "stepmode": "backward"
           },
           {
            "count": 1,
            "label": "1y",
            "step": "year",
            "stepmode": "backward"
           },
           {
            "step": "all"
           }
          ]
         },
         "rangeslider": {
          "autorange": true,
          "range": [
           "2014-09-11 17:49:42.8571",
           "2020-05-01"
          ],
          "visible": true,
          "yaxis": {
           "_template": null,
           "rangemode": "match"
          }
         },
         "title": {
          "text": "ds"
         },
         "type": "date"
        },
        "yaxis": {
         "autorange": true,
         "range": [
          -40793.42878244443,
          342774.1414264792
         ],
         "title": {
          "text": "y"
         },
         "type": "linear"
        }
       }
      },
      "image/png": "[encoded data removed]",
      "text/html": [
       "<div>                            <div id=\"b294f5f6-ee9a-41d6-906f-d7addc1226f7\" class=\"plotly-graph-div\" style=\"height:600px; width:900px;\"></div>            <script type=\"text/javascript\">                require([\"plotly\"], function(Plotly) {                    window.PLOTLYENV=window.PLOTLYENV || {};                                    if (document.getElementById(\"b294f5f6-ee9a-41d6-906f-d7addc1226f7\")) {                    Plotly.newPlot(                        \"b294f5f6-ee9a-41d6-906f-d7addc1226f7\",                        [{\"marker\": {\"color\": \"black\", \"size\": 4}, \"mode\": \"markers\", \"name\": \"Actual\", \"type\": \"scatter\", \"x\": [\"2015-01-01T00:00:00\", \"2015-02-01T00:00:00\", \"2015-03-01T00:00:00\", \"2015-04-01T00:00:00\", \"2015-05-01T00:00:00\", \"2015-06-01T00:00:00\", \"2015-07-01T00:00:00\", \"2015-08-01T00:00:00\", \"2015-09-01T00:00:00\", \"2015-10-01T00:00:00\", \"2015-11-01T00:00:00\", \"2015-12-01T00:00:00\", \"2016-01-01T00:00:00\", \"2016-02-01T00:00:00\", \"2016-03-01T00:00:00\", \"2016-04-01T00:00:00\", \"2016-05-01T00:00:00\", \"2016-06-01T00:00:00\", \"2016-07-01T00:00:00\", \"2016-08-01T00:00:00\", \"2016-09-01T00:00:00\", \"2016-10-01T00:00:00\", \"2016-11-01T00:00:00\", \"2016-12-01T00:00:00\", \"2017-01-01T00:00:00\", \"2017-02-01T00:00:00\", \"2017-03-01T00:00:00\", \"2017-04-01T00:00:00\", \"2017-05-01T00:00:00\", \"2017-06-01T00:00:00\", \"2017-07-01T00:00:00\", \"2017-08-01T00:00:00\", \"2017-09-01T00:00:00\", \"2017-10-01T00:00:00\", \"2017-11-01T00:00:00\", \"2017-12-01T00:00:00\", \"2018-01-01T00:00:00\", \"2018-02-01T00:00:00\", \"2018-03-01T00:00:00\", \"2018-04-01T00:00:00\", \"2018-05-01T00:00:00\"], \"y\": [11233, 1195, 7079, 19287, 1585, 0, 184, 138, 5798, 70594, 320066, 60930, 2485, 256, 768, 6015, 8112, 0, 0, 3826, 13740, 95616, 188102, 126010, 7524, 174, 2627, 9258, 4925, 717, 4415, 2916, 8496, 95821, 176920, 92563, 26475, 13844, 1584, 13077, 8546]}, {\"hoverinfo\": \"skip\", \"line\": {\"width\": 0}, \"mode\": \"lines\", \"type\": \"scatter\", \"x\": [\"2020-05-01T00:00:00\", \"2020-04-01T00:00:00\", \"2020-03-01T00:00:00\", \"2020-02-01T00:00:00\", \"2020-01-01T00:00:00\", \"2019-12-01T00:00:00\", \"2019-11-01T00:00:00\", \"2019-10-01T00:00:00\", \"2019-09-01T00:00:00\", \"2019-08-01T00:00:00\", \"2019-07-01T00:00:00\", \"2019-06-01T00:00:00\", \"2019-05-01T00:00:00\", \"2019-04-01T00:00:00\", \"2019-03-01T00:00:00\", \"2019-02-01T00:00:00\", \"2019-01-01T00:00:00\", \"2018-12-01T00:00:00\", \"2018-11-01T00:00:00\", \"2018-10-01T00:00:00\", \"2018-09-01T00:00:00\", \"2018-08-01T00:00:00\", \"2018-07-01T00:00:00\", \"2018-06-01T00:00:00\", \"2018-05-01T00:00:00\", \"2018-04-01T00:00:00\", \"2018-03-01T00:00:00\", \"2018-02-01T00:00:00\", \"2018-01-01T00:00:00\", \"2017-12-01T00:00:00\", \"2017-11-01T00:00:00\", \"2017-10-01T00:00:00\", \"2017-09-01T00:00:00\", \"2017-08-01T00:00:00\", \"2017-07-01T00:00:00\", \"2017-06-01T00:00:00\", \"2017-05-01T00:00:00\", \"2017-04-01T00:00:00\", \"2017-03-01T00:00:00\", \"2017-02-01T00:00:00\", \"2017-01-01T00:00:00\", \"2016-12-01T00:00:00\", \"2016-11-01T00:00:00\", \"2016-10-01T00:00:00\", \"2016-09-01T00:00:00\", \"2016-08-01T00:00:00\", \"2016-07-01T00:00:00\", \"2016-06-01T00:00:00\", \"2016-05-01T00:00:00\", \"2016-04-01T00:00:00\", \"2016-03-01T00:00:00\", \"2016-02-01T00:00:00\", \"2016-01-01T00:00:00\", \"2015-12-01T00:00:00\", \"2015-11-01T00:00:00\", \"2015-10-01T00:00:00\", \"2015-09-01T00:00:00\", \"2015-08-01T00:00:00\", \"2015-07-01T00:00:00\", \"2015-06-01T00:00:00\", \"2015-05-01T00:00:00\", \"2015-04-01T00:00:00\", \"2015-03-01T00:00:00\", \"2015-02-01T00:00:00\", \"2015-01-01T00:00:00\"], \"y\": [-5533.7696808186865, -4296.763977089271, -9599.789840891934, -6550.447812868359, -788.1423974735728, 91630.77073558791, 213775.8014976752, 93041.28181451482, -8074.635895139274, -4614.561665334039, -21615.050271998247, -21294.360426394, -8506.206337934495, -7541.551161194366, -14572.16659973883, -14185.196561261757, -1362.34318429394, 75388.47156485311, 191206.3229949674, 65646.07177568646, -10253.730353485766, -20048.768877979433, -13644.04435466056, -13496.102811484407, -11548.78485583875, -3486.055779049865, -14052.465692062056, -13633.435798692859, -6325.630296099278, 63002.957347205025, 182057.8530128843, 54426.554662332135, -11391.209573437049, -18070.6460105301, -17314.532261864857, -18938.08279063871, -14671.033067098486, -10332.412508916394, -17935.83488436931, -15560.880197581377, -10976.598149580446, 81471.49475939551, 206633.80317304534, 66681.20116879302, -14029.334973849891, -15956.224630518129, -13837.308579384377, -18245.696529164605, -12873.483528129967, -11401.700176299122, -20033.88409128768, -19494.382091983854, -11444.265714704485, 74165.84615450638, 227552.9707468778, 75184.48019795101, -9054.274383157599, -19204.017985182843, -21567.546158181605, -19689.444938052166, -15251.38819001018, -6317.934316158457, -16475.448145630686, -18021.775798557497, -7384.695932795645]}, {\"fill\": \"tonexty\", \"fillcolor\": \"rgba(0, 114, 178, 0.2)\", \"line\": {\"color\": \"#0072B2\", \"width\": 2}, \"mode\": \"lines\", \"name\": \"Predicted\", \"type\": \"scatter\", \"x\": [\"2020-05-01T00:00:00\", \"2020-04-01T00:00:00\", \"2020-03-01T00:00:00\", \"2020-02-01T00:00:00\", \"2020-01-01T00:00:00\", \"2019-12-01T00:00:00\", \"2019-11-01T00:00:00\", \"2019-10-01T00:00:00\", \"2019-09-01T00:00:00\", \"2019-08-01T00:00:00\", \"2019-07-01T00:00:00\", \"2019-06-01T00:00:00\", \"2019-05-01T00:00:00\", \"2019-04-01T00:00:00\", \"2019-03-01T00:00:00\", \"2019-02-01T00:00:00\", \"2019-01-01T00:00:00\", \"2018-12-01T00:00:00\", \"2018-11-01T00:00:00\", \"2018-10-01T00:00:00\", \"2018-09-01T00:00:00\", \"2018-08-01T00:00:00\", \"2018-07-01T00:00:00\", \"2018-06-01T00:00:00\", \"2018-05-01T00:00:00\", \"2018-04-01T00:00:00\", \"2018-03-01T00:00:00\", \"2018-02-01T00:00:00\", \"2018-01-01T00:00:00\", \"2017-12-01T00:00:00\", \"2017-11-01T00:00:00\", \"2017-10-01T00:00:00\", \"2017-09-01T00:00:00\", \"2017-08-01T00:00:00\", \"2017-07-01T00:00:00\", \"2017-06-01T00:00:00\", \"2017-05-01T00:00:00\", \"2017-04-01T00:00:00\", \"2017-03-01T00:00:00\", \"2017-02-01T00:00:00\", \"2017-01-01T00:00:00\", \"2016-12-01T00:00:00\", \"2016-11-01T00:00:00\", \"2016-10-01T00:00:00\", \"2016-09-01T00:00:00\", \"2016-08-01T00:00:00\", \"2016-07-01T00:00:00\", \"2016-06-01T00:00:00\", \"2016-05-01T00:00:00\", \"2016-04-01T00:00:00\", \"2016-03-01T00:00:00\", \"2016-02-01T00:00:00\", \"2016-01-01T00:00:00\", \"2015-12-01T00:00:00\", \"2015-11-01T00:00:00\", \"2015-10-01T00:00:00\", \"2015-09-01T00:00:00\", \"2015-08-01T00:00:00\", \"2015-07-01T00:00:00\", \"2015-06-01T00:00:00\", \"2015-05-01T00:00:00\", \"2015-04-01T00:00:00\", \"2015-03-01T00:00:00\", \"2015-02-01T00:00:00\", \"2015-01-01T00:00:00\"], \"y\": [14629.474616089818, 16023.223402406984, 10039.671235608417, 12177.107384444083, 20589.783395032562, 112498.63763097615, 233630.39074942406, 112987.85831102493, 11767.322525721607, 16149.896919365896, 0.0, 0.0, 11238.2233544406, 13013.392462207583, 7561.234641130504, 4856.451133904098, 18284.9499276484, 96984.2809861215, 211168.6063987445, 86775.41524915691, 10274.656222721933, 0.0, 6559.863563298706, 7638.233078243611, 8578.913440241347, 17431.073878627423, 5834.749332403018, 7793.861372745647, 13947.829493358466, 84849.07596060852, 203777.99703957554, 75995.99291402762, 9332.08398848525, 2385.2665303454887, 3018.695202043473, 0.0, 5029.724455703363, 9155.165221846662, 3136.2673398191764, 4569.5261603763065, 11010.16143371019, 101121.35388649296, 227758.46575443924, 87958.9252969064, 7290.5474211832625, 4424.122264443697, 4485.338964939456, 1485.5214329825249, 6875.431554307557, 9118.247037520006, 830.6332732320807, 724.3307422176076, 9011.628460465014, 93000.141443539, 249387.8960359113, 95263.53683404713, 11475.297172604704, 1042.6620841526783, 0.0, 1206.7429496985606, 4555.081748378994, 13582.729894474909, 3549.0156379059445, 2884.8103353217375, 13417.928087786648]}, {\"fill\": \"tonexty\", \"fillcolor\": \"rgba(0, 114, 178, 0.2)\", \"hoverinfo\": \"skip\", \"line\": {\"width\": 0}, \"mode\": \"lines\", \"type\": \"scatter\", \"x\": [\"2020-05-01T00:00:00\", \"2020-04-01T00:00:00\", \"2020-03-01T00:00:00\", \"2020-02-01T00:00:00\", \"2020-01-01T00:00:00\", \"2019-12-01T00:00:00\", \"2019-11-01T00:00:00\", \"2019-10-01T00:00:00\", \"2019-09-01T00:00:00\", \"2019-08-01T00:00:00\", \"2019-07-01T00:00:00\", \"2019-06-01T00:00:00\", \"2019-05-01T00:00:00\", \"2019-04-01T00:00:00\", \"2019-03-01T00:00:00\", \"2019-02-01T00:00:00\", \"2019-01-01T00:00:00\", \"2018-12-01T00:00:00\", \"2018-11-01T00:00:00\", \"2018-10-01T00:00:00\", \"2018-09-01T00:00:00\", \"2018-08-01T00:00:00\", \"2018-07-01T00:00:00\", \"2018-06-01T00:00:00\", \"2018-05-01T00:00:00\", \"2018-04-01T00:00:00\", \"2018-03-01T00:00:00\", \"2018-02-01T00:00:00\", \"2018-01-01T00:00:00\", \"2017-12-01T00:00:00\", \"2017-11-01T00:00:00\", \"2017-10-01T00:00:00\", \"2017-09-01T00:00:00\", \"2017-08-01T00:00:00\", \"2017-07-01T00:00:00\", \"2017-06-01T00:00:00\", \"2017-05-01T00:00:00\", \"2017-04-01T00:00:00\", \"2017-03-01T00:00:00\", \"2017-02-01T00:00:00\", \"2017-01-01T00:00:00\", \"2016-12-01T00:00:00\", \"2016-11-01T00:00:00\", \"2016-10-01T00:00:00\", \"2016-09-01T00:00:00\", \"2016-08-01T00:00:00\", \"2016-07-01T00:00:00\", \"2016-06-01T00:00:00\", \"2016-05-01T00:00:00\", \"2016-04-01T00:00:00\", \"2016-03-01T00:00:00\", \"2016-02-01T00:00:00\", \"2016-01-01T00:00:00\", \"2015-12-01T00:00:00\", \"2015-11-01T00:00:00\", \"2015-10-01T00:00:00\", \"2015-09-01T00:00:00\", \"2015-08-01T00:00:00\", \"2015-07-01T00:00:00\", \"2015-06-01T00:00:00\", \"2015-05-01T00:00:00\", \"2015-04-01T00:00:00\", \"2015-03-01T00:00:00\", \"2015-02-01T00:00:00\", \"2015-01-01T00:00:00\"], \"y\": [34301.783412420045, 36468.252521960036, 31396.955182584483, 33016.494742015144, 42801.736554642885, 131941.6464581372, 253627.12494404684, 133563.80220304118, 30912.916549152564, 38227.81375777924, 18547.24823081448, 17330.101162598705, 32087.92256042629, 33587.90008332756, 28414.218853849598, 24738.7356429164, 38500.39968971986, 117295.91880509163, 231952.29355092614, 108022.48927036923, 32137.47456068082, 20131.738882230067, 28505.180605752, 27952.243284853877, 30393.22550868629, 37910.126136461055, 24882.643844724113, 27509.54612007789, 33891.25954545899, 104548.34915224026, 224874.23239428952, 97461.84361160893, 31013.65657419364, 21684.642020803032, 24414.416676389326, 19414.684837717672, 26069.17561264828, 30240.77940534665, 23999.795257050693, 24931.28784763554, 32244.90323845081, 123266.55476504224, 247895.67780358685, 108226.19003850207, 27581.93838541457, 23945.206077148643, 24758.55778612501, 21895.25762732953, 26252.041483987985, 30668.08908729787, 22587.53844179488, 22108.723754273098, 28332.259983588843, 114036.21678484467, 269078.6940859738, 115460.4514692372, 31099.14074302484, 20529.06745598644, 19058.449070990642, 22208.574959285572, 26357.66784202423, 34200.17521207665, 24492.133721451668, 22833.674758958045, 32735.26773932957]}],                        {\"height\": 600, \"showlegend\": false, \"template\": {\"data\": {\"bar\": [{\"error_x\": {\"color\": \"#2a3f5f\"}, \"error_y\": {\"color\": \"#2a3f5f\"}, \"marker\": {\"line\": {\"color\": \"#E5ECF6\", \"width\": 0.5}}, \"type\": \"bar\"}], \"barpolar\": [{\"marker\": {\"line\": {\"color\": \"#E5ECF6\", \"width\": 0.5}}, \"type\": \"barpolar\"}], \"carpet\": [{\"aaxis\": {\"endlinecolor\": \"#2a3f5f\", \"gridcolor\": \"white\", \"linecolor\": \"white\", \"minorgridcolor\": \"white\", \"startlinecolor\": \"#2a3f5f\"}, \"baxis\": {\"endlinecolor\": \"#2a3f5f\", \"gridcolor\": \"white\", \"linecolor\": \"white\", \"minorgridcolor\": \"white\", \"startlinecolor\": \"#2a3f5f\"}, \"type\": \"carpet\"}], \"choropleth\": [{\"colorbar\": {\"outlinewidth\": 0, \"ticks\": \"\"}, \"type\": \"choropleth\"}], \"contour\": [{\"colorbar\": {\"outlinewidth\": 0, \"ticks\": \"\"}, \"colorscale\": [[0.0, \"#0d0887\"], [0.1111111111111111, \"#46039f\"], [0.2222222222222222, \"#7201a8\"], [0.3333333333333333, \"#9c179e\"], [0.4444444444444444, \"#bd3786\"], [0.5555555555555556, \"#d8576b\"], [0.6666666666666666, \"#ed7953\"], [0.7777777777777778, \"#fb9f3a\"], [0.8888888888888888, \"#fdca26\"], [1.0, \"#f0f921\"]], \"type\": \"contour\"}], \"contourcarpet\": [{\"colorbar\": {\"outlinewidth\": 0, \"ticks\": \"\"}, \"type\": \"contourcarpet\"}], \"heatmap\": [{\"colorbar\": {\"outlinewidth\": 0, \"ticks\": \"\"}, \"colorscale\": [[0.0, \"#0d0887\"], [0.1111111111111111, \"#46039f\"], [0.2222222222222222, \"#7201a8\"], [0.3333333333333333, \"#9c179e\"], [0.4444444444444444, \"#bd3786\"], [0.5555555555555556, \"#d8576b\"], [0.6666666666666666, \"#ed7953\"], [0.7777777777777778, \"#fb9f3a\"], [0.8888888888888888, \"#fdca26\"], [1.0, \"#f0f921\"]], \"type\": \"heatmap\"}], \"heatmapgl\": [{\"colorbar\": {\"outlinewidth\": 0, \"ticks\": \"\"}, \"colorscale\": [[0.0, \"#0d0887\"], [0.1111111111111111, \"#46039f\"], [0.2222222222222222, \"#7201a8\"], [0.3333333333333333, \"#9c179e\"], [0.4444444444444444, \"#bd3786\"], [0.5555555555555556, \"#d8576b\"], [0.6666666666666666, \"#ed7953\"], [0.7777777777777778, \"#fb9f3a\"], [0.8888888888888888, \"#fdca26\"], [1.0, \"#f0f921\"]], \"type\": \"heatmapgl\"}], \"histogram\": [{\"marker\": {\"colorbar\": {\"outlinewidth\": 0, \"ticks\": \"\"}}, \"type\": \"histogram\"}], \"histogram2d\": [{\"colorbar\": {\"outlinewidth\": 0, \"ticks\": \"\"}, \"colorscale\": [[0.0, \"#0d0887\"], [0.1111111111111111, \"#46039f\"], [0.2222222222222222, \"#7201a8\"], [0.3333333333333333, \"#9c179e\"], [0.4444444444444444, \"#bd3786\"], [0.5555555555555556, \"#d8576b\"], [0.6666666666666666, \"#ed7953\"], [0.7777777777777778, \"#fb9f3a\"], [0.8888888888888888, \"#fdca26\"], [1.0, \"#f0f921\"]], \"type\": \"histogram2d\"}], \"histogram2dcontour\": [{\"colorbar\": {\"outlinewidth\": 0, \"ticks\": \"\"}, \"colorscale\": [[0.0, \"#0d0887\"], [0.1111111111111111, \"#46039f\"], [0.2222222222222222, \"#7201a8\"], [0.3333333333333333, \"#9c179e\"], [0.4444444444444444, \"#bd3786\"], [0.5555555555555556, \"#d8576b\"], [0.6666666666666666, \"#ed7953\"], [0.7777777777777778, \"#fb9f3a\"], [0.8888888888888888, \"#fdca26\"], [1.0, \"#f0f921\"]], \"type\": \"histogram2dcontour\"}], \"mesh3d\": [{\"colorbar\": {\"outlinewidth\": 0, \"ticks\": \"\"}, \"type\": \"mesh3d\"}], \"parcoords\": [{\"line\": {\"colorbar\": {\"outlinewidth\": 0, \"ticks\": \"\"}}, \"type\": \"parcoords\"}], \"pie\": [{\"automargin\": true, \"type\": \"pie\"}], \"scatter\": [{\"marker\": {\"colorbar\": {\"outlinewidth\": 0, \"ticks\": \"\"}}, \"type\": \"scatter\"}], \"scatter3d\": [{\"line\": {\"colorbar\": {\"outlinewidth\": 0, \"ticks\": \"\"}}, \"marker\": {\"colorbar\": {\"outlinewidth\": 0, \"ticks\": \"\"}}, \"type\": \"scatter3d\"}], \"scattercarpet\": [{\"marker\": {\"colorbar\": {\"outlinewidth\": 0, \"ticks\": \"\"}}, \"type\": \"scattercarpet\"}], \"scattergeo\": [{\"marker\": {\"colorbar\": {\"outlinewidth\": 0, \"ticks\": \"\"}}, \"type\": \"scattergeo\"}], \"scattergl\": [{\"marker\": {\"colorbar\": {\"outlinewidth\": 0, \"ticks\": \"\"}}, \"type\": \"scattergl\"}], \"scattermapbox\": [{\"marker\": {\"colorbar\": {\"outlinewidth\": 0, \"ticks\": \"\"}}, \"type\": \"scattermapbox\"}], \"scatterpolar\": [{\"marker\": {\"colorbar\": {\"outlinewidth\": 0, \"ticks\": \"\"}}, \"type\": \"scatterpolar\"}], \"scatterpolargl\": [{\"marker\": {\"colorbar\": {\"outlinewidth\": 0, \"ticks\": \"\"}}, \"type\": \"scatterpolargl\"}], \"scatterternary\": [{\"marker\": {\"colorbar\": {\"outlinewidth\": 0, \"ticks\": \"\"}}, \"type\": \"scatterternary\"}], \"surface\": [{\"colorbar\": {\"outlinewidth\": 0, \"ticks\": \"\"}, \"colorscale\": [[0.0, \"#0d0887\"], [0.1111111111111111, \"#46039f\"], [0.2222222222222222, \"#7201a8\"], [0.3333333333333333, \"#9c179e\"], [0.4444444444444444, \"#bd3786\"], [0.5555555555555556, \"#d8576b\"], [0.6666666666666666, \"#ed7953\"], [0.7777777777777778, \"#fb9f3a\"], [0.8888888888888888, \"#fdca26\"], [1.0, \"#f0f921\"]], \"type\": \"surface\"}], \"table\": [{\"cells\": {\"fill\": {\"color\": \"#EBF0F8\"}, \"line\": {\"color\": \"white\"}}, \"header\": {\"fill\": {\"color\": \"#C8D4E3\"}, \"line\": {\"color\": \"white\"}}, \"type\": \"table\"}]}, \"layout\": {\"annotationdefaults\": {\"arrowcolor\": \"#2a3f5f\", \"arrowhead\": 0, \"arrowwidth\": 1}, \"coloraxis\": {\"colorbar\": {\"outlinewidth\": 0, \"ticks\": \"\"}}, \"colorscale\": {\"diverging\": [[0, \"#8e0152\"], [0.1, \"#c51b7d\"], [0.2, \"#de77ae\"], [0.3, \"#f1b6da\"], [0.4, \"#fde0ef\"], [0.5, \"#f7f7f7\"], [0.6, \"#e6f5d0\"], [0.7, \"#b8e186\"], [0.8, \"#7fbc41\"], [0.9, \"#4d9221\"], [1, \"#276419\"]], \"sequential\": [[0.0, \"#0d0887\"], [0.1111111111111111, \"#46039f\"], [0.2222222222222222, \"#7201a8\"], [0.3333333333333333, \"#9c179e\"], [0.4444444444444444, \"#bd3786\"], [0.5555555555555556, \"#d8576b\"], [0.6666666666666666, \"#ed7953\"], [0.7777777777777778, \"#fb9f3a\"], [0.8888888888888888, \"#fdca26\"], [1.0, \"#f0f921\"]], \"sequentialminus\": [[0.0, \"#0d0887\"], [0.1111111111111111, \"#46039f\"], [0.2222222222222222, \"#7201a8\"], [0.3333333333333333, \"#9c179e\"], [0.4444444444444444, \"#bd3786\"], [0.5555555555555556, \"#d8576b\"], [0.6666666666666666, \"#ed7953\"], [0.7777777777777778, \"#fb9f3a\"], [0.8888888888888888, \"#fdca26\"], [1.0, \"#f0f921\"]]}, \"colorway\": [\"#636efa\", \"#EF553B\", \"#00cc96\", \"#ab63fa\", \"#FFA15A\", \"#19d3f3\", \"#FF6692\", \"#B6E880\", \"#FF97FF\", \"#FECB52\"], \"font\": {\"color\": \"#2a3f5f\"}, \"geo\": {\"bgcolor\": \"white\", \"lakecolor\": \"white\", \"landcolor\": \"#E5ECF6\", \"showlakes\": true, \"showland\": true, \"subunitcolor\": \"white\"}, \"hoverlabel\": {\"align\": \"left\"}, \"hovermode\": \"closest\", \"mapbox\": {\"style\": \"light\"}, \"paper_bgcolor\": \"white\", \"plot_bgcolor\": \"#E5ECF6\", \"polar\": {\"angularaxis\": {\"gridcolor\": \"white\", \"linecolor\": \"white\", \"ticks\": \"\"}, \"bgcolor\": \"#E5ECF6\", \"radialaxis\": {\"gridcolor\": \"white\", \"linecolor\": \"white\", \"ticks\": \"\"}}, \"scene\": {\"xaxis\": {\"backgroundcolor\": \"#E5ECF6\", \"gridcolor\": \"white\", \"gridwidth\": 2, \"linecolor\": \"white\", \"showbackground\": true, \"ticks\": \"\", \"zerolinecolor\": \"white\"}, \"yaxis\": {\"backgroundcolor\": \"#E5ECF6\", \"gridcolor\": \"white\", \"gridwidth\": 2, \"linecolor\": \"white\", \"showbackground\": true, \"ticks\": \"\", \"zerolinecolor\": \"white\"}, \"zaxis\": {\"backgroundcolor\": \"#E5ECF6\", \"gridcolor\": \"white\", \"gridwidth\": 2, \"linecolor\": \"white\", \"showbackground\": true, \"ticks\": \"\", \"zerolinecolor\": \"white\"}}, \"shapedefaults\": {\"line\": {\"color\": \"#2a3f5f\"}}, \"ternary\": {\"aaxis\": {\"gridcolor\": \"white\", \"linecolor\": \"white\", \"ticks\": \"\"}, \"baxis\": {\"gridcolor\": \"white\", \"linecolor\": \"white\", \"ticks\": \"\"}, \"bgcolor\": \"#E5ECF6\", \"caxis\": {\"gridcolor\": \"white\", \"linecolor\": \"white\", \"ticks\": \"\"}}, \"title\": {\"x\": 0.05}, \"xaxis\": {\"automargin\": true, \"gridcolor\": \"white\", \"linecolor\": \"white\", \"ticks\": \"\", \"title\": {\"standoff\": 15}, \"zerolinecolor\": \"white\", \"zerolinewidth\": 2}, \"yaxis\": {\"automargin\": true, \"gridcolor\": \"white\", \"linecolor\": \"white\", \"ticks\": \"\", \"title\": {\"standoff\": 15}, \"zerolinecolor\": \"white\", \"zerolinewidth\": 2}}}, \"width\": 900, \"xaxis\": {\"rangeselector\": {\"buttons\": [{\"count\": 7, \"label\": \"1w\", \"step\": \"day\", \"stepmode\": \"backward\"}, {\"count\": 1, \"label\": \"1m\", \"step\": \"month\", \"stepmode\": \"backward\"}, {\"count\": 6, \"label\": \"6m\", \"step\": \"month\", \"stepmode\": \"backward\"}, {\"count\": 1, \"label\": \"1y\", \"step\": \"year\", \"stepmode\": \"backward\"}, {\"step\": \"all\"}]}, \"rangeslider\": {\"visible\": true}, \"title\": {\"text\": \"ds\"}, \"type\": \"date\"}, \"yaxis\": {\"title\": {\"text\": \"y\"}}},                        {\"responsive\": true}                    ).then(function(){\n",
       "                            \n",
       "var gd = document.getElementById('b294f5f6-ee9a-41d6-906f-d7addc1226f7');\n",
       "var x = new MutationObserver(function (mutations, observer) {{\n",
       "        var display = window.getComputedStyle(gd).display;\n",
       "        if (!display || display === 'none') {{\n",
       "            console.log([gd, 'removed!']);\n",
       "            Plotly.purge(gd);\n",
       "            observer.disconnect();\n",
       "        }}\n",
       "}});\n",
       "\n",
       "// Listen for the removal of the full notebook cells\n",
       "var notebookContainer = gd.closest('#notebook-container');\n",
       "if (notebookContainer) {{\n",
       "    x.observe(notebookContainer, {childList: true});\n",
       "}}\n",
       "\n",
       "// Listen for the clearing of the current output cell\n",
       "var outputEl = gd.closest('.output');\n",
       "if (outputEl) {{\n",
       "    x.observe(outputEl, {childList: true});\n",
       "}}\n",
       "\n",
       "                        })                };                });            </script>        </div>"
      ]
     },
     "metadata": {},
     "output_type": "display_data"
    }
   ],
   "source": [
    "plot_plotly(model, forecast)"
   ]
  },
  {
   "cell_type": "code",
   "execution_count": 22,
   "metadata": {},
   "outputs": [
    {
     "data": {
      "application/vnd.plotly.v1+json": {
       "config": {
        "plotlyServerURL": "https://plot.ly"
       },
       "data": [
        {
         "line": {
          "color": "#0072B2",
          "width": 2
         },
         "mode": "lines",
         "name": "trend",
         "type": "scatter",
         "x": [
          "2020-05-01T00:00:00",
          "2020-04-01T00:00:00",
          "2020-03-01T00:00:00",
          "2020-02-01T00:00:00",
          "2020-01-01T00:00:00",
          "2019-12-01T00:00:00",
          "2019-11-01T00:00:00",
          "2019-10-01T00:00:00",
          "2019-09-01T00:00:00",
          "2019-08-01T00:00:00",
          "2019-07-01T00:00:00",
          "2019-06-01T00:00:00",
          "2019-05-01T00:00:00",
          "2019-04-01T00:00:00",
          "2019-03-01T00:00:00",
          "2019-02-01T00:00:00",
          "2019-01-01T00:00:00",
          "2018-12-01T00:00:00",
          "2018-11-01T00:00:00",
          "2018-10-01T00:00:00",
          "2018-09-01T00:00:00",
          "2018-08-01T00:00:00",
          "2018-07-01T00:00:00",
          "2018-06-01T00:00:00",
          "2018-05-01T00:00:00",
          "2018-04-01T00:00:00",
          "2018-03-01T00:00:00",
          "2018-02-01T00:00:00",
          "2018-01-01T00:00:00",
          "2017-12-01T00:00:00",
          "2017-11-01T00:00:00",
          "2017-10-01T00:00:00",
          "2017-09-01T00:00:00",
          "2017-08-01T00:00:00",
          "2017-07-01T00:00:00",
          "2017-06-01T00:00:00",
          "2017-05-01T00:00:00",
          "2017-04-01T00:00:00",
          "2017-03-01T00:00:00",
          "2017-02-01T00:00:00",
          "2017-01-01T00:00:00",
          "2016-12-01T00:00:00",
          "2016-11-01T00:00:00",
          "2016-10-01T00:00:00",
          "2016-09-01T00:00:00",
          "2016-08-01T00:00:00",
          "2016-07-01T00:00:00",
          "2016-06-01T00:00:00",
          "2016-05-01T00:00:00",
          "2016-04-01T00:00:00",
          "2016-03-01T00:00:00",
          "2016-02-01T00:00:00",
          "2016-01-01T00:00:00",
          "2015-12-01T00:00:00",
          "2015-11-01T00:00:00",
          "2015-10-01T00:00:00",
          "2015-09-01T00:00:00",
          "2015-08-01T00:00:00",
          "2015-07-01T00:00:00",
          "2015-06-01T00:00:00",
          "2015-05-01T00:00:00",
          "2015-04-01T00:00:00",
          "2015-03-01T00:00:00",
          "2015-02-01T00:00:00",
          "2015-01-01T00:00:00"
         ],
         "xaxis": "x",
         "y": [
          50737.44068120743,
          50362.96831385589,
          49976.01353425931,
          49614.02357915283,
          49227.06879955624,
          48840.114019959656,
          48465.64165260812,
          48078.68687301154,
          47704.214505660006,
          47317.25972606342,
          46930.30494646684,
          46555.832579115304,
          46168.87779951872,
          45794.405432167194,
          45407.4506525706,
          45057.94310970917,
          44670.98833011258,
          44284.033550516,
          43909.561183164464,
          43522.60640356789,
          43148.13403621635,
          42761.179256619755,
          42374.22447702318,
          41999.75210967164,
          41612.79733007506,
          41238.32496272353,
          40851.370183126935,
          40501.86264026551,
          40114.90786066892,
          39727.95308107234,
          39353.480713720804,
          38966.52593412422,
          38592.05356677269,
          38205.0987871761,
          37818.14400840203,
          37443.67164180165,
          37056.71686300148,
          36682.244496420666,
          36295.289718143846,
          35945.78217629774,
          35558.827397744775,
          35171.87261996454,
          34797.40025437077,
          34410.445477014415,
          34035.97311172385,
          33649.018334582004,
          33262.06355721596,
          32887.59119202301,
          32500.63641404288,
          32126.16404897726,
          31739.209272129447,
          31377.219320053,
          30990.264543695415,
          30603.309767104518,
          30228.837402045054,
          29841.88262477298,
          29467.41026000977,
          29080.45548308778,
          28693.500705737442,
          28319.028340742778,
          27932.073564307215,
          27557.601200555462,
          27170.646424678653,
          26821.138885665365,
          26434.184110988495
         ],
         "yaxis": "y"
        },
        {
         "line": {
          "color": "rgba(0, 114, 178, 0.2)",
          "width": 0
         },
         "mode": "lines",
         "name": "trend_upper",
         "type": "scatter",
         "x": [
          "2020-05-01T00:00:00",
          "2020-04-01T00:00:00",
          "2020-03-01T00:00:00",
          "2020-02-01T00:00:00",
          "2020-01-01T00:00:00",
          "2019-12-01T00:00:00",
          "2019-11-01T00:00:00",
          "2019-10-01T00:00:00",
          "2019-09-01T00:00:00",
          "2019-08-01T00:00:00",
          "2019-07-01T00:00:00",
          "2019-06-01T00:00:00",
          "2019-05-01T00:00:00",
          "2019-04-01T00:00:00",
          "2019-03-01T00:00:00",
          "2019-02-01T00:00:00",
          "2019-01-01T00:00:00",
          "2018-12-01T00:00:00",
          "2018-11-01T00:00:00",
          "2018-10-01T00:00:00",
          "2018-09-01T00:00:00",
          "2018-08-01T00:00:00",
          "2018-07-01T00:00:00",
          "2018-06-01T00:00:00",
          "2018-05-01T00:00:00",
          "2018-04-01T00:00:00",
          "2018-03-01T00:00:00",
          "2018-02-01T00:00:00",
          "2018-01-01T00:00:00",
          "2017-12-01T00:00:00",
          "2017-11-01T00:00:00",
          "2017-10-01T00:00:00",
          "2017-09-01T00:00:00",
          "2017-08-01T00:00:00",
          "2017-07-01T00:00:00",
          "2017-06-01T00:00:00",
          "2017-05-01T00:00:00",
          "2017-04-01T00:00:00",
          "2017-03-01T00:00:00",
          "2017-02-01T00:00:00",
          "2017-01-01T00:00:00",
          "2016-12-01T00:00:00",
          "2016-11-01T00:00:00",
          "2016-10-01T00:00:00",
          "2016-09-01T00:00:00",
          "2016-08-01T00:00:00",
          "2016-07-01T00:00:00",
          "2016-06-01T00:00:00",
          "2016-05-01T00:00:00",
          "2016-04-01T00:00:00",
          "2016-03-01T00:00:00",
          "2016-02-01T00:00:00",
          "2016-01-01T00:00:00",
          "2015-12-01T00:00:00",
          "2015-11-01T00:00:00",
          "2015-10-01T00:00:00",
          "2015-09-01T00:00:00",
          "2015-08-01T00:00:00",
          "2015-07-01T00:00:00",
          "2015-06-01T00:00:00",
          "2015-05-01T00:00:00",
          "2015-04-01T00:00:00",
          "2015-03-01T00:00:00",
          "2015-02-01T00:00:00",
          "2015-01-01T00:00:00"
         ],
         "xaxis": "x",
         "y": [
          50737.44873139363,
          50362.97588305493,
          49976.02055522353,
          49614.03014767704,
          49227.07505770791,
          48840.11974916563,
          48465.6470083039,
          48078.69177575038,
          47704.21894518493,
          47317.26387181733,
          46930.30867567888,
          46555.83593574834,
          46168.88078134779,
          45794.408088900294,
          45407.452931217726,
          45057.94499078133,
          44670.9899207924,
          44284.03483149892,
          43909.562207456605,
          43522.607138189574,
          43148.13457661687,
          42761.17957650237,
          42374.224625557916,
          41999.7521484071,
          41612.79733007506,
          41238.32496272353,
          40851.370183126935,
          40501.86264026551,
          40114.90786066892,
          39727.95308107234,
          39353.480713720804,
          38966.52593412422,
          38592.05356677269,
          38205.0987871761,
          37818.14400840203,
          37443.67164180165,
          37056.71686300148,
          36682.244496420666,
          36295.289718143846,
          35945.78217629774,
          35558.827397744775,
          35171.87261996454,
          34797.40025437077,
          34410.445477014415,
          34035.97311172385,
          33649.018334582004,
          33262.06355721596,
          32887.59119202301,
          32500.63641404288,
          32126.16404897726,
          31739.209272129447,
          31377.219320053,
          30990.264543695415,
          30603.309767104518,
          30228.837402045054,
          29841.88262477298,
          29467.41026000977,
          29080.455483087782,
          28693.500705737442,
          28319.028340742778,
          27932.073564307215,
          27557.601200555462,
          27170.646424678653,
          26821.138885665365,
          26434.184110988495
         ],
         "yaxis": "y"
        },
        {
         "fill": "tonexty",
         "fillcolor": "rgba(0, 114, 178, 0.2)",
         "line": {
          "color": "rgba(0, 114, 178, 0.2)",
          "width": 0
         },
         "mode": "lines",
         "name": "trend_lower",
         "type": "scatter",
         "x": [
          "2020-05-01T00:00:00",
          "2020-04-01T00:00:00",
          "2020-03-01T00:00:00",
          "2020-02-01T00:00:00",
          "2020-01-01T00:00:00",
          "2019-12-01T00:00:00",
          "2019-11-01T00:00:00",
          "2019-10-01T00:00:00",
          "2019-09-01T00:00:00",
          "2019-08-01T00:00:00",
          "2019-07-01T00:00:00",
          "2019-06-01T00:00:00",
          "2019-05-01T00:00:00",
          "2019-04-01T00:00:00",
          "2019-03-01T00:00:00",
          "2019-02-01T00:00:00",
          "2019-01-01T00:00:00",
          "2018-12-01T00:00:00",
          "2018-11-01T00:00:00",
          "2018-10-01T00:00:00",
          "2018-09-01T00:00:00",
          "2018-08-01T00:00:00",
          "2018-07-01T00:00:00",
          "2018-06-01T00:00:00",
          "2018-05-01T00:00:00",
          "2018-04-01T00:00:00",
          "2018-03-01T00:00:00",
          "2018-02-01T00:00:00",
          "2018-01-01T00:00:00",
          "2017-12-01T00:00:00",
          "2017-11-01T00:00:00",
          "2017-10-01T00:00:00",
          "2017-09-01T00:00:00",
          "2017-08-01T00:00:00",
          "2017-07-01T00:00:00",
          "2017-06-01T00:00:00",
          "2017-05-01T00:00:00",
          "2017-04-01T00:00:00",
          "2017-03-01T00:00:00",
          "2017-02-01T00:00:00",
          "2017-01-01T00:00:00",
          "2016-12-01T00:00:00",
          "2016-11-01T00:00:00",
          "2016-10-01T00:00:00",
          "2016-09-01T00:00:00",
          "2016-08-01T00:00:00",
          "2016-07-01T00:00:00",
          "2016-06-01T00:00:00",
          "2016-05-01T00:00:00",
          "2016-04-01T00:00:00",
          "2016-03-01T00:00:00",
          "2016-02-01T00:00:00",
          "2016-01-01T00:00:00",
          "2015-12-01T00:00:00",
          "2015-11-01T00:00:00",
          "2015-10-01T00:00:00",
          "2015-09-01T00:00:00",
          "2015-08-01T00:00:00",
          "2015-07-01T00:00:00",
          "2015-06-01T00:00:00",
          "2015-05-01T00:00:00",
          "2015-04-01T00:00:00",
          "2015-03-01T00:00:00",
          "2015-02-01T00:00:00",
          "2015-01-01T00:00:00"
         ],
         "xaxis": "x",
         "y": [
          50737.43395291237,
          50362.962035820165,
          49976.00760465663,
          49614.01811760008,
          49227.06373193725,
          48840.10932888625,
          48465.637291287436,
          48078.68284545371,
          47704.21087694609,
          47317.256377626574,
          46930.30196900696,
          46555.829905278195,
          46168.87548500094,
          45794.403384992875,
          45407.448896303795,
          45057.941586642424,
          44670.98703484277,
          44284.032480735994,
          43909.560338227,
          43522.605781958344,
          43148.133602038855,
          42761.178987257204,
          42374.22435188688,
          41999.752079594546,
          41612.79733007506,
          41238.32496272353,
          40851.370183126935,
          40501.86264026551,
          40114.90786066892,
          39727.95308107234,
          39353.480713720804,
          38966.52593412422,
          38592.05356677269,
          38205.0987871761,
          37818.14400840203,
          37443.67164180165,
          37056.71686300148,
          36682.244496420666,
          36295.289718143846,
          35945.78217629774,
          35558.827397744775,
          35171.87261996454,
          34797.40025437077,
          34410.445477014415,
          34035.97311172385,
          33649.018334582004,
          33262.06355721596,
          32887.59119202301,
          32500.63641404288,
          32126.16404897726,
          31739.209272129447,
          31377.219320053,
          30990.264543695415,
          30603.309767104518,
          30228.837402045054,
          29841.88262477298,
          29467.41026000977,
          29080.455483087782,
          28693.500705737442,
          28319.028340742778,
          27932.073564307215,
          27557.601200555462,
          27170.646424678653,
          26821.138885665365,
          26434.184110988495
         ],
         "yaxis": "y"
        },
        {
         "line": {
          "color": "#0072B2",
          "width": 2
         },
         "mode": "lines",
         "name": "extra_regressors_multiplicative",
         "type": "scatter",
         "x": [
          "2020-05-01T00:00:00",
          "2020-04-01T00:00:00",
          "2020-03-01T00:00:00",
          "2020-02-01T00:00:00",
          "2020-01-01T00:00:00",
          "2019-12-01T00:00:00",
          "2019-11-01T00:00:00",
          "2019-10-01T00:00:00",
          "2019-09-01T00:00:00",
          "2019-08-01T00:00:00",
          "2019-07-01T00:00:00",
          "2019-06-01T00:00:00",
          "2019-05-01T00:00:00",
          "2019-04-01T00:00:00",
          "2019-03-01T00:00:00",
          "2019-02-01T00:00:00",
          "2019-01-01T00:00:00",
          "2018-12-01T00:00:00",
          "2018-11-01T00:00:00",
          "2018-10-01T00:00:00",
          "2018-09-01T00:00:00",
          "2018-08-01T00:00:00",
          "2018-07-01T00:00:00",
          "2018-06-01T00:00:00",
          "2018-05-01T00:00:00",
          "2018-04-01T00:00:00",
          "2018-03-01T00:00:00",
          "2018-02-01T00:00:00",
          "2018-01-01T00:00:00",
          "2017-12-01T00:00:00",
          "2017-11-01T00:00:00",
          "2017-10-01T00:00:00",
          "2017-09-01T00:00:00",
          "2017-08-01T00:00:00",
          "2017-07-01T00:00:00",
          "2017-06-01T00:00:00",
          "2017-05-01T00:00:00",
          "2017-04-01T00:00:00",
          "2017-03-01T00:00:00",
          "2017-02-01T00:00:00",
          "2017-01-01T00:00:00",
          "2016-12-01T00:00:00",
          "2016-11-01T00:00:00",
          "2016-10-01T00:00:00",
          "2016-09-01T00:00:00",
          "2016-08-01T00:00:00",
          "2016-07-01T00:00:00",
          "2016-06-01T00:00:00",
          "2016-05-01T00:00:00",
          "2016-04-01T00:00:00",
          "2016-03-01T00:00:00",
          "2016-02-01T00:00:00",
          "2016-01-01T00:00:00",
          "2015-12-01T00:00:00",
          "2015-11-01T00:00:00",
          "2015-10-01T00:00:00",
          "2015-09-01T00:00:00",
          "2015-08-01T00:00:00",
          "2015-07-01T00:00:00",
          "2015-06-01T00:00:00",
          "2015-05-01T00:00:00",
          "2015-04-01T00:00:00",
          "2015-03-01T00:00:00",
          "2015-02-01T00:00:00",
          "2015-01-01T00:00:00"
         ],
         "xaxis": "x2",
         "y": [
          -0.2394942415306116,
          -0.19521620923787628,
          -0.12514491750415785,
          -0.083739442421358,
          -0.08006239133986415,
          -0.13928192769220643,
          -0.24410060223324961,
          -0.28705919950675374,
          -0.314798761321453,
          0.007939398205188367,
          -0.3271572055573023,
          -0.422564382117909,
          -0.21488486426411005,
          -0.246232056567951,
          -0.15469077009241106,
          -0.14073743112855028,
          -0.055932452788089976,
          0.014027114665162682,
          -0.06574941060780239,
          -0.3076693171979622,
          -0.2851610712719466,
          -0.2759178294142481,
          -0.08239256410906906,
          -0.15449381326311656,
          -0.20210340789296,
          -0.03218749394812702,
          -0.0790857040821857,
          0.04143341262576368,
          -0.07865480329519729,
          0.023082173359490185,
          -0.08568060046274385,
          -0.2101926120877669,
          -0.23528281507844417,
          -0.14281396411250885,
          -0.08120827657241367,
          -0.278135459505377,
          -0.20925532483987602,
          -0.11028831901812311,
          -0.011550221259796267,
          0.09691451467619619,
          -0.06965536950065271,
          -0.07229567936015696,
          -0.10217143134680687,
          -0.364857107396713,
          -0.20548161880549204,
          0.015390657321593976,
          0.07074895540736621,
          -0.13915548156095686,
          -0.05133941521934428,
          0.04669589987484701,
          0.08738472924917837,
          0.0837989153619299,
          0.08768600444586734,
          0.21565491804993034,
          0.20742437767174837,
          0.04607768368198669,
          0.09934877990625021,
          0.12053593784827352,
          0.09507118205458209,
          0.04618077681906595,
          0.05845142811179134,
          0.273249147493347,
          0.26500921629750107,
          0.37000010710114417,
          0.41125628798780517
         ],
         "yaxis": "y2"
        },
        {
         "line": {
          "color": "#0072B2",
          "width": 2
         },
         "mode": "lines",
         "name": "monthly_on_season",
         "type": "scatter",
         "x": [
          "2017-01-01T00:00:00",
          "2017-01-02T00:24:00",
          "2017-01-03T00:48:00",
          "2017-01-04T01:12:00",
          "2017-01-05T01:36:00",
          "2017-01-06T02:00:00",
          "2017-01-07T02:24:00",
          "2017-01-08T02:48:00",
          "2017-01-09T03:12:00",
          "2017-01-10T03:36:00",
          "2017-01-11T04:00:00",
          "2017-01-12T04:24:00",
          "2017-01-13T04:48:00",
          "2017-01-14T05:12:00",
          "2017-01-15T05:36:00",
          "2017-01-16T06:00:00",
          "2017-01-17T06:24:00",
          "2017-01-18T06:48:00",
          "2017-01-19T07:12:00",
          "2017-01-20T07:36:00",
          "2017-01-21T08:00:00",
          "2017-01-22T08:24:00",
          "2017-01-23T08:48:00",
          "2017-01-24T09:12:00",
          "2017-01-25T09:36:00",
          "2017-01-26T10:00:00",
          "2017-01-27T10:24:00",
          "2017-01-28T10:48:00",
          "2017-01-29T11:12:00",
          "2017-01-30T11:36:00"
         ],
         "xaxis": "x3",
         "y": [
          44314.93865391376,
          83784.33855193782,
          89582.76830862205,
          48615.5876619259,
          -12934.423175146814,
          -52051.965591036984,
          -46626.30278225714,
          -13105.618645735607,
          11590.62921656104,
          5300.803988508051,
          -21011.51279957048,
          -37911.74809560604,
          -28627.78850652121,
          -5006.063866720801,
          6655.078617239483,
          -6049.703720719422,
          -28822.46733141851,
          -36326.95458222221,
          -19578.60770760939,
          3826.386677758159,
          7760.352236600057,
          -14429.437378203214,
          -41142.66749918474,
          -42995.68217118589,
          -12539.75113400993,
          27037.89122089058,
          44005.617035570474,
          29620.260924914663,
          7374.1368672238395,
          9691.905025610291
         ],
         "yaxis": "y3"
        },
        {
         "line": {
          "color": "#0072B2",
          "width": 2
         },
         "mode": "lines",
         "name": "yearly",
         "type": "scatter",
         "x": [
          "2017-01-01T00:00:00",
          "2017-01-02T00:00:59.178082",
          "2017-01-03T00:01:58.356164",
          "2017-01-04T00:02:57.534246",
          "2017-01-05T00:03:56.712328",
          "2017-01-06T00:04:55.890411",
          "2017-01-07T00:05:55.068493",
          "2017-01-08T00:06:54.246575",
          "2017-01-09T00:07:53.424657",
          "2017-01-10T00:08:52.602739",
          "2017-01-11T00:09:51.780822",
          "2017-01-12T00:10:50.958904",
          "2017-01-13T00:11:50.136986",
          "2017-01-14T00:12:49.315068",
          "2017-01-15T00:13:48.493150",
          "2017-01-16T00:14:47.671232",
          "2017-01-17T00:15:46.849315",
          "2017-01-18T00:16:46.027397",
          "2017-01-19T00:17:45.205479",
          "2017-01-20T00:18:44.383561",
          "2017-01-21T00:19:43.561643",
          "2017-01-22T00:20:42.739726",
          "2017-01-23T00:21:41.917808",
          "2017-01-24T00:22:41.095890",
          "2017-01-25T00:23:40.273972",
          "2017-01-26T00:24:39.452054",
          "2017-01-27T00:25:38.630137",
          "2017-01-28T00:26:37.808219",
          "2017-01-29T00:27:36.986301",
          "2017-01-30T00:28:36.164383",
          "2017-01-31T00:29:35.342465",
          "2017-02-01T00:30:34.520547",
          "2017-02-02T00:31:33.698630",
          "2017-02-03T00:32:32.876712",
          "2017-02-04T00:33:32.054794",
          "2017-02-05T00:34:31.232876",
          "2017-02-06T00:35:30.410958",
          "2017-02-07T00:36:29.589041",
          "2017-02-08T00:37:28.767123",
          "2017-02-09T00:38:27.945205",
          "2017-02-10T00:39:27.123287",
          "2017-02-11T00:40:26.301369",
          "2017-02-12T00:41:25.479452",
          "2017-02-13T00:42:24.657534",
          "2017-02-14T00:43:23.835616",
          "2017-02-15T00:44:23.013698",
          "2017-02-16T00:45:22.191780",
          "2017-02-17T00:46:21.369862",
          "2017-02-18T00:47:20.547945",
          "2017-02-19T00:48:19.726027",
          "2017-02-20T00:49:18.904109",
          "2017-02-21T00:50:18.082191",
          "2017-02-22T00:51:17.260273",
          "2017-02-23T00:52:16.438356",
          "2017-02-24T00:53:15.616438",
          "2017-02-25T00:54:14.794520",
          "2017-02-26T00:55:13.972602",
          "2017-02-27T00:56:13.150684",
          "2017-02-28T00:57:12.328767",
          "2017-03-01T00:58:11.506849",
          "2017-03-02T00:59:10.684931",
          "2017-03-03T01:00:09.863013",
          "2017-03-04T01:01:09.041095",
          "2017-03-05T01:02:08.219177",
          "2017-03-06T01:03:07.397260",
          "2017-03-07T01:04:06.575342",
          "2017-03-08T01:05:05.753424",
          "2017-03-09T01:06:04.931506",
          "2017-03-10T01:07:04.109588",
          "2017-03-11T01:08:03.287671",
          "2017-03-12T01:09:02.465753",
          "2017-03-13T01:10:01.643835",
          "2017-03-14T01:11:00.821917",
          "2017-03-15T01:12:00",
          "2017-03-16T01:12:59.178082",
          "2017-03-17T01:13:58.356164",
          "2017-03-18T01:14:57.534246",
          "2017-03-19T01:15:56.712328",
          "2017-03-20T01:16:55.890411",
          "2017-03-21T01:17:55.068493",
          "2017-03-22T01:18:54.246575",
          "2017-03-23T01:19:53.424657",
          "2017-03-24T01:20:52.602739",
          "2017-03-25T01:21:51.780822",
          "2017-03-26T01:22:50.958904",
          "2017-03-27T01:23:50.136986",
          "2017-03-28T01:24:49.315068",
          "2017-03-29T01:25:48.493150",
          "2017-03-30T01:26:47.671232",
          "2017-03-31T01:27:46.849315",
          "2017-04-01T01:28:46.027397",
          "2017-04-02T01:29:45.205479",
          "2017-04-03T01:30:44.383561",
          "2017-04-04T01:31:43.561643",
          "2017-04-05T01:32:42.739726",
          "2017-04-06T01:33:41.917808",
          "2017-04-07T01:34:41.095890",
          "2017-04-08T01:35:40.273972",
          "2017-04-09T01:36:39.452054",
          "2017-04-10T01:37:38.630137",
          "2017-04-11T01:38:37.808219",
          "2017-04-12T01:39:36.986301",
          "2017-04-13T01:40:36.164383",
          "2017-04-14T01:41:35.342465",
          "2017-04-15T01:42:34.520547",
          "2017-04-16T01:43:33.698630",
          "2017-04-17T01:44:32.876712",
          "2017-04-18T01:45:32.054794",
          "2017-04-19T01:46:31.232876",
          "2017-04-20T01:47:30.410958",
          "2017-04-21T01:48:29.589041",
          "2017-04-22T01:49:28.767123",
          "2017-04-23T01:50:27.945205",
          "2017-04-24T01:51:27.123287",
          "2017-04-25T01:52:26.301369",
          "2017-04-26T01:53:25.479452",
          "2017-04-27T01:54:24.657534",
          "2017-04-28T01:55:23.835616",
          "2017-04-29T01:56:23.013698",
          "2017-04-30T01:57:22.191780",
          "2017-05-01T01:58:21.369862",
          "2017-05-02T01:59:20.547945",
          "2017-05-03T02:00:19.726027",
          "2017-05-04T02:01:18.904109",
          "2017-05-05T02:02:18.082191",
          "2017-05-06T02:03:17.260273",
          "2017-05-07T02:04:16.438356",
          "2017-05-08T02:05:15.616438",
          "2017-05-09T02:06:14.794520",
          "2017-05-10T02:07:13.972602",
          "2017-05-11T02:08:13.150684",
          "2017-05-12T02:09:12.328767",
          "2017-05-13T02:10:11.506849",
          "2017-05-14T02:11:10.684931",
          "2017-05-15T02:12:09.863013",
          "2017-05-16T02:13:09.041095",
          "2017-05-17T02:14:08.219177",
          "2017-05-18T02:15:07.397260",
          "2017-05-19T02:16:06.575342",
          "2017-05-20T02:17:05.753424",
          "2017-05-21T02:18:04.931506",
          "2017-05-22T02:19:04.109588",
          "2017-05-23T02:20:03.287671",
          "2017-05-24T02:21:02.465753",
          "2017-05-25T02:22:01.643835",
          "2017-05-26T02:23:00.821917",
          "2017-05-27T02:24:00",
          "2017-05-28T02:24:59.178082",
          "2017-05-29T02:25:58.356164",
          "2017-05-30T02:26:57.534246",
          "2017-05-31T02:27:56.712328",
          "2017-06-01T02:28:55.890411",
          "2017-06-02T02:29:55.068493",
          "2017-06-03T02:30:54.246575",
          "2017-06-04T02:31:53.424657",
          "2017-06-05T02:32:52.602739",
          "2017-06-06T02:33:51.780822",
          "2017-06-07T02:34:50.958904",
          "2017-06-08T02:35:50.136986",
          "2017-06-09T02:36:49.315068",
          "2017-06-10T02:37:48.493150",
          "2017-06-11T02:38:47.671232",
          "2017-06-12T02:39:46.849315",
          "2017-06-13T02:40:46.027397",
          "2017-06-14T02:41:45.205479",
          "2017-06-15T02:42:44.383561",
          "2017-06-16T02:43:43.561643",
          "2017-06-17T02:44:42.739726",
          "2017-06-18T02:45:41.917808",
          "2017-06-19T02:46:41.095890",
          "2017-06-20T02:47:40.273972",
          "2017-06-21T02:48:39.452054",
          "2017-06-22T02:49:38.630137",
          "2017-06-23T02:50:37.808219",
          "2017-06-24T02:51:36.986301",
          "2017-06-25T02:52:36.164383",
          "2017-06-26T02:53:35.342465",
          "2017-06-27T02:54:34.520547",
          "2017-06-28T02:55:33.698630",
          "2017-06-29T02:56:32.876712",
          "2017-06-30T02:57:32.054794",
          "2017-07-01T02:58:31.232876",
          "2017-07-02T02:59:30.410958",
          "2017-07-03T03:00:29.589041",
          "2017-07-04T03:01:28.767123",
          "2017-07-05T03:02:27.945205",
          "2017-07-06T03:03:27.123287",
          "2017-07-07T03:04:26.301369",
          "2017-07-08T03:05:25.479452",
          "2017-07-09T03:06:24.657534",
          "2017-07-10T03:07:23.835616",
          "2017-07-11T03:08:23.013698",
          "2017-07-12T03:09:22.191780",
          "2017-07-13T03:10:21.369862",
          "2017-07-14T03:11:20.547945",
          "2017-07-15T03:12:19.726027",
          "2017-07-16T03:13:18.904109",
          "2017-07-17T03:14:18.082191",
          "2017-07-18T03:15:17.260273",
          "2017-07-19T03:16:16.438356",
          "2017-07-20T03:17:15.616438",
          "2017-07-21T03:18:14.794520",
          "2017-07-22T03:19:13.972602",
          "2017-07-23T03:20:13.150684",
          "2017-07-24T03:21:12.328767",
          "2017-07-25T03:22:11.506849",
          "2017-07-26T03:23:10.684931",
          "2017-07-27T03:24:09.863013",
          "2017-07-28T03:25:09.041095",
          "2017-07-29T03:26:08.219177",
          "2017-07-30T03:27:07.397260",
          "2017-07-31T03:28:06.575342",
          "2017-08-01T03:29:05.753424",
          "2017-08-02T03:30:04.931506",
          "2017-08-03T03:31:04.109588",
          "2017-08-04T03:32:03.287671",
          "2017-08-05T03:33:02.465753",
          "2017-08-06T03:34:01.643835",
          "2017-08-07T03:35:00.821917",
          "2017-08-08T03:36:00",
          "2017-08-09T03:36:59.178082",
          "2017-08-10T03:37:58.356164",
          "2017-08-11T03:38:57.534246",
          "2017-08-12T03:39:56.712328",
          "2017-08-13T03:40:55.890411",
          "2017-08-14T03:41:55.068493",
          "2017-08-15T03:42:54.246575",
          "2017-08-16T03:43:53.424657",
          "2017-08-17T03:44:52.602739",
          "2017-08-18T03:45:51.780822",
          "2017-08-19T03:46:50.958904",
          "2017-08-20T03:47:50.136986",
          "2017-08-21T03:48:49.315068",
          "2017-08-22T03:49:48.493150",
          "2017-08-23T03:50:47.671232",
          "2017-08-24T03:51:46.849315",
          "2017-08-25T03:52:46.027397",
          "2017-08-26T03:53:45.205479",
          "2017-08-27T03:54:44.383561",
          "2017-08-28T03:55:43.561643",
          "2017-08-29T03:56:42.739726",
          "2017-08-30T03:57:41.917808",
          "2017-08-31T03:58:41.095890",
          "2017-09-01T03:59:40.273972",
          "2017-09-02T04:00:39.452054",
          "2017-09-03T04:01:38.630137",
          "2017-09-04T04:02:37.808219",
          "2017-09-05T04:03:36.986301",
          "2017-09-06T04:04:36.164383",
          "2017-09-07T04:05:35.342465",
          "2017-09-08T04:06:34.520547",
          "2017-09-09T04:07:33.698630",
          "2017-09-10T04:08:32.876712",
          "2017-09-11T04:09:32.054794",
          "2017-09-12T04:10:31.232876",
          "2017-09-13T04:11:30.410958",
          "2017-09-14T04:12:29.589041",
          "2017-09-15T04:13:28.767123",
          "2017-09-16T04:14:27.945205",
          "2017-09-17T04:15:27.123287",
          "2017-09-18T04:16:26.301369",
          "2017-09-19T04:17:25.479452",
          "2017-09-20T04:18:24.657534",
          "2017-09-21T04:19:23.835616",
          "2017-09-22T04:20:23.013698",
          "2017-09-23T04:21:22.191780",
          "2017-09-24T04:22:21.369862",
          "2017-09-25T04:23:20.547945",
          "2017-09-26T04:24:19.726027",
          "2017-09-27T04:25:18.904109",
          "2017-09-28T04:26:18.082191",
          "2017-09-29T04:27:17.260273",
          "2017-09-30T04:28:16.438356",
          "2017-10-01T04:29:15.616438",
          "2017-10-02T04:30:14.794520",
          "2017-10-03T04:31:13.972602",
          "2017-10-04T04:32:13.150684",
          "2017-10-05T04:33:12.328767",
          "2017-10-06T04:34:11.506849",
          "2017-10-07T04:35:10.684931",
          "2017-10-08T04:36:09.863013",
          "2017-10-09T04:37:09.041095",
          "2017-10-10T04:38:08.219177",
          "2017-10-11T04:39:07.397260",
          "2017-10-12T04:40:06.575342",
          "2017-10-13T04:41:05.753424",
          "2017-10-14T04:42:04.931506",
          "2017-10-15T04:43:04.109588",
          "2017-10-16T04:44:03.287671",
          "2017-10-17T04:45:02.465753",
          "2017-10-18T04:46:01.643835",
          "2017-10-19T04:47:00.821917",
          "2017-10-20T04:48:00",
          "2017-10-21T04:48:59.178082",
          "2017-10-22T04:49:58.356164",
          "2017-10-23T04:50:57.534246",
          "2017-10-24T04:51:56.712328",
          "2017-10-25T04:52:55.890411",
          "2017-10-26T04:53:55.068493",
          "2017-10-27T04:54:54.246575",
          "2017-10-28T04:55:53.424657",
          "2017-10-29T04:56:52.602739",
          "2017-10-30T04:57:51.780822",
          "2017-10-31T04:58:50.958904",
          "2017-11-01T04:59:50.136986",
          "2017-11-02T05:00:49.315068",
          "2017-11-03T05:01:48.493150",
          "2017-11-04T05:02:47.671232",
          "2017-11-05T05:03:46.849315",
          "2017-11-06T05:04:46.027397",
          "2017-11-07T05:05:45.205479",
          "2017-11-08T05:06:44.383561",
          "2017-11-09T05:07:43.561643",
          "2017-11-10T05:08:42.739726",
          "2017-11-11T05:09:41.917808",
          "2017-11-12T05:10:41.095890",
          "2017-11-13T05:11:40.273972",
          "2017-11-14T05:12:39.452054",
          "2017-11-15T05:13:38.630137",
          "2017-11-16T05:14:37.808219",
          "2017-11-17T05:15:36.986301",
          "2017-11-18T05:16:36.164383",
          "2017-11-19T05:17:35.342465",
          "2017-11-20T05:18:34.520547",
          "2017-11-21T05:19:33.698630",
          "2017-11-22T05:20:32.876712",
          "2017-11-23T05:21:32.054794",
          "2017-11-24T05:22:31.232876",
          "2017-11-25T05:23:30.410958",
          "2017-11-26T05:24:29.589041",
          "2017-11-27T05:25:28.767123",
          "2017-11-28T05:26:27.945205",
          "2017-11-29T05:27:27.123287",
          "2017-11-30T05:28:26.301369",
          "2017-12-01T05:29:25.479452",
          "2017-12-02T05:30:24.657534",
          "2017-12-03T05:31:23.835616",
          "2017-12-04T05:32:23.013698",
          "2017-12-05T05:33:22.191780",
          "2017-12-06T05:34:21.369862",
          "2017-12-07T05:35:20.547945",
          "2017-12-08T05:36:19.726027",
          "2017-12-09T05:37:18.904109",
          "2017-12-10T05:38:18.082191",
          "2017-12-11T05:39:17.260273",
          "2017-12-12T05:40:16.438356",
          "2017-12-13T05:41:15.616438",
          "2017-12-14T05:42:14.794520",
          "2017-12-15T05:43:13.972602",
          "2017-12-16T05:44:13.150684",
          "2017-12-17T05:45:12.328767",
          "2017-12-18T05:46:11.506849",
          "2017-12-19T05:47:10.684931",
          "2017-12-20T05:48:09.863013",
          "2017-12-21T05:49:09.041095",
          "2017-12-22T05:50:08.219177",
          "2017-12-23T05:51:07.397260",
          "2017-12-24T05:52:06.575342",
          "2017-12-25T05:53:05.753424",
          "2017-12-26T05:54:04.931506",
          "2017-12-27T05:55:04.109588",
          "2017-12-28T05:56:03.287671",
          "2017-12-29T05:57:02.465753",
          "2017-12-30T05:58:01.643835",
          "2017-12-31T05:59:00.821917"
         ],
         "xaxis": "x4",
         "y": [
          -22071.802702634737,
          -17720.36615828216,
          -12571.188465122068,
          -6829.186439579951,
          -709.3452193872135,
          5569.672811057614,
          11791.853082899805,
          17749.91291738969,
          23250.97969294301,
          28121.712694989605,
          32212.73672592043,
          35402.277449877605,
          37598.91308520011,
          38743.38370599472,
          38809.427289182204,
          37803.63993924652,
          35764.385630239805,
          32759.80753296984,
          28885.017801627328,
          24258.56489750372,
          19018.29652398484,
          13316.751545445057,
          7316.225467408947,
          1183.6609049359301,
          -4914.483174853229,
          -10817.23179159061,
          -16373.818742154124,
          -21448.001352588377,
          -25921.84510193873,
          -29698.875717612147,
          -32706.516763401138,
          -34897.75325849904,
          -36251.98579724725,
          -36775.06426215763,
          -36498.514808697604,
          -35477.99762752175,
          -33791.05536612275,
          -31534.232381171903,
          -28819.66261721628,
          -25771.238386694404,
          -22520.483266408337,
          -19202.259448477602,
          -15950.4430233647,
          -12893.69978487474,
          -10151.489302416314,
          -7830.4163995772415,
          -6021.03710207142,
          -4795.210978826098,
          -4204.0740776070725,
          -4276.686909224681,
          -5019.390776053356,
          -6415.883815226125,
          -8428.00610064932,
          -10997.20168093546,
          -14046.605157560682,
          -17483.6819291319,
          -21203.335073717088,
          -25091.37848110818,
          -29028.265648250617,
          -32892.95679593915,
          -36566.80382069565,
          -39937.333126134174,
          -42901.81053454242,
          -45370.48010238358,
          -47269.37949729251,
          -48542.64828213032,
          -49154.261559380626,
          -49089.13945212151,
          -48353.60227423574,
          -46975.16138402693,
          -45001.656001455034,
          -42499.76609389217,
          -39552.950201639884,
          -36258.87422404579,
          -32726.412219101607,
          -29072.312741173984,
          -25417.633800275133,
          -21884.055902989872,
          -18590.18565988713,
          -15647.9620512716,
          -13159.273666893181,
          -11212.888213471739,
          -9881.785551105704,
          -9220.972798453116,
          -9265.845038866446,
          -10031.138332983175,
          -11510.503617908693,
          -13676.711202898507,
          -16482.476530652224,
          -19861.87923802905,
          -23732.329876168897,
          -27997.022468244442,
          -32547.796867477704,
          -37268.32304591671,
          -42037.510336975945,
          -46733.038527289296,
          -51234.90471198053,
          -55428.880060730655,
          -59209.77406089285,
          -62484.41028532108,
          -65174.22706026689,
          -67217.4282796706,
          -68570.62365473075,
          -69209.91346125818,
          -69131.38986196327,
          -68351.04461776382,
          -66904.09091743967,
          -64843.72460658006,
          -62239.36675612996,
          -59174.444780160906,
          -55743.78273874618,
          -52050.68265020284,
          -48203.787266649684,
          -44313.82058930231,
          -40490.30526301835,
          -36838.35582380243,
          -33455.64360444447,
          -30429.623052594285,
          -27835.10048297068,
          -25732.215156877715,
          -24164.889416309255,
          -23159.789806265617,
          -22725.825167794486,
          -22854.19106330805,
          -23518.95312384324,
          -24678.145494089862,
          -26275.344998867244,
          -28241.667432039943,
          -30498.119904375177,
          -32958.232849489585,
          -35530.88738191684,
          -38123.24845193523,
          -40643.71179607843,
          -43004.77309192187,
          -45125.73096444328,
          -46935.14143698245,
          -48372.94987248601,
          -49392.23713510696,
          -49960.529269916995,
          -50060.63405294303,
          -49690.982856287075,
          -48865.47193254806,
          -47612.81295694588,
          -45975.41798652439,
          -44007.858428940766,
          -41774.95071252786,
          -39349.532717400434,
          -36810.004312725265,
          -34237.71227586269,
          -31714.26423335242,
          -29318.857943442483,
          -27125.711190164486,
          -25201.67382907782,
          -23604.097241717143,
          -22379.02782680721,
          -21559.780464437325,
          -21165.93547624233,
          -21202.788869058197,
          -21661.271026988892,
          -22518.333973197157,
          -23737.792330019358,
          -25271.58864214661,
          -27061.44024213432,
          -29040.81275747623,
          -31137.155063032573,
          -33274.32228679848,
          -35375.10764769803,
          -37363.800607158526,
          -39168.68816455872,
          -40724.41813093787,
          -41974.14780674195,
          -42871.408527236774,
          -43381.62579075685,
          -43483.245858509086,
          -43168.43245519309,
          -42443.31110012625,
          -41327.75321860365,
          -39854.70705763052,
          -38069.09708549963,
          -36026.327526065776,
          -33790.43851736617,
          -31431.974685311983,
          -29025.635318601788,
          -26647.782524133298,
          -24373.888494941348,
          -22276.005181538658,
          -20420.339147248404,
          -18865.01121578987,
          -17658.07478291066,
          -16835.858533661863,
          -16421.689038460798,
          -16425.036611845993,
          -16841.114287150118,
          -17650.94521426361,
          -18821.8986859571,
          -20308.67981794805,
          -22054.74313575169,
          -23994.08642792071,
          -26053.368657251933,
          -28154.284889867995,
          -30216.1224572718,
          -32158.416202396704,
          -33903.6168920516,
          -35379.6858435003,
          -36522.530559825565,
          -37278.200662557436,
          -37604.77052556608,
          -37473.84454355335,
          -36871.632626239705,
          -35799.55694145465,
          -34274.36572154457,
          -32327.745641568272,
          -30005.44037954995,
          -27365.898973641142,
          -24478.492987450347,
          -21421.355788633544,
          -18278.90997447612,
          -15139.159721874612,
          -12090.833237651355,
          -9220.466251045604,
          -6609.520410740162,
          -4331.630405778285,
          -2450.0705893034897,
          -1015.5259124272338,
          -64.2432290467496,
          383.3722474314831,
          323.6640348322119,
          -229.9009933210797,
          -1246.9098335031492,
          -2680.7343465199942,
          -4469.800177224324,
          -6539.360254294194,
          -8803.722836720824,
          -11168.868735044305,
          -13535.378846007423,
          -15801.58195056355,
          -17866.8242179873,
          -19634.756339725547,
          -21016.531904470376,
          -21933.811636622744,
          -22321.472478591364,
          -22129.928114921207,
          -21326.97822964782,
          -19899.117274948996,
          -17852.249432842727,
          -15211.774323025771,
          -12022.027325314102,
          -8345.078573806457,
          -4258.91513288899,
          144.9490429633421,
          4764.37165755452,
          9489.907906528833,
          14208.467012685283,
          18807.190188171633,
          23177.431156917162,
          27218.714236051073,
          30842.5425443205,
          33975.93032807316,
          36564.538698194905,
          38575.303174797395,
          39998.454138668334,
          40848.84727739088,
          41166.539981348964,
          41016.5708787857,
          40487.922716991685,
          39691.67295306197,
          38758.36101238494,
          37834.62549818883,
          37079.187959606796,
          36658.28145077071,
          36740.641366524,
          37492.192315972185,
          39070.57755513108,
          41619.68630835078,
          45264.33882775982,
          50105.28905647123,
          56214.70018765627,
          63632.23928508498,
          72361.92362855421,
          82369.83386686233,
          93582.78782579947,
          105888.04446240987,
          119134.08060472418,
          133132.454487968,
          147660.74045417475,
          162466.4893459539,
          177272.13991563127,
          191780.77882172365,
          205682.62128711017,
          218662.06198715753,
          230405.12690293603,
          240607.14228140432,
          248980.42696426972,
          255261.8095246095,
          259219.77208899677,
          260661.02849215033,
          259436.3554259841,
          255445.5112847772,
          248641.09809949173,
          239031.24680456764,
          226681.0344686927,
          211712.57332751903,
          194303.7446753977,
          174685.58503756433,
          153138.3666453809,
          129986.44815510327,
          105592.00386952679,
          80347.7695703961,
          54668.96962656618,
          28984.612577745454,
          3728.3602721262846,
          -20670.811647141756,
          -43797.93693504827,
          -65261.1392388516,
          -84700.24793715528,
          -101794.73756407684,
          -116270.79475964331,
          -127907.33753277661,
          -136540.83707188262,
          -142068.8217452872,
          -144451.97553904736,
          -143714.77813371143,
          -139944.67021681936,
          -133289.76450545137,
          -123955.15935003995,
          -112197.94674811125,
          -98321.0391954805,
          -82665.96918819635,
          -65604.84058718121,
          -47531.631804627184,
          -28853.06633015927,
          -9979.276078602647,
          8685.512835911544,
          26752.04411271452,
          43854.624964222705,
          59659.04274720104,
          73869.61639144404,
          86235.21787929945,
          96554.12655073458,
          104677.60990670316,
          110512.15803177633,
          114020.3338506825,
          115220.23723613723,
          114183.61653992759,
          111032.69548413341,
          105935.81562053371,
          99102.0238974819,
          90774.76050709184,
          81224.82346866248,
          70742.80280010999,
          59631.18824700418,
          48196.36012547895,
          36740.67279120672,
          25554.834633667902,
          14910.777510046793,
          5055.192539530189,
          -3796.111349069904,
          -11462.894173678711,
          -17804.112684457657,
          -22720.41500367877,
          -26155.459622541235,
          -28096.048639695728,
          -28571.097308289416,
          -27649.49307017814,
          -25436.92645224413
         ],
         "yaxis": "y4"
        }
       ],
       "layout": {
        "height": 800,
        "showlegend": false,
        "template": {
         "data": {
          "bar": [
           {
            "error_x": {
             "color": "#2a3f5f"
            },
            "error_y": {
             "color": "#2a3f5f"
            },
            "marker": {
             "line": {
              "color": "#E5ECF6",
              "width": 0.5
             }
            },
            "type": "bar"
           }
          ],
          "barpolar": [
           {
            "marker": {
             "line": {
              "color": "#E5ECF6",
              "width": 0.5
             }
            },
            "type": "barpolar"
           }
          ],
          "carpet": [
           {
            "aaxis": {
             "endlinecolor": "#2a3f5f",
             "gridcolor": "white",
             "linecolor": "white",
             "minorgridcolor": "white",
             "startlinecolor": "#2a3f5f"
            },
            "baxis": {
             "endlinecolor": "#2a3f5f",
             "gridcolor": "white",
             "linecolor": "white",
             "minorgridcolor": "white",
             "startlinecolor": "#2a3f5f"
            },
            "type": "carpet"
           }
          ],
          "choropleth": [
           {
            "colorbar": {
             "outlinewidth": 0,
             "ticks": ""
            },
            "type": "choropleth"
           }
          ],
          "contour": [
           {
            "colorbar": {
             "outlinewidth": 0,
             "ticks": ""
            },
            "colorscale": [
             [
              0,
              "#0d0887"
             ],
             [
              0.1111111111111111,
              "#46039f"
             ],
             [
              0.2222222222222222,
              "#7201a8"
             ],
             [
              0.3333333333333333,
              "#9c179e"
             ],
             [
              0.4444444444444444,
              "#bd3786"
             ],
             [
              0.5555555555555556,
              "#d8576b"
             ],
             [
              0.6666666666666666,
              "#ed7953"
             ],
             [
              0.7777777777777778,
              "#fb9f3a"
             ],
             [
              0.8888888888888888,
              "#fdca26"
             ],
             [
              1,
              "#f0f921"
             ]
            ],
            "type": "contour"
           }
          ],
          "contourcarpet": [
           {
            "colorbar": {
             "outlinewidth": 0,
             "ticks": ""
            },
            "type": "contourcarpet"
           }
          ],
          "heatmap": [
           {
            "colorbar": {
             "outlinewidth": 0,
             "ticks": ""
            },
            "colorscale": [
             [
              0,
              "#0d0887"
             ],
             [
              0.1111111111111111,
              "#46039f"
             ],
             [
              0.2222222222222222,
              "#7201a8"
             ],
             [
              0.3333333333333333,
              "#9c179e"
             ],
             [
              0.4444444444444444,
              "#bd3786"
             ],
             [
              0.5555555555555556,
              "#d8576b"
             ],
             [
              0.6666666666666666,
              "#ed7953"
             ],
             [
              0.7777777777777778,
              "#fb9f3a"
             ],
             [
              0.8888888888888888,
              "#fdca26"
             ],
             [
              1,
              "#f0f921"
             ]
            ],
            "type": "heatmap"
           }
          ],
          "heatmapgl": [
           {
            "colorbar": {
             "outlinewidth": 0,
             "ticks": ""
            },
            "colorscale": [
             [
              0,
              "#0d0887"
             ],
             [
              0.1111111111111111,
              "#46039f"
             ],
             [
              0.2222222222222222,
              "#7201a8"
             ],
             [
              0.3333333333333333,
              "#9c179e"
             ],
             [
              0.4444444444444444,
              "#bd3786"
             ],
             [
              0.5555555555555556,
              "#d8576b"
             ],
             [
              0.6666666666666666,
              "#ed7953"
             ],
             [
              0.7777777777777778,
              "#fb9f3a"
             ],
             [
              0.8888888888888888,
              "#fdca26"
             ],
             [
              1,
              "#f0f921"
             ]
            ],
            "type": "heatmapgl"
           }
          ],
          "histogram": [
           {
            "marker": {
             "colorbar": {
              "outlinewidth": 0,
              "ticks": ""
             }
            },
            "type": "histogram"
           }
          ],
          "histogram2d": [
           {
            "colorbar": {
             "outlinewidth": 0,
             "ticks": ""
            },
            "colorscale": [
             [
              0,
              "#0d0887"
             ],
             [
              0.1111111111111111,
              "#46039f"
             ],
             [
              0.2222222222222222,
              "#7201a8"
             ],
             [
              0.3333333333333333,
              "#9c179e"
             ],
             [
              0.4444444444444444,
              "#bd3786"
             ],
             [
              0.5555555555555556,
              "#d8576b"
             ],
             [
              0.6666666666666666,
              "#ed7953"
             ],
             [
              0.7777777777777778,
              "#fb9f3a"
             ],
             [
              0.8888888888888888,
              "#fdca26"
             ],
             [
              1,
              "#f0f921"
             ]
            ],
            "type": "histogram2d"
           }
          ],
          "histogram2dcontour": [
           {
            "colorbar": {
             "outlinewidth": 0,
             "ticks": ""
            },
            "colorscale": [
             [
              0,
              "#0d0887"
             ],
             [
              0.1111111111111111,
              "#46039f"
             ],
             [
              0.2222222222222222,
              "#7201a8"
             ],
             [
              0.3333333333333333,
              "#9c179e"
             ],
             [
              0.4444444444444444,
              "#bd3786"
             ],
             [
              0.5555555555555556,
              "#d8576b"
             ],
             [
              0.6666666666666666,
              "#ed7953"
             ],
             [
              0.7777777777777778,
              "#fb9f3a"
             ],
             [
              0.8888888888888888,
              "#fdca26"
             ],
             [
              1,
              "#f0f921"
             ]
            ],
            "type": "histogram2dcontour"
           }
          ],
          "mesh3d": [
           {
            "colorbar": {
             "outlinewidth": 0,
             "ticks": ""
            },
            "type": "mesh3d"
           }
          ],
          "parcoords": [
           {
            "line": {
             "colorbar": {
              "outlinewidth": 0,
              "ticks": ""
             }
            },
            "type": "parcoords"
           }
          ],
          "pie": [
           {
            "automargin": true,
            "type": "pie"
           }
          ],
          "scatter": [
           {
            "marker": {
             "colorbar": {
              "outlinewidth": 0,
              "ticks": ""
             }
            },
            "type": "scatter"
           }
          ],
          "scatter3d": [
           {
            "line": {
             "colorbar": {
              "outlinewidth": 0,
              "ticks": ""
             }
            },
            "marker": {
             "colorbar": {
              "outlinewidth": 0,
              "ticks": ""
             }
            },
            "type": "scatter3d"
           }
          ],
          "scattercarpet": [
           {
            "marker": {
             "colorbar": {
              "outlinewidth": 0,
              "ticks": ""
             }
            },
            "type": "scattercarpet"
           }
          ],
          "scattergeo": [
           {
            "marker": {
             "colorbar": {
              "outlinewidth": 0,
              "ticks": ""
             }
            },
            "type": "scattergeo"
           }
          ],
          "scattergl": [
           {
            "marker": {
             "colorbar": {
              "outlinewidth": 0,
              "ticks": ""
             }
            },
            "type": "scattergl"
           }
          ],
          "scattermapbox": [
           {
            "marker": {
             "colorbar": {
              "outlinewidth": 0,
              "ticks": ""
             }
            },
            "type": "scattermapbox"
           }
          ],
          "scatterpolar": [
           {
            "marker": {
             "colorbar": {
              "outlinewidth": 0,
              "ticks": ""
             }
            },
            "type": "scatterpolar"
           }
          ],
          "scatterpolargl": [
           {
            "marker": {
             "colorbar": {
              "outlinewidth": 0,
              "ticks": ""
             }
            },
            "type": "scatterpolargl"
           }
          ],
          "scatterternary": [
           {
            "marker": {
             "colorbar": {
              "outlinewidth": 0,
              "ticks": ""
             }
            },
            "type": "scatterternary"
           }
          ],
          "surface": [
           {
            "colorbar": {
             "outlinewidth": 0,
             "ticks": ""
            },
            "colorscale": [
             [
              0,
              "#0d0887"
             ],
             [
              0.1111111111111111,
              "#46039f"
             ],
             [
              0.2222222222222222,
              "#7201a8"
             ],
             [
              0.3333333333333333,
              "#9c179e"
             ],
             [
              0.4444444444444444,
              "#bd3786"
             ],
             [
              0.5555555555555556,
              "#d8576b"
             ],
             [
              0.6666666666666666,
              "#ed7953"
             ],
             [
              0.7777777777777778,
              "#fb9f3a"
             ],
             [
              0.8888888888888888,
              "#fdca26"
             ],
             [
              1,
              "#f0f921"
             ]
            ],
            "type": "surface"
           }
          ],
          "table": [
           {
            "cells": {
             "fill": {
              "color": "#EBF0F8"
             },
             "line": {
              "color": "white"
             }
            },
            "header": {
             "fill": {
              "color": "#C8D4E3"
             },
             "line": {
              "color": "white"
             }
            },
            "type": "table"
           }
          ]
         },
         "layout": {
          "annotationdefaults": {
           "arrowcolor": "#2a3f5f",
           "arrowhead": 0,
           "arrowwidth": 1
          },
          "coloraxis": {
           "colorbar": {
            "outlinewidth": 0,
            "ticks": ""
           }
          },
          "colorscale": {
           "diverging": [
            [
             0,
             "#8e0152"
            ],
            [
             0.1,
             "#c51b7d"
            ],
            [
             0.2,
             "#de77ae"
            ],
            [
             0.3,
             "#f1b6da"
            ],
            [
             0.4,
             "#fde0ef"
            ],
            [
             0.5,
             "#f7f7f7"
            ],
            [
             0.6,
             "#e6f5d0"
            ],
            [
             0.7,
             "#b8e186"
            ],
            [
             0.8,
             "#7fbc41"
            ],
            [
             0.9,
             "#4d9221"
            ],
            [
             1,
             "#276419"
            ]
           ],
           "sequential": [
            [
             0,
             "#0d0887"
            ],
            [
             0.1111111111111111,
             "#46039f"
            ],
            [
             0.2222222222222222,
             "#7201a8"
            ],
            [
             0.3333333333333333,
             "#9c179e"
            ],
            [
             0.4444444444444444,
             "#bd3786"
            ],
            [
             0.5555555555555556,
             "#d8576b"
            ],
            [
             0.6666666666666666,
             "#ed7953"
            ],
            [
             0.7777777777777778,
             "#fb9f3a"
            ],
            [
             0.8888888888888888,
             "#fdca26"
            ],
            [
             1,
             "#f0f921"
            ]
           ],
           "sequentialminus": [
            [
             0,
             "#0d0887"
            ],
            [
             0.1111111111111111,
             "#46039f"
            ],
            [
             0.2222222222222222,
             "#7201a8"
            ],
            [
             0.3333333333333333,
             "#9c179e"
            ],
            [
             0.4444444444444444,
             "#bd3786"
            ],
            [
             0.5555555555555556,
             "#d8576b"
            ],
            [
             0.6666666666666666,
             "#ed7953"
            ],
            [
             0.7777777777777778,
             "#fb9f3a"
            ],
            [
             0.8888888888888888,
             "#fdca26"
            ],
            [
             1,
             "#f0f921"
            ]
           ]
          },
          "colorway": [
           "#636efa",
           "#EF553B",
           "#00cc96",
           "#ab63fa",
           "#FFA15A",
           "#19d3f3",
           "#FF6692",
           "#B6E880",
           "#FF97FF",
           "#FECB52"
          ],
          "font": {
           "color": "#2a3f5f"
          },
          "geo": {
           "bgcolor": "white",
           "lakecolor": "white",
           "landcolor": "#E5ECF6",
           "showlakes": true,
           "showland": true,
           "subunitcolor": "white"
          },
          "hoverlabel": {
           "align": "left"
          },
          "hovermode": "closest",
          "mapbox": {
           "style": "light"
          },
          "paper_bgcolor": "white",
          "plot_bgcolor": "#E5ECF6",
          "polar": {
           "angularaxis": {
            "gridcolor": "white",
            "linecolor": "white",
            "ticks": ""
           },
           "bgcolor": "#E5ECF6",
           "radialaxis": {
            "gridcolor": "white",
            "linecolor": "white",
            "ticks": ""
           }
          },
          "scene": {
           "xaxis": {
            "backgroundcolor": "#E5ECF6",
            "gridcolor": "white",
            "gridwidth": 2,
            "linecolor": "white",
            "showbackground": true,
            "ticks": "",
            "zerolinecolor": "white"
           },
           "yaxis": {
            "backgroundcolor": "#E5ECF6",
            "gridcolor": "white",
            "gridwidth": 2,
            "linecolor": "white",
            "showbackground": true,
            "ticks": "",
            "zerolinecolor": "white"
           },
           "zaxis": {
            "backgroundcolor": "#E5ECF6",
            "gridcolor": "white",
            "gridwidth": 2,
            "linecolor": "white",
            "showbackground": true,
            "ticks": "",
            "zerolinecolor": "white"
           }
          },
          "shapedefaults": {
           "line": {
            "color": "#2a3f5f"
           }
          },
          "ternary": {
           "aaxis": {
            "gridcolor": "white",
            "linecolor": "white",
            "ticks": ""
           },
           "baxis": {
            "gridcolor": "white",
            "linecolor": "white",
            "ticks": ""
           },
           "bgcolor": "#E5ECF6",
           "caxis": {
            "gridcolor": "white",
            "linecolor": "white",
            "ticks": ""
           }
          },
          "title": {
           "x": 0.05
          },
          "xaxis": {
           "automargin": true,
           "gridcolor": "white",
           "linecolor": "white",
           "ticks": "",
           "title": {
            "standoff": 15
           },
           "zerolinecolor": "white",
           "zerolinewidth": 2
          },
          "yaxis": {
           "automargin": true,
           "gridcolor": "white",
           "linecolor": "white",
           "ticks": "",
           "title": {
            "standoff": 15
           },
           "zerolinecolor": "white",
           "zerolinewidth": 2
          }
         }
        },
        "width": 900,
        "xaxis": {
         "anchor": "y",
         "domain": [
          0,
          1
         ],
         "range": [
          "2014-09-25T15:36:00",
          "2020-08-06T08:24:00"
         ],
         "type": "date"
        },
        "xaxis2": {
         "anchor": "y2",
         "domain": [
          0,
          1
         ],
         "range": [
          "2014-09-25T15:36:00",
          "2020-08-06T08:24:00"
         ],
         "type": "date"
        },
        "xaxis3": {
         "anchor": "y3",
         "domain": [
          0,
          1
         ],
         "range": [
          "2016-12-30T12:37:12",
          "2017-01-31T22:58:48"
         ],
         "tickformat": "%B %e",
         "type": "date"
        },
        "xaxis4": {
         "anchor": "y4",
         "domain": [
          0,
          1
         ],
         "range": [
          "2016-12-13T18:54:02.958904115",
          "2018-01-18T11:04:57.863013581"
         ],
         "tickformat": "%B %e",
         "type": "date"
        },
        "yaxis": {
         "anchor": "x",
         "autorange": true,
         "domain": [
          0.80625,
          1
         ],
         "range": [
          25084.00274318821,
          52087.63009919392
         ],
         "rangemode": "normal",
         "title": {
          "text": "trend"
         },
         "type": "linear",
         "zerolinecolor": "#AAA"
        },
        "yaxis2": {
         "anchor": "x2",
         "autorange": true,
         "domain": [
          0.5375,
          0.73125
         ],
         "hoverformat": ".2%",
         "range": [
          -0.4688877526793375,
          0.4575796585492337
         ],
         "rangemode": "tozero",
         "tickformat": "%",
         "title": {
          "text": "extra_regressors_multiplicative"
         },
         "type": "linear",
         "zerolinecolor": "#AAA"
        },
        "yaxis3": {
         "anchor": "x3",
         "autorange": true,
         "domain": [
          0.26875,
          0.4625
         ],
         "range": [
          -59920.56191879582,
          97451.36463638088
         ],
         "title": {
          "text": "monthly_on_season"
         },
         "type": "linear",
         "zerolinecolor": "#AAA"
        },
        "yaxis4": {
         "anchor": "x4",
         "autorange": true,
         "domain": [
          0,
          0.19375
         ],
         "range": [
          -166958.25354078057,
          283167.30649388355
         ],
         "title": {
          "text": "yearly"
         },
         "type": "linear",
         "zerolinecolor": "#AAA"
        }
       }
      },
      "image/png": "[encoded data removed]",
      "text/html": [
       "<div>                            <div id=\"9adbe0f3-9f5a-4174-b1a0-c455b9bfed2a\" class=\"plotly-graph-div\" style=\"height:800px; width:900px;\"></div>            <script type=\"text/javascript\">                require([\"plotly\"], function(Plotly) {                    window.PLOTLYENV=window.PLOTLYENV || {};                                    if (document.getElementById(\"9adbe0f3-9f5a-4174-b1a0-c455b9bfed2a\")) {                    Plotly.newPlot(                        \"9adbe0f3-9f5a-4174-b1a0-c455b9bfed2a\",                        [{\"line\": {\"color\": \"#0072B2\", \"width\": 2}, \"mode\": \"lines\", \"name\": \"trend\", \"type\": \"scatter\", \"x\": [\"2020-05-01T00:00:00\", \"2020-04-01T00:00:00\", \"2020-03-01T00:00:00\", \"2020-02-01T00:00:00\", \"2020-01-01T00:00:00\", \"2019-12-01T00:00:00\", \"2019-11-01T00:00:00\", \"2019-10-01T00:00:00\", \"2019-09-01T00:00:00\", \"2019-08-01T00:00:00\", \"2019-07-01T00:00:00\", \"2019-06-01T00:00:00\", \"2019-05-01T00:00:00\", \"2019-04-01T00:00:00\", \"2019-03-01T00:00:00\", \"2019-02-01T00:00:00\", \"2019-01-01T00:00:00\", \"2018-12-01T00:00:00\", \"2018-11-01T00:00:00\", \"2018-10-01T00:00:00\", \"2018-09-01T00:00:00\", \"2018-08-01T00:00:00\", \"2018-07-01T00:00:00\", \"2018-06-01T00:00:00\", \"2018-05-01T00:00:00\", \"2018-04-01T00:00:00\", \"2018-03-01T00:00:00\", \"2018-02-01T00:00:00\", \"2018-01-01T00:00:00\", \"2017-12-01T00:00:00\", \"2017-11-01T00:00:00\", \"2017-10-01T00:00:00\", \"2017-09-01T00:00:00\", \"2017-08-01T00:00:00\", \"2017-07-01T00:00:00\", \"2017-06-01T00:00:00\", \"2017-05-01T00:00:00\", \"2017-04-01T00:00:00\", \"2017-03-01T00:00:00\", \"2017-02-01T00:00:00\", \"2017-01-01T00:00:00\", \"2016-12-01T00:00:00\", \"2016-11-01T00:00:00\", \"2016-10-01T00:00:00\", \"2016-09-01T00:00:00\", \"2016-08-01T00:00:00\", \"2016-07-01T00:00:00\", \"2016-06-01T00:00:00\", \"2016-05-01T00:00:00\", \"2016-04-01T00:00:00\", \"2016-03-01T00:00:00\", \"2016-02-01T00:00:00\", \"2016-01-01T00:00:00\", \"2015-12-01T00:00:00\", \"2015-11-01T00:00:00\", \"2015-10-01T00:00:00\", \"2015-09-01T00:00:00\", \"2015-08-01T00:00:00\", \"2015-07-01T00:00:00\", \"2015-06-01T00:00:00\", \"2015-05-01T00:00:00\", \"2015-04-01T00:00:00\", \"2015-03-01T00:00:00\", \"2015-02-01T00:00:00\", \"2015-01-01T00:00:00\"], \"xaxis\": \"x\", \"y\": [50737.44068120743, 50362.96831385589, 49976.01353425931, 49614.02357915283, 49227.06879955624, 48840.114019959656, 48465.64165260812, 48078.68687301154, 47704.214505660006, 47317.25972606342, 46930.30494646684, 46555.832579115304, 46168.87779951872, 45794.405432167194, 45407.4506525706, 45057.94310970917, 44670.98833011258, 44284.033550516, 43909.561183164464, 43522.60640356789, 43148.13403621635, 42761.179256619755, 42374.22447702318, 41999.75210967164, 41612.79733007506, 41238.32496272353, 40851.370183126935, 40501.86264026551, 40114.90786066892, 39727.95308107234, 39353.480713720804, 38966.52593412422, 38592.05356677269, 38205.0987871761, 37818.14400840203, 37443.67164180165, 37056.71686300148, 36682.244496420666, 36295.289718143846, 35945.78217629774, 35558.827397744775, 35171.87261996454, 34797.40025437077, 34410.445477014415, 34035.97311172385, 33649.018334582004, 33262.06355721596, 32887.59119202301, 32500.63641404288, 32126.16404897726, 31739.209272129447, 31377.219320053, 30990.264543695415, 30603.309767104518, 30228.837402045054, 29841.88262477298, 29467.41026000977, 29080.45548308778, 28693.500705737442, 28319.028340742778, 27932.073564307215, 27557.601200555462, 27170.646424678653, 26821.138885665365, 26434.184110988495], \"yaxis\": \"y\"}, {\"line\": {\"color\": \"rgba(0, 114, 178, 0.2)\", \"width\": 0}, \"mode\": \"lines\", \"name\": \"trend_upper\", \"type\": \"scatter\", \"x\": [\"2020-05-01T00:00:00\", \"2020-04-01T00:00:00\", \"2020-03-01T00:00:00\", \"2020-02-01T00:00:00\", \"2020-01-01T00:00:00\", \"2019-12-01T00:00:00\", \"2019-11-01T00:00:00\", \"2019-10-01T00:00:00\", \"2019-09-01T00:00:00\", \"2019-08-01T00:00:00\", \"2019-07-01T00:00:00\", \"2019-06-01T00:00:00\", \"2019-05-01T00:00:00\", \"2019-04-01T00:00:00\", \"2019-03-01T00:00:00\", \"2019-02-01T00:00:00\", \"2019-01-01T00:00:00\", \"2018-12-01T00:00:00\", \"2018-11-01T00:00:00\", \"2018-10-01T00:00:00\", \"2018-09-01T00:00:00\", \"2018-08-01T00:00:00\", \"2018-07-01T00:00:00\", \"2018-06-01T00:00:00\", \"2018-05-01T00:00:00\", \"2018-04-01T00:00:00\", \"2018-03-01T00:00:00\", \"2018-02-01T00:00:00\", \"2018-01-01T00:00:00\", \"2017-12-01T00:00:00\", \"2017-11-01T00:00:00\", \"2017-10-01T00:00:00\", \"2017-09-01T00:00:00\", \"2017-08-01T00:00:00\", \"2017-07-01T00:00:00\", \"2017-06-01T00:00:00\", \"2017-05-01T00:00:00\", \"2017-04-01T00:00:00\", \"2017-03-01T00:00:00\", \"2017-02-01T00:00:00\", \"2017-01-01T00:00:00\", \"2016-12-01T00:00:00\", \"2016-11-01T00:00:00\", \"2016-10-01T00:00:00\", \"2016-09-01T00:00:00\", \"2016-08-01T00:00:00\", \"2016-07-01T00:00:00\", \"2016-06-01T00:00:00\", \"2016-05-01T00:00:00\", \"2016-04-01T00:00:00\", \"2016-03-01T00:00:00\", \"2016-02-01T00:00:00\", \"2016-01-01T00:00:00\", \"2015-12-01T00:00:00\", \"2015-11-01T00:00:00\", \"2015-10-01T00:00:00\", \"2015-09-01T00:00:00\", \"2015-08-01T00:00:00\", \"2015-07-01T00:00:00\", \"2015-06-01T00:00:00\", \"2015-05-01T00:00:00\", \"2015-04-01T00:00:00\", \"2015-03-01T00:00:00\", \"2015-02-01T00:00:00\", \"2015-01-01T00:00:00\"], \"xaxis\": \"x\", \"y\": [50737.44873139363, 50362.97588305493, 49976.02055522353, 49614.03014767704, 49227.07505770791, 48840.11974916563, 48465.6470083039, 48078.69177575038, 47704.21894518493, 47317.26387181733, 46930.30867567888, 46555.83593574834, 46168.88078134779, 45794.408088900294, 45407.452931217726, 45057.94499078133, 44670.9899207924, 44284.03483149892, 43909.562207456605, 43522.607138189574, 43148.13457661687, 42761.17957650237, 42374.224625557916, 41999.7521484071, 41612.79733007506, 41238.32496272353, 40851.370183126935, 40501.86264026551, 40114.90786066892, 39727.95308107234, 39353.480713720804, 38966.52593412422, 38592.05356677269, 38205.0987871761, 37818.14400840203, 37443.67164180165, 37056.71686300148, 36682.244496420666, 36295.289718143846, 35945.78217629774, 35558.827397744775, 35171.87261996454, 34797.40025437077, 34410.445477014415, 34035.97311172385, 33649.018334582004, 33262.06355721596, 32887.59119202301, 32500.63641404288, 32126.16404897726, 31739.209272129447, 31377.219320053, 30990.264543695415, 30603.309767104518, 30228.837402045054, 29841.88262477298, 29467.41026000977, 29080.455483087782, 28693.500705737442, 28319.028340742778, 27932.073564307215, 27557.601200555462, 27170.646424678653, 26821.138885665365, 26434.184110988495], \"yaxis\": \"y\"}, {\"fill\": \"tonexty\", \"fillcolor\": \"rgba(0, 114, 178, 0.2)\", \"line\": {\"color\": \"rgba(0, 114, 178, 0.2)\", \"width\": 0}, \"mode\": \"lines\", \"name\": \"trend_lower\", \"type\": \"scatter\", \"x\": [\"2020-05-01T00:00:00\", \"2020-04-01T00:00:00\", \"2020-03-01T00:00:00\", \"2020-02-01T00:00:00\", \"2020-01-01T00:00:00\", \"2019-12-01T00:00:00\", \"2019-11-01T00:00:00\", \"2019-10-01T00:00:00\", \"2019-09-01T00:00:00\", \"2019-08-01T00:00:00\", \"2019-07-01T00:00:00\", \"2019-06-01T00:00:00\", \"2019-05-01T00:00:00\", \"2019-04-01T00:00:00\", \"2019-03-01T00:00:00\", \"2019-02-01T00:00:00\", \"2019-01-01T00:00:00\", \"2018-12-01T00:00:00\", \"2018-11-01T00:00:00\", \"2018-10-01T00:00:00\", \"2018-09-01T00:00:00\", \"2018-08-01T00:00:00\", \"2018-07-01T00:00:00\", \"2018-06-01T00:00:00\", \"2018-05-01T00:00:00\", \"2018-04-01T00:00:00\", \"2018-03-01T00:00:00\", \"2018-02-01T00:00:00\", \"2018-01-01T00:00:00\", \"2017-12-01T00:00:00\", \"2017-11-01T00:00:00\", \"2017-10-01T00:00:00\", \"2017-09-01T00:00:00\", \"2017-08-01T00:00:00\", \"2017-07-01T00:00:00\", \"2017-06-01T00:00:00\", \"2017-05-01T00:00:00\", \"2017-04-01T00:00:00\", \"2017-03-01T00:00:00\", \"2017-02-01T00:00:00\", \"2017-01-01T00:00:00\", \"2016-12-01T00:00:00\", \"2016-11-01T00:00:00\", \"2016-10-01T00:00:00\", \"2016-09-01T00:00:00\", \"2016-08-01T00:00:00\", \"2016-07-01T00:00:00\", \"2016-06-01T00:00:00\", \"2016-05-01T00:00:00\", \"2016-04-01T00:00:00\", \"2016-03-01T00:00:00\", \"2016-02-01T00:00:00\", \"2016-01-01T00:00:00\", \"2015-12-01T00:00:00\", \"2015-11-01T00:00:00\", \"2015-10-01T00:00:00\", \"2015-09-01T00:00:00\", \"2015-08-01T00:00:00\", \"2015-07-01T00:00:00\", \"2015-06-01T00:00:00\", \"2015-05-01T00:00:00\", \"2015-04-01T00:00:00\", \"2015-03-01T00:00:00\", \"2015-02-01T00:00:00\", \"2015-01-01T00:00:00\"], \"xaxis\": \"x\", \"y\": [50737.43395291237, 50362.962035820165, 49976.00760465663, 49614.01811760008, 49227.06373193725, 48840.10932888625, 48465.637291287436, 48078.68284545371, 47704.21087694609, 47317.256377626574, 46930.30196900696, 46555.829905278195, 46168.87548500094, 45794.403384992875, 45407.448896303795, 45057.941586642424, 44670.98703484277, 44284.032480735994, 43909.560338227, 43522.605781958344, 43148.133602038855, 42761.178987257204, 42374.22435188688, 41999.752079594546, 41612.79733007506, 41238.32496272353, 40851.370183126935, 40501.86264026551, 40114.90786066892, 39727.95308107234, 39353.480713720804, 38966.52593412422, 38592.05356677269, 38205.0987871761, 37818.14400840203, 37443.67164180165, 37056.71686300148, 36682.244496420666, 36295.289718143846, 35945.78217629774, 35558.827397744775, 35171.87261996454, 34797.40025437077, 34410.445477014415, 34035.97311172385, 33649.018334582004, 33262.06355721596, 32887.59119202301, 32500.63641404288, 32126.16404897726, 31739.209272129447, 31377.219320053, 30990.264543695415, 30603.309767104518, 30228.837402045054, 29841.88262477298, 29467.41026000977, 29080.455483087782, 28693.500705737442, 28319.028340742778, 27932.073564307215, 27557.601200555462, 27170.646424678653, 26821.138885665365, 26434.184110988495], \"yaxis\": \"y\"}, {\"line\": {\"color\": \"#0072B2\", \"width\": 2}, \"mode\": \"lines\", \"name\": \"extra_regressors_multiplicative\", \"type\": \"scatter\", \"x\": [\"2020-05-01T00:00:00\", \"2020-04-01T00:00:00\", \"2020-03-01T00:00:00\", \"2020-02-01T00:00:00\", \"2020-01-01T00:00:00\", \"2019-12-01T00:00:00\", \"2019-11-01T00:00:00\", \"2019-10-01T00:00:00\", \"2019-09-01T00:00:00\", \"2019-08-01T00:00:00\", \"2019-07-01T00:00:00\", \"2019-06-01T00:00:00\", \"2019-05-01T00:00:00\", \"2019-04-01T00:00:00\", \"2019-03-01T00:00:00\", \"2019-02-01T00:00:00\", \"2019-01-01T00:00:00\", \"2018-12-01T00:00:00\", \"2018-11-01T00:00:00\", \"2018-10-01T00:00:00\", \"2018-09-01T00:00:00\", \"2018-08-01T00:00:00\", \"2018-07-01T00:00:00\", \"2018-06-01T00:00:00\", \"2018-05-01T00:00:00\", \"2018-04-01T00:00:00\", \"2018-03-01T00:00:00\", \"2018-02-01T00:00:00\", \"2018-01-01T00:00:00\", \"2017-12-01T00:00:00\", \"2017-11-01T00:00:00\", \"2017-10-01T00:00:00\", \"2017-09-01T00:00:00\", \"2017-08-01T00:00:00\", \"2017-07-01T00:00:00\", \"2017-06-01T00:00:00\", \"2017-05-01T00:00:00\", \"2017-04-01T00:00:00\", \"2017-03-01T00:00:00\", \"2017-02-01T00:00:00\", \"2017-01-01T00:00:00\", \"2016-12-01T00:00:00\", \"2016-11-01T00:00:00\", \"2016-10-01T00:00:00\", \"2016-09-01T00:00:00\", \"2016-08-01T00:00:00\", \"2016-07-01T00:00:00\", \"2016-06-01T00:00:00\", \"2016-05-01T00:00:00\", \"2016-04-01T00:00:00\", \"2016-03-01T00:00:00\", \"2016-02-01T00:00:00\", \"2016-01-01T00:00:00\", \"2015-12-01T00:00:00\", \"2015-11-01T00:00:00\", \"2015-10-01T00:00:00\", \"2015-09-01T00:00:00\", \"2015-08-01T00:00:00\", \"2015-07-01T00:00:00\", \"2015-06-01T00:00:00\", \"2015-05-01T00:00:00\", \"2015-04-01T00:00:00\", \"2015-03-01T00:00:00\", \"2015-02-01T00:00:00\", \"2015-01-01T00:00:00\"], \"xaxis\": \"x2\", \"y\": [-0.2394942415306116, -0.19521620923787628, -0.12514491750415785, -0.083739442421358, -0.08006239133986415, -0.13928192769220643, -0.24410060223324961, -0.28705919950675374, -0.314798761321453, 0.007939398205188367, -0.3271572055573023, -0.422564382117909, -0.21488486426411005, -0.246232056567951, -0.15469077009241106, -0.14073743112855028, -0.055932452788089976, 0.014027114665162682, -0.06574941060780239, -0.3076693171979622, -0.2851610712719466, -0.2759178294142481, -0.08239256410906906, -0.15449381326311656, -0.20210340789296, -0.03218749394812702, -0.0790857040821857, 0.04143341262576368, -0.07865480329519729, 0.023082173359490185, -0.08568060046274385, -0.2101926120877669, -0.23528281507844417, -0.14281396411250885, -0.08120827657241367, -0.278135459505377, -0.20925532483987602, -0.11028831901812311, -0.011550221259796267, 0.09691451467619619, -0.06965536950065271, -0.07229567936015696, -0.10217143134680687, -0.364857107396713, -0.20548161880549204, 0.015390657321593976, 0.07074895540736621, -0.13915548156095686, -0.05133941521934428, 0.04669589987484701, 0.08738472924917837, 0.0837989153619299, 0.08768600444586734, 0.21565491804993034, 0.20742437767174837, 0.04607768368198669, 0.09934877990625021, 0.12053593784827352, 0.09507118205458209, 0.04618077681906595, 0.05845142811179134, 0.273249147493347, 0.26500921629750107, 0.37000010710114417, 0.41125628798780517], \"yaxis\": \"y2\"}, {\"line\": {\"color\": \"#0072B2\", \"width\": 2}, \"mode\": \"lines\", \"name\": \"monthly_on_season\", \"type\": \"scatter\", \"x\": [\"2017-01-01T00:00:00\", \"2017-01-02T00:24:00\", \"2017-01-03T00:48:00\", \"2017-01-04T01:12:00\", \"2017-01-05T01:36:00\", \"2017-01-06T02:00:00\", \"2017-01-07T02:24:00\", \"2017-01-08T02:48:00\", \"2017-01-09T03:12:00\", \"2017-01-10T03:36:00\", \"2017-01-11T04:00:00\", \"2017-01-12T04:24:00\", \"2017-01-13T04:48:00\", \"2017-01-14T05:12:00\", \"2017-01-15T05:36:00\", \"2017-01-16T06:00:00\", \"2017-01-17T06:24:00\", \"2017-01-18T06:48:00\", \"2017-01-19T07:12:00\", \"2017-01-20T07:36:00\", \"2017-01-21T08:00:00\", \"2017-01-22T08:24:00\", \"2017-01-23T08:48:00\", \"2017-01-24T09:12:00\", \"2017-01-25T09:36:00\", \"2017-01-26T10:00:00\", \"2017-01-27T10:24:00\", \"2017-01-28T10:48:00\", \"2017-01-29T11:12:00\", \"2017-01-30T11:36:00\"], \"xaxis\": \"x3\", \"y\": [44314.93865391376, 83784.33855193782, 89582.76830862205, 48615.5876619259, -12934.423175146814, -52051.965591036984, -46626.30278225714, -13105.618645735607, 11590.62921656104, 5300.803988508051, -21011.51279957048, -37911.74809560604, -28627.78850652121, -5006.063866720801, 6655.078617239483, -6049.703720719422, -28822.46733141851, -36326.95458222221, -19578.60770760939, 3826.386677758159, 7760.352236600057, -14429.437378203214, -41142.66749918474, -42995.68217118589, -12539.75113400993, 27037.89122089058, 44005.617035570474, 29620.260924914663, 7374.1368672238395, 9691.905025610291], \"yaxis\": \"y3\"}, {\"line\": {\"color\": \"#0072B2\", \"width\": 2}, \"mode\": \"lines\", \"name\": \"yearly\", \"type\": \"scatter\", \"x\": [\"2017-01-01T00:00:00\", \"2017-01-02T00:00:59.178082\", \"2017-01-03T00:01:58.356164\", \"2017-01-04T00:02:57.534246\", \"2017-01-05T00:03:56.712328\", \"2017-01-06T00:04:55.890411\", \"2017-01-07T00:05:55.068493\", \"2017-01-08T00:06:54.246575\", \"2017-01-09T00:07:53.424657\", \"2017-01-10T00:08:52.602739\", \"2017-01-11T00:09:51.780822\", \"2017-01-12T00:10:50.958904\", \"2017-01-13T00:11:50.136986\", \"2017-01-14T00:12:49.315068\", \"2017-01-15T00:13:48.493150\", \"2017-01-16T00:14:47.671232\", \"2017-01-17T00:15:46.849315\", \"2017-01-18T00:16:46.027397\", \"2017-01-19T00:17:45.205479\", \"2017-01-20T00:18:44.383561\", \"2017-01-21T00:19:43.561643\", \"2017-01-22T00:20:42.739726\", \"2017-01-23T00:21:41.917808\", \"2017-01-24T00:22:41.095890\", \"2017-01-25T00:23:40.273972\", \"2017-01-26T00:24:39.452054\", \"2017-01-27T00:25:38.630137\", \"2017-01-28T00:26:37.808219\", \"2017-01-29T00:27:36.986301\", \"2017-01-30T00:28:36.164383\", \"2017-01-31T00:29:35.342465\", \"2017-02-01T00:30:34.520547\", \"2017-02-02T00:31:33.698630\", \"2017-02-03T00:32:32.876712\", \"2017-02-04T00:33:32.054794\", \"2017-02-05T00:34:31.232876\", \"2017-02-06T00:35:30.410958\", \"2017-02-07T00:36:29.589041\", \"2017-02-08T00:37:28.767123\", \"2017-02-09T00:38:27.945205\", \"2017-02-10T00:39:27.123287\", \"2017-02-11T00:40:26.301369\", \"2017-02-12T00:41:25.479452\", \"2017-02-13T00:42:24.657534\", \"2017-02-14T00:43:23.835616\", \"2017-02-15T00:44:23.013698\", \"2017-02-16T00:45:22.191780\", \"2017-02-17T00:46:21.369862\", \"2017-02-18T00:47:20.547945\", \"2017-02-19T00:48:19.726027\", \"2017-02-20T00:49:18.904109\", \"2017-02-21T00:50:18.082191\", \"2017-02-22T00:51:17.260273\", \"2017-02-23T00:52:16.438356\", \"2017-02-24T00:53:15.616438\", \"2017-02-25T00:54:14.794520\", \"2017-02-26T00:55:13.972602\", \"2017-02-27T00:56:13.150684\", \"2017-02-28T00:57:12.328767\", \"2017-03-01T00:58:11.506849\", \"2017-03-02T00:59:10.684931\", \"2017-03-03T01:00:09.863013\", \"2017-03-04T01:01:09.041095\", \"2017-03-05T01:02:08.219177\", \"2017-03-06T01:03:07.397260\", \"2017-03-07T01:04:06.575342\", \"2017-03-08T01:05:05.753424\", \"2017-03-09T01:06:04.931506\", \"2017-03-10T01:07:04.109588\", \"2017-03-11T01:08:03.287671\", \"2017-03-12T01:09:02.465753\", \"2017-03-13T01:10:01.643835\", \"2017-03-14T01:11:00.821917\", \"2017-03-15T01:12:00\", \"2017-03-16T01:12:59.178082\", \"2017-03-17T01:13:58.356164\", \"2017-03-18T01:14:57.534246\", \"2017-03-19T01:15:56.712328\", \"2017-03-20T01:16:55.890411\", \"2017-03-21T01:17:55.068493\", \"2017-03-22T01:18:54.246575\", \"2017-03-23T01:19:53.424657\", \"2017-03-24T01:20:52.602739\", \"2017-03-25T01:21:51.780822\", \"2017-03-26T01:22:50.958904\", \"2017-03-27T01:23:50.136986\", \"2017-03-28T01:24:49.315068\", \"2017-03-29T01:25:48.493150\", \"2017-03-30T01:26:47.671232\", \"2017-03-31T01:27:46.849315\", \"2017-04-01T01:28:46.027397\", \"2017-04-02T01:29:45.205479\", \"2017-04-03T01:30:44.383561\", \"2017-04-04T01:31:43.561643\", \"2017-04-05T01:32:42.739726\", \"2017-04-06T01:33:41.917808\", \"2017-04-07T01:34:41.095890\", \"2017-04-08T01:35:40.273972\", \"2017-04-09T01:36:39.452054\", \"2017-04-10T01:37:38.630137\", \"2017-04-11T01:38:37.808219\", \"2017-04-12T01:39:36.986301\", \"2017-04-13T01:40:36.164383\", \"2017-04-14T01:41:35.342465\", \"2017-04-15T01:42:34.520547\", \"2017-04-16T01:43:33.698630\", \"2017-04-17T01:44:32.876712\", \"2017-04-18T01:45:32.054794\", \"2017-04-19T01:46:31.232876\", \"2017-04-20T01:47:30.410958\", \"2017-04-21T01:48:29.589041\", \"2017-04-22T01:49:28.767123\", \"2017-04-23T01:50:27.945205\", \"2017-04-24T01:51:27.123287\", \"2017-04-25T01:52:26.301369\", \"2017-04-26T01:53:25.479452\", \"2017-04-27T01:54:24.657534\", \"2017-04-28T01:55:23.835616\", \"2017-04-29T01:56:23.013698\", \"2017-04-30T01:57:22.191780\", \"2017-05-01T01:58:21.369862\", \"2017-05-02T01:59:20.547945\", \"2017-05-03T02:00:19.726027\", \"2017-05-04T02:01:18.904109\", \"2017-05-05T02:02:18.082191\", \"2017-05-06T02:03:17.260273\", \"2017-05-07T02:04:16.438356\", \"2017-05-08T02:05:15.616438\", \"2017-05-09T02:06:14.794520\", \"2017-05-10T02:07:13.972602\", \"2017-05-11T02:08:13.150684\", \"2017-05-12T02:09:12.328767\", \"2017-05-13T02:10:11.506849\", \"2017-05-14T02:11:10.684931\", \"2017-05-15T02:12:09.863013\", \"2017-05-16T02:13:09.041095\", \"2017-05-17T02:14:08.219177\", \"2017-05-18T02:15:07.397260\", \"2017-05-19T02:16:06.575342\", \"2017-05-20T02:17:05.753424\", \"2017-05-21T02:18:04.931506\", \"2017-05-22T02:19:04.109588\", \"2017-05-23T02:20:03.287671\", \"2017-05-24T02:21:02.465753\", \"2017-05-25T02:22:01.643835\", \"2017-05-26T02:23:00.821917\", \"2017-05-27T02:24:00\", \"2017-05-28T02:24:59.178082\", \"2017-05-29T02:25:58.356164\", \"2017-05-30T02:26:57.534246\", \"2017-05-31T02:27:56.712328\", \"2017-06-01T02:28:55.890411\", \"2017-06-02T02:29:55.068493\", \"2017-06-03T02:30:54.246575\", \"2017-06-04T02:31:53.424657\", \"2017-06-05T02:32:52.602739\", \"2017-06-06T02:33:51.780822\", \"2017-06-07T02:34:50.958904\", \"2017-06-08T02:35:50.136986\", \"2017-06-09T02:36:49.315068\", \"2017-06-10T02:37:48.493150\", \"2017-06-11T02:38:47.671232\", \"2017-06-12T02:39:46.849315\", \"2017-06-13T02:40:46.027397\", \"2017-06-14T02:41:45.205479\", \"2017-06-15T02:42:44.383561\", \"2017-06-16T02:43:43.561643\", \"2017-06-17T02:44:42.739726\", \"2017-06-18T02:45:41.917808\", \"2017-06-19T02:46:41.095890\", \"2017-06-20T02:47:40.273972\", \"2017-06-21T02:48:39.452054\", \"2017-06-22T02:49:38.630137\", \"2017-06-23T02:50:37.808219\", \"2017-06-24T02:51:36.986301\", \"2017-06-25T02:52:36.164383\", \"2017-06-26T02:53:35.342465\", \"2017-06-27T02:54:34.520547\", \"2017-06-28T02:55:33.698630\", \"2017-06-29T02:56:32.876712\", \"2017-06-30T02:57:32.054794\", \"2017-07-01T02:58:31.232876\", \"2017-07-02T02:59:30.410958\", \"2017-07-03T03:00:29.589041\", \"2017-07-04T03:01:28.767123\", \"2017-07-05T03:02:27.945205\", \"2017-07-06T03:03:27.123287\", \"2017-07-07T03:04:26.301369\", \"2017-07-08T03:05:25.479452\", \"2017-07-09T03:06:24.657534\", \"2017-07-10T03:07:23.835616\", \"2017-07-11T03:08:23.013698\", \"2017-07-12T03:09:22.191780\", \"2017-07-13T03:10:21.369862\", \"2017-07-14T03:11:20.547945\", \"2017-07-15T03:12:19.726027\", \"2017-07-16T03:13:18.904109\", \"2017-07-17T03:14:18.082191\", \"2017-07-18T03:15:17.260273\", \"2017-07-19T03:16:16.438356\", \"2017-07-20T03:17:15.616438\", \"2017-07-21T03:18:14.794520\", \"2017-07-22T03:19:13.972602\", \"2017-07-23T03:20:13.150684\", \"2017-07-24T03:21:12.328767\", \"2017-07-25T03:22:11.506849\", \"2017-07-26T03:23:10.684931\", \"2017-07-27T03:24:09.863013\", \"2017-07-28T03:25:09.041095\", \"2017-07-29T03:26:08.219177\", \"2017-07-30T03:27:07.397260\", \"2017-07-31T03:28:06.575342\", \"2017-08-01T03:29:05.753424\", \"2017-08-02T03:30:04.931506\", \"2017-08-03T03:31:04.109588\", \"2017-08-04T03:32:03.287671\", \"2017-08-05T03:33:02.465753\", \"2017-08-06T03:34:01.643835\", \"2017-08-07T03:35:00.821917\", \"2017-08-08T03:36:00\", \"2017-08-09T03:36:59.178082\", \"2017-08-10T03:37:58.356164\", \"2017-08-11T03:38:57.534246\", \"2017-08-12T03:39:56.712328\", \"2017-08-13T03:40:55.890411\", \"2017-08-14T03:41:55.068493\", \"2017-08-15T03:42:54.246575\", \"2017-08-16T03:43:53.424657\", \"2017-08-17T03:44:52.602739\", \"2017-08-18T03:45:51.780822\", \"2017-08-19T03:46:50.958904\", \"2017-08-20T03:47:50.136986\", \"2017-08-21T03:48:49.315068\", \"2017-08-22T03:49:48.493150\", \"2017-08-23T03:50:47.671232\", \"2017-08-24T03:51:46.849315\", \"2017-08-25T03:52:46.027397\", \"2017-08-26T03:53:45.205479\", \"2017-08-27T03:54:44.383561\", \"2017-08-28T03:55:43.561643\", \"2017-08-29T03:56:42.739726\", \"2017-08-30T03:57:41.917808\", \"2017-08-31T03:58:41.095890\", \"2017-09-01T03:59:40.273972\", \"2017-09-02T04:00:39.452054\", \"2017-09-03T04:01:38.630137\", \"2017-09-04T04:02:37.808219\", \"2017-09-05T04:03:36.986301\", \"2017-09-06T04:04:36.164383\", \"2017-09-07T04:05:35.342465\", \"2017-09-08T04:06:34.520547\", \"2017-09-09T04:07:33.698630\", \"2017-09-10T04:08:32.876712\", \"2017-09-11T04:09:32.054794\", \"2017-09-12T04:10:31.232876\", \"2017-09-13T04:11:30.410958\", \"2017-09-14T04:12:29.589041\", \"2017-09-15T04:13:28.767123\", \"2017-09-16T04:14:27.945205\", \"2017-09-17T04:15:27.123287\", \"2017-09-18T04:16:26.301369\", \"2017-09-19T04:17:25.479452\", \"2017-09-20T04:18:24.657534\", \"2017-09-21T04:19:23.835616\", \"2017-09-22T04:20:23.013698\", \"2017-09-23T04:21:22.191780\", \"2017-09-24T04:22:21.369862\", \"2017-09-25T04:23:20.547945\", \"2017-09-26T04:24:19.726027\", \"2017-09-27T04:25:18.904109\", \"2017-09-28T04:26:18.082191\", \"2017-09-29T04:27:17.260273\", \"2017-09-30T04:28:16.438356\", \"2017-10-01T04:29:15.616438\", \"2017-10-02T04:30:14.794520\", \"2017-10-03T04:31:13.972602\", \"2017-10-04T04:32:13.150684\", \"2017-10-05T04:33:12.328767\", \"2017-10-06T04:34:11.506849\", \"2017-10-07T04:35:10.684931\", \"2017-10-08T04:36:09.863013\", \"2017-10-09T04:37:09.041095\", \"2017-10-10T04:38:08.219177\", \"2017-10-11T04:39:07.397260\", \"2017-10-12T04:40:06.575342\", \"2017-10-13T04:41:05.753424\", \"2017-10-14T04:42:04.931506\", \"2017-10-15T04:43:04.109588\", \"2017-10-16T04:44:03.287671\", \"2017-10-17T04:45:02.465753\", \"2017-10-18T04:46:01.643835\", \"2017-10-19T04:47:00.821917\", \"2017-10-20T04:48:00\", \"2017-10-21T04:48:59.178082\", \"2017-10-22T04:49:58.356164\", \"2017-10-23T04:50:57.534246\", \"2017-10-24T04:51:56.712328\", \"2017-10-25T04:52:55.890411\", \"2017-10-26T04:53:55.068493\", \"2017-10-27T04:54:54.246575\", \"2017-10-28T04:55:53.424657\", \"2017-10-29T04:56:52.602739\", \"2017-10-30T04:57:51.780822\", \"2017-10-31T04:58:50.958904\", \"2017-11-01T04:59:50.136986\", \"2017-11-02T05:00:49.315068\", \"2017-11-03T05:01:48.493150\", \"2017-11-04T05:02:47.671232\", \"2017-11-05T05:03:46.849315\", \"2017-11-06T05:04:46.027397\", \"2017-11-07T05:05:45.205479\", \"2017-11-08T05:06:44.383561\", \"2017-11-09T05:07:43.561643\", \"2017-11-10T05:08:42.739726\", \"2017-11-11T05:09:41.917808\", \"2017-11-12T05:10:41.095890\", \"2017-11-13T05:11:40.273972\", \"2017-11-14T05:12:39.452054\", \"2017-11-15T05:13:38.630137\", \"2017-11-16T05:14:37.808219\", \"2017-11-17T05:15:36.986301\", \"2017-11-18T05:16:36.164383\", \"2017-11-19T05:17:35.342465\", \"2017-11-20T05:18:34.520547\", \"2017-11-21T05:19:33.698630\", \"2017-11-22T05:20:32.876712\", \"2017-11-23T05:21:32.054794\", \"2017-11-24T05:22:31.232876\", \"2017-11-25T05:23:30.410958\", \"2017-11-26T05:24:29.589041\", \"2017-11-27T05:25:28.767123\", \"2017-11-28T05:26:27.945205\", \"2017-11-29T05:27:27.123287\", \"2017-11-30T05:28:26.301369\", \"2017-12-01T05:29:25.479452\", \"2017-12-02T05:30:24.657534\", \"2017-12-03T05:31:23.835616\", \"2017-12-04T05:32:23.013698\", \"2017-12-05T05:33:22.191780\", \"2017-12-06T05:34:21.369862\", \"2017-12-07T05:35:20.547945\", \"2017-12-08T05:36:19.726027\", \"2017-12-09T05:37:18.904109\", \"2017-12-10T05:38:18.082191\", \"2017-12-11T05:39:17.260273\", \"2017-12-12T05:40:16.438356\", \"2017-12-13T05:41:15.616438\", \"2017-12-14T05:42:14.794520\", \"2017-12-15T05:43:13.972602\", \"2017-12-16T05:44:13.150684\", \"2017-12-17T05:45:12.328767\", \"2017-12-18T05:46:11.506849\", \"2017-12-19T05:47:10.684931\", \"2017-12-20T05:48:09.863013\", \"2017-12-21T05:49:09.041095\", \"2017-12-22T05:50:08.219177\", \"2017-12-23T05:51:07.397260\", \"2017-12-24T05:52:06.575342\", \"2017-12-25T05:53:05.753424\", \"2017-12-26T05:54:04.931506\", \"2017-12-27T05:55:04.109588\", \"2017-12-28T05:56:03.287671\", \"2017-12-29T05:57:02.465753\", \"2017-12-30T05:58:01.643835\", \"2017-12-31T05:59:00.821917\"], \"xaxis\": \"x4\", \"y\": [-22071.802702634737, -17720.36615828216, -12571.188465122068, -6829.186439579951, -709.3452193872135, 5569.672811057614, 11791.853082899805, 17749.91291738969, 23250.97969294301, 28121.712694989605, 32212.73672592043, 35402.277449877605, 37598.91308520011, 38743.38370599472, 38809.427289182204, 37803.63993924652, 35764.385630239805, 32759.80753296984, 28885.017801627328, 24258.56489750372, 19018.29652398484, 13316.751545445057, 7316.225467408947, 1183.6609049359301, -4914.483174853229, -10817.23179159061, -16373.818742154124, -21448.001352588377, -25921.84510193873, -29698.875717612147, -32706.516763401138, -34897.75325849904, -36251.98579724725, -36775.06426215763, -36498.514808697604, -35477.99762752175, -33791.05536612275, -31534.232381171903, -28819.66261721628, -25771.238386694404, -22520.483266408337, -19202.259448477602, -15950.4430233647, -12893.69978487474, -10151.489302416314, -7830.4163995772415, -6021.03710207142, -4795.210978826098, -4204.0740776070725, -4276.686909224681, -5019.390776053356, -6415.883815226125, -8428.00610064932, -10997.20168093546, -14046.605157560682, -17483.6819291319, -21203.335073717088, -25091.37848110818, -29028.265648250617, -32892.95679593915, -36566.80382069565, -39937.333126134174, -42901.81053454242, -45370.48010238358, -47269.37949729251, -48542.64828213032, -49154.261559380626, -49089.13945212151, -48353.60227423574, -46975.16138402693, -45001.656001455034, -42499.76609389217, -39552.950201639884, -36258.87422404579, -32726.412219101607, -29072.312741173984, -25417.633800275133, -21884.055902989872, -18590.18565988713, -15647.9620512716, -13159.273666893181, -11212.888213471739, -9881.785551105704, -9220.972798453116, -9265.845038866446, -10031.138332983175, -11510.503617908693, -13676.711202898507, -16482.476530652224, -19861.87923802905, -23732.329876168897, -27997.022468244442, -32547.796867477704, -37268.32304591671, -42037.510336975945, -46733.038527289296, -51234.90471198053, -55428.880060730655, -59209.77406089285, -62484.41028532108, -65174.22706026689, -67217.4282796706, -68570.62365473075, -69209.91346125818, -69131.38986196327, -68351.04461776382, -66904.09091743967, -64843.72460658006, -62239.36675612996, -59174.444780160906, -55743.78273874618, -52050.68265020284, -48203.787266649684, -44313.82058930231, -40490.30526301835, -36838.35582380243, -33455.64360444447, -30429.623052594285, -27835.10048297068, -25732.215156877715, -24164.889416309255, -23159.789806265617, -22725.825167794486, -22854.19106330805, -23518.95312384324, -24678.145494089862, -26275.344998867244, -28241.667432039943, -30498.119904375177, -32958.232849489585, -35530.88738191684, -38123.24845193523, -40643.71179607843, -43004.77309192187, -45125.73096444328, -46935.14143698245, -48372.94987248601, -49392.23713510696, -49960.529269916995, -50060.63405294303, -49690.982856287075, -48865.47193254806, -47612.81295694588, -45975.41798652439, -44007.858428940766, -41774.95071252786, -39349.532717400434, -36810.004312725265, -34237.71227586269, -31714.26423335242, -29318.857943442483, -27125.711190164486, -25201.67382907782, -23604.097241717143, -22379.02782680721, -21559.780464437325, -21165.93547624233, -21202.788869058197, -21661.271026988892, -22518.333973197157, -23737.792330019358, -25271.58864214661, -27061.44024213432, -29040.81275747623, -31137.155063032573, -33274.32228679848, -35375.10764769803, -37363.800607158526, -39168.68816455872, -40724.41813093787, -41974.14780674195, -42871.408527236774, -43381.62579075685, -43483.245858509086, -43168.43245519309, -42443.31110012625, -41327.75321860365, -39854.70705763052, -38069.09708549963, -36026.327526065776, -33790.43851736617, -31431.974685311983, -29025.635318601788, -26647.782524133298, -24373.888494941348, -22276.005181538658, -20420.339147248404, -18865.01121578987, -17658.07478291066, -16835.858533661863, -16421.689038460798, -16425.036611845993, -16841.114287150118, -17650.94521426361, -18821.8986859571, -20308.67981794805, -22054.74313575169, -23994.08642792071, -26053.368657251933, -28154.284889867995, -30216.1224572718, -32158.416202396704, -33903.6168920516, -35379.6858435003, -36522.530559825565, -37278.200662557436, -37604.77052556608, -37473.84454355335, -36871.632626239705, -35799.55694145465, -34274.36572154457, -32327.745641568272, -30005.44037954995, -27365.898973641142, -24478.492987450347, -21421.355788633544, -18278.90997447612, -15139.159721874612, -12090.833237651355, -9220.466251045604, -6609.520410740162, -4331.630405778285, -2450.0705893034897, -1015.5259124272338, -64.2432290467496, 383.3722474314831, 323.6640348322119, -229.9009933210797, -1246.9098335031492, -2680.7343465199942, -4469.800177224324, -6539.360254294194, -8803.722836720824, -11168.868735044305, -13535.378846007423, -15801.58195056355, -17866.8242179873, -19634.756339725547, -21016.531904470376, -21933.811636622744, -22321.472478591364, -22129.928114921207, -21326.97822964782, -19899.117274948996, -17852.249432842727, -15211.774323025771, -12022.027325314102, -8345.078573806457, -4258.91513288899, 144.9490429633421, 4764.37165755452, 9489.907906528833, 14208.467012685283, 18807.190188171633, 23177.431156917162, 27218.714236051073, 30842.5425443205, 33975.93032807316, 36564.538698194905, 38575.303174797395, 39998.454138668334, 40848.84727739088, 41166.539981348964, 41016.5708787857, 40487.922716991685, 39691.67295306197, 38758.36101238494, 37834.62549818883, 37079.187959606796, 36658.28145077071, 36740.641366524, 37492.192315972185, 39070.57755513108, 41619.68630835078, 45264.33882775982, 50105.28905647123, 56214.70018765627, 63632.23928508498, 72361.92362855421, 82369.83386686233, 93582.78782579947, 105888.04446240987, 119134.08060472418, 133132.454487968, 147660.74045417475, 162466.4893459539, 177272.13991563127, 191780.77882172365, 205682.62128711017, 218662.06198715753, 230405.12690293603, 240607.14228140432, 248980.42696426972, 255261.8095246095, 259219.77208899677, 260661.02849215033, 259436.3554259841, 255445.5112847772, 248641.09809949173, 239031.24680456764, 226681.0344686927, 211712.57332751903, 194303.7446753977, 174685.58503756433, 153138.3666453809, 129986.44815510327, 105592.00386952679, 80347.7695703961, 54668.96962656618, 28984.612577745454, 3728.3602721262846, -20670.811647141756, -43797.93693504827, -65261.1392388516, -84700.24793715528, -101794.73756407684, -116270.79475964331, -127907.33753277661, -136540.83707188262, -142068.8217452872, -144451.97553904736, -143714.77813371143, -139944.67021681936, -133289.76450545137, -123955.15935003995, -112197.94674811125, -98321.0391954805, -82665.96918819635, -65604.84058718121, -47531.631804627184, -28853.06633015927, -9979.276078602647, 8685.512835911544, 26752.04411271452, 43854.624964222705, 59659.04274720104, 73869.61639144404, 86235.21787929945, 96554.12655073458, 104677.60990670316, 110512.15803177633, 114020.3338506825, 115220.23723613723, 114183.61653992759, 111032.69548413341, 105935.81562053371, 99102.0238974819, 90774.76050709184, 81224.82346866248, 70742.80280010999, 59631.18824700418, 48196.36012547895, 36740.67279120672, 25554.834633667902, 14910.777510046793, 5055.192539530189, -3796.111349069904, -11462.894173678711, -17804.112684457657, -22720.41500367877, -26155.459622541235, -28096.048639695728, -28571.097308289416, -27649.49307017814, -25436.92645224413], \"yaxis\": \"y4\"}],                        {\"height\": 800, \"showlegend\": false, \"template\": {\"data\": {\"bar\": [{\"error_x\": {\"color\": \"#2a3f5f\"}, \"error_y\": {\"color\": \"#2a3f5f\"}, \"marker\": {\"line\": {\"color\": \"#E5ECF6\", \"width\": 0.5}}, \"type\": \"bar\"}], \"barpolar\": [{\"marker\": {\"line\": {\"color\": \"#E5ECF6\", \"width\": 0.5}}, \"type\": \"barpolar\"}], \"carpet\": [{\"aaxis\": {\"endlinecolor\": \"#2a3f5f\", \"gridcolor\": \"white\", \"linecolor\": \"white\", \"minorgridcolor\": \"white\", \"startlinecolor\": \"#2a3f5f\"}, \"baxis\": {\"endlinecolor\": \"#2a3f5f\", \"gridcolor\": \"white\", \"linecolor\": \"white\", \"minorgridcolor\": \"white\", \"startlinecolor\": \"#2a3f5f\"}, \"type\": \"carpet\"}], \"choropleth\": [{\"colorbar\": {\"outlinewidth\": 0, \"ticks\": \"\"}, \"type\": \"choropleth\"}], \"contour\": [{\"colorbar\": {\"outlinewidth\": 0, \"ticks\": \"\"}, \"colorscale\": [[0.0, \"#0d0887\"], [0.1111111111111111, \"#46039f\"], [0.2222222222222222, \"#7201a8\"], [0.3333333333333333, \"#9c179e\"], [0.4444444444444444, \"#bd3786\"], [0.5555555555555556, \"#d8576b\"], [0.6666666666666666, \"#ed7953\"], [0.7777777777777778, \"#fb9f3a\"], [0.8888888888888888, \"#fdca26\"], [1.0, \"#f0f921\"]], \"type\": \"contour\"}], \"contourcarpet\": [{\"colorbar\": {\"outlinewidth\": 0, \"ticks\": \"\"}, \"type\": \"contourcarpet\"}], \"heatmap\": [{\"colorbar\": {\"outlinewidth\": 0, \"ticks\": \"\"}, \"colorscale\": [[0.0, \"#0d0887\"], [0.1111111111111111, \"#46039f\"], [0.2222222222222222, \"#7201a8\"], [0.3333333333333333, \"#9c179e\"], [0.4444444444444444, \"#bd3786\"], [0.5555555555555556, \"#d8576b\"], [0.6666666666666666, \"#ed7953\"], [0.7777777777777778, \"#fb9f3a\"], [0.8888888888888888, \"#fdca26\"], [1.0, \"#f0f921\"]], \"type\": \"heatmap\"}], \"heatmapgl\": [{\"colorbar\": {\"outlinewidth\": 0, \"ticks\": \"\"}, \"colorscale\": [[0.0, \"#0d0887\"], [0.1111111111111111, \"#46039f\"], [0.2222222222222222, \"#7201a8\"], [0.3333333333333333, \"#9c179e\"], [0.4444444444444444, \"#bd3786\"], [0.5555555555555556, \"#d8576b\"], [0.6666666666666666, \"#ed7953\"], [0.7777777777777778, \"#fb9f3a\"], [0.8888888888888888, \"#fdca26\"], [1.0, \"#f0f921\"]], \"type\": \"heatmapgl\"}], \"histogram\": [{\"marker\": {\"colorbar\": {\"outlinewidth\": 0, \"ticks\": \"\"}}, \"type\": \"histogram\"}], \"histogram2d\": [{\"colorbar\": {\"outlinewidth\": 0, \"ticks\": \"\"}, \"colorscale\": [[0.0, \"#0d0887\"], [0.1111111111111111, \"#46039f\"], [0.2222222222222222, \"#7201a8\"], [0.3333333333333333, \"#9c179e\"], [0.4444444444444444, \"#bd3786\"], [0.5555555555555556, \"#d8576b\"], [0.6666666666666666, \"#ed7953\"], [0.7777777777777778, \"#fb9f3a\"], [0.8888888888888888, \"#fdca26\"], [1.0, \"#f0f921\"]], \"type\": \"histogram2d\"}], \"histogram2dcontour\": [{\"colorbar\": {\"outlinewidth\": 0, \"ticks\": \"\"}, \"colorscale\": [[0.0, \"#0d0887\"], [0.1111111111111111, \"#46039f\"], [0.2222222222222222, \"#7201a8\"], [0.3333333333333333, \"#9c179e\"], [0.4444444444444444, \"#bd3786\"], [0.5555555555555556, \"#d8576b\"], [0.6666666666666666, \"#ed7953\"], [0.7777777777777778, \"#fb9f3a\"], [0.8888888888888888, \"#fdca26\"], [1.0, \"#f0f921\"]], \"type\": \"histogram2dcontour\"}], \"mesh3d\": [{\"colorbar\": {\"outlinewidth\": 0, \"ticks\": \"\"}, \"type\": \"mesh3d\"}], \"parcoords\": [{\"line\": {\"colorbar\": {\"outlinewidth\": 0, \"ticks\": \"\"}}, \"type\": \"parcoords\"}], \"pie\": [{\"automargin\": true, \"type\": \"pie\"}], \"scatter\": [{\"marker\": {\"colorbar\": {\"outlinewidth\": 0, \"ticks\": \"\"}}, \"type\": \"scatter\"}], \"scatter3d\": [{\"line\": {\"colorbar\": {\"outlinewidth\": 0, \"ticks\": \"\"}}, \"marker\": {\"colorbar\": {\"outlinewidth\": 0, \"ticks\": \"\"}}, \"type\": \"scatter3d\"}], \"scattercarpet\": [{\"marker\": {\"colorbar\": {\"outlinewidth\": 0, \"ticks\": \"\"}}, \"type\": \"scattercarpet\"}], \"scattergeo\": [{\"marker\": {\"colorbar\": {\"outlinewidth\": 0, \"ticks\": \"\"}}, \"type\": \"scattergeo\"}], \"scattergl\": [{\"marker\": {\"colorbar\": {\"outlinewidth\": 0, \"ticks\": \"\"}}, \"type\": \"scattergl\"}], \"scattermapbox\": [{\"marker\": {\"colorbar\": {\"outlinewidth\": 0, \"ticks\": \"\"}}, \"type\": \"scattermapbox\"}], \"scatterpolar\": [{\"marker\": {\"colorbar\": {\"outlinewidth\": 0, \"ticks\": \"\"}}, \"type\": \"scatterpolar\"}], \"scatterpolargl\": [{\"marker\": {\"colorbar\": {\"outlinewidth\": 0, \"ticks\": \"\"}}, \"type\": \"scatterpolargl\"}], \"scatterternary\": [{\"marker\": {\"colorbar\": {\"outlinewidth\": 0, \"ticks\": \"\"}}, \"type\": \"scatterternary\"}], \"surface\": [{\"colorbar\": {\"outlinewidth\": 0, \"ticks\": \"\"}, \"colorscale\": [[0.0, \"#0d0887\"], [0.1111111111111111, \"#46039f\"], [0.2222222222222222, \"#7201a8\"], [0.3333333333333333, \"#9c179e\"], [0.4444444444444444, \"#bd3786\"], [0.5555555555555556, \"#d8576b\"], [0.6666666666666666, \"#ed7953\"], [0.7777777777777778, \"#fb9f3a\"], [0.8888888888888888, \"#fdca26\"], [1.0, \"#f0f921\"]], \"type\": \"surface\"}], \"table\": [{\"cells\": {\"fill\": {\"color\": \"#EBF0F8\"}, \"line\": {\"color\": \"white\"}}, \"header\": {\"fill\": {\"color\": \"#C8D4E3\"}, \"line\": {\"color\": \"white\"}}, \"type\": \"table\"}]}, \"layout\": {\"annotationdefaults\": {\"arrowcolor\": \"#2a3f5f\", \"arrowhead\": 0, \"arrowwidth\": 1}, \"coloraxis\": {\"colorbar\": {\"outlinewidth\": 0, \"ticks\": \"\"}}, \"colorscale\": {\"diverging\": [[0, \"#8e0152\"], [0.1, \"#c51b7d\"], [0.2, \"#de77ae\"], [0.3, \"#f1b6da\"], [0.4, \"#fde0ef\"], [0.5, \"#f7f7f7\"], [0.6, \"#e6f5d0\"], [0.7, \"#b8e186\"], [0.8, \"#7fbc41\"], [0.9, \"#4d9221\"], [1, \"#276419\"]], \"sequential\": [[0.0, \"#0d0887\"], [0.1111111111111111, \"#46039f\"], [0.2222222222222222, \"#7201a8\"], [0.3333333333333333, \"#9c179e\"], [0.4444444444444444, \"#bd3786\"], [0.5555555555555556, \"#d8576b\"], [0.6666666666666666, \"#ed7953\"], [0.7777777777777778, \"#fb9f3a\"], [0.8888888888888888, \"#fdca26\"], [1.0, \"#f0f921\"]], \"sequentialminus\": [[0.0, \"#0d0887\"], [0.1111111111111111, \"#46039f\"], [0.2222222222222222, \"#7201a8\"], [0.3333333333333333, \"#9c179e\"], [0.4444444444444444, \"#bd3786\"], [0.5555555555555556, \"#d8576b\"], [0.6666666666666666, \"#ed7953\"], [0.7777777777777778, \"#fb9f3a\"], [0.8888888888888888, \"#fdca26\"], [1.0, \"#f0f921\"]]}, \"colorway\": [\"#636efa\", \"#EF553B\", \"#00cc96\", \"#ab63fa\", \"#FFA15A\", \"#19d3f3\", \"#FF6692\", \"#B6E880\", \"#FF97FF\", \"#FECB52\"], \"font\": {\"color\": \"#2a3f5f\"}, \"geo\": {\"bgcolor\": \"white\", \"lakecolor\": \"white\", \"landcolor\": \"#E5ECF6\", \"showlakes\": true, \"showland\": true, \"subunitcolor\": \"white\"}, \"hoverlabel\": {\"align\": \"left\"}, \"hovermode\": \"closest\", \"mapbox\": {\"style\": \"light\"}, \"paper_bgcolor\": \"white\", \"plot_bgcolor\": \"#E5ECF6\", \"polar\": {\"angularaxis\": {\"gridcolor\": \"white\", \"linecolor\": \"white\", \"ticks\": \"\"}, \"bgcolor\": \"#E5ECF6\", \"radialaxis\": {\"gridcolor\": \"white\", \"linecolor\": \"white\", \"ticks\": \"\"}}, \"scene\": {\"xaxis\": {\"backgroundcolor\": \"#E5ECF6\", \"gridcolor\": \"white\", \"gridwidth\": 2, \"linecolor\": \"white\", \"showbackground\": true, \"ticks\": \"\", \"zerolinecolor\": \"white\"}, \"yaxis\": {\"backgroundcolor\": \"#E5ECF6\", \"gridcolor\": \"white\", \"gridwidth\": 2, \"linecolor\": \"white\", \"showbackground\": true, \"ticks\": \"\", \"zerolinecolor\": \"white\"}, \"zaxis\": {\"backgroundcolor\": \"#E5ECF6\", \"gridcolor\": \"white\", \"gridwidth\": 2, \"linecolor\": \"white\", \"showbackground\": true, \"ticks\": \"\", \"zerolinecolor\": \"white\"}}, \"shapedefaults\": {\"line\": {\"color\": \"#2a3f5f\"}}, \"ternary\": {\"aaxis\": {\"gridcolor\": \"white\", \"linecolor\": \"white\", \"ticks\": \"\"}, \"baxis\": {\"gridcolor\": \"white\", \"linecolor\": \"white\", \"ticks\": \"\"}, \"bgcolor\": \"#E5ECF6\", \"caxis\": {\"gridcolor\": \"white\", \"linecolor\": \"white\", \"ticks\": \"\"}}, \"title\": {\"x\": 0.05}, \"xaxis\": {\"automargin\": true, \"gridcolor\": \"white\", \"linecolor\": \"white\", \"ticks\": \"\", \"title\": {\"standoff\": 15}, \"zerolinecolor\": \"white\", \"zerolinewidth\": 2}, \"yaxis\": {\"automargin\": true, \"gridcolor\": \"white\", \"linecolor\": \"white\", \"ticks\": \"\", \"title\": {\"standoff\": 15}, \"zerolinecolor\": \"white\", \"zerolinewidth\": 2}}}, \"width\": 900, \"xaxis\": {\"anchor\": \"y\", \"domain\": [0.0, 1.0], \"range\": [\"2014-09-25T15:36:00\", \"2020-08-06T08:24:00\"], \"type\": \"date\"}, \"xaxis2\": {\"anchor\": \"y2\", \"domain\": [0.0, 1.0], \"range\": [\"2014-09-25T15:36:00\", \"2020-08-06T08:24:00\"], \"type\": \"date\"}, \"xaxis3\": {\"anchor\": \"y3\", \"domain\": [0.0, 1.0], \"range\": [\"2016-12-30T12:37:12\", \"2017-01-31T22:58:48\"], \"tickformat\": \"%B %e\", \"type\": \"date\"}, \"xaxis4\": {\"anchor\": \"y4\", \"domain\": [0.0, 1.0], \"range\": [\"2016-12-13T18:54:02.958904115\", \"2018-01-18T11:04:57.863013581\"], \"tickformat\": \"%B %e\", \"type\": \"date\"}, \"yaxis\": {\"anchor\": \"x\", \"domain\": [0.80625, 1.0], \"rangemode\": \"normal\", \"title\": {\"text\": \"trend\"}, \"zerolinecolor\": \"#AAA\"}, \"yaxis2\": {\"anchor\": \"x2\", \"domain\": [0.5375, 0.73125], \"hoverformat\": \".2%\", \"rangemode\": \"tozero\", \"tickformat\": \"%\", \"title\": {\"text\": \"extra_regressors_multiplicative\"}, \"zerolinecolor\": \"#AAA\"}, \"yaxis3\": {\"anchor\": \"x3\", \"domain\": [0.26875, 0.4625], \"title\": {\"text\": \"monthly_on_season\"}, \"zerolinecolor\": \"#AAA\"}, \"yaxis4\": {\"anchor\": \"x4\", \"domain\": [0.0, 0.19375], \"title\": {\"text\": \"yearly\"}, \"zerolinecolor\": \"#AAA\"}},                        {\"responsive\": true}                    ).then(function(){\n",
       "                            \n",
       "var gd = document.getElementById('9adbe0f3-9f5a-4174-b1a0-c455b9bfed2a');\n",
       "var x = new MutationObserver(function (mutations, observer) {{\n",
       "        var display = window.getComputedStyle(gd).display;\n",
       "        if (!display || display === 'none') {{\n",
       "            console.log([gd, 'removed!']);\n",
       "            Plotly.purge(gd);\n",
       "            observer.disconnect();\n",
       "        }}\n",
       "}});\n",
       "\n",
       "// Listen for the removal of the full notebook cells\n",
       "var notebookContainer = gd.closest('#notebook-container');\n",
       "if (notebookContainer) {{\n",
       "    x.observe(notebookContainer, {childList: true});\n",
       "}}\n",
       "\n",
       "// Listen for the clearing of the current output cell\n",
       "var outputEl = gd.closest('.output');\n",
       "if (outputEl) {{\n",
       "    x.observe(outputEl, {childList: true});\n",
       "}}\n",
       "\n",
       "                        })                };                });            </script>        </div>"
      ]
     },
     "metadata": {},
     "output_type": "display_data"
    }
   ],
   "source": [
    "plot_components_plotly(model, forecast)"
   ]
  },
  {
   "cell_type": "code",
   "execution_count": null,
   "metadata": {},
   "outputs": [],
   "source": []
  }
 ],
 "metadata": {
  "kernelspec": {
   "display_name": "OAE",
   "language": "python",
   "name": "oae"
  },
  "language_info": {
   "codemirror_mode": {
    "name": "ipython",
    "version": 3
   },
   "file_extension": ".py",
   "mimetype": "text/x-python",
   "name": "python",
   "nbconvert_exporter": "python",
   "pygments_lexer": "ipython3",
   "version": "3.8.5"
  }
 },
 "nbformat": 4,
 "nbformat_minor": 4
}
