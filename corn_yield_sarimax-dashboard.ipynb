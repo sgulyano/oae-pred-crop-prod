{
 "cells": [
  {
   "cell_type": "markdown",
   "metadata": {},
   "source": [
    "# ทำนายผลผลิตข้าวโพด โดยใช้ผลผลิตปีก่อน ๆ ด้วย SARIMAX\n"
   ]
  },
  {
   "cell_type": "code",
   "execution_count": 9,
   "metadata": {},
   "outputs": [
    {
     "data": {
      "text/html": [
       "        <script type=\"text/javascript\">\n",
       "        window.PlotlyConfig = {MathJaxConfig: 'local'};\n",
       "        if (window.MathJax) {MathJax.Hub.Config({SVG: {font: \"STIX-Web\"}});}\n",
       "        if (typeof require !== 'undefined') {\n",
       "        require.undef(\"plotly\");\n",
       "        requirejs.config({\n",
       "            paths: {\n",
       "                'plotly': ['https://cdn.plot.ly/plotly-latest.min']\n",
       "            }\n",
       "        });\n",
       "        require(['plotly'], function(Plotly) {\n",
       "            window._Plotly = Plotly;\n",
       "        });\n",
       "        }\n",
       "        </script>\n",
       "        "
      ]
     },
     "metadata": {},
     "output_type": "display_data"
    }
   ],
   "source": [
    "import numpy as np\n",
    "import pandas as pd\n",
    "\n",
    "import matplotlib.pyplot as plt\n",
    "from datetime import datetime\n",
    "from datetime import timedelta\n",
    "from pandas.plotting import register_matplotlib_converters\n",
    "from statsmodels.tsa.stattools import acf, pacf\n",
    "from statsmodels.tsa.statespace.sarimax import SARIMAX\n",
    "import statsmodels.api as sm\n",
    "\n",
    "register_matplotlib_converters()\n",
    "\n",
    "import plotly.offline as py\n",
    "import plotly.graph_objs as go\n",
    "py.init_notebook_mode(connected=True)"
   ]
  },
  {
   "cell_type": "markdown",
   "metadata": {},
   "source": [
    "Get data"
   ]
  },
  {
   "cell_type": "code",
   "execution_count": 10,
   "metadata": {},
   "outputs": [],
   "source": [
    "yield_file = 'OAE-process/OAE-ผลผลิตข้าวโพดทั้งหมด.xlsx'\n",
    "df = pd.read_excel(yield_file)\n",
    "\n",
    "areas = df.groupby(['area']).sum().sort_values(by='value', ascending=False)"
   ]
  },
  {
   "cell_type": "code",
   "execution_count": 11,
   "metadata": {},
   "outputs": [],
   "source": [
    "def data_in_area(df, area):\n",
    "    df = df.sort_values(by='date', ascending=True)\n",
    "    df_area = df[df.area == area].reset_index()\n",
    "    df_area = df_area[['date', 'value']]\n",
    "    df_area.columns = ['ds', 'y']\n",
    "    return df_area"
   ]
  },
  {
   "cell_type": "code",
   "execution_count": 12,
   "metadata": {},
   "outputs": [],
   "source": [
    "def resample_year2month(df):\n",
    "    df = df.set_index('date')\n",
    "    df.index.name = 'ds'\n",
    "    return df.resample('MS').asfreq().fillna(method='ffill')"
   ]
  },
  {
   "cell_type": "code",
   "execution_count": 13,
   "metadata": {},
   "outputs": [],
   "source": [
    "cost_file = 'OAE-process/OAE-ต้นทุนรวมต่อไร่ข้าวโพดเลี้ยงสัตว์.xlsx'\n",
    "df_cost = pd.read_excel(cost_file)\n",
    "df_cost_spl = resample_year2month(df_cost)\n",
    "\n",
    "precipitation_file = 'OAE-process/OAE-ปริมาณน้ำฝน-ฝนตก.xlsx'\n",
    "df_precipitation = pd.read_excel(precipitation_file)\n",
    "df_precipitation_nan = data_in_area(df_precipitation,'Nan').set_index('ds')\n",
    "\n",
    "rainday_file = 'OAE-process/OAE-ปริมาณน้ำฝน-จำนวนวันฝนตก.xlsx'\n",
    "df_rainday = pd.read_excel(rainday_file)\n",
    "df_rainday_nan = data_in_area(df_rainday,'Nan').set_index('ds')\n",
    "\n",
    "price_file = 'OAE-process/OAE-ราคาข้าวโพดเลี้ยงสัตว์.xlsx'\n",
    "df_price = pd.read_excel(price_file)\n",
    "df_price_spl = df_price.set_index('date')"
   ]
  },
  {
   "cell_type": "markdown",
   "metadata": {},
   "source": [
    "Util functions"
   ]
  },
  {
   "cell_type": "code",
   "execution_count": 14,
   "metadata": {},
   "outputs": [],
   "source": [
    "def add_features(df):\n",
    "    df = df.join(df_cost_spl['value'], on='ds').rename(columns={'value':'cost'})\n",
    "    df = df.join(df_precipitation_nan['y'].rename('precipitation'), on='ds')\n",
    "    df = df.join(df_rainday_nan['y'].rename('rainday'), on='ds')\n",
    "    df = df.join(df_price_spl['value'], on='ds').rename(columns={'value':'price'})\n",
    "    return df.sort_values(by='ds', ascending=False).fillna(method='bfill')\n",
    "\n",
    "def is_harvest_season(ds):\n",
    "    date = pd.to_datetime(ds)\n",
    "    return (date.month >= 10 and date.month <= 12)"
   ]
  },
  {
   "cell_type": "markdown",
   "metadata": {},
   "source": [
    "# Dashboard"
   ]
  },
  {
   "cell_type": "code",
   "execution_count": 15,
   "metadata": {},
   "outputs": [],
   "source": [
    "import ipywidgets as widgets\n",
    "from ipywidgets import HBox, VBox\n",
    "import numpy as np\n",
    "import matplotlib.pyplot as plt\n",
    "from IPython.display import display\n",
    "%matplotlib inline"
   ]
  },
  {
   "cell_type": "code",
   "execution_count": 28,
   "metadata": {},
   "outputs": [
    {
     "data": {
      "application/vnd.jupyter.widget-view+json": {
       "model_id": "98d6058a13b3444fbd70a02e3292ed81",
       "version_major": 2,
       "version_minor": 0
      },
      "text/plain": [
       "interactive(children=(Dropdown(description='Province', options=('Phetchabun', 'Nakhon Ratchasima', 'Nan', 'Tak…"
      ]
     },
     "metadata": {},
     "output_type": "display_data"
    }
   ],
   "source": [
    "@widgets.interact_manual(Province=areas.index[:30])\n",
    "def predict(Province=areas.index[0]):\n",
    "\n",
    "    df_yield = data_in_area(df, Province)\n",
    "    print(f'Total Yield from {df.date.min().strftime(\"%b %Y\")} to {df.date.max().strftime(\"%b %Y\")} = {areas.loc[Province,\"value\"]}')\n",
    "    \n",
    "    df_yield = add_features(df_yield)\n",
    "    df_yield['on_season'] = df_yield['ds'].apply(is_harvest_season).astype('float')\n",
    "    df_yield = df_yield.sort_values(by='ds', ascending=True)\n",
    "\n",
    "    df_yield = df_yield.set_index('ds')\n",
    "    df_yield.index = pd.DatetimeIndex(df_yield.index)\n",
    "    df_yield = df_yield.asfreq(pd.infer_freq(df_yield.index))\n",
    "    \n",
    "    df_train, df_test = df_yield[:-12], df_yield[-12:]\n",
    "    \n",
    "    df_yield['year'] = pd.DatetimeIndex(df_yield.index).year\n",
    "    print(df_yield.groupby('year').sum().head())\n",
    "    \n",
    "    endog = df_train.loc[:, 'y']\n",
    "    exog = df_train.loc[:, ['cost', 'precipitation', 'rainday', 'price']]\n",
    "    \n",
    "    my_order = (1,0,1)\n",
    "    my_seasonal_order = (0, 1, 0, 12)\n",
    "    # define model\n",
    "    model = SARIMAX(endog=endog, exog=exog, order=my_order, seasonal_order=my_seasonal_order)\n",
    "    #fit the model\n",
    "    model_fit = model.fit()\n",
    "    print(model_fit.summary())\n",
    "    \n",
    "    # exog_forecast = sm.add_constant(df_test.loc[:, ['cost', 'precipitation', 'rainday', 'price', 'on_season']])\n",
    "    exog_forecast = df_test.loc[:, ['cost', 'precipitation', 'rainday', 'price']]\n",
    "    #get the predictions and residuals\n",
    "    predictions = model_fit.forecast(len(df_test), exog=exog_forecast)\n",
    "    # predictions = pd.Series(predictions, index=df_test.index)\n",
    "    predictions.index = df_test.index\n",
    "    predictions.clip(lower=0, inplace=True)\n",
    "    residuals = df_test['y'] - predictions\n",
    "    \n",
    "    print('MAE: %f' % np.mean(np.abs(residuals)) )\n",
    "    print('Mean Absolute Percent Error:', round(np.mean(abs(residuals / df_test['y'])),4))\n",
    "    print('Root Mean Squared Error:', np.sqrt(np.mean(residuals**2)))\n",
    "    \n",
    "    total_error = abs(1 - (np.sum(predictions) / np.sum(df_test['y']))) * 100\n",
    "    print('Total Error: %.3f' % total_error)\n",
    "    print('Forecast:', np.sum(predictions))\n",
    "    print('Ground Truth:', np.sum(df_test['y']))\n",
    "    \n",
    "    plt.figure(figsize=(10,4))\n",
    "    plt.plot(residuals)\n",
    "    plt.axhline(0, linestyle='--', color='k')\n",
    "    plt.title('Residuals from SARIMA Model', fontsize=20)\n",
    "    plt.ylabel('Error', fontsize=16)\n",
    "    \n",
    "    plt.figure(figsize=(10,4))\n",
    "    plt.plot(df_yield['y'])\n",
    "    plt.plot(predictions)\n",
    "    plt.legend(('Data', 'Predictions'), fontsize=16)\n",
    "    \n",
    "    print(predictions.head())\n",
    "    \n",
    "    py.iplot([\n",
    "        go.Scatter(x=df_train.index, y=df_train['y'], name='train', line=dict(width=3)),\n",
    "        go.Scatter(x=predictions.index, y=predictions, name='yhat', line=dict(width=3)),\n",
    "#         go.Scatter(x=forecast['ds'], y=forecast['yhat_upper'], fill='tonexty', mode='none', name='upper'),\n",
    "#         go.Scatter(x=forecast['ds'], y=forecast['yhat_lower'], fill='tonexty', mode='none', name='lower'),\n",
    "#         go.Scatter(x=forecast['ds'], y=forecast['trend'], name='Trend'),\n",
    "        go.Scatter(x=df_test.index, y=df_test['y'], name='test', marker=dict(color='blue', size=12), line=dict(width=3)),\n",
    "    ])\n",
    "    \n",
    "#     py.iplot(plot_plotly(model, forecast))\n",
    "\n",
    "#     py.iplot(plot_components_plotly(model, forecast))    "
   ]
  },
  {
   "cell_type": "code",
   "execution_count": null,
   "metadata": {},
   "outputs": [],
   "source": []
  }
 ],
 "metadata": {
  "kernelspec": {
   "display_name": "OAE",
   "language": "python",
   "name": "oae"
  },
  "language_info": {
   "codemirror_mode": {
    "name": "ipython",
    "version": 3
   },
   "file_extension": ".py",
   "mimetype": "text/x-python",
   "name": "python",
   "nbconvert_exporter": "python",
   "pygments_lexer": "ipython3",
   "version": "3.8.5"
  }
 },
 "nbformat": 4,
 "nbformat_minor": 4
}
